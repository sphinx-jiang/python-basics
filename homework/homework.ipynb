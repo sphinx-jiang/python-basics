{
 "cells": [
  {
   "cell_type": "markdown",
   "metadata": {
    "collapsed": true
   },
   "source": [
    "# Python基础作业"
   ]
  },
  {
   "cell_type": "markdown",
   "metadata": {
    "collapsed": true
   },
   "source": [
    "- 在自己的电脑上安装Anaconda，用conda create创建一个python 3.6版本的environment。今后我们的程序都在这个环境下执行"
   ]
  },
  {
   "cell_type": "markdown",
   "metadata": {},
   "source": [
    "- 上网查询，并且自己在jupyter notebook上实验，看看python 3.6当中有哪些常用的数据类型。"
   ]
  },
  {
   "cell_type": "markdown",
   "metadata": {},
   "source": [
    "- 用range创建一个list，命名为variable **numbers**，这个list从100到0，间隔为8。结果应该长下面这样:\n",
    "([100, 92, 84, 76, 68, 60, 52, 44, 36, 28, 20, 12, 4])"
   ]
  },
  {
   "cell_type": "markdown",
   "metadata": {},
   "source": [
    "- 用if-elif-else语句判断某个年龄是未成年(<18)，成年(18-60)，还是老年(>=60)。"
   ]
  },
  {
   "cell_type": "markdown",
   "metadata": {},
   "source": [
    "- 用list comprehension把我们前面的**numbers**每个数字都变成它的平方"
   ]
  },
  {
   "cell_type": "markdown",
   "metadata": {},
   "source": [
    "- 用for语句构建一个fibonacci数列，只需要前十个数字即可"
   ]
  },
  {
   "cell_type": "markdown",
   "metadata": {},
   "source": [
    "- 随机写下六个人的名字，构成一个list。"
   ]
  },
  {
   "cell_type": "markdown",
   "metadata": {},
   "source": [
    "- 把这个list变成一个dict，按照顺序给这些名字编号，号码从1开始。key是名字，value是编号。"
   ]
  }
 ],
 "metadata": {
  "kernelspec": {
   "display_name": "Python 3",
   "language": "python",
   "name": "python3"
  },
  "language_info": {
   "codemirror_mode": {
    "name": "ipython",
    "version": 3
   },
   "file_extension": ".py",
   "mimetype": "text/x-python",
   "name": "python",
   "nbconvert_exporter": "python",
   "pygments_lexer": "ipython3",
   "version": "3.6.1"
  }
 },
 "nbformat": 4,
 "nbformat_minor": 2
}
