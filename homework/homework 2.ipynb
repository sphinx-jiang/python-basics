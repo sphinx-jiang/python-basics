{
 "cells": [
  {
   "cell_type": "markdown",
   "metadata": {},
   "source": [
    "## homework:\n",
    "\n",
    "#### design and implement the following classes\n",
    "\n",
    "The purpose of this homework is to let you be familiar with writing classes in Python. You are encouraged to be creative when working on this assignment. There is no \"best solution\" to the design of your classes. \n",
    "\n",
    "- A class **Bank**, including bank name, bank balance, bank ID, accounts, employees. The bank class should have the following functions: adding an account to the bank, remove an account from the bank, and the balance shall be updated accordingly, etc. \n",
    "- A class **Customer**, including customer ID, customer name, accounts associated with the customer. Methods include: adding a new account, remove an account, check total balance, etc. \n",
    "- A class **Account**, including the account ID, bank ID, balanace, customer ID. Methods of the class are: updating account balanace, get account info, etc. \n",
    "- A class **Employee**, including the employee ID, employee name.  \n",
    "- Write some demo scripts to show how your class can be uses, such as creating a new Bank object, creating a new Customer object, creating a new account at a bank for a customer, remove an account from a bank, update balanace of an account, etc. \n",
    "- The aforementioned facts are the aspects that must be implemented, you are encouraged to be creative. Add whatever features(classes, fields, methods, super class) you think are useful to your code. \n",
    "- organize your class prototypes and your script of code in different files and import them properly. "
   ]
  }
 ],
 "metadata": {
  "kernelspec": {
   "display_name": "Python 3",
   "language": "python",
   "name": "python3"
  },
  "language_info": {
   "codemirror_mode": {
    "name": "ipython",
    "version": 3
   },
   "file_extension": ".py",
   "mimetype": "text/x-python",
   "name": "python",
   "nbconvert_exporter": "python",
   "pygments_lexer": "ipython3",
   "version": "3.6.1"
  }
 },
 "nbformat": 4,
 "nbformat_minor": 2
}
