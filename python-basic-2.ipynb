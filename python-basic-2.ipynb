{
 "cells": [
  {
   "cell_type": "markdown",
   "metadata": {},
   "source": [
    "# python 线上集训第二课"
   ]
  },
  {
   "cell_type": "markdown",
   "metadata": {},
   "source": [
    "## 目录\n",
    "- function\n",
    "- class, subclass\n",
    "- module"
   ]
  },
  {
   "cell_type": "markdown",
   "metadata": {},
   "source": [
    "## function\n",
    "\n",
    "- def关键词\n",
    "- 用括号包含list of parameters\n",
    "- statements都要indent\n"
   ]
  },
  {
   "cell_type": "code",
   "execution_count": 2,
   "metadata": {},
   "outputs": [
    {
     "name": "stdout",
     "output_type": "stream",
     "text": [
      "0 1 1 2 3 \n",
      "0 1 1 2 3 5 8 13 21 34 \n"
     ]
    }
   ],
   "source": [
    "def fib(n):\n",
    "    a, b = 0, 1\n",
    "    for i in range(n):\n",
    "        print(a, end=\" \")\n",
    "        a, b = b, a+b\n",
    "    print()\n",
    "\n",
    "fib(5)\n",
    "fib(10)"
   ]
  },
  {
   "cell_type": "markdown",
   "metadata": {},
   "source": [
    "### 不定长度的arguments"
   ]
  },
  {
   "cell_type": "code",
   "execution_count": 4,
   "metadata": {
    "scrolled": true
   },
   "outputs": [
    {
     "name": "stdout",
     "output_type": "stream",
     "text": [
      "<class 'tuple'>\n",
      "('hello', 'world', 'julyter', 'notebook')\n"
     ]
    }
   ],
   "source": [
    "def print_all(*args):\n",
    "    print(type(args))\n",
    "    print(args)\n",
    "\n",
    "print_all(\"hello\", \"world\", \"julyter\", \"notebook\")"
   ]
  },
  {
   "cell_type": "markdown",
   "metadata": {},
   "source": [
    "### default argument\n",
    "concat例子"
   ]
  },
  {
   "cell_type": "code",
   "execution_count": 7,
   "metadata": {
    "scrolled": true
   },
   "outputs": [
    {
     "name": "stdout",
     "output_type": "stream",
     "text": [
      "hello,world,jupyter,notebook,julyedu,1,2,3,4,5\n"
     ]
    }
   ],
   "source": [
    "def concatenate(*args, sep=\" \"):\n",
    "    args = [str(a) for a in args]\n",
    "    print(sep.join(args))\n",
    "\n",
    "concatenate(\"hello\", \"world\", \"jupyter\", \"notebook\", \\\n",
    "            \"julyedu\", 1, 2, 3, 4, 5, sep=\",\")"
   ]
  },
  {
   "cell_type": "markdown",
   "metadata": {},
   "source": [
    "### 把一个tuple/list当做arguments\n",
    "\n"
   ]
  },
  {
   "cell_type": "code",
   "execution_count": 10,
   "metadata": {},
   "outputs": [
    {
     "name": "stdout",
     "output_type": "stream",
     "text": [
      "2 5\n"
     ]
    }
   ],
   "source": [
    "def unpack_args(a, b):\n",
    "    print(a, b)\n",
    "\n",
    "r = [2,5]\n",
    "r = 2,5\n",
    "# unpack_args(r) # 会报错\n",
    "unpack_args(*r) # 运行正常了"
   ]
  },
  {
   "cell_type": "markdown",
   "metadata": {},
   "source": [
    "### 关于模块化(modularity)\n",
    "\n",
    "function的作用是拿到一些参数，做一些运算或者别的更加复杂的操作，然后返回一些结果。\n",
    "\n",
    "(25min)"
   ]
  },
  {
   "cell_type": "markdown",
   "metadata": {},
   "source": [
    "# Class入门\n",
    "\n",
    "\n",
    "## Object oriented programming 面向对象编程\n",
    "\n",
    "```class```关键字用来定义一个class(类)。\n",
    "\n",
    "之前我们学习的都是python自带的数据类型，class是我们自己定义的类型。\n",
    "\n",
    "- object和class之间的关系\n",
    "class是一个模板，我们可以把class类比成一个数据类型。object是class的一个实例，就好比a是一个int，我们可以把int类比成一个class,把a类比成一个object。\n",
    "\n",
    "- 什么是```self```?\n",
    "- 什么是```__init__```?\n",
    "- pass statement\n",
    "- 用dir inspect一个object\n",
    "\n",
    "\n"
   ]
  },
  {
   "cell_type": "code",
   "execution_count": 2,
   "metadata": {},
   "outputs": [
    {
     "name": "stdout",
     "output_type": "stream",
     "text": [
      "(Employee name: July, title: CEO, salary: 99999999, manager: )\n",
      "(Employee name: Zewei, title: Lecturer, salary: 1, manager: (Employee name: July, title: CEO, salary: 99999999, manager: ))\n"
     ]
    }
   ],
   "source": [
    "class Employee(object):\n",
    "\n",
    "\tdef __init__(self, name, ID, title, salary, manager=None):\n",
    "\t\tself.name = name\n",
    "\t\tself.ID = ID\n",
    "\t\tself.title = title\n",
    "\t\tself.salary = salary\n",
    "\t\tself.manager = manager\n",
    "\n",
    "\tdef get_info(self):\n",
    "\t\treturn \"(Employee name: {}, title: {}, salary: {}, manager: {})\".format(self.name, self.title, self.salary, self.manager.get_info() if self.manager is not None else \"\")\n",
    "\n",
    "\tdef __eq__(self, other):\n",
    "\t\treturn self.ID == other.ID\n",
    "\n",
    "july = Employee(\"July\", 1, \"CEO\", 99999999)\n",
    "print(july.get_info())\n",
    "zewei = Employee(\"Zewei\", 2, \"Lecturer\", 1, july)\n",
    "print(zewei.get_info())\n",
    "\n",
    "# (40min)"
   ]
  },
  {
   "cell_type": "code",
   "execution_count": 3,
   "metadata": {},
   "outputs": [
    {
     "name": "stdout",
     "output_type": "stream",
     "text": [
      "Company: Julyedu, employees: , (Employee name: July, title: CEO, salary: 99999999, manager: ), (Employee name: Zewei, title: Lecturer, salary: 1, manager: (Employee name: July, title: CEO, salary: 99999999, manager: )), (Employee name: Han, title: Lecturer, salary: 100000, manager: (Employee name: July, title: CEO, salary: 99999999, manager: ))\n",
      "Firing zewei!\n",
      "Company: Julyedu, employees: , (Employee name: July, title: CEO, salary: 99999999, manager: ), (Employee name: Han, title: Lecturer, salary: 100000, manager: (Employee name: July, title: CEO, salary: 99999999, manager: ))\n",
      "Firing zewei!\n",
      "Company: Julyedu, employees: , (Employee name: July, title: CEO, salary: 99999999, manager: ), (Employee name: Han, title: Lecturer, salary: 100000, manager: (Employee name: July, title: CEO, salary: 99999999, manager: ))\n"
     ]
    }
   ],
   "source": [
    "class Company(object):\n",
    "\n",
    "\tdef __init__(self, name, employees = []):\n",
    "\t\tself.name = name\n",
    "\t\tself.employees = employees\n",
    "\n",
    "\tdef hire(self, employee):\n",
    "\t\tif not employee in self.employees:\n",
    "\t\t\tself.employees.append(employee)\n",
    "\n",
    "\tdef fire(self, employee):\n",
    "\t\tif employee in self.employees:\n",
    "\t\t\tself.employees.remove(employee)\n",
    "\n",
    "\tdef get_info(self):\n",
    "\t\tres = \"Company: {}, employees: \".format(self.name)\n",
    "\t\tfor employee in self.employees:\n",
    "\t\t\tres += \", {}\".format(employee.get_info())\n",
    "\t\treturn res\n",
    "\n",
    "c = Company(\"Julyedu\")\n",
    "c.hire(july)\n",
    "c.hire(zewei)\n",
    "\n",
    "han = Employee(\"Han\", 3, \"Lecturer\", 100000, july)\n",
    "\n",
    "c.hire(han)\n",
    "\n",
    "print(c.get_info())\n",
    "\n",
    "print(\"Firing zewei!\")\n",
    "c.fire(zewei)\n",
    "print(c.get_info())\n",
    "\n",
    "print(\"Firing zewei!\")\n",
    "c.fire(zewei)\n",
    "print(c.get_info())\n",
    "\n",
    "# (55min)"
   ]
  },
  {
   "cell_type": "markdown",
   "metadata": {},
   "source": [
    "# subclass(子类)\n",
    "\n",
    "## 什么是subclass\n",
    "\n",
    "subclass是base class的继承，一个subclass可以继承所有base class的field和method，在base class的基础上做拓展。\n",
    "\n",
    "\n",
    "- Abstract Base Class (abc)"
   ]
  },
  {
   "cell_type": "code",
   "execution_count": 4,
   "metadata": {},
   "outputs": [
    {
     "name": "stdout",
     "output_type": "stream",
     "text": [
      "(name: July, title: CEO, salary: 99999999, manager: No manager)\n",
      "(name: Zewei, title: Lecturer, salary: 1, manager: (name: July, title: CEO, salary: 99999999, manager: No manager))\n",
      "Company: Julyedu, employees: , (name: July, title: CEO, salary: 99999999, manager: No manager), (name: Zewei, title: Lecturer, salary: 1, manager: (name: July, title: CEO, salary: 99999999, manager: No manager)), (name: Han, title: Lecturer, salary: 100000, manager: (name: July, title: CEO, salary: 99999999, manager: No manager))\n",
      "Firing zewei!\n",
      "Company: Julyedu, employees: , (name: July, title: CEO, salary: 99999999, manager: No manager), (name: Han, title: Lecturer, salary: 100000, manager: (name: July, title: CEO, salary: 99999999, manager: No manager))\n",
      "Firing zewei!\n",
      "Company: Julyedu, employees: , (name: July, title: CEO, salary: 99999999, manager: No manager), (name: Han, title: Lecturer, salary: 100000, manager: (name: July, title: CEO, salary: 99999999, manager: No manager))\n"
     ]
    }
   ],
   "source": [
    "from abc import ABC, abstractmethod\n",
    "\n",
    "\n",
    "class Person(ABC):\n",
    "\t@abstractmethod\n",
    "\tdef __init__(self, name, ID):\n",
    "\t\tself.name = name\n",
    "\t\tself.ID = ID\n",
    "\n",
    "\t@abstractmethod\n",
    "\tdef get_info(self):\n",
    "\t\treturn \"name: {}\".format(self.name)\n",
    "\n",
    "# a = Person(\"Aaron\", 20)\n",
    "# print(a.get_info())\n",
    "\n",
    "'''\n",
    "Student class\n",
    "\n",
    "'''\n",
    "class Student(Person):\n",
    "\n",
    "\t# method\n",
    "\tdef __init__(self, name, ID, level=0):\n",
    "\t\t# field\n",
    "\t\t# self refers to the object that is being created\n",
    "\t\tsuper().__init__(name, ID)\n",
    "\t\tself.level = level\n",
    "\n",
    "\tdef get_info(self):\n",
    "\t\treturn \"{} ,level: {}\".format(super().get_info(), self.level)\n",
    "\n",
    "\tdef take_exam(self, grade):\n",
    "\t\tif grade.upper() in [\"A\", \"B\", \"C\"]:\n",
    "\t\t\tself.level += 1\n",
    "\t\treturn self.level\n",
    "\n",
    "\tdef graduate(self):\n",
    "\t\tself.print_info()\n",
    "\t\tif self.level >= 12:\n",
    "\t\t\tprint(\"Congratulations, you've graduated from Julyedu\")\n",
    "\t\t\treturn True\n",
    "\t\telse:\n",
    "\t\t\tprint(\"Sorry, you need to pass {} extra exams\".format(12-self.level))\n",
    "\t\t\treturn False\n",
    "\n",
    "\n",
    "class Employee(Person):\n",
    "\n",
    "\tdef __init__(self, name, ID, title, salary, manager=None):\n",
    "\t\tsuper().__init__(name, ID)\n",
    "\t\tself.title = title\n",
    "\t\tself.salary = salary\n",
    "\t\tself.manager = manager\n",
    "\n",
    "\tdef get_info(self):\n",
    "\t\treturn \"({}, title: {}, salary: {}, manager: {})\".format(super().get_info(), self.title, self.salary, self.manager.get_info() if self.manager is not None else \"No manager\")\n",
    "\n",
    "\n",
    "\n",
    "july = Employee(\"July\", 1, \"CEO\", 99999999)\n",
    "print(july.get_info())\n",
    "zewei = Employee(\"Zewei\", 2, \"Lecturer\", 1, july)\n",
    "print(zewei.get_info())\n",
    "\n",
    "\n",
    "class Company(object):\n",
    "\n",
    "\tdef __init__(self, name, employees = []):\n",
    "\t\tself.name = name\n",
    "\t\tself.employees = employees\n",
    "\n",
    "\tdef hire(self, employee):\n",
    "\t\tif not employee in self.employees:\n",
    "\t\t\tself.employees.append(employee)\n",
    "\n",
    "\tdef fire(self, employee):\n",
    "\t\tif employee in self.employees:\n",
    "\t\t\tself.employees.remove(employee)\n",
    "\n",
    "\tdef get_info(self):\n",
    "\t\tres = \"Company: {}, employees: \".format(self.name)\n",
    "\t\tfor employee in self.employees:\n",
    "\t\t\tres += \", {}\".format(employee.get_info())\n",
    "\t\treturn res\n",
    "\n",
    "c = Company(\"Julyedu\")\n",
    "c.hire(july)\n",
    "c.hire(zewei)\n",
    "\n",
    "han = Employee(\"Han\", 3, \"Lecturer\", 100000, july)\n",
    "\n",
    "c.hire(han)\n",
    "\n",
    "print(c.get_info())\n",
    "\n",
    "print(\"Firing zewei!\")\n",
    "c.fire(zewei)\n",
    "print(c.get_info())\n",
    "\n",
    "print(\"Firing zewei!\")\n",
    "c.fire(zewei)\n",
    "print(c.get_info())\n",
    "# (70min)"
   ]
  },
  {
   "cell_type": "markdown",
   "metadata": {},
   "source": [
    "# Iterator and Generator\n",
    "\n",
    "## iterator\n",
    "\n"
   ]
  },
  {
   "cell_type": "code",
   "execution_count": 14,
   "metadata": {},
   "outputs": [
    {
     "name": "stdout",
     "output_type": "stream",
     "text": [
      "0\n",
      "1\n",
      "2\n",
      "3\n"
     ]
    },
    {
     "ename": "StopIteration",
     "evalue": "",
     "output_type": "error",
     "traceback": [
      "\u001b[1;31m---------------------------------------------------------------------------\u001b[0m",
      "\u001b[1;31mStopIteration\u001b[0m                             Traceback (most recent call last)",
      "\u001b[1;32m<ipython-input-14-bc0e0ba78a09>\u001b[0m in \u001b[0;36m<module>\u001b[1;34m()\u001b[0m\n\u001b[0;32m      4\u001b[0m \u001b[0mprint\u001b[0m\u001b[1;33m(\u001b[0m\u001b[0mnext\u001b[0m\u001b[1;33m(\u001b[0m\u001b[0mx\u001b[0m\u001b[1;33m)\u001b[0m\u001b[1;33m)\u001b[0m\u001b[1;33m\u001b[0m\u001b[0m\n\u001b[0;32m      5\u001b[0m \u001b[0mprint\u001b[0m\u001b[1;33m(\u001b[0m\u001b[0mnext\u001b[0m\u001b[1;33m(\u001b[0m\u001b[0mx\u001b[0m\u001b[1;33m)\u001b[0m\u001b[1;33m)\u001b[0m\u001b[1;33m\u001b[0m\u001b[0m\n\u001b[1;32m----> 6\u001b[1;33m \u001b[0mprint\u001b[0m\u001b[1;33m(\u001b[0m\u001b[0mnext\u001b[0m\u001b[1;33m(\u001b[0m\u001b[0mx\u001b[0m\u001b[1;33m)\u001b[0m\u001b[1;33m)\u001b[0m\u001b[1;33m\u001b[0m\u001b[0m\n\u001b[0m",
      "\u001b[1;31mStopIteration\u001b[0m: "
     ]
    }
   ],
   "source": [
    "x = iter([0, 1, 2, 3])\n",
    "print(next(x))\n",
    "print(next(x))\n",
    "print(next(x))\n",
    "print(next(x))\n",
    "print(next(x))"
   ]
  },
  {
   "cell_type": "markdown",
   "metadata": {
    "collapsed": true
   },
   "source": [
    "定义一个class的时候，如果我们在class中定义```__iter__```和```__next__```两个method就能把这个class变成一个iterator。\n"
   ]
  },
  {
   "cell_type": "code",
   "execution_count": 15,
   "metadata": {},
   "outputs": [
    {
     "name": "stdout",
     "output_type": "stream",
     "text": [
      "0\n",
      "1\n",
      "2\n",
      "3\n",
      "4\n",
      "5\n",
      "6\n",
      "7\n",
      "8\n",
      "9\n",
      "10\n",
      "11\n"
     ]
    }
   ],
   "source": [
    "class Yrange(object):\n",
    "    def __init__(self, n):\n",
    "        self.i = 0\n",
    "        self.n = n\n",
    "    def __iter__(self):\n",
    "        return self\n",
    "    def __next__(self):\n",
    "        if self.i < self.n:\n",
    "            i = self.i\n",
    "            self.i += 1\n",
    "            return i\n",
    "        else:\n",
    "            raise StopIteration\n",
    "for i in Yrange(12):\n",
    "    print(i)"
   ]
  },
  {
   "cell_type": "markdown",
   "metadata": {},
   "source": [
    "## Generator\n",
    "\n"
   ]
  },
  {
   "cell_type": "code",
   "execution_count": 16,
   "metadata": {},
   "outputs": [
    {
     "name": "stdout",
     "output_type": "stream",
     "text": [
      "0\n",
      "1\n",
      "2\n",
      "3\n",
      "4\n"
     ]
    }
   ],
   "source": [
    "def zrange(n):\n",
    "    i = 0\n",
    "    while i < n:\n",
    "        yield(i)\n",
    "        i += 1\n",
    "\n",
    "for i in zrange(5):\n",
    "    print(i)"
   ]
  },
  {
   "cell_type": "code",
   "execution_count": null,
   "metadata": {
    "collapsed": true
   },
   "outputs": [],
   "source": [
    "## enumerate和zip\n",
    "\n",
    "- enumerator\n",
    "\n",
    "\n"
   ]
  },
  {
   "cell_type": "code",
   "execution_count": 21,
   "metadata": {},
   "outputs": [
    {
     "name": "stdout",
     "output_type": "stream",
     "text": [
      "0 FB\n",
      "1 GOOGLE\n",
      "2 APPLE\n",
      "3 AMAZON\n"
     ]
    }
   ],
   "source": [
    "names = [\"FB\", \"GOOGLE\", \"APPLE\", \"AMAZON\"]\n",
    "for i, name in enumerate(names):\n",
    "    print(i, name)"
   ]
  },
  {
   "cell_type": "markdown",
   "metadata": {},
   "source": [
    "还有一个function叫做zip"
   ]
  },
  {
   "cell_type": "code",
   "execution_count": 5,
   "metadata": {
    "scrolled": true
   },
   "outputs": [
    {
     "ename": "NameError",
     "evalue": "name 'names' is not defined",
     "output_type": "error",
     "traceback": [
      "\u001b[1;31m---------------------------------------------------------------------------\u001b[0m",
      "\u001b[1;31mNameError\u001b[0m                                 Traceback (most recent call last)",
      "\u001b[1;32m<ipython-input-5-45e822d72ecb>\u001b[0m in \u001b[0;36m<module>\u001b[1;34m()\u001b[0m\n\u001b[0;32m      1\u001b[0m \u001b[0mnumbers\u001b[0m \u001b[1;33m=\u001b[0m \u001b[0mlist\u001b[0m\u001b[1;33m(\u001b[0m\u001b[0mrange\u001b[0m\u001b[1;33m(\u001b[0m\u001b[1;36m4\u001b[0m\u001b[1;33m)\u001b[0m\u001b[1;33m)\u001b[0m\u001b[1;33m\u001b[0m\u001b[0m\n\u001b[1;32m----> 2\u001b[1;33m \u001b[1;33m[\u001b[0m \u001b[1;34m\"{} {}\"\u001b[0m\u001b[1;33m.\u001b[0m\u001b[0mformat\u001b[0m\u001b[1;33m(\u001b[0m\u001b[0ma\u001b[0m\u001b[1;33m,\u001b[0m \u001b[0mb\u001b[0m\u001b[1;33m)\u001b[0m \u001b[1;32mfor\u001b[0m \u001b[0ma\u001b[0m\u001b[1;33m,\u001b[0m \u001b[0mb\u001b[0m \u001b[1;32min\u001b[0m \u001b[0mzip\u001b[0m\u001b[1;33m(\u001b[0m\u001b[0mnames\u001b[0m\u001b[1;33m,\u001b[0m \u001b[0mnumbers\u001b[0m\u001b[1;33m)\u001b[0m \u001b[1;33m]\u001b[0m\u001b[1;33m\u001b[0m\u001b[0m\n\u001b[0m\u001b[0;32m      3\u001b[0m \u001b[1;33m\u001b[0m\u001b[0m\n\u001b[0;32m      4\u001b[0m \u001b[1;31m# 90min\u001b[0m\u001b[1;33m\u001b[0m\u001b[1;33m\u001b[0m\u001b[0m\n",
      "\u001b[1;31mNameError\u001b[0m: name 'names' is not defined"
     ]
    }
   ],
   "source": [
    "numbers = list(range(4))\n",
    "[ \"{} {}\".format(a, b) for a, b in zip(names, numbers) ]\n",
    "\n",
    "# 90min"
   ]
  },
  {
   "cell_type": "markdown",
   "metadata": {},
   "source": [
    "# csv和json格式数据\n",
    "\n",
    "## csv(comma separated values)\n",
    "\n",
    "关于module csv\n",
    "\n",
    "- reader\n",
    "- writer"
   ]
  },
  {
   "cell_type": "code",
   "execution_count": 28,
   "metadata": {
    "scrolled": true
   },
   "outputs": [
    {
     "name": "stdout",
     "output_type": "stream",
     "text": [
      "[['4/5/2015 13:34', 'Apples', '73'], ['4/5/2015 3:41', 'Cherries', '85'], ['4/6/2015 12:46', 'Pears', '14'], ['4/8/2015 8:59', 'Oranges', '52'], ['4/10/2015 2:07', 'Apples', '152'], ['4/10/2015 18:10', 'Bananas', '23'], ['4/10/2015 2:40', 'Strawberries', '98']]\n",
      "line #: 1, content: ['4/5/2015 13:34', 'Apples', '73']\n",
      "line #: 2, content: ['4/5/2015 3:41', 'Cherries', '85']\n",
      "line #: 3, content: ['4/6/2015 12:46', 'Pears', '14']\n",
      "line #: 4, content: ['4/8/2015 8:59', 'Oranges', '52']\n",
      "line #: 5, content: ['4/10/2015 2:07', 'Apples', '152']\n",
      "line #: 6, content: ['4/10/2015 18:10', 'Bananas', '23']\n",
      "line #: 7, content: ['4/10/2015 2:40', 'Strawberries', '98']\n"
     ]
    }
   ],
   "source": [
    "import csv\n",
    "\n",
    "\n",
    "in_file = open(\"data/sample.csv\", \"r\")\n",
    "csv_reader = csv.reader(in_file)\n",
    "data = list(csv_reader)\n",
    "print(data)\n",
    "in_file.close()\n",
    "\n",
    "in_file = open(\"data/sample.csv\", \"r\")\n",
    "csv_reader = csv.reader(in_file)\n",
    "for line in csv_reader:\n",
    "\tprint(\"line #: {}, content: {}\".format(csv_reader.line_num, line))\n",
    "in_file.close()\n",
    "\n",
    "out_file = open(\"output.csv\", \"w\")\n",
    "out_writer = csv.writer(out_file)\n",
    "out_writer.writerow([\"julyedu\", \"baidu\", \"tencent\", \"alibaba\"])\n",
    "out_writer.writerow([\"fb\", \"goog\", \"aapl\", \"amzn\"])\n",
    "out_writer.writerow([1, -2, 3.1111, 4.5])\n",
    "out_file.close()\n",
    "\n",
    "out_file = open(\"output.tsv\", \"w\")\n",
    "out_writer = csv.writer(out_file, delimiter=\"\\t\")\n",
    "out_writer.writerow([\"julyedu\", \"baidu\", \"tencent\", \"alibaba\"])\n",
    "out_writer.writerow([\"fb\", \"goog\", \"aapl\", \"amzn\"])\n",
    "out_writer.writerow([1, -2, 3.1111, 4.5])\n",
    "out_file.close()\n"
   ]
  },
  {
   "cell_type": "markdown",
   "metadata": {},
   "source": [
    "## json (javascript object notation)\n",
    "\n",
    "关于module json\n",
    "\n",
    "- loads\n",
    "- load\n",
    "- dumps\n",
    "- dump\n"
   ]
  },
  {
   "cell_type": "code",
   "execution_count": 31,
   "metadata": {
    "scrolled": true
   },
   "outputs": [
    {
     "name": "stdout",
     "output_type": "stream",
     "text": [
      "<class 'dict'>\n",
      "{'name': 'July', 'salary': 999999, 'title': 'CEO', 'manager': None}\n",
      "<class 'dict'>\n",
      "{'name': 'July', 'salary': 999999, 'title': 'CEO', 'manager': None}\n",
      "<class 'str'>\n",
      "{\"name\": \"July\", \"salary\": 999999, \"title\": \"CEO\", \"manager\": null}\n"
     ]
    }
   ],
   "source": [
    "import json\n",
    "\n",
    "data = '{\"name\": \"July\", \"salary\": 999999, \"title\": \"CEO\", \"manager\": null}'\n",
    "\n",
    "json_data = json.loads(data)\n",
    "\n",
    "print(type(json_data))\n",
    "print(json_data)\n",
    "\n",
    "json_data = json.load(open(\"data/sample.json\", \"r\"))\n",
    "print(type(json_data))\n",
    "print(json_data)\n",
    "\n",
    "dumped_json = json.dumps(json_data)\n",
    "print(type(dumped_json))\n",
    "print(dumped_json)\n",
    "\n",
    "json.dump(json_data, open(\"data/out.json\", \"w\"))"
   ]
  },
  {
   "cell_type": "code",
   "execution_count": 6,
   "metadata": {
    "collapsed": true
   },
   "outputs": [],
   "source": [
    "# 120min"
   ]
  }
 ],
 "metadata": {
  "kernelspec": {
   "display_name": "Python 3",
   "language": "python",
   "name": "python3"
  },
  "language_info": {
   "codemirror_mode": {
    "name": "ipython",
    "version": 3
   },
   "file_extension": ".py",
   "mimetype": "text/x-python",
   "name": "python",
   "nbconvert_exporter": "python",
   "pygments_lexer": "ipython3",
   "version": "3.6.1"
  }
 },
 "nbformat": 4,
 "nbformat_minor": 2
}
