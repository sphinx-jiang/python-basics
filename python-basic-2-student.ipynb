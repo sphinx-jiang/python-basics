{
 "cells": [
  {
   "cell_type": "code",
   "execution_count": 1,
   "metadata": {},
   "outputs": [
    {
     "data": {
      "text/plain": [
       "1"
      ]
     },
     "execution_count": 1,
     "metadata": {},
     "output_type": "execute_result"
    }
   ],
   "source": [
    "1"
   ]
  },
  {
   "cell_type": "code",
   "execution_count": 2,
   "metadata": {},
   "outputs": [
    {
     "data": {
      "text/plain": [
       "8.5"
      ]
     },
     "execution_count": 2,
     "metadata": {},
     "output_type": "execute_result"
    }
   ],
   "source": [
    "2.5 + 6"
   ]
  },
  {
   "cell_type": "code",
   "execution_count": 9,
   "metadata": {},
   "outputs": [],
   "source": [
    "numbers = [1,2,3,4,5,2,3,4]"
   ]
  },
  {
   "cell_type": "code",
   "execution_count": 5,
   "metadata": {},
   "outputs": [
    {
     "data": {
      "text/plain": [
       "{1, 2, 3, 4}"
      ]
     },
     "execution_count": 5,
     "metadata": {},
     "output_type": "execute_result"
    }
   ],
   "source": [
    "{1,2,3,4,2,3,3,3,}"
   ]
  },
  {
   "cell_type": "code",
   "execution_count": 7,
   "metadata": {},
   "outputs": [
    {
     "data": {
      "text/plain": [
       "2"
      ]
     },
     "execution_count": 7,
     "metadata": {},
     "output_type": "execute_result"
    }
   ],
   "source": [
    "d = {\"key\":\"value\", 1:2}\n",
    "d[1]"
   ]
  },
  {
   "cell_type": "code",
   "execution_count": 8,
   "metadata": {},
   "outputs": [
    {
     "name": "stdout",
     "output_type": "stream",
     "text": [
      "between 10 and 20\n"
     ]
    }
   ],
   "source": [
    "x = 12\n",
    "if x < 10:\n",
    "    print(\"less than 10\")\n",
    "elif x < 20:\n",
    "    print(\"between 10 and 20\")\n",
    "else:\n",
    "    print(\"larger than or equal to 20\")"
   ]
  },
  {
   "cell_type": "code",
   "execution_count": 10,
   "metadata": {},
   "outputs": [
    {
     "name": "stdout",
     "output_type": "stream",
     "text": [
      "1\n",
      "2\n",
      "3\n",
      "4\n",
      "5\n",
      "2\n",
      "3\n",
      "4\n"
     ]
    }
   ],
   "source": [
    "for n in numbers:\n",
    "    print(n)"
   ]
  },
  {
   "cell_type": "code",
   "execution_count": 13,
   "metadata": {},
   "outputs": [
    {
     "name": "stdout",
     "output_type": "stream",
     "text": [
      "1\n",
      "2\n",
      "4\n",
      "5\n",
      "7\n",
      "8\n",
      "10\n",
      "11\n",
      "13\n",
      "14\n",
      "16\n",
      "17\n",
      "19\n"
     ]
    }
   ],
   "source": [
    "i = 0\n",
    "while 1:\n",
    "    if i % 3 == 0:\n",
    "        i += 1\n",
    "        continue\n",
    "    print(i)\n",
    "    i += 1\n",
    "    if i >= 20:\n",
    "        break"
   ]
  },
  {
   "cell_type": "markdown",
   "metadata": {},
   "source": [
    "# python 线上集训第二课"
   ]
  },
  {
   "cell_type": "markdown",
   "metadata": {},
   "source": [
    "## 目录\n",
    "- function\n",
    "- class, subclass\n",
    "- module\n",
    "- read/write\n",
    "- csv, json"
   ]
  },
  {
   "cell_type": "markdown",
   "metadata": {},
   "source": [
    "## function\n",
    "\n",
    "- def关键词\n",
    "- 用括号包含list of parameters\n",
    "- statements都要indent\n"
   ]
  },
  {
   "cell_type": "code",
   "execution_count": 29,
   "metadata": {},
   "outputs": [
    {
     "ename": "UnboundLocalError",
     "evalue": "local variable 'res' referenced before assignment",
     "output_type": "error",
     "traceback": [
      "\u001b[1;31m---------------------------------------------------------------------------\u001b[0m",
      "\u001b[1;31mUnboundLocalError\u001b[0m                         Traceback (most recent call last)",
      "\u001b[1;32m<ipython-input-29-96b79b81b085>\u001b[0m in \u001b[0;36m<module>\u001b[1;34m()\u001b[0m\n\u001b[0;32m     13\u001b[0m     \u001b[1;32mreturn\u001b[0m \u001b[0mres\u001b[0m\u001b[1;33m\u001b[0m\u001b[0m\n\u001b[0;32m     14\u001b[0m \u001b[1;33m\u001b[0m\u001b[0m\n\u001b[1;32m---> 15\u001b[1;33m \u001b[0mr\u001b[0m \u001b[1;33m=\u001b[0m \u001b[0mfib\u001b[0m\u001b[1;33m(\u001b[0m\u001b[1;36m5\u001b[0m\u001b[1;33m)\u001b[0m\u001b[1;33m\u001b[0m\u001b[0m\n\u001b[0m\u001b[0;32m     16\u001b[0m \u001b[0mprint\u001b[0m\u001b[1;33m(\u001b[0m\u001b[0mr\u001b[0m\u001b[1;33m)\u001b[0m\u001b[1;33m\u001b[0m\u001b[0m\n\u001b[0;32m     17\u001b[0m \u001b[1;31m#fib(10, 2)\u001b[0m\u001b[1;33m\u001b[0m\u001b[1;33m\u001b[0m\u001b[0m\n",
      "\u001b[1;32m<ipython-input-29-96b79b81b085>\u001b[0m in \u001b[0;36mfib\u001b[1;34m(n, start)\u001b[0m\n\u001b[0;32m      1\u001b[0m \u001b[1;32mdef\u001b[0m \u001b[0mfib\u001b[0m\u001b[1;33m(\u001b[0m\u001b[0mn\u001b[0m\u001b[1;33m,\u001b[0m\u001b[0mstart\u001b[0m\u001b[1;33m=\u001b[0m\u001b[1;36m0\u001b[0m\u001b[1;33m)\u001b[0m\u001b[1;33m:\u001b[0m\u001b[1;33m\u001b[0m\u001b[0m\n\u001b[0;32m      2\u001b[0m     \u001b[0ma\u001b[0m\u001b[1;33m,\u001b[0m \u001b[0mb\u001b[0m \u001b[1;33m=\u001b[0m \u001b[1;36m0\u001b[0m\u001b[1;33m,\u001b[0m \u001b[1;36m1\u001b[0m\u001b[1;33m\u001b[0m\u001b[0m\n\u001b[1;32m----> 3\u001b[1;33m     \u001b[0mprint\u001b[0m\u001b[1;33m(\u001b[0m\u001b[0mres\u001b[0m\u001b[1;33m)\u001b[0m\u001b[1;33m\u001b[0m\u001b[0m\n\u001b[0m\u001b[0;32m      4\u001b[0m     \u001b[0mres\u001b[0m \u001b[1;33m=\u001b[0m \u001b[1;33m[\u001b[0m\u001b[1;33m]\u001b[0m\u001b[1;33m\u001b[0m\u001b[0m\n\u001b[0;32m      5\u001b[0m     \u001b[1;32mfor\u001b[0m \u001b[0mi\u001b[0m \u001b[1;32min\u001b[0m \u001b[0mrange\u001b[0m\u001b[1;33m(\u001b[0m\u001b[0mn\u001b[0m\u001b[1;33m)\u001b[0m\u001b[1;33m:\u001b[0m\u001b[1;33m\u001b[0m\u001b[0m\n",
      "\u001b[1;31mUnboundLocalError\u001b[0m: local variable 'res' referenced before assignment"
     ]
    }
   ],
   "source": [
    "def fib(n,start=0):\n",
    "    a, b = 0, 1\n",
    "    print(res)\n",
    "    res = []\n",
    "    for i in range(n):\n",
    "        if i < start:\n",
    "            a, b = b, a+b\n",
    "            continue\n",
    "        # print(a, end=\" \")\n",
    "        res.append(a)\n",
    "        a, b = b, a+b\n",
    "    #print()\n",
    "    return res\n",
    "\n",
    "r = fib(5)\n",
    "print(r)\n",
    "#fib(10, 2)"
   ]
  },
  {
   "cell_type": "markdown",
   "metadata": {},
   "source": [
    "### 不定长度的arguments"
   ]
  },
  {
   "cell_type": "code",
   "execution_count": 39,
   "metadata": {},
   "outputs": [
    {
     "name": "stdout",
     "output_type": "stream",
     "text": [
      "(12, 15, 'a', 'July')\n"
     ]
    },
    {
     "data": {
      "text/plain": [
       "'12,15,a,July'"
      ]
     },
     "execution_count": 39,
     "metadata": {},
     "output_type": "execute_result"
    }
   ],
   "source": [
    "def concatenate(*args, sep=\" \"):\n",
    "    aaaa = [str(a) for a in args]\n",
    "    print(args)\n",
    "    return sep.join(aaaa)\n",
    "    \n",
    "concatenate(12, 15, \"a\", \"July\", sep=\",\")"
   ]
  },
  {
   "cell_type": "markdown",
   "metadata": {},
   "source": [
    "### default argument\n",
    "concat例子"
   ]
  },
  {
   "cell_type": "markdown",
   "metadata": {},
   "source": [
    "### 把一个tuple/list当做arguments\n",
    "\n"
   ]
  },
  {
   "cell_type": "code",
   "execution_count": 50,
   "metadata": {},
   "outputs": [
    {
     "name": "stdout",
     "output_type": "stream",
     "text": [
      "2 5\n"
     ]
    },
    {
     "data": {
      "text/plain": [
       "function"
      ]
     },
     "execution_count": 50,
     "metadata": {},
     "output_type": "execute_result"
    }
   ],
   "source": [
    "def unpack_args(a, b):\n",
    "    print(a, b)\n",
    "\n",
    "r = [2, 5]\n",
    "# r = (2, 5)\n",
    "unpack_args(*r)\n",
    "\n",
    "type(unpack_args)"
   ]
  },
  {
   "cell_type": "markdown",
   "metadata": {},
   "source": [
    "### 关于模块化(modularity)\n",
    "\n",
    "function的作用是拿到一些参数，做一些运算或者别的更加复杂的操作，然后返回一些结果。\n",
    "\n",
    "(25min)"
   ]
  },
  {
   "cell_type": "markdown",
   "metadata": {},
   "source": [
    "# Class入门\n",
    "\n",
    "\n",
    "## Object oriented programming 面向对象编程\n",
    "\n",
    "```class```关键字用来定义一个class(类)。\n",
    "\n",
    "之前我们学习的都是python自带的数据类型，class是我们自己定义的类型。\n",
    "\n",
    "- object和class之间的关系\n",
    "class是一个模板，我们可以把class类比成一个数据类型。object是class的一个实例，就好比a是一个int，我们可以把int类比成一个class,把a类比成一个object。\n",
    "\n",
    "- 什么是```self```?\n",
    "- 什么是```__init__```?\n",
    "- pass statement\n",
    "- 用dir inspect一个object\n",
    "\n",
    "\n"
   ]
  },
  {
   "cell_type": "markdown",
   "metadata": {},
   "source": [
    "# subclass(子类)\n",
    "\n",
    "## 什么是subclass\n",
    "\n",
    "subclass是base class的继承，一个subclass可以继承所有base class的field和method，在base class的基础上做拓展。\n",
    "\n",
    "\n",
    "- Abstract Base Class (abc)"
   ]
  },
  {
   "cell_type": "markdown",
   "metadata": {},
   "source": [
    "# Iterator and Generator\n",
    "\n",
    "## iterator\n",
    "\n"
   ]
  },
  {
   "cell_type": "markdown",
   "metadata": {
    "collapsed": true
   },
   "source": [
    "定义一个class的时候，如果我们在class中定义```__iter__```和```__next__```两个method就能把这个class变成一个iterator。\n"
   ]
  },
  {
   "cell_type": "markdown",
   "metadata": {},
   "source": [
    "## Generator\n",
    "\n"
   ]
  },
  {
   "cell_type": "markdown",
   "metadata": {},
   "source": [
    "还有一个function叫做zip"
   ]
  },
  {
   "cell_type": "code",
   "execution_count": null,
   "metadata": {
    "collapsed": true
   },
   "outputs": [],
   "source": []
  },
  {
   "cell_type": "markdown",
   "metadata": {},
   "source": [
    "## File IO"
   ]
  },
  {
   "cell_type": "code",
   "execution_count": 84,
   "metadata": {
    "collapsed": true
   },
   "outputs": [],
   "source": [
    "in_file = open(\"data/sample.csv\", \"r\")"
   ]
  },
  {
   "cell_type": "code",
   "execution_count": 85,
   "metadata": {},
   "outputs": [],
   "source": [
    "content = in_file.read()"
   ]
  },
  {
   "cell_type": "code",
   "execution_count": 68,
   "metadata": {
    "scrolled": true
   },
   "outputs": [
    {
     "name": "stdout",
     "output_type": "stream",
     "text": [
      "4/5/2015 13:34,Apples,73\n",
      "\n",
      "4/5/2015 3:41,Cherries,85\n",
      "\n",
      "4/6/2015 12:46,Pears,14\n",
      "\n",
      "4/8/2015 8:59,Oranges,52\n",
      "\n",
      "4/10/2015 2:07,Apples,152\n",
      "\n",
      "4/10/2015 18:10,Bananas,23\n",
      "\n",
      "4/10/2015 2:40,Strawberries,98\n"
     ]
    }
   ],
   "source": [
    "for line in in_file:\n",
    "    print(line)"
   ]
  },
  {
   "cell_type": "code",
   "execution_count": 70,
   "metadata": {},
   "outputs": [
    {
     "name": "stdout",
     "output_type": "stream",
     "text": [
      "4/5/2015 13:34,Apples,73\n",
      "\n",
      "4/5/2015 3:41,Cherries,85\n",
      "\n",
      "4/6/2015 12:46,Pears,14\n",
      "\n",
      "4/8/2015 8:59,Oranges,52\n",
      "\n",
      "4/10/2015 2:07,Apples,152\n",
      "\n",
      "4/10/2015 18:10,Bananas,23\n",
      "\n",
      "4/10/2015 2:40,Strawberries,98\n"
     ]
    }
   ],
   "source": [
    "with open(\"data/sample.csv\", \"r\") as fin:\n",
    "    for line in fin:\n",
    "        print(line)"
   ]
  },
  {
   "cell_type": "code",
   "execution_count": 63,
   "metadata": {},
   "outputs": [
    {
     "data": {
      "text/plain": [
       "str"
      ]
     },
     "execution_count": 63,
     "metadata": {},
     "output_type": "execute_result"
    }
   ],
   "source": [
    "type(content)"
   ]
  },
  {
   "cell_type": "code",
   "execution_count": 65,
   "metadata": {},
   "outputs": [
    {
     "data": {
      "text/plain": [
       "[['4/5/2015 13:34', 'Apples', '73'],\n",
       " ['4/5/2015 3:41', 'Cherries', '85'],\n",
       " ['4/6/2015 12:46', 'Pears', '14'],\n",
       " ['4/8/2015 8:59', 'Oranges', '52'],\n",
       " ['4/10/2015 2:07', 'Apples', '152'],\n",
       " ['4/10/2015 18:10', 'Bananas', '23'],\n",
       " ['4/10/2015 2:40', 'Strawberries', '98']]"
      ]
     },
     "execution_count": 65,
     "metadata": {},
     "output_type": "execute_result"
    }
   ],
   "source": [
    "[line.split(\",\") for line in content.split(\"\\n\")]"
   ]
  },
  {
   "cell_type": "code",
   "execution_count": 86,
   "metadata": {
    "collapsed": true
   },
   "outputs": [],
   "source": [
    "in_file.close()"
   ]
  },
  {
   "cell_type": "code",
   "execution_count": 89,
   "metadata": {},
   "outputs": [
    {
     "data": {
      "text/plain": [
       "'4/5/2015 13:34,Apples,73\\n4/5/2015 3:41,Cherries,85\\n4/6/2015 12:46,Pears,14\\n4/8/2015 8:59,Oranges,52\\n4/10/2015 2:07,Apples,152\\n4/10/2015 18:10,Bananas,23\\n4/10/2015 2:40,Strawberries,98aaaaaaaaaaaaaaaaaaaaaaaaaaaaaaaaasssssssssssssssssssssssssaaaaaaaaaaaaaaaaaaaaaaaaaaaaaaaaasssssssssssssssssssssssss'"
      ]
     },
     "execution_count": 89,
     "metadata": {},
     "output_type": "execute_result"
    }
   ],
   "source": [
    "content += \"aaaaaaaaaaaaaaaaaaaaaaaaaaaaaaaaasssssssssssssssssssssssss\"\n",
    "content"
   ]
  },
  {
   "cell_type": "code",
   "execution_count": 93,
   "metadata": {},
   "outputs": [],
   "source": [
    "out_file = open(\"data/out.txt\", \"w\")\n",
    "out_file.write(content)\n",
    "out_file.close()"
   ]
  },
  {
   "cell_type": "code",
   "execution_count": 94,
   "metadata": {
    "collapsed": true
   },
   "outputs": [],
   "source": [
    "with open(\"data/out2.txt\", \"w\") as fout:\n",
    "    fout.write(content)"
   ]
  },
  {
   "cell_type": "markdown",
   "metadata": {},
   "source": [
    "# csv和json格式数据\n",
    "\n",
    "## csv(comma separated values)\n",
    "\n",
    "关于module csv\n",
    "\n",
    "- reader\n",
    "- writer"
   ]
  },
  {
   "cell_type": "code",
   "execution_count": 114,
   "metadata": {
    "collapsed": true
   },
   "outputs": [],
   "source": [
    "import csv\n",
    "in_file = open(\"data/sample.csv\", \"r\")\n",
    "csv_reader = csv.reader(in_file)"
   ]
  },
  {
   "cell_type": "code",
   "execution_count": 96,
   "metadata": {
    "collapsed": true
   },
   "outputs": [],
   "source": []
  },
  {
   "cell_type": "code",
   "execution_count": 102,
   "metadata": {},
   "outputs": [],
   "source": [
    "data = list(csv_reader)"
   ]
  },
  {
   "cell_type": "code",
   "execution_count": 115,
   "metadata": {},
   "outputs": [
    {
     "name": "stdout",
     "output_type": "stream",
     "text": [
      "line #: 1, content: ['4/5/2015 13:34', 'Apples', '73']\n",
      "line #: 2, content: ['4/5/2015 3:41', 'Cherries', '85']\n",
      "line #: 3, content: ['4/6/2015 12:46', 'Pears', '14']\n",
      "line #: 4, content: ['4/8/2015 8:59', 'Oranges', '52']\n",
      "line #: 5, content: ['4/10/2015 2:07', 'Apples', '152']\n",
      "line #: 6, content: ['4/10/2015 18:10', 'Bananas', '23']\n",
      "line #: 7, content: ['4/10/2015 2:40', 'Strawberries', '98']\n"
     ]
    }
   ],
   "source": [
    "for line in csv_reader:\n",
    "    print(\"line #: {}, content: {}\".format(csv_reader.line_num, line))"
   ]
  },
  {
   "cell_type": "code",
   "execution_count": 113,
   "metadata": {
    "collapsed": true
   },
   "outputs": [],
   "source": [
    "in_file.close()"
   ]
  },
  {
   "cell_type": "code",
   "execution_count": 117,
   "metadata": {
    "collapsed": true
   },
   "outputs": [],
   "source": [
    "out_file = open(\"data/out.tsv\", \"w\")\n",
    "out_writer = csv.writer(out_file, delimiter=\"\\t\")\n",
    "out_writer.writerow([\"july\", \"baidu\", \"ali\", \"tencent\"])\n",
    "out_writer.writerow([\"fb\", \"goog\", \"aapl\", \"msft\"])\n",
    "out_writer.writerow([1.2, 3.5, \"amazon\", 5])\n",
    "out_file.close()"
   ]
  },
  {
   "cell_type": "markdown",
   "metadata": {},
   "source": [
    "## json (javascript object notation)\n",
    "\n",
    "关于module json\n",
    "\n",
    "- loads\n",
    "- load\n",
    "- dumps\n",
    "- dump\n"
   ]
  },
  {
   "cell_type": "code",
   "execution_count": 118,
   "metadata": {
    "collapsed": true
   },
   "outputs": [],
   "source": [
    "import json\n",
    "data = '{\"name\": \"July\", \"salary\": 999999, \"title\": \"CEO\", \"manager\": null}'"
   ]
  },
  {
   "cell_type": "code",
   "execution_count": 119,
   "metadata": {},
   "outputs": [
    {
     "data": {
      "text/plain": [
       "{'manager': None, 'name': 'July', 'salary': 999999, 'title': 'CEO'}"
      ]
     },
     "execution_count": 119,
     "metadata": {},
     "output_type": "execute_result"
    }
   ],
   "source": [
    "json_data = json.loads(data)\n",
    "json_data"
   ]
  },
  {
   "cell_type": "code",
   "execution_count": 121,
   "metadata": {},
   "outputs": [
    {
     "data": {
      "text/plain": [
       "'July'"
      ]
     },
     "execution_count": 121,
     "metadata": {},
     "output_type": "execute_result"
    }
   ],
   "source": [
    "type(json_data)\n",
    "json_data[\"name\"]"
   ]
  },
  {
   "cell_type": "code",
   "execution_count": 122,
   "metadata": {},
   "outputs": [
    {
     "name": "stdout",
     "output_type": "stream",
     "text": [
      "<class 'dict'>\n",
      "{'name': 'July', 'salary': 999999, 'title': 'CEO', 'manager': None}\n"
     ]
    }
   ],
   "source": [
    "in_file = open(\"data/sample.json\", \"r\")\n",
    "json_data = json.load(in_file)\n",
    "in_file.close()\n",
    "print(type(json_data))\n",
    "print(json_data)\n"
   ]
  },
  {
   "cell_type": "code",
   "execution_count": 124,
   "metadata": {},
   "outputs": [
    {
     "data": {
      "text/plain": [
       "dict"
      ]
     },
     "execution_count": 124,
     "metadata": {},
     "output_type": "execute_result"
    }
   ],
   "source": [
    "type(json_data)"
   ]
  },
  {
   "cell_type": "code",
   "execution_count": 125,
   "metadata": {},
   "outputs": [
    {
     "name": "stdout",
     "output_type": "stream",
     "text": [
      "<class 'str'>\n"
     ]
    },
    {
     "data": {
      "text/plain": [
       "'{\"name\": \"July\", \"salary\": 999999, \"title\": \"CEO\", \"manager\": null}'"
      ]
     },
     "execution_count": 125,
     "metadata": {},
     "output_type": "execute_result"
    }
   ],
   "source": [
    "json_dumped = json.dumps(json_data)\n",
    "print(type(json_dumped))\n",
    "json_dumped"
   ]
  },
  {
   "cell_type": "code",
   "execution_count": 126,
   "metadata": {
    "collapsed": true
   },
   "outputs": [],
   "source": [
    "json.dump(json_data, open(\"data/out.json\", \"w\"))"
   ]
  },
  {
   "cell_type": "code",
   "execution_count": 6,
   "metadata": {
    "collapsed": true
   },
   "outputs": [],
   "source": [
    "# 120min"
   ]
  }
 ],
 "metadata": {
  "kernelspec": {
   "display_name": "Python 3",
   "language": "python",
   "name": "python3"
  },
  "language_info": {
   "codemirror_mode": {
    "name": "ipython",
    "version": 3
   },
   "file_extension": ".py",
   "mimetype": "text/x-python",
   "name": "python",
   "nbconvert_exporter": "python",
   "pygments_lexer": "ipython3",
   "version": "3.6.1"
  }
 },
 "nbformat": 4,
 "nbformat_minor": 2
}
