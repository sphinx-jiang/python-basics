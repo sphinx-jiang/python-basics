{
 "cells": [
  {
   "cell_type": "markdown",
   "metadata": {},
   "source": [
    "# python 线上集训第二课"
   ]
  },
  {
   "cell_type": "markdown",
   "metadata": {},
   "source": [
    "## 目录\n",
    "- function\n",
    "- class, subclass\n",
    "- module"
   ]
  },
  {
   "cell_type": "markdown",
   "metadata": {},
   "source": [
    "## function\n",
    "\n",
    "- def关键词\n",
    "- 用括号包含list of parameters\n",
    "- statements都要indent\n"
   ]
  },
  {
   "cell_type": "markdown",
   "metadata": {},
   "source": [
    "### 不定长度的arguments"
   ]
  },
  {
   "cell_type": "markdown",
   "metadata": {},
   "source": [
    "### default argument\n",
    "concat例子"
   ]
  },
  {
   "cell_type": "markdown",
   "metadata": {},
   "source": [
    "### 把一个tuple/list当做arguments\n",
    "\n"
   ]
  },
  {
   "cell_type": "markdown",
   "metadata": {},
   "source": [
    "### 关于模块化(modularity)\n",
    "\n",
    "function的作用是拿到一些参数，做一些运算或者别的更加复杂的操作，然后返回一些结果。\n",
    "\n",
    "(25min)"
   ]
  },
  {
   "cell_type": "markdown",
   "metadata": {},
   "source": [
    "# Class入门\n",
    "\n",
    "\n",
    "## Object oriented programming 面向对象编程\n",
    "\n",
    "```class```关键字用来定义一个class(类)。\n",
    "\n",
    "之前我们学习的都是python自带的数据类型，class是我们自己定义的类型。\n",
    "\n",
    "- object和class之间的关系\n",
    "class是一个模板，我们可以把class类比成一个数据类型。object是class的一个实例，就好比a是一个int，我们可以把int类比成一个class,把a类比成一个object。\n",
    "\n",
    "- 什么是```self```?\n",
    "- 什么是```__init__```?\n",
    "- pass statement\n",
    "- 用dir inspect一个object\n",
    "\n",
    "\n"
   ]
  },
  {
   "cell_type": "markdown",
   "metadata": {},
   "source": [
    "# subclass(子类)\n",
    "\n",
    "## 什么是subclass\n",
    "\n",
    "subclass是base class的继承，一个subclass可以继承所有base class的field和method，在base class的基础上做拓展。\n",
    "\n",
    "\n",
    "- Abstract Base Class (abc)"
   ]
  },
  {
   "cell_type": "markdown",
   "metadata": {},
   "source": [
    "# Iterator and Generator\n",
    "\n",
    "## iterator\n",
    "\n"
   ]
  },
  {
   "cell_type": "markdown",
   "metadata": {
    "collapsed": true
   },
   "source": [
    "定义一个class的时候，如果我们在class中定义```__iter__```和```__next__```两个method就能把这个class变成一个iterator。\n"
   ]
  },
  {
   "cell_type": "markdown",
   "metadata": {},
   "source": [
    "## Generator\n",
    "\n"
   ]
  },
  {
   "cell_type": "markdown",
   "metadata": {},
   "source": [
    "还有一个function叫做zip"
   ]
  },
  {
   "cell_type": "markdown",
   "metadata": {},
   "source": [
    "# csv和json格式数据\n",
    "\n",
    "## csv(comma separated values)\n",
    "\n",
    "关于module csv\n",
    "\n",
    "- reader\n",
    "- writer"
   ]
  },
  {
   "cell_type": "markdown",
   "metadata": {},
   "source": [
    "## json (javascript object notation)\n",
    "\n",
    "关于module json\n",
    "\n",
    "- loads\n",
    "- load\n",
    "- dumps\n",
    "- dump\n"
   ]
  },
  {
   "cell_type": "code",
   "execution_count": 6,
   "metadata": {
    "collapsed": true
   },
   "outputs": [],
   "source": [
    "# 120min"
   ]
  }
 ],
 "metadata": {
  "kernelspec": {
   "display_name": "Python 3",
   "language": "python",
   "name": "python3"
  },
  "language_info": {
   "codemirror_mode": {
    "name": "ipython",
    "version": 3
   },
   "file_extension": ".py",
   "mimetype": "text/x-python",
   "name": "python",
   "nbconvert_exporter": "python",
   "pygments_lexer": "ipython3",
   "version": "3.6.1"
  }
 },
 "nbformat": 4,
 "nbformat_minor": 2
}
