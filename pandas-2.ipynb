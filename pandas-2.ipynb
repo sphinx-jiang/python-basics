{
 "cells": [
  {
   "cell_type": "markdown",
   "metadata": {},
   "source": [
    "# Pandas教程\n",
    "\n",
    "\n",
    "### 2017七月在线 机器学习线上集训 julyedu.com\n",
    "by 褚则伟 "
   ]
  },
  {
   "cell_type": "markdown",
   "metadata": {},
   "source": [
    "## 目录\n",
    "- Group by\n",
    "- Aggregate\n",
    "- concat\n",
    "- merge\n",
    "- join\n",
    "- bike project\n",
    "- stocks project\n",
    "- credit project"
   ]
  },
  {
   "cell_type": "markdown",
   "metadata": {},
   "source": [
    "## Group By\n",
    "\n",
    "### 2017七月在线 机器学习线上集训 julyedu.com"
   ]
  },
  {
   "cell_type": "markdown",
   "metadata": {},
   "source": [
    "举个栗子，假设我们现在有一张公司每个员工的收入流水。"
   ]
  },
  {
   "cell_type": "code",
   "execution_count": 2,
   "metadata": {
    "collapsed": true
   },
   "outputs": [],
   "source": [
    "import pandas as pd\n",
    "import numpy as np"
   ]
  },
  {
   "cell_type": "code",
   "execution_count": 3,
   "metadata": {},
   "outputs": [
    {
     "name": "stdout",
     "output_type": "stream",
     "text": [
      "   Bonus   Name  Salary  Year\n",
      "0   3000   July   10000  2016\n",
      "1   1000  Zewei    2000  2016\n",
      "2   1000  Zewei    4000  2016\n",
      "3   1200    Han    5000  2016\n",
      "4   4000   July   18000  2017\n",
      "5   2300   July   25000  2017\n",
      "6    500  Zewei    3000  2017\n",
      "7   1000   July    4000  2017\n"
     ]
    }
   ],
   "source": [
    "salaries = pd.DataFrame({\n",
    "    'Name': ['July', 'Zewei', 'Zewei', 'Han', 'July', 'July', 'Zewei', 'July'],\n",
    "    'Year': [2016,2016,2016,2016,2017,2017,2017,2017],\n",
    "    'Salary': [10000,2000,4000,5000,18000,25000,3000,4000],\n",
    "    'Bonus': [3000,1000,1000,1200,4000,2300,500,1000]\n",
    "})\n",
    "print(salaries)"
   ]
  },
  {
   "cell_type": "markdown",
   "metadata": {},
   "source": [
    "接下来我给大家演示一下什么叫做Group By"
   ]
  },
  {
   "cell_type": "code",
   "execution_count": 4,
   "metadata": {},
   "outputs": [
    {
     "data": {
      "text/plain": [
       "<pandas.core.groupby.DataFrameGroupBy object at 0x0000028A65830C88>"
      ]
     },
     "execution_count": 4,
     "metadata": {},
     "output_type": "execute_result"
    }
   ],
   "source": [
    "group_by_name = salaries.groupby('Name')\n",
    "group_by_name"
   ]
  },
  {
   "cell_type": "markdown",
   "metadata": {},
   "source": [
    "groupby构造了一个GroupBy object，我们可以对这个object做各种操作"
   ]
  },
  {
   "cell_type": "markdown",
   "metadata": {},
   "source": [
    "### groupby之后一般要做一些aggregate操作"
   ]
  },
  {
   "cell_type": "code",
   "execution_count": 5,
   "metadata": {},
   "outputs": [
    {
     "data": {
      "text/html": [
       "<div>\n",
       "<style>\n",
       "    .dataframe thead tr:only-child th {\n",
       "        text-align: right;\n",
       "    }\n",
       "\n",
       "    .dataframe thead th {\n",
       "        text-align: left;\n",
       "    }\n",
       "\n",
       "    .dataframe tbody tr th {\n",
       "        vertical-align: top;\n",
       "    }\n",
       "</style>\n",
       "<table border=\"1\" class=\"dataframe\">\n",
       "  <thead>\n",
       "    <tr style=\"text-align: right;\">\n",
       "      <th></th>\n",
       "      <th>Bonus</th>\n",
       "      <th>Salary</th>\n",
       "      <th>Year</th>\n",
       "    </tr>\n",
       "    <tr>\n",
       "      <th>Name</th>\n",
       "      <th></th>\n",
       "      <th></th>\n",
       "      <th></th>\n",
       "    </tr>\n",
       "  </thead>\n",
       "  <tbody>\n",
       "    <tr>\n",
       "      <th>Han</th>\n",
       "      <td>1200</td>\n",
       "      <td>5000</td>\n",
       "      <td>2016</td>\n",
       "    </tr>\n",
       "    <tr>\n",
       "      <th>July</th>\n",
       "      <td>10300</td>\n",
       "      <td>57000</td>\n",
       "      <td>8067</td>\n",
       "    </tr>\n",
       "    <tr>\n",
       "      <th>Zewei</th>\n",
       "      <td>2500</td>\n",
       "      <td>9000</td>\n",
       "      <td>6049</td>\n",
       "    </tr>\n",
       "  </tbody>\n",
       "</table>\n",
       "</div>"
      ],
      "text/plain": [
       "       Bonus  Salary  Year\n",
       "Name                      \n",
       "Han     1200    5000  2016\n",
       "July   10300   57000  8067\n",
       "Zewei   2500    9000  6049"
      ]
     },
     "execution_count": 5,
     "metadata": {},
     "output_type": "execute_result"
    }
   ],
   "source": [
    "group_by_name.sum()"
   ]
  },
  {
   "cell_type": "code",
   "execution_count": 6,
   "metadata": {},
   "outputs": [
    {
     "data": {
      "text/html": [
       "<div>\n",
       "<style>\n",
       "    .dataframe thead tr:only-child th {\n",
       "        text-align: right;\n",
       "    }\n",
       "\n",
       "    .dataframe thead th {\n",
       "        text-align: left;\n",
       "    }\n",
       "\n",
       "    .dataframe tbody tr th {\n",
       "        vertical-align: top;\n",
       "    }\n",
       "</style>\n",
       "<table border=\"1\" class=\"dataframe\">\n",
       "  <thead>\n",
       "    <tr style=\"text-align: right;\">\n",
       "      <th></th>\n",
       "      <th>Salary</th>\n",
       "      <th>Bonus</th>\n",
       "    </tr>\n",
       "    <tr>\n",
       "      <th>Name</th>\n",
       "      <th></th>\n",
       "      <th></th>\n",
       "    </tr>\n",
       "  </thead>\n",
       "  <tbody>\n",
       "    <tr>\n",
       "      <th>Han</th>\n",
       "      <td>5000</td>\n",
       "      <td>1200</td>\n",
       "    </tr>\n",
       "    <tr>\n",
       "      <th>July</th>\n",
       "      <td>57000</td>\n",
       "      <td>10300</td>\n",
       "    </tr>\n",
       "    <tr>\n",
       "      <th>Zewei</th>\n",
       "      <td>9000</td>\n",
       "      <td>2500</td>\n",
       "    </tr>\n",
       "  </tbody>\n",
       "</table>\n",
       "</div>"
      ],
      "text/plain": [
       "       Salary  Bonus\n",
       "Name                \n",
       "Han      5000   1200\n",
       "July    57000  10300\n",
       "Zewei    9000   2500"
      ]
     },
     "execution_count": 6,
     "metadata": {},
     "output_type": "execute_result"
    }
   ],
   "source": [
    "group_by_name[[\"Salary\", \"Bonus\"]].sum()"
   ]
  },
  {
   "cell_type": "markdown",
   "metadata": {},
   "source": [
    "默认会排序，也可以选择不排序"
   ]
  },
  {
   "cell_type": "code",
   "execution_count": 7,
   "metadata": {},
   "outputs": [
    {
     "data": {
      "text/html": [
       "<div>\n",
       "<style>\n",
       "    .dataframe thead tr:only-child th {\n",
       "        text-align: right;\n",
       "    }\n",
       "\n",
       "    .dataframe thead th {\n",
       "        text-align: left;\n",
       "    }\n",
       "\n",
       "    .dataframe tbody tr th {\n",
       "        vertical-align: top;\n",
       "    }\n",
       "</style>\n",
       "<table border=\"1\" class=\"dataframe\">\n",
       "  <thead>\n",
       "    <tr style=\"text-align: right;\">\n",
       "      <th></th>\n",
       "      <th>Bonus</th>\n",
       "      <th>Salary</th>\n",
       "      <th>Year</th>\n",
       "    </tr>\n",
       "    <tr>\n",
       "      <th>Name</th>\n",
       "      <th></th>\n",
       "      <th></th>\n",
       "      <th></th>\n",
       "    </tr>\n",
       "  </thead>\n",
       "  <tbody>\n",
       "    <tr>\n",
       "      <th>July</th>\n",
       "      <td>10300</td>\n",
       "      <td>57000</td>\n",
       "      <td>8067</td>\n",
       "    </tr>\n",
       "    <tr>\n",
       "      <th>Zewei</th>\n",
       "      <td>2500</td>\n",
       "      <td>9000</td>\n",
       "      <td>6049</td>\n",
       "    </tr>\n",
       "    <tr>\n",
       "      <th>Han</th>\n",
       "      <td>1200</td>\n",
       "      <td>5000</td>\n",
       "      <td>2016</td>\n",
       "    </tr>\n",
       "  </tbody>\n",
       "</table>\n",
       "</div>"
      ],
      "text/plain": [
       "       Bonus  Salary  Year\n",
       "Name                      \n",
       "July   10300   57000  8067\n",
       "Zewei   2500    9000  6049\n",
       "Han     1200    5000  2016"
      ]
     },
     "execution_count": 7,
     "metadata": {},
     "output_type": "execute_result"
    }
   ],
   "source": [
    "salaries.groupby('Name', sort=False).sum()"
   ]
  },
  {
   "cell_type": "markdown",
   "metadata": {},
   "source": [
    "也可以这么写"
   ]
  },
  {
   "cell_type": "code",
   "execution_count": 8,
   "metadata": {
    "scrolled": false
   },
   "outputs": [
    {
     "data": {
      "text/html": [
       "<div>\n",
       "<style>\n",
       "    .dataframe thead tr:only-child th {\n",
       "        text-align: right;\n",
       "    }\n",
       "\n",
       "    .dataframe thead th {\n",
       "        text-align: left;\n",
       "    }\n",
       "\n",
       "    .dataframe tbody tr th {\n",
       "        vertical-align: top;\n",
       "    }\n",
       "</style>\n",
       "<table border=\"1\" class=\"dataframe\">\n",
       "  <thead>\n",
       "    <tr style=\"text-align: right;\">\n",
       "      <th></th>\n",
       "      <th>Bonus</th>\n",
       "      <th>Salary</th>\n",
       "      <th>Year</th>\n",
       "    </tr>\n",
       "    <tr>\n",
       "      <th>Name</th>\n",
       "      <th></th>\n",
       "      <th></th>\n",
       "      <th></th>\n",
       "    </tr>\n",
       "  </thead>\n",
       "  <tbody>\n",
       "    <tr>\n",
       "      <th>Han</th>\n",
       "      <td>1200</td>\n",
       "      <td>5000</td>\n",
       "      <td>2016</td>\n",
       "    </tr>\n",
       "    <tr>\n",
       "      <th>July</th>\n",
       "      <td>10300</td>\n",
       "      <td>57000</td>\n",
       "      <td>8067</td>\n",
       "    </tr>\n",
       "    <tr>\n",
       "      <th>Zewei</th>\n",
       "      <td>2500</td>\n",
       "      <td>9000</td>\n",
       "      <td>6049</td>\n",
       "    </tr>\n",
       "  </tbody>\n",
       "</table>\n",
       "</div>"
      ],
      "text/plain": [
       "       Bonus  Salary  Year\n",
       "Name                      \n",
       "Han     1200    5000  2016\n",
       "July   10300   57000  8067\n",
       "Zewei   2500    9000  6049"
      ]
     },
     "execution_count": 8,
     "metadata": {},
     "output_type": "execute_result"
    }
   ],
   "source": [
    "group_by_name.aggregate(sum)"
   ]
  },
  {
   "cell_type": "markdown",
   "metadata": {},
   "source": [
    "group by的attributes"
   ]
  },
  {
   "cell_type": "code",
   "execution_count": 9,
   "metadata": {},
   "outputs": [
    {
     "name": "stdout",
     "output_type": "stream",
     "text": [
      "{'Han': Int64Index([3], dtype='int64'), 'July': Int64Index([0, 4, 5, 7], dtype='int64'), 'Zewei': Int64Index([1, 2, 6], dtype='int64')}\n",
      "3\n"
     ]
    }
   ],
   "source": [
    "print(group_by_name.groups)\n",
    "print(len(group_by_name))"
   ]
  },
  {
   "cell_type": "markdown",
   "metadata": {},
   "source": [
    "用多个列groupby"
   ]
  },
  {
   "cell_type": "code",
   "execution_count": 11,
   "metadata": {
    "scrolled": true
   },
   "outputs": [
    {
     "data": {
      "text/html": [
       "<div>\n",
       "<style>\n",
       "    .dataframe thead tr:only-child th {\n",
       "        text-align: right;\n",
       "    }\n",
       "\n",
       "    .dataframe thead th {\n",
       "        text-align: left;\n",
       "    }\n",
       "\n",
       "    .dataframe tbody tr th {\n",
       "        vertical-align: top;\n",
       "    }\n",
       "</style>\n",
       "<table border=\"1\" class=\"dataframe\">\n",
       "  <thead>\n",
       "    <tr style=\"text-align: right;\">\n",
       "      <th></th>\n",
       "      <th></th>\n",
       "      <th>Bonus</th>\n",
       "      <th>Salary</th>\n",
       "    </tr>\n",
       "    <tr>\n",
       "      <th>Name</th>\n",
       "      <th>Year</th>\n",
       "      <th></th>\n",
       "      <th></th>\n",
       "    </tr>\n",
       "  </thead>\n",
       "  <tbody>\n",
       "    <tr>\n",
       "      <th>Han</th>\n",
       "      <th>2016</th>\n",
       "      <td>1200</td>\n",
       "      <td>5000</td>\n",
       "    </tr>\n",
       "    <tr>\n",
       "      <th rowspan=\"2\" valign=\"top\">July</th>\n",
       "      <th>2016</th>\n",
       "      <td>3000</td>\n",
       "      <td>10000</td>\n",
       "    </tr>\n",
       "    <tr>\n",
       "      <th>2017</th>\n",
       "      <td>7300</td>\n",
       "      <td>47000</td>\n",
       "    </tr>\n",
       "    <tr>\n",
       "      <th rowspan=\"2\" valign=\"top\">Zewei</th>\n",
       "      <th>2016</th>\n",
       "      <td>2000</td>\n",
       "      <td>6000</td>\n",
       "    </tr>\n",
       "    <tr>\n",
       "      <th>2017</th>\n",
       "      <td>500</td>\n",
       "      <td>3000</td>\n",
       "    </tr>\n",
       "  </tbody>\n",
       "</table>\n",
       "</div>"
      ],
      "text/plain": [
       "            Bonus  Salary\n",
       "Name  Year               \n",
       "Han   2016   1200    5000\n",
       "July  2016   3000   10000\n",
       "      2017   7300   47000\n",
       "Zewei 2016   2000    6000\n",
       "      2017    500    3000"
      ]
     },
     "execution_count": 11,
     "metadata": {},
     "output_type": "execute_result"
    }
   ],
   "source": [
    "group_by_name_year = salaries.groupby(['Name', 'Year'])\n",
    "group_by_name_year.sum()"
   ]
  },
  {
   "cell_type": "markdown",
   "metadata": {},
   "source": [
    "除了sum之外，我们再来尝试一下size,mean,median "
   ]
  },
  {
   "cell_type": "code",
   "execution_count": 12,
   "metadata": {},
   "outputs": [
    {
     "data": {
      "text/plain": [
       "Name   Year\n",
       "Han    2016    1\n",
       "July   2016    1\n",
       "       2017    3\n",
       "Zewei  2016    2\n",
       "       2017    1\n",
       "dtype: int64"
      ]
     },
     "execution_count": 12,
     "metadata": {},
     "output_type": "execute_result"
    }
   ],
   "source": [
    "group_by_name_year.size()"
   ]
  },
  {
   "cell_type": "code",
   "execution_count": 13,
   "metadata": {
    "scrolled": true
   },
   "outputs": [
    {
     "data": {
      "text/html": [
       "<div>\n",
       "<style>\n",
       "    .dataframe thead tr:only-child th {\n",
       "        text-align: right;\n",
       "    }\n",
       "\n",
       "    .dataframe thead th {\n",
       "        text-align: left;\n",
       "    }\n",
       "\n",
       "    .dataframe tbody tr th {\n",
       "        vertical-align: top;\n",
       "    }\n",
       "</style>\n",
       "<table border=\"1\" class=\"dataframe\">\n",
       "  <thead>\n",
       "    <tr style=\"text-align: right;\">\n",
       "      <th></th>\n",
       "      <th>Bonus</th>\n",
       "      <th>Salary</th>\n",
       "      <th>Year</th>\n",
       "    </tr>\n",
       "    <tr>\n",
       "      <th>Name</th>\n",
       "      <th></th>\n",
       "      <th></th>\n",
       "      <th></th>\n",
       "    </tr>\n",
       "  </thead>\n",
       "  <tbody>\n",
       "    <tr>\n",
       "      <th>Han</th>\n",
       "      <td>1200.000000</td>\n",
       "      <td>5000.0</td>\n",
       "      <td>2016.000000</td>\n",
       "    </tr>\n",
       "    <tr>\n",
       "      <th>July</th>\n",
       "      <td>2575.000000</td>\n",
       "      <td>14250.0</td>\n",
       "      <td>2016.750000</td>\n",
       "    </tr>\n",
       "    <tr>\n",
       "      <th>Zewei</th>\n",
       "      <td>833.333333</td>\n",
       "      <td>3000.0</td>\n",
       "      <td>2016.333333</td>\n",
       "    </tr>\n",
       "  </tbody>\n",
       "</table>\n",
       "</div>"
      ],
      "text/plain": [
       "             Bonus   Salary         Year\n",
       "Name                                    \n",
       "Han    1200.000000   5000.0  2016.000000\n",
       "July   2575.000000  14250.0  2016.750000\n",
       "Zewei   833.333333   3000.0  2016.333333"
      ]
     },
     "execution_count": 13,
     "metadata": {},
     "output_type": "execute_result"
    }
   ],
   "source": [
    "group_by_name.mean()"
   ]
  },
  {
   "cell_type": "code",
   "execution_count": 14,
   "metadata": {
    "scrolled": true
   },
   "outputs": [
    {
     "data": {
      "text/html": [
       "<div>\n",
       "<style>\n",
       "    .dataframe thead tr:only-child th {\n",
       "        text-align: right;\n",
       "    }\n",
       "\n",
       "    .dataframe thead th {\n",
       "        text-align: left;\n",
       "    }\n",
       "\n",
       "    .dataframe tbody tr th {\n",
       "        vertical-align: top;\n",
       "    }\n",
       "</style>\n",
       "<table border=\"1\" class=\"dataframe\">\n",
       "  <thead>\n",
       "    <tr style=\"text-align: right;\">\n",
       "      <th></th>\n",
       "      <th>Bonus</th>\n",
       "      <th>Salary</th>\n",
       "      <th>Year</th>\n",
       "    </tr>\n",
       "    <tr>\n",
       "      <th>Name</th>\n",
       "      <th></th>\n",
       "      <th></th>\n",
       "      <th></th>\n",
       "    </tr>\n",
       "  </thead>\n",
       "  <tbody>\n",
       "    <tr>\n",
       "      <th>Han</th>\n",
       "      <td>1200</td>\n",
       "      <td>5000</td>\n",
       "      <td>2016</td>\n",
       "    </tr>\n",
       "    <tr>\n",
       "      <th>July</th>\n",
       "      <td>2650</td>\n",
       "      <td>14000</td>\n",
       "      <td>2017</td>\n",
       "    </tr>\n",
       "    <tr>\n",
       "      <th>Zewei</th>\n",
       "      <td>1000</td>\n",
       "      <td>3000</td>\n",
       "      <td>2016</td>\n",
       "    </tr>\n",
       "  </tbody>\n",
       "</table>\n",
       "</div>"
      ],
      "text/plain": [
       "       Bonus  Salary  Year\n",
       "Name                      \n",
       "Han     1200    5000  2016\n",
       "July    2650   14000  2017\n",
       "Zewei   1000    3000  2016"
      ]
     },
     "execution_count": 14,
     "metadata": {},
     "output_type": "execute_result"
    }
   ],
   "source": [
    "group_by_name.median()"
   ]
  },
  {
   "cell_type": "code",
   "execution_count": 15,
   "metadata": {},
   "outputs": [
    {
     "data": {
      "text/html": [
       "<div>\n",
       "<style>\n",
       "    .dataframe thead tr:only-child th {\n",
       "        text-align: right;\n",
       "    }\n",
       "\n",
       "    .dataframe thead th {\n",
       "        text-align: left;\n",
       "    }\n",
       "\n",
       "    .dataframe tbody tr th {\n",
       "        vertical-align: top;\n",
       "    }\n",
       "</style>\n",
       "<table border=\"1\" class=\"dataframe\">\n",
       "  <thead>\n",
       "    <tr>\n",
       "      <th></th>\n",
       "      <th colspan=\"8\" halign=\"left\">Bonus</th>\n",
       "      <th colspan=\"5\" halign=\"left\">Salary</th>\n",
       "      <th colspan=\"8\" halign=\"left\">Year</th>\n",
       "    </tr>\n",
       "    <tr>\n",
       "      <th></th>\n",
       "      <th>count</th>\n",
       "      <th>mean</th>\n",
       "      <th>std</th>\n",
       "      <th>min</th>\n",
       "      <th>25%</th>\n",
       "      <th>50%</th>\n",
       "      <th>75%</th>\n",
       "      <th>max</th>\n",
       "      <th>count</th>\n",
       "      <th>mean</th>\n",
       "      <th>...</th>\n",
       "      <th>75%</th>\n",
       "      <th>max</th>\n",
       "      <th>count</th>\n",
       "      <th>mean</th>\n",
       "      <th>std</th>\n",
       "      <th>min</th>\n",
       "      <th>25%</th>\n",
       "      <th>50%</th>\n",
       "      <th>75%</th>\n",
       "      <th>max</th>\n",
       "    </tr>\n",
       "    <tr>\n",
       "      <th>Name</th>\n",
       "      <th></th>\n",
       "      <th></th>\n",
       "      <th></th>\n",
       "      <th></th>\n",
       "      <th></th>\n",
       "      <th></th>\n",
       "      <th></th>\n",
       "      <th></th>\n",
       "      <th></th>\n",
       "      <th></th>\n",
       "      <th></th>\n",
       "      <th></th>\n",
       "      <th></th>\n",
       "      <th></th>\n",
       "      <th></th>\n",
       "      <th></th>\n",
       "      <th></th>\n",
       "      <th></th>\n",
       "      <th></th>\n",
       "      <th></th>\n",
       "      <th></th>\n",
       "    </tr>\n",
       "  </thead>\n",
       "  <tbody>\n",
       "    <tr>\n",
       "      <th>Han</th>\n",
       "      <td>1.0</td>\n",
       "      <td>1200.000000</td>\n",
       "      <td>NaN</td>\n",
       "      <td>1200.0</td>\n",
       "      <td>1200.0</td>\n",
       "      <td>1200.0</td>\n",
       "      <td>1200.0</td>\n",
       "      <td>1200.0</td>\n",
       "      <td>1.0</td>\n",
       "      <td>5000.0</td>\n",
       "      <td>...</td>\n",
       "      <td>5000.0</td>\n",
       "      <td>5000.0</td>\n",
       "      <td>1.0</td>\n",
       "      <td>2016.000000</td>\n",
       "      <td>NaN</td>\n",
       "      <td>2016.0</td>\n",
       "      <td>2016.00</td>\n",
       "      <td>2016.0</td>\n",
       "      <td>2016.0</td>\n",
       "      <td>2016.0</td>\n",
       "    </tr>\n",
       "    <tr>\n",
       "      <th>July</th>\n",
       "      <td>4.0</td>\n",
       "      <td>2575.000000</td>\n",
       "      <td>1260.621540</td>\n",
       "      <td>1000.0</td>\n",
       "      <td>1975.0</td>\n",
       "      <td>2650.0</td>\n",
       "      <td>3250.0</td>\n",
       "      <td>4000.0</td>\n",
       "      <td>4.0</td>\n",
       "      <td>14250.0</td>\n",
       "      <td>...</td>\n",
       "      <td>19750.0</td>\n",
       "      <td>25000.0</td>\n",
       "      <td>4.0</td>\n",
       "      <td>2016.750000</td>\n",
       "      <td>0.50000</td>\n",
       "      <td>2016.0</td>\n",
       "      <td>2016.75</td>\n",
       "      <td>2017.0</td>\n",
       "      <td>2017.0</td>\n",
       "      <td>2017.0</td>\n",
       "    </tr>\n",
       "    <tr>\n",
       "      <th>Zewei</th>\n",
       "      <td>3.0</td>\n",
       "      <td>833.333333</td>\n",
       "      <td>288.675135</td>\n",
       "      <td>500.0</td>\n",
       "      <td>750.0</td>\n",
       "      <td>1000.0</td>\n",
       "      <td>1000.0</td>\n",
       "      <td>1000.0</td>\n",
       "      <td>3.0</td>\n",
       "      <td>3000.0</td>\n",
       "      <td>...</td>\n",
       "      <td>3500.0</td>\n",
       "      <td>4000.0</td>\n",
       "      <td>3.0</td>\n",
       "      <td>2016.333333</td>\n",
       "      <td>0.57735</td>\n",
       "      <td>2016.0</td>\n",
       "      <td>2016.00</td>\n",
       "      <td>2016.0</td>\n",
       "      <td>2016.5</td>\n",
       "      <td>2017.0</td>\n",
       "    </tr>\n",
       "  </tbody>\n",
       "</table>\n",
       "<p>3 rows × 24 columns</p>\n",
       "</div>"
      ],
      "text/plain": [
       "      Bonus                                                                    \\\n",
       "      count         mean          std     min     25%     50%     75%     max   \n",
       "Name                                                                            \n",
       "Han     1.0  1200.000000          NaN  1200.0  1200.0  1200.0  1200.0  1200.0   \n",
       "July    4.0  2575.000000  1260.621540  1000.0  1975.0  2650.0  3250.0  4000.0   \n",
       "Zewei   3.0   833.333333   288.675135   500.0   750.0  1000.0  1000.0  1000.0   \n",
       "\n",
       "      Salary            ...                      Year                        \\\n",
       "       count     mean   ...        75%      max count         mean      std   \n",
       "Name                    ...                                                   \n",
       "Han      1.0   5000.0   ...     5000.0   5000.0   1.0  2016.000000      NaN   \n",
       "July     4.0  14250.0   ...    19750.0  25000.0   4.0  2016.750000  0.50000   \n",
       "Zewei    3.0   3000.0   ...     3500.0   4000.0   3.0  2016.333333  0.57735   \n",
       "\n",
       "                                                \n",
       "          min      25%     50%     75%     max  \n",
       "Name                                            \n",
       "Han    2016.0  2016.00  2016.0  2016.0  2016.0  \n",
       "July   2016.0  2016.75  2017.0  2017.0  2017.0  \n",
       "Zewei  2016.0  2016.00  2016.0  2016.5  2017.0  \n",
       "\n",
       "[3 rows x 24 columns]"
      ]
     },
     "execution_count": 15,
     "metadata": {},
     "output_type": "execute_result"
    }
   ],
   "source": [
    "group_by_name.describe()"
   ]
  },
  {
   "cell_type": "markdown",
   "metadata": {},
   "source": [
    "### iterate GroupBy object"
   ]
  },
  {
   "cell_type": "code",
   "execution_count": 16,
   "metadata": {},
   "outputs": [
    {
     "name": "stdout",
     "output_type": "stream",
     "text": [
      "Han\n",
      "   Bonus Name  Salary  Year\n",
      "3   1200  Han    5000  2016\n",
      "July\n",
      "   Bonus  Name  Salary  Year\n",
      "0   3000  July   10000  2016\n",
      "4   4000  July   18000  2017\n",
      "5   2300  July   25000  2017\n",
      "7   1000  July    4000  2017\n",
      "Zewei\n",
      "   Bonus   Name  Salary  Year\n",
      "1   1000  Zewei    2000  2016\n",
      "2   1000  Zewei    4000  2016\n",
      "6    500  Zewei    3000  2017\n"
     ]
    }
   ],
   "source": [
    "for name, group in group_by_name:\n",
    "    print(name)\n",
    "    print(group)"
   ]
  },
  {
   "cell_type": "markdown",
   "metadata": {},
   "source": [
    "选择一个group"
   ]
  },
  {
   "cell_type": "code",
   "execution_count": 17,
   "metadata": {},
   "outputs": [
    {
     "name": "stdout",
     "output_type": "stream",
     "text": [
      "   Bonus  Salary  Year\n",
      "1   1000    2000  2016\n",
      "2   1000    4000  2016\n",
      "6    500    3000  2017\n"
     ]
    },
    {
     "data": {
      "text/plain": [
       "pandas.core.frame.DataFrame"
      ]
     },
     "execution_count": 17,
     "metadata": {},
     "output_type": "execute_result"
    }
   ],
   "source": [
    "print(group_by_name.get_group(\"Zewei\"))\n",
    "type(group_by_name.get_group(\"Zewei\"))\n"
   ]
  },
  {
   "cell_type": "code",
   "execution_count": 19,
   "metadata": {
    "scrolled": true
   },
   "outputs": [
    {
     "data": {
      "text/html": [
       "<div>\n",
       "<style>\n",
       "    .dataframe thead tr:only-child th {\n",
       "        text-align: right;\n",
       "    }\n",
       "\n",
       "    .dataframe thead th {\n",
       "        text-align: left;\n",
       "    }\n",
       "\n",
       "    .dataframe tbody tr th {\n",
       "        vertical-align: top;\n",
       "    }\n",
       "</style>\n",
       "<table border=\"1\" class=\"dataframe\">\n",
       "  <thead>\n",
       "    <tr>\n",
       "      <th></th>\n",
       "      <th colspan=\"3\" halign=\"left\">Bonus</th>\n",
       "      <th colspan=\"3\" halign=\"left\">Salary</th>\n",
       "    </tr>\n",
       "    <tr>\n",
       "      <th></th>\n",
       "      <th>sum</th>\n",
       "      <th>mean</th>\n",
       "      <th>std</th>\n",
       "      <th>sum</th>\n",
       "      <th>mean</th>\n",
       "      <th>std</th>\n",
       "    </tr>\n",
       "    <tr>\n",
       "      <th>Name</th>\n",
       "      <th></th>\n",
       "      <th></th>\n",
       "      <th></th>\n",
       "      <th></th>\n",
       "      <th></th>\n",
       "      <th></th>\n",
       "    </tr>\n",
       "  </thead>\n",
       "  <tbody>\n",
       "    <tr>\n",
       "      <th>Han</th>\n",
       "      <td>1200</td>\n",
       "      <td>1200.000000</td>\n",
       "      <td>NaN</td>\n",
       "      <td>5000</td>\n",
       "      <td>5000</td>\n",
       "      <td>NaN</td>\n",
       "    </tr>\n",
       "    <tr>\n",
       "      <th>July</th>\n",
       "      <td>10300</td>\n",
       "      <td>2575.000000</td>\n",
       "      <td>1260.621540</td>\n",
       "      <td>57000</td>\n",
       "      <td>14250</td>\n",
       "      <td>9178.779875</td>\n",
       "    </tr>\n",
       "    <tr>\n",
       "      <th>Zewei</th>\n",
       "      <td>2500</td>\n",
       "      <td>833.333333</td>\n",
       "      <td>288.675135</td>\n",
       "      <td>9000</td>\n",
       "      <td>3000</td>\n",
       "      <td>1000.000000</td>\n",
       "    </tr>\n",
       "  </tbody>\n",
       "</table>\n",
       "</div>"
      ],
      "text/plain": [
       "       Bonus                           Salary                    \n",
       "         sum         mean          std    sum   mean          std\n",
       "Name                                                             \n",
       "Han     1200  1200.000000          NaN   5000   5000          NaN\n",
       "July   10300  2575.000000  1260.621540  57000  14250  9178.779875\n",
       "Zewei   2500   833.333333   288.675135   9000   3000  1000.000000"
      ]
     },
     "execution_count": 19,
     "metadata": {},
     "output_type": "execute_result"
    }
   ],
   "source": [
    "group_by_name[[\"Bonus\", \"Salary\"]].agg([np.sum, np.mean, np.std])"
   ]
  },
  {
   "cell_type": "markdown",
   "metadata": {},
   "source": [
    "### transform"
   ]
  },
  {
   "cell_type": "code",
   "execution_count": 20,
   "metadata": {},
   "outputs": [
    {
     "data": {
      "text/html": [
       "<div>\n",
       "<style>\n",
       "    .dataframe thead tr:only-child th {\n",
       "        text-align: right;\n",
       "    }\n",
       "\n",
       "    .dataframe thead th {\n",
       "        text-align: left;\n",
       "    }\n",
       "\n",
       "    .dataframe tbody tr th {\n",
       "        vertical-align: top;\n",
       "    }\n",
       "</style>\n",
       "<table border=\"1\" class=\"dataframe\">\n",
       "  <thead>\n",
       "    <tr style=\"text-align: right;\">\n",
       "      <th></th>\n",
       "      <th>Open</th>\n",
       "      <th>High</th>\n",
       "      <th>Low</th>\n",
       "      <th>Close</th>\n",
       "      <th>Adj Close</th>\n",
       "      <th>Volume</th>\n",
       "    </tr>\n",
       "    <tr>\n",
       "      <th>Date</th>\n",
       "      <th></th>\n",
       "      <th></th>\n",
       "      <th></th>\n",
       "      <th></th>\n",
       "      <th></th>\n",
       "      <th></th>\n",
       "    </tr>\n",
       "  </thead>\n",
       "  <tbody>\n",
       "    <tr>\n",
       "      <th>1999-01-22</th>\n",
       "      <td>1.750000</td>\n",
       "      <td>1.953125</td>\n",
       "      <td>1.552083</td>\n",
       "      <td>1.640625</td>\n",
       "      <td>1.523430</td>\n",
       "      <td>67867200</td>\n",
       "    </tr>\n",
       "    <tr>\n",
       "      <th>1999-01-25</th>\n",
       "      <td>1.770833</td>\n",
       "      <td>1.833333</td>\n",
       "      <td>1.640625</td>\n",
       "      <td>1.812500</td>\n",
       "      <td>1.683028</td>\n",
       "      <td>12762000</td>\n",
       "    </tr>\n",
       "    <tr>\n",
       "      <th>1999-01-26</th>\n",
       "      <td>1.833333</td>\n",
       "      <td>1.869792</td>\n",
       "      <td>1.645833</td>\n",
       "      <td>1.671875</td>\n",
       "      <td>1.552448</td>\n",
       "      <td>8580000</td>\n",
       "    </tr>\n",
       "    <tr>\n",
       "      <th>1999-01-27</th>\n",
       "      <td>1.677083</td>\n",
       "      <td>1.718750</td>\n",
       "      <td>1.583333</td>\n",
       "      <td>1.666667</td>\n",
       "      <td>1.547611</td>\n",
       "      <td>6109200</td>\n",
       "    </tr>\n",
       "    <tr>\n",
       "      <th>1999-01-28</th>\n",
       "      <td>1.666667</td>\n",
       "      <td>1.677083</td>\n",
       "      <td>1.651042</td>\n",
       "      <td>1.661458</td>\n",
       "      <td>1.542776</td>\n",
       "      <td>5688000</td>\n",
       "    </tr>\n",
       "  </tbody>\n",
       "</table>\n",
       "</div>"
      ],
      "text/plain": [
       "                Open      High       Low     Close  Adj Close    Volume\n",
       "Date                                                                   \n",
       "1999-01-22  1.750000  1.953125  1.552083  1.640625   1.523430  67867200\n",
       "1999-01-25  1.770833  1.833333  1.640625  1.812500   1.683028  12762000\n",
       "1999-01-26  1.833333  1.869792  1.645833  1.671875   1.552448   8580000\n",
       "1999-01-27  1.677083  1.718750  1.583333  1.666667   1.547611   6109200\n",
       "1999-01-28  1.666667  1.677083  1.651042  1.661458   1.542776   5688000"
      ]
     },
     "execution_count": 20,
     "metadata": {},
     "output_type": "execute_result"
    }
   ],
   "source": [
    "nvda = pd.read_csv(\"data/NVDA.csv\", index_col=0, parse_dates=[\"Date\"])\n",
    "nvda.head()"
   ]
  },
  {
   "cell_type": "code",
   "execution_count": 21,
   "metadata": {
    "collapsed": true
   },
   "outputs": [],
   "source": [
    "key = lambda x: x.year"
   ]
  },
  {
   "cell_type": "code",
   "execution_count": 22,
   "metadata": {
    "scrolled": true
   },
   "outputs": [
    {
     "data": {
      "text/html": [
       "<div>\n",
       "<style>\n",
       "    .dataframe thead tr:only-child th {\n",
       "        text-align: right;\n",
       "    }\n",
       "\n",
       "    .dataframe thead th {\n",
       "        text-align: left;\n",
       "    }\n",
       "\n",
       "    .dataframe tbody tr th {\n",
       "        vertical-align: top;\n",
       "    }\n",
       "</style>\n",
       "<table border=\"1\" class=\"dataframe\">\n",
       "  <thead>\n",
       "    <tr>\n",
       "      <th></th>\n",
       "      <th colspan=\"2\" halign=\"left\">Open</th>\n",
       "      <th colspan=\"2\" halign=\"left\">High</th>\n",
       "      <th colspan=\"2\" halign=\"left\">Low</th>\n",
       "      <th colspan=\"2\" halign=\"left\">Close</th>\n",
       "      <th colspan=\"2\" halign=\"left\">Adj Close</th>\n",
       "      <th colspan=\"2\" halign=\"left\">Volume</th>\n",
       "    </tr>\n",
       "    <tr>\n",
       "      <th></th>\n",
       "      <th>mean</th>\n",
       "      <th>std</th>\n",
       "      <th>mean</th>\n",
       "      <th>std</th>\n",
       "      <th>mean</th>\n",
       "      <th>std</th>\n",
       "      <th>mean</th>\n",
       "      <th>std</th>\n",
       "      <th>mean</th>\n",
       "      <th>std</th>\n",
       "      <th>mean</th>\n",
       "      <th>std</th>\n",
       "    </tr>\n",
       "  </thead>\n",
       "  <tbody>\n",
       "    <tr>\n",
       "      <th>1999</th>\n",
       "      <td>1.950782</td>\n",
       "      <td>0.588882</td>\n",
       "      <td>2.007317</td>\n",
       "      <td>0.614302</td>\n",
       "      <td>1.883559</td>\n",
       "      <td>0.571658</td>\n",
       "      <td>1.947230</td>\n",
       "      <td>0.601041</td>\n",
       "      <td>1.808134</td>\n",
       "      <td>0.558107</td>\n",
       "      <td>6.433220e+06</td>\n",
       "      <td>8.142949e+06</td>\n",
       "    </tr>\n",
       "    <tr>\n",
       "      <th>2000</th>\n",
       "      <td>8.781084</td>\n",
       "      <td>2.999908</td>\n",
       "      <td>9.222697</td>\n",
       "      <td>3.114186</td>\n",
       "      <td>8.360522</td>\n",
       "      <td>2.904761</td>\n",
       "      <td>8.778826</td>\n",
       "      <td>3.013104</td>\n",
       "      <td>8.151729</td>\n",
       "      <td>2.797869</td>\n",
       "      <td>1.104182e+07</td>\n",
       "      <td>7.985374e+06</td>\n",
       "    </tr>\n",
       "    <tr>\n",
       "      <th>2001</th>\n",
       "      <td>13.091254</td>\n",
       "      <td>3.839777</td>\n",
       "      <td>13.600750</td>\n",
       "      <td>3.829838</td>\n",
       "      <td>12.680548</td>\n",
       "      <td>3.830944</td>\n",
       "      <td>13.181552</td>\n",
       "      <td>3.833637</td>\n",
       "      <td>12.239956</td>\n",
       "      <td>3.559789</td>\n",
       "      <td>2.782387e+07</td>\n",
       "      <td>1.384318e+07</td>\n",
       "    </tr>\n",
       "    <tr>\n",
       "      <th>2002</th>\n",
       "      <td>9.690344</td>\n",
       "      <td>6.561287</td>\n",
       "      <td>9.955093</td>\n",
       "      <td>6.664226</td>\n",
       "      <td>9.344391</td>\n",
       "      <td>6.375212</td>\n",
       "      <td>9.614749</td>\n",
       "      <td>6.519053</td>\n",
       "      <td>8.927940</td>\n",
       "      <td>6.053379</td>\n",
       "      <td>3.168655e+07</td>\n",
       "      <td>1.558742e+07</td>\n",
       "    </tr>\n",
       "    <tr>\n",
       "      <th>2003</th>\n",
       "      <td>5.902434</td>\n",
       "      <td>1.461862</td>\n",
       "      <td>6.042659</td>\n",
       "      <td>1.491260</td>\n",
       "      <td>5.764960</td>\n",
       "      <td>1.423422</td>\n",
       "      <td>5.900344</td>\n",
       "      <td>1.459852</td>\n",
       "      <td>5.478865</td>\n",
       "      <td>1.355570</td>\n",
       "      <td>2.430220e+07</td>\n",
       "      <td>1.899657e+07</td>\n",
       "    </tr>\n",
       "  </tbody>\n",
       "</table>\n",
       "</div>"
      ],
      "text/plain": [
       "           Open                 High                  Low            \\\n",
       "           mean       std       mean       std       mean       std   \n",
       "1999   1.950782  0.588882   2.007317  0.614302   1.883559  0.571658   \n",
       "2000   8.781084  2.999908   9.222697  3.114186   8.360522  2.904761   \n",
       "2001  13.091254  3.839777  13.600750  3.829838  12.680548  3.830944   \n",
       "2002   9.690344  6.561287   9.955093  6.664226   9.344391  6.375212   \n",
       "2003   5.902434  1.461862   6.042659  1.491260   5.764960  1.423422   \n",
       "\n",
       "          Close            Adj Close                  Volume                \n",
       "           mean       std       mean       std          mean           std  \n",
       "1999   1.947230  0.601041   1.808134  0.558107  6.433220e+06  8.142949e+06  \n",
       "2000   8.778826  3.013104   8.151729  2.797869  1.104182e+07  7.985374e+06  \n",
       "2001  13.181552  3.833637  12.239956  3.559789  2.782387e+07  1.384318e+07  \n",
       "2002   9.614749  6.519053   8.927940  6.053379  3.168655e+07  1.558742e+07  \n",
       "2003   5.900344  1.459852   5.478865  1.355570  2.430220e+07  1.899657e+07  "
      ]
     },
     "execution_count": 22,
     "metadata": {},
     "output_type": "execute_result"
    }
   ],
   "source": [
    "nvda.groupby(key).agg([np.mean, np.std]).head()"
   ]
  },
  {
   "cell_type": "code",
   "execution_count": 24,
   "metadata": {
    "collapsed": true
   },
   "outputs": [],
   "source": [
    "zscore = lambda x: (x-x.mean())/x.std()"
   ]
  },
  {
   "cell_type": "code",
   "execution_count": 28,
   "metadata": {},
   "outputs": [
    {
     "data": {
      "text/html": [
       "<div>\n",
       "<style>\n",
       "    .dataframe thead tr:only-child th {\n",
       "        text-align: right;\n",
       "    }\n",
       "\n",
       "    .dataframe thead th {\n",
       "        text-align: left;\n",
       "    }\n",
       "\n",
       "    .dataframe tbody tr th {\n",
       "        vertical-align: top;\n",
       "    }\n",
       "</style>\n",
       "<table border=\"1\" class=\"dataframe\">\n",
       "  <thead>\n",
       "    <tr style=\"text-align: right;\">\n",
       "      <th></th>\n",
       "      <th>Open</th>\n",
       "      <th>High</th>\n",
       "      <th>Low</th>\n",
       "      <th>Close</th>\n",
       "      <th>Adj Close</th>\n",
       "      <th>Volume</th>\n",
       "    </tr>\n",
       "    <tr>\n",
       "      <th>Date</th>\n",
       "      <th></th>\n",
       "      <th></th>\n",
       "      <th></th>\n",
       "      <th></th>\n",
       "      <th></th>\n",
       "      <th></th>\n",
       "    </tr>\n",
       "  </thead>\n",
       "  <tbody>\n",
       "    <tr>\n",
       "      <th>1999-01-22</th>\n",
       "      <td>-0.340955</td>\n",
       "      <td>-0.088217</td>\n",
       "      <td>-0.579850</td>\n",
       "      <td>-0.510124</td>\n",
       "      <td>-0.510124</td>\n",
       "      <td>7.544438</td>\n",
       "    </tr>\n",
       "    <tr>\n",
       "      <th>1999-01-25</th>\n",
       "      <td>-0.305578</td>\n",
       "      <td>-0.283222</td>\n",
       "      <td>-0.424964</td>\n",
       "      <td>-0.224161</td>\n",
       "      <td>-0.224161</td>\n",
       "      <td>0.777210</td>\n",
       "    </tr>\n",
       "    <tr>\n",
       "      <th>1999-01-26</th>\n",
       "      <td>-0.199444</td>\n",
       "      <td>-0.223871</td>\n",
       "      <td>-0.415854</td>\n",
       "      <td>-0.458130</td>\n",
       "      <td>-0.458131</td>\n",
       "      <td>0.263637</td>\n",
       "    </tr>\n",
       "    <tr>\n",
       "      <th>1999-01-27</th>\n",
       "      <td>-0.464778</td>\n",
       "      <td>-0.469747</td>\n",
       "      <td>-0.525185</td>\n",
       "      <td>-0.466795</td>\n",
       "      <td>-0.466798</td>\n",
       "      <td>-0.039791</td>\n",
       "    </tr>\n",
       "    <tr>\n",
       "      <th>1999-01-28</th>\n",
       "      <td>-0.482465</td>\n",
       "      <td>-0.537575</td>\n",
       "      <td>-0.406741</td>\n",
       "      <td>-0.475462</td>\n",
       "      <td>-0.475461</td>\n",
       "      <td>-0.091517</td>\n",
       "    </tr>\n",
       "  </tbody>\n",
       "</table>\n",
       "</div>"
      ],
      "text/plain": [
       "                Open      High       Low     Close  Adj Close    Volume\n",
       "Date                                                                   \n",
       "1999-01-22 -0.340955 -0.088217 -0.579850 -0.510124  -0.510124  7.544438\n",
       "1999-01-25 -0.305578 -0.283222 -0.424964 -0.224161  -0.224161  0.777210\n",
       "1999-01-26 -0.199444 -0.223871 -0.415854 -0.458130  -0.458131  0.263637\n",
       "1999-01-27 -0.464778 -0.469747 -0.525185 -0.466795  -0.466798 -0.039791\n",
       "1999-01-28 -0.482465 -0.537575 -0.406741 -0.475462  -0.475461 -0.091517"
      ]
     },
     "execution_count": 28,
     "metadata": {},
     "output_type": "execute_result"
    }
   ],
   "source": [
    "transformed = nvda.groupby(key).transform(zscore)\n",
    "transformed.head()"
   ]
  },
  {
   "cell_type": "code",
   "execution_count": 29,
   "metadata": {
    "collapsed": true
   },
   "outputs": [],
   "source": [
    "%matplotlib inline"
   ]
  },
  {
   "cell_type": "code",
   "execution_count": 30,
   "metadata": {},
   "outputs": [
    {
     "data": {
      "text/plain": [
       "<matplotlib.axes._subplots.AxesSubplot at 0x28a680e4c18>"
      ]
     },
     "execution_count": 30,
     "metadata": {},
     "output_type": "execute_result"
    },
    {
     "data": {
      "image/png": "iVBORw0KGgoAAAANSUhEUgAAAXoAAAEACAYAAAC9Gb03AAAABHNCSVQICAgIfAhkiAAAAAlwSFlz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\nUqqI+39SPJyMDBzuGgAAAABJRU5ErkJggg==\n",
      "text/plain": [
       "<matplotlib.figure.Figure at 0x28a68105f98>"
      ]
     },
     "metadata": {},
     "output_type": "display_data"
    }
   ],
   "source": [
    "compare = pd.DataFrame({\"Original Adj Close\": nvda[\"Adj Close\"], \n",
    "                        \"Transormed Adj Close\": transformed[\"Adj Close\"]})\n",
    "compare.plot()"
   ]
  },
  {
   "cell_type": "code",
   "execution_count": 31,
   "metadata": {},
   "outputs": [
    {
     "data": {
      "text/plain": [
       "<matplotlib.axes._subplots.AxesSubplot at 0x28a68288080>"
      ]
     },
     "execution_count": 31,
     "metadata": {},
     "output_type": "execute_result"
    },
    {
     "data": {
      "image/png": "iVBORw0KGgoAAAANSUhEUgAAAXYAAAEACAYAAACnJV25AAAABHNCSVQICAgIfAhkiAAAAAlwSFlz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\nKLtNAAAAAElFTkSuQmCC\n",
      "text/plain": [
       "<matplotlib.figure.Figure at 0x28a6828d048>"
      ]
     },
     "metadata": {},
     "output_type": "display_data"
    }
   ],
   "source": [
    "transformed[\"Close\"].plot(grid=True)"
   ]
  },
  {
   "cell_type": "code",
   "execution_count": 33,
   "metadata": {},
   "outputs": [
    {
     "data": {
      "text/html": [
       "<div>\n",
       "<style>\n",
       "    .dataframe thead tr:only-child th {\n",
       "        text-align: right;\n",
       "    }\n",
       "\n",
       "    .dataframe thead th {\n",
       "        text-align: left;\n",
       "    }\n",
       "\n",
       "    .dataframe tbody tr th {\n",
       "        vertical-align: top;\n",
       "    }\n",
       "</style>\n",
       "<table border=\"1\" class=\"dataframe\">\n",
       "  <thead>\n",
       "    <tr style=\"text-align: right;\">\n",
       "      <th></th>\n",
       "      <th>Open</th>\n",
       "      <th>High</th>\n",
       "      <th>Low</th>\n",
       "      <th>Close</th>\n",
       "      <th>Adj Close</th>\n",
       "      <th>Volume</th>\n",
       "    </tr>\n",
       "    <tr>\n",
       "      <th>Date</th>\n",
       "      <th></th>\n",
       "      <th></th>\n",
       "      <th></th>\n",
       "      <th></th>\n",
       "      <th></th>\n",
       "      <th></th>\n",
       "    </tr>\n",
       "  </thead>\n",
       "  <tbody>\n",
       "    <tr>\n",
       "      <th>1999-01-22</th>\n",
       "      <td>2.552084</td>\n",
       "      <td>2.53125</td>\n",
       "      <td>2.510417</td>\n",
       "      <td>2.546875</td>\n",
       "      <td>2.364945</td>\n",
       "      <td>67375200.0</td>\n",
       "    </tr>\n",
       "    <tr>\n",
       "      <th>1999-01-25</th>\n",
       "      <td>2.552084</td>\n",
       "      <td>2.53125</td>\n",
       "      <td>2.510417</td>\n",
       "      <td>2.546875</td>\n",
       "      <td>2.364945</td>\n",
       "      <td>67375200.0</td>\n",
       "    </tr>\n",
       "    <tr>\n",
       "      <th>1999-01-26</th>\n",
       "      <td>2.552084</td>\n",
       "      <td>2.53125</td>\n",
       "      <td>2.510417</td>\n",
       "      <td>2.546875</td>\n",
       "      <td>2.364945</td>\n",
       "      <td>67375200.0</td>\n",
       "    </tr>\n",
       "    <tr>\n",
       "      <th>1999-01-27</th>\n",
       "      <td>2.552084</td>\n",
       "      <td>2.53125</td>\n",
       "      <td>2.510417</td>\n",
       "      <td>2.546875</td>\n",
       "      <td>2.364945</td>\n",
       "      <td>67375200.0</td>\n",
       "    </tr>\n",
       "    <tr>\n",
       "      <th>1999-01-28</th>\n",
       "      <td>2.552084</td>\n",
       "      <td>2.53125</td>\n",
       "      <td>2.510417</td>\n",
       "      <td>2.546875</td>\n",
       "      <td>2.364945</td>\n",
       "      <td>67375200.0</td>\n",
       "    </tr>\n",
       "  </tbody>\n",
       "</table>\n",
       "</div>"
      ],
      "text/plain": [
       "                Open     High       Low     Close  Adj Close      Volume\n",
       "Date                                                                    \n",
       "1999-01-22  2.552084  2.53125  2.510417  2.546875   2.364945  67375200.0\n",
       "1999-01-25  2.552084  2.53125  2.510417  2.546875   2.364945  67375200.0\n",
       "1999-01-26  2.552084  2.53125  2.510417  2.546875   2.364945  67375200.0\n",
       "1999-01-27  2.552084  2.53125  2.510417  2.546875   2.364945  67375200.0\n",
       "1999-01-28  2.552084  2.53125  2.510417  2.546875   2.364945  67375200.0"
      ]
     },
     "execution_count": 33,
     "metadata": {},
     "output_type": "execute_result"
    }
   ],
   "source": [
    "price_range = lambda x: x.max() - x.min()\n",
    "nvda.groupby(key).transform(price_range).head()"
   ]
  },
  {
   "cell_type": "code",
   "execution_count": 35,
   "metadata": {
    "scrolled": true
   },
   "outputs": [
    {
     "data": {
      "text/html": [
       "<div>\n",
       "<style>\n",
       "    .dataframe thead tr:only-child th {\n",
       "        text-align: right;\n",
       "    }\n",
       "\n",
       "    .dataframe thead th {\n",
       "        text-align: left;\n",
       "    }\n",
       "\n",
       "    .dataframe tbody tr th {\n",
       "        vertical-align: top;\n",
       "    }\n",
       "</style>\n",
       "<table border=\"1\" class=\"dataframe\">\n",
       "  <thead>\n",
       "    <tr style=\"text-align: right;\">\n",
       "      <th></th>\n",
       "      <th>Open</th>\n",
       "      <th>High</th>\n",
       "      <th>Low</th>\n",
       "      <th>Close</th>\n",
       "      <th>Adj Close</th>\n",
       "      <th>Volume</th>\n",
       "    </tr>\n",
       "    <tr>\n",
       "      <th>Date</th>\n",
       "      <th></th>\n",
       "      <th></th>\n",
       "      <th></th>\n",
       "      <th></th>\n",
       "      <th></th>\n",
       "      <th></th>\n",
       "    </tr>\n",
       "  </thead>\n",
       "  <tbody>\n",
       "    <tr>\n",
       "      <th>1999-01-22</th>\n",
       "      <td>2.552084</td>\n",
       "      <td>2.53125</td>\n",
       "      <td>2.510417</td>\n",
       "      <td>2.546875</td>\n",
       "      <td>2.364945</td>\n",
       "      <td>67375200</td>\n",
       "    </tr>\n",
       "    <tr>\n",
       "      <th>1999-01-25</th>\n",
       "      <td>2.552084</td>\n",
       "      <td>2.53125</td>\n",
       "      <td>2.510417</td>\n",
       "      <td>2.546875</td>\n",
       "      <td>2.364945</td>\n",
       "      <td>67375200</td>\n",
       "    </tr>\n",
       "    <tr>\n",
       "      <th>1999-01-26</th>\n",
       "      <td>2.552084</td>\n",
       "      <td>2.53125</td>\n",
       "      <td>2.510417</td>\n",
       "      <td>2.546875</td>\n",
       "      <td>2.364945</td>\n",
       "      <td>67375200</td>\n",
       "    </tr>\n",
       "    <tr>\n",
       "      <th>1999-01-27</th>\n",
       "      <td>2.552084</td>\n",
       "      <td>2.53125</td>\n",
       "      <td>2.510417</td>\n",
       "      <td>2.546875</td>\n",
       "      <td>2.364945</td>\n",
       "      <td>67375200</td>\n",
       "    </tr>\n",
       "    <tr>\n",
       "      <th>1999-01-28</th>\n",
       "      <td>2.552084</td>\n",
       "      <td>2.53125</td>\n",
       "      <td>2.510417</td>\n",
       "      <td>2.546875</td>\n",
       "      <td>2.364945</td>\n",
       "      <td>67375200</td>\n",
       "    </tr>\n",
       "  </tbody>\n",
       "</table>\n",
       "</div>"
      ],
      "text/plain": [
       "                Open     High       Low     Close  Adj Close    Volume\n",
       "Date                                                                  \n",
       "1999-01-22  2.552084  2.53125  2.510417  2.546875   2.364945  67375200\n",
       "1999-01-25  2.552084  2.53125  2.510417  2.546875   2.364945  67375200\n",
       "1999-01-26  2.552084  2.53125  2.510417  2.546875   2.364945  67375200\n",
       "1999-01-27  2.552084  2.53125  2.510417  2.546875   2.364945  67375200\n",
       "1999-01-28  2.552084  2.53125  2.510417  2.546875   2.364945  67375200"
      ]
     },
     "execution_count": 35,
     "metadata": {},
     "output_type": "execute_result"
    }
   ],
   "source": [
    "(nvda.groupby(key).transform(\"max\") - nvda.groupby(key).transform(\"min\")).head()"
   ]
  },
  {
   "cell_type": "markdown",
   "metadata": {},
   "source": [
    "### concat, merge, join\n",
    "### 2017七月在线 机器学习线上集训 julyedu.com\n",
    "by 褚则伟 "
   ]
  },
  {
   "cell_type": "code",
   "execution_count": 37,
   "metadata": {},
   "outputs": [
    {
     "name": "stdout",
     "output_type": "stream",
     "text": [
      "           apts    cars\n",
      "Shanghai  55000  200000\n",
      "Beijing   60000  300000\n"
     ]
    }
   ],
   "source": [
    "df1 = pd.DataFrame({'apts': [55000, 60000],\n",
    "                   'cars': [200000, 300000],},\n",
    "                  index = ['Shanghai', 'Beijing'])\n",
    "print(df1)"
   ]
  },
  {
   "cell_type": "code",
   "execution_count": 38,
   "metadata": {},
   "outputs": [
    {
     "name": "stdout",
     "output_type": "stream",
     "text": [
      "           apts    cars\n",
      "Hangzhou  25000  150000\n",
      "Najing    20000  120000\n"
     ]
    }
   ],
   "source": [
    "df2 = pd.DataFrame({'apts': [25000, 20000],\n",
    "                   'cars': [150000, 120000],},\n",
    "                  index = ['Hangzhou', 'Najing'])\n",
    "print(df2)"
   ]
  },
  {
   "cell_type": "code",
   "execution_count": 39,
   "metadata": {},
   "outputs": [
    {
     "name": "stdout",
     "output_type": "stream",
     "text": [
      "            apts    cars\n",
      "Guangzhou  30000  180000\n",
      "Chongqing  10000  100000\n"
     ]
    }
   ],
   "source": [
    "df3 = pd.DataFrame({'apts': [30000, 10000],\n",
    "                   'cars': [180000, 100000],},\n",
    "                  index = ['Guangzhou', 'Chongqing'])\n",
    "print(df3)"
   ]
  },
  {
   "cell_type": "markdown",
   "metadata": {},
   "source": [
    "### concatenate"
   ]
  },
  {
   "cell_type": "code",
   "execution_count": 40,
   "metadata": {},
   "outputs": [
    {
     "name": "stdout",
     "output_type": "stream",
     "text": [
      "            apts    cars\n",
      "Shanghai   55000  200000\n",
      "Beijing    60000  300000\n",
      "Hangzhou   25000  150000\n",
      "Najing     20000  120000\n",
      "Guangzhou  30000  180000\n",
      "Chongqing  10000  100000\n"
     ]
    }
   ],
   "source": [
    "result = pd.concat([df1, df2, df3])\n",
    "print(result)"
   ]
  },
  {
   "cell_type": "markdown",
   "metadata": {},
   "source": [
    "在concatenate的时候可以指定keys，这样可以给每一个部分加上一个Key。\n",
    "\n",
    "以下的例子就构造了一个hierarchical index。"
   ]
  },
  {
   "cell_type": "code",
   "execution_count": 41,
   "metadata": {},
   "outputs": [
    {
     "name": "stdout",
     "output_type": "stream",
     "text": [
      "              apts    cars\n",
      "x Shanghai   55000  200000\n",
      "  Beijing    60000  300000\n",
      "y Hangzhou   25000  150000\n",
      "  Najing     20000  120000\n",
      "z Guangzhou  30000  180000\n",
      "  Chongqing  10000  100000\n"
     ]
    }
   ],
   "source": [
    "result2 = pd.concat([df1, df2, df3], keys=['x', 'y', 'z'])\n",
    "print(result2)"
   ]
  },
  {
   "cell_type": "code",
   "execution_count": 42,
   "metadata": {},
   "outputs": [
    {
     "data": {
      "text/html": [
       "<div>\n",
       "<style>\n",
       "    .dataframe thead tr:only-child th {\n",
       "        text-align: right;\n",
       "    }\n",
       "\n",
       "    .dataframe thead th {\n",
       "        text-align: left;\n",
       "    }\n",
       "\n",
       "    .dataframe tbody tr th {\n",
       "        vertical-align: top;\n",
       "    }\n",
       "</style>\n",
       "<table border=\"1\" class=\"dataframe\">\n",
       "  <thead>\n",
       "    <tr style=\"text-align: right;\">\n",
       "      <th></th>\n",
       "      <th>apts</th>\n",
       "      <th>cars</th>\n",
       "    </tr>\n",
       "  </thead>\n",
       "  <tbody>\n",
       "    <tr>\n",
       "      <th>Hangzhou</th>\n",
       "      <td>25000</td>\n",
       "      <td>150000</td>\n",
       "    </tr>\n",
       "    <tr>\n",
       "      <th>Najing</th>\n",
       "      <td>20000</td>\n",
       "      <td>120000</td>\n",
       "    </tr>\n",
       "  </tbody>\n",
       "</table>\n",
       "</div>"
      ],
      "text/plain": [
       "           apts    cars\n",
       "Hangzhou  25000  150000\n",
       "Najing    20000  120000"
      ]
     },
     "execution_count": 42,
     "metadata": {},
     "output_type": "execute_result"
    }
   ],
   "source": [
    "result2.loc[\"y\"]"
   ]
  },
  {
   "cell_type": "markdown",
   "metadata": {
    "collapsed": true
   },
   "source": [
    "如果要换个方向concat，只要声明axis就可以了"
   ]
  },
  {
   "cell_type": "code",
   "execution_count": 43,
   "metadata": {},
   "outputs": [
    {
     "name": "stdout",
     "output_type": "stream",
     "text": [
      "           salaries\n",
      "Suzhou        10000\n",
      "Beijing       30000\n",
      "Shanghai      30000\n",
      "Guangzhou     20000\n",
      "Tianjin       15000\n"
     ]
    }
   ],
   "source": [
    "df4 = pd.DataFrame({'salaries': [10000, 30000, 30000, 20000, 15000]},\n",
    "                  index = ['Suzhou', 'Beijing', 'Shanghai', 'Guangzhou', 'Tianjin'])\n",
    "print(df4)"
   ]
  },
  {
   "cell_type": "code",
   "execution_count": 44,
   "metadata": {},
   "outputs": [
    {
     "name": "stdout",
     "output_type": "stream",
     "text": [
      "              apts      cars  salaries\n",
      "Beijing    60000.0  300000.0   30000.0\n",
      "Chongqing  10000.0  100000.0       NaN\n",
      "Guangzhou  30000.0  180000.0   20000.0\n",
      "Hangzhou   25000.0  150000.0       NaN\n",
      "Najing     20000.0  120000.0       NaN\n",
      "Shanghai   55000.0  200000.0   30000.0\n",
      "Suzhou         NaN       NaN   10000.0\n",
      "Tianjin        NaN       NaN   15000.0\n"
     ]
    }
   ],
   "source": [
    "result3 = pd.concat([result, df4], axis=1)\n",
    "print(result3)"
   ]
  },
  {
   "cell_type": "markdown",
   "metadata": {},
   "source": [
    "用inner可以去掉NaN,也就是说如果出现了不匹配的行就会被忽略"
   ]
  },
  {
   "cell_type": "code",
   "execution_count": 46,
   "metadata": {},
   "outputs": [
    {
     "name": "stdout",
     "output_type": "stream",
     "text": [
      "            apts    cars  salaries\n",
      "Shanghai   55000  200000     30000\n",
      "Beijing    60000  300000     30000\n",
      "Guangzhou  30000  180000     20000\n"
     ]
    }
   ],
   "source": [
    "result4 = pd.concat([result, df4], axis=1, join='inner')\n",
    "print(result4)"
   ]
  },
  {
   "cell_type": "markdown",
   "metadata": {},
   "source": [
    "如果我们只想保留左边部分的index呢"
   ]
  },
  {
   "cell_type": "code",
   "execution_count": 47,
   "metadata": {},
   "outputs": [
    {
     "name": "stdout",
     "output_type": "stream",
     "text": [
      "            apts    cars  salaries\n",
      "Shanghai   55000  200000   30000.0\n",
      "Beijing    60000  300000   30000.0\n",
      "Hangzhou   25000  150000       NaN\n",
      "Najing     20000  120000       NaN\n",
      "Guangzhou  30000  180000   20000.0\n",
      "Chongqing  10000  100000       NaN\n"
     ]
    }
   ],
   "source": [
    "result5 = pd.concat([result, df4], axis=1, join_axes=[result.index])\n",
    "print(result5)"
   ]
  },
  {
   "cell_type": "markdown",
   "metadata": {},
   "source": [
    "右边部分"
   ]
  },
  {
   "cell_type": "code",
   "execution_count": 48,
   "metadata": {},
   "outputs": [
    {
     "name": "stdout",
     "output_type": "stream",
     "text": [
      "              apts      cars  salaries\n",
      "Suzhou         NaN       NaN     10000\n",
      "Beijing    60000.0  300000.0     30000\n",
      "Shanghai   55000.0  200000.0     30000\n",
      "Guangzhou  30000.0  180000.0     20000\n",
      "Tianjin        NaN       NaN     15000\n"
     ]
    }
   ],
   "source": [
    "result6 = pd.concat([result, df4], axis=1, join_axes=[df4.index])\n",
    "print(result6)"
   ]
  },
  {
   "cell_type": "markdown",
   "metadata": {},
   "source": [
    "#### 用[```append```](https://pandas.pydata.org/pandas-docs/stable/generated/pandas.DataFrame.append.html)来做concatenation "
   ]
  },
  {
   "cell_type": "code",
   "execution_count": 49,
   "metadata": {},
   "outputs": [
    {
     "name": "stdout",
     "output_type": "stream",
     "text": [
      "           apts    cars\n",
      "Shanghai  55000  200000\n",
      "Beijing   60000  300000\n",
      "Hangzhou  25000  150000\n",
      "Najing    20000  120000\n"
     ]
    }
   ],
   "source": [
    "print(df1.append(df2))"
   ]
  },
  {
   "cell_type": "code",
   "execution_count": 50,
   "metadata": {},
   "outputs": [
    {
     "name": "stdout",
     "output_type": "stream",
     "text": [
      "              apts      cars  salaries\n",
      "Shanghai   55000.0  200000.0       NaN\n",
      "Beijing    60000.0  300000.0       NaN\n",
      "Suzhou         NaN       NaN   10000.0\n",
      "Beijing        NaN       NaN   30000.0\n",
      "Shanghai       NaN       NaN   30000.0\n",
      "Guangzhou      NaN       NaN   20000.0\n",
      "Tianjin        NaN       NaN   15000.0\n"
     ]
    }
   ],
   "source": [
    "print(df1.append(df4))"
   ]
  },
  {
   "cell_type": "code",
   "execution_count": 52,
   "metadata": {
    "scrolled": false
   },
   "outputs": [
    {
     "data": {
      "text/html": [
       "<div>\n",
       "<style>\n",
       "    .dataframe thead tr:only-child th {\n",
       "        text-align: right;\n",
       "    }\n",
       "\n",
       "    .dataframe thead th {\n",
       "        text-align: left;\n",
       "    }\n",
       "\n",
       "    .dataframe tbody tr th {\n",
       "        vertical-align: top;\n",
       "    }\n",
       "</style>\n",
       "<table border=\"1\" class=\"dataframe\">\n",
       "  <thead>\n",
       "    <tr style=\"text-align: right;\">\n",
       "      <th></th>\n",
       "      <th>apts</th>\n",
       "      <th>cars</th>\n",
       "    </tr>\n",
       "  </thead>\n",
       "  <tbody>\n",
       "    <tr>\n",
       "      <th>Shanghai</th>\n",
       "      <td>55000</td>\n",
       "      <td>200000</td>\n",
       "    </tr>\n",
       "    <tr>\n",
       "      <th>Beijing</th>\n",
       "      <td>60000</td>\n",
       "      <td>300000</td>\n",
       "    </tr>\n",
       "    <tr>\n",
       "      <th>Hangzhou</th>\n",
       "      <td>25000</td>\n",
       "      <td>150000</td>\n",
       "    </tr>\n",
       "    <tr>\n",
       "      <th>Najing</th>\n",
       "      <td>20000</td>\n",
       "      <td>120000</td>\n",
       "    </tr>\n",
       "    <tr>\n",
       "      <th>Guangzhou</th>\n",
       "      <td>30000</td>\n",
       "      <td>180000</td>\n",
       "    </tr>\n",
       "    <tr>\n",
       "      <th>Chongqing</th>\n",
       "      <td>10000</td>\n",
       "      <td>100000</td>\n",
       "    </tr>\n",
       "  </tbody>\n",
       "</table>\n",
       "</div>"
      ],
      "text/plain": [
       "            apts    cars\n",
       "Shanghai   55000  200000\n",
       "Beijing    60000  300000\n",
       "Hangzhou   25000  150000\n",
       "Najing     20000  120000\n",
       "Guangzhou  30000  180000\n",
       "Chongqing  10000  100000"
      ]
     },
     "execution_count": 52,
     "metadata": {},
     "output_type": "execute_result"
    }
   ],
   "source": [
    "df1.append([df2,df3])"
   ]
  },
  {
   "cell_type": "markdown",
   "metadata": {},
   "source": [
    "Series和DataFrame还可以被一起concatenate，这时候Series会先被转成DataFrame然后做Join，因为Series本来就是一个只有一维的DataFrame对吧。"
   ]
  },
  {
   "cell_type": "code",
   "execution_count": 53,
   "metadata": {},
   "outputs": [
    {
     "name": "stdout",
     "output_type": "stream",
     "text": [
      "Shanghai    60\n",
      "Beijing     50\n",
      "Name: meal, dtype: int64\n"
     ]
    }
   ],
   "source": [
    "s1 = pd.Series([60, 50], index=['Shanghai', 'Beijing'], name='meal')\n",
    "print(s1)"
   ]
  },
  {
   "cell_type": "code",
   "execution_count": 54,
   "metadata": {},
   "outputs": [
    {
     "name": "stdout",
     "output_type": "stream",
     "text": [
      "           apts    cars\n",
      "Shanghai  55000  200000\n",
      "Beijing   60000  300000\n"
     ]
    }
   ],
   "source": [
    "print(df1)"
   ]
  },
  {
   "cell_type": "code",
   "execution_count": 55,
   "metadata": {},
   "outputs": [
    {
     "name": "stdout",
     "output_type": "stream",
     "text": [
      "           apts    cars  meal\n",
      "Shanghai  55000  200000    60\n",
      "Beijing   60000  300000    50\n"
     ]
    }
   ],
   "source": [
    "print(pd.concat([df1, s1], axis=1))"
   ]
  },
  {
   "cell_type": "markdown",
   "metadata": {},
   "source": [
    "下面讲如何append一个row到DataFrame里。"
   ]
  },
  {
   "cell_type": "code",
   "execution_count": 56,
   "metadata": {},
   "outputs": [
    {
     "name": "stdout",
     "output_type": "stream",
     "text": [
      "apts    18000\n",
      "cars    12000\n",
      "Name: Xiamen, dtype: int64\n"
     ]
    }
   ],
   "source": [
    "s2 = pd.Series([18000, 12000], index=['apts', 'cars'], name='Xiamen') #注意这里的name是必须要有的，因为要用作Index。\n",
    "print(s2)"
   ]
  },
  {
   "cell_type": "code",
   "execution_count": 57,
   "metadata": {},
   "outputs": [
    {
     "name": "stdout",
     "output_type": "stream",
     "text": [
      "           apts    cars\n",
      "Shanghai  55000  200000\n",
      "Beijing   60000  300000\n",
      "Xiamen    18000   12000\n"
     ]
    }
   ],
   "source": [
    "print(df1.append(s2))"
   ]
  },
  {
   "cell_type": "markdown",
   "metadata": {},
   "source": [
    "### Merge(Join)\n",
    "### 2017七月在线 机器学习线上集训 julyedu.com"
   ]
  },
  {
   "cell_type": "code",
   "execution_count": 58,
   "metadata": {},
   "outputs": [
    {
     "data": {
      "text/html": [
       "<div>\n",
       "<style>\n",
       "    .dataframe thead tr:only-child th {\n",
       "        text-align: right;\n",
       "    }\n",
       "\n",
       "    .dataframe thead th {\n",
       "        text-align: left;\n",
       "    }\n",
       "\n",
       "    .dataframe tbody tr th {\n",
       "        vertical-align: top;\n",
       "    }\n",
       "</style>\n",
       "<table border=\"1\" class=\"dataframe\">\n",
       "  <thead>\n",
       "    <tr style=\"text-align: right;\">\n",
       "      <th></th>\n",
       "      <th>cities</th>\n",
       "      <th>apts</th>\n",
       "      <th>cars</th>\n",
       "    </tr>\n",
       "  </thead>\n",
       "  <tbody>\n",
       "    <tr>\n",
       "      <th>0</th>\n",
       "      <td>Shanghai</td>\n",
       "      <td>55000</td>\n",
       "      <td>200000</td>\n",
       "    </tr>\n",
       "    <tr>\n",
       "      <th>1</th>\n",
       "      <td>Beijing</td>\n",
       "      <td>60000</td>\n",
       "      <td>300000</td>\n",
       "    </tr>\n",
       "    <tr>\n",
       "      <th>2</th>\n",
       "      <td>Hangzhou</td>\n",
       "      <td>25000</td>\n",
       "      <td>150000</td>\n",
       "    </tr>\n",
       "    <tr>\n",
       "      <th>3</th>\n",
       "      <td>Najing</td>\n",
       "      <td>20000</td>\n",
       "      <td>120000</td>\n",
       "    </tr>\n",
       "    <tr>\n",
       "      <th>4</th>\n",
       "      <td>Guangzhou</td>\n",
       "      <td>30000</td>\n",
       "      <td>180000</td>\n",
       "    </tr>\n",
       "    <tr>\n",
       "      <th>5</th>\n",
       "      <td>Chongqing</td>\n",
       "      <td>10000</td>\n",
       "      <td>100000</td>\n",
       "    </tr>\n",
       "  </tbody>\n",
       "</table>\n",
       "</div>"
      ],
      "text/plain": [
       "      cities   apts    cars\n",
       "0   Shanghai  55000  200000\n",
       "1    Beijing  60000  300000\n",
       "2   Hangzhou  25000  150000\n",
       "3     Najing  20000  120000\n",
       "4  Guangzhou  30000  180000\n",
       "5  Chongqing  10000  100000"
      ]
     },
     "execution_count": 58,
     "metadata": {},
     "output_type": "execute_result"
    }
   ],
   "source": [
    "result = result.reset_index().rename(columns={\"index\":\"cities\"})\n",
    "result"
   ]
  },
  {
   "cell_type": "code",
   "execution_count": 60,
<<<<<<< HEAD
   "metadata": {
    "collapsed": true
   },
=======
   "metadata": {},
>>>>>>> ZeweiChu/master
   "outputs": [],
   "source": [
    "df4 = df4.reset_index().rename(columns={\"index\": \"cities\"})"
   ]
  },
  {
   "cell_type": "code",
   "execution_count": 61,
   "metadata": {},
   "outputs": [
    {
     "name": "stdout",
     "output_type": "stream",
     "text": [
      "      cities   apts    cars  salaries\n",
      "0   Shanghai  55000  200000     30000\n",
      "1    Beijing  60000  300000     30000\n",
      "2  Guangzhou  30000  180000     20000\n"
     ]
    }
   ],
   "source": [
    "df = pd.merge(result, df4, on=\"cities\")\n",
    "print(df)"
   ]
  },
  {
   "cell_type": "code",
   "execution_count": 62,
   "metadata": {},
   "outputs": [
    {
     "name": "stdout",
     "output_type": "stream",
     "text": [
      "      cities     apts      cars  salaries\n",
      "0   Shanghai  55000.0  200000.0   30000.0\n",
      "1    Beijing  60000.0  300000.0   30000.0\n",
      "2   Hangzhou  25000.0  150000.0       NaN\n",
      "3     Najing  20000.0  120000.0       NaN\n",
      "4  Guangzhou  30000.0  180000.0   20000.0\n",
      "5  Chongqing  10000.0  100000.0       NaN\n",
      "6     Suzhou      NaN       NaN   10000.0\n",
      "7    Tianjin      NaN       NaN   15000.0\n"
     ]
    }
   ],
   "source": [
    "df = pd.merge(result, df4, on='cities', how='outer')\n",
    "print(df)"
   ]
  },
  {
   "cell_type": "code",
   "execution_count": 63,
   "metadata": {},
   "outputs": [
    {
     "name": "stdout",
     "output_type": "stream",
     "text": [
      "      cities     apts      cars  salaries\n",
      "0   Shanghai  55000.0  200000.0     30000\n",
      "1    Beijing  60000.0  300000.0     30000\n",
      "2  Guangzhou  30000.0  180000.0     20000\n",
      "3     Suzhou      NaN       NaN     10000\n",
      "4    Tianjin      NaN       NaN     15000\n"
     ]
    }
   ],
   "source": [
    "df = pd.merge(result, df4, on='cities', how='right')\n",
    "print(df)"
   ]
  },
  {
   "cell_type": "code",
   "execution_count": 64,
   "metadata": {},
   "outputs": [
    {
     "name": "stdout",
     "output_type": "stream",
     "text": [
      "      cities   apts    cars  salaries\n",
      "0   Shanghai  55000  200000   30000.0\n",
      "1    Beijing  60000  300000   30000.0\n",
      "2   Hangzhou  25000  150000       NaN\n",
      "3     Najing  20000  120000       NaN\n",
      "4  Guangzhou  30000  180000   20000.0\n",
      "5  Chongqing  10000  100000       NaN\n"
     ]
    }
   ],
   "source": [
    "df = pd.merge(result, df4, on='cities', how='left')\n",
    "print(df)"
   ]
  },
  {
   "cell_type": "markdown",
   "metadata": {},
   "source": [
    "#### join on index"
   ]
  },
  {
   "cell_type": "code",
   "execution_count": 66,
   "metadata": {},
   "outputs": [
    {
     "data": {
      "text/html": [
       "<div>\n",
       "<style>\n",
       "    .dataframe thead tr:only-child th {\n",
       "        text-align: right;\n",
       "    }\n",
       "\n",
       "    .dataframe thead th {\n",
       "        text-align: left;\n",
       "    }\n",
       "\n",
       "    .dataframe tbody tr th {\n",
       "        vertical-align: top;\n",
       "    }\n",
       "</style>\n",
       "<table border=\"1\" class=\"dataframe\">\n",
       "  <thead>\n",
       "    <tr style=\"text-align: right;\">\n",
       "      <th></th>\n",
       "      <th>apts</th>\n",
       "      <th>cars</th>\n",
       "    </tr>\n",
       "  </thead>\n",
       "  <tbody>\n",
       "    <tr>\n",
       "      <th>Shanghai</th>\n",
       "      <td>55000</td>\n",
       "      <td>200000</td>\n",
       "    </tr>\n",
       "    <tr>\n",
       "      <th>Beijing</th>\n",
       "      <td>60000</td>\n",
       "      <td>300000</td>\n",
       "    </tr>\n",
       "  </tbody>\n",
       "</table>\n",
       "</div>"
      ],
      "text/plain": [
       "           apts    cars\n",
       "Shanghai  55000  200000\n",
       "Beijing   60000  300000"
      ]
     },
     "execution_count": 66,
     "metadata": {},
     "output_type": "execute_result"
    }
   ],
   "source": [
    "df1"
   ]
  },
  {
   "cell_type": "code",
   "execution_count": 67,
   "metadata": {
    "collapsed": true
   },
   "outputs": [],
   "source": [
    "df4 = df4.set_index(\"cities\")"
   ]
  },
  {
   "cell_type": "code",
   "execution_count": 68,
   "metadata": {},
   "outputs": [
    {
     "data": {
      "text/html": [
       "<div>\n",
       "<style>\n",
       "    .dataframe thead tr:only-child th {\n",
       "        text-align: right;\n",
       "    }\n",
       "\n",
       "    .dataframe thead th {\n",
       "        text-align: left;\n",
       "    }\n",
       "\n",
       "    .dataframe tbody tr th {\n",
       "        vertical-align: top;\n",
       "    }\n",
       "</style>\n",
       "<table border=\"1\" class=\"dataframe\">\n",
       "  <thead>\n",
       "    <tr style=\"text-align: right;\">\n",
       "      <th></th>\n",
       "      <th>salaries</th>\n",
       "    </tr>\n",
       "    <tr>\n",
       "      <th>cities</th>\n",
       "      <th></th>\n",
       "    </tr>\n",
       "  </thead>\n",
       "  <tbody>\n",
       "    <tr>\n",
       "      <th>Suzhou</th>\n",
       "      <td>10000</td>\n",
       "    </tr>\n",
       "    <tr>\n",
       "      <th>Beijing</th>\n",
       "      <td>30000</td>\n",
       "    </tr>\n",
       "    <tr>\n",
       "      <th>Shanghai</th>\n",
       "      <td>30000</td>\n",
       "    </tr>\n",
       "    <tr>\n",
       "      <th>Guangzhou</th>\n",
       "      <td>20000</td>\n",
       "    </tr>\n",
       "    <tr>\n",
       "      <th>Tianjin</th>\n",
       "      <td>15000</td>\n",
       "    </tr>\n",
       "  </tbody>\n",
       "</table>\n",
       "</div>"
      ],
      "text/plain": [
       "           salaries\n",
       "cities             \n",
       "Suzhou        10000\n",
       "Beijing       30000\n",
       "Shanghai      30000\n",
       "Guangzhou     20000\n",
       "Tianjin       15000"
      ]
     },
     "execution_count": 68,
     "metadata": {},
     "output_type": "execute_result"
    }
   ],
   "source": [
    "df4"
   ]
  },
  {
   "cell_type": "code",
   "execution_count": 69,
   "metadata": {
    "scrolled": false
   },
   "outputs": [
    {
     "name": "stdout",
     "output_type": "stream",
     "text": [
      "           apts    cars  salaries\n",
      "Shanghai  55000  200000     30000\n",
      "Beijing   60000  300000     30000\n"
     ]
    }
   ],
   "source": [
    "print(df1.join(df4))"
   ]
  },
  {
   "cell_type": "code",
   "execution_count": 70,
   "metadata": {
    "scrolled": true
   },
   "outputs": [
    {
     "name": "stdout",
     "output_type": "stream",
     "text": [
      "              apts      cars  salaries\n",
      "Beijing    60000.0  300000.0     30000\n",
      "Guangzhou      NaN       NaN     20000\n",
      "Shanghai   55000.0  200000.0     30000\n",
      "Suzhou         NaN       NaN     10000\n",
      "Tianjin        NaN       NaN     15000\n"
     ]
    }
   ],
   "source": [
    "print(df1.join(df4, how='outer'))"
   ]
  },
  {
   "cell_type": "markdown",
   "metadata": {},
   "source": [
    "也可以用merge来写"
   ]
  },
  {
   "cell_type": "code",
   "execution_count": 71,
   "metadata": {
    "scrolled": true
   },
   "outputs": [
    {
     "name": "stdout",
     "output_type": "stream",
     "text": [
      "              apts      cars  salaries\n",
      "Beijing    60000.0  300000.0     30000\n",
      "Guangzhou      NaN       NaN     20000\n",
      "Shanghai   55000.0  200000.0     30000\n",
      "Suzhou         NaN       NaN     10000\n",
      "Tianjin        NaN       NaN     15000\n"
     ]
    }
   ],
   "source": [
    "print(pd.merge(df1, df4, left_index=True, right_index=True, how='outer'))"
   ]
  },
  {
   "cell_type": "markdown",
   "metadata": {},
   "source": [
    "### bikes project"
   ]
  },
  {
   "cell_type": "code",
   "execution_count": 1,
   "metadata": {
    "collapsed": true
   },
   "outputs": [],
   "source": [
    "import pandas as pd"
   ]
  },
  {
   "cell_type": "markdown",
   "metadata": {},
   "source": [
    "我们先从CSV文件中读取一些数据。\n",
    "\n",
    "bike.csv记录了Montreal自行车路线的数据，具体有7条路线，数据记录了每条自行车路线每天分别有多少人。"
   ]
  },
  {
   "cell_type": "code",
   "execution_count": 73,
   "metadata": {
    "scrolled": false
   },
   "outputs": [
    {
     "data": {
      "text/html": [
       "<div>\n",
       "<style>\n",
       "    .dataframe thead tr:only-child th {\n",
       "        text-align: right;\n",
       "    }\n",
       "\n",
       "    .dataframe thead th {\n",
       "        text-align: left;\n",
       "    }\n",
       "\n",
       "    .dataframe tbody tr th {\n",
       "        vertical-align: top;\n",
       "    }\n",
       "</style>\n",
       "<table border=\"1\" class=\"dataframe\">\n",
       "  <thead>\n",
       "    <tr style=\"text-align: right;\">\n",
       "      <th></th>\n",
       "      <th>Date;Berri 1;Brébeuf (données non disponibles);Côte-Sainte-Catherine;Maisonneuve 1;Maisonneuve 2;du Parc;Pierre-Dupuy;Rachel1;St-Urbain (données non disponibles)</th>\n",
       "    </tr>\n",
       "  </thead>\n",
       "  <tbody>\n",
       "    <tr>\n",
       "      <th>0</th>\n",
       "      <td>01/01/2012;35;;0;38;51;26;10;16;</td>\n",
       "    </tr>\n",
       "    <tr>\n",
       "      <th>1</th>\n",
       "      <td>02/01/2012;83;;1;68;153;53;6;43;</td>\n",
       "    </tr>\n",
       "    <tr>\n",
       "      <th>2</th>\n",
       "      <td>03/01/2012;135;;2;104;248;89;3;58;</td>\n",
       "    </tr>\n",
       "    <tr>\n",
       "      <th>3</th>\n",
       "      <td>04/01/2012;144;;1;116;318;111;8;61;</td>\n",
       "    </tr>\n",
       "    <tr>\n",
       "      <th>4</th>\n",
       "      <td>05/01/2012;197;;2;124;330;97;13;95;</td>\n",
       "    </tr>\n",
       "  </tbody>\n",
       "</table>\n",
       "</div>"
      ],
      "text/plain": [
       "  Date;Berri 1;Brébeuf (données non disponibles);Côte-Sainte-Catherine;Maisonneuve 1;Maisonneuve 2;du Parc;Pierre-Dupuy;Rachel1;St-Urbain (données non disponibles)\n",
       "0                   01/01/2012;35;;0;38;51;26;10;16;                                                                                                               \n",
       "1                   02/01/2012;83;;1;68;153;53;6;43;                                                                                                               \n",
       "2                 03/01/2012;135;;2;104;248;89;3;58;                                                                                                               \n",
       "3                04/01/2012;144;;1;116;318;111;8;61;                                                                                                               \n",
       "4                05/01/2012;197;;2;124;330;97;13;95;                                                                                                               "
      ]
     },
     "execution_count": 73,
     "metadata": {},
     "output_type": "execute_result"
    }
   ],
   "source": [
    "bikes = pd.read_csv('data/bikes.csv', encoding='latin1')\n",
    "bikes.head()"
   ]
  },
  {
   "cell_type": "code",
   "execution_count": 87,
   "metadata": {},
   "outputs": [
    {
     "data": {
      "text/html": [
       "<div>\n",
       "<style>\n",
       "    .dataframe thead tr:only-child th {\n",
       "        text-align: right;\n",
       "    }\n",
       "\n",
       "    .dataframe thead th {\n",
       "        text-align: left;\n",
       "    }\n",
       "\n",
       "    .dataframe tbody tr th {\n",
       "        vertical-align: top;\n",
       "    }\n",
       "</style>\n",
       "<table border=\"1\" class=\"dataframe\">\n",
       "  <thead>\n",
       "    <tr style=\"text-align: right;\">\n",
       "      <th></th>\n",
       "      <th>Berri 1</th>\n",
       "      <th>Brébeuf (données non disponibles)</th>\n",
       "      <th>Côte-Sainte-Catherine</th>\n",
       "      <th>Maisonneuve 1</th>\n",
       "      <th>Maisonneuve 2</th>\n",
       "      <th>du Parc</th>\n",
       "      <th>Pierre-Dupuy</th>\n",
       "      <th>Rachel1</th>\n",
       "      <th>St-Urbain (données non disponibles)</th>\n",
       "    </tr>\n",
       "    <tr>\n",
       "      <th>Date</th>\n",
       "      <th></th>\n",
       "      <th></th>\n",
       "      <th></th>\n",
       "      <th></th>\n",
       "      <th></th>\n",
       "      <th></th>\n",
       "      <th></th>\n",
       "      <th></th>\n",
       "      <th></th>\n",
       "    </tr>\n",
       "  </thead>\n",
       "  <tbody>\n",
       "    <tr>\n",
       "      <th>2012-01-01</th>\n",
       "      <td>35</td>\n",
       "      <td>NaN</td>\n",
       "      <td>0</td>\n",
       "      <td>38</td>\n",
       "      <td>51</td>\n",
       "      <td>26</td>\n",
       "      <td>10</td>\n",
       "      <td>16</td>\n",
       "      <td>NaN</td>\n",
       "    </tr>\n",
       "    <tr>\n",
       "      <th>2012-01-02</th>\n",
       "      <td>83</td>\n",
       "      <td>NaN</td>\n",
       "      <td>1</td>\n",
       "      <td>68</td>\n",
       "      <td>153</td>\n",
       "      <td>53</td>\n",
       "      <td>6</td>\n",
       "      <td>43</td>\n",
       "      <td>NaN</td>\n",
       "    </tr>\n",
       "    <tr>\n",
       "      <th>2012-01-03</th>\n",
       "      <td>135</td>\n",
       "      <td>NaN</td>\n",
       "      <td>2</td>\n",
       "      <td>104</td>\n",
       "      <td>248</td>\n",
       "      <td>89</td>\n",
       "      <td>3</td>\n",
       "      <td>58</td>\n",
       "      <td>NaN</td>\n",
       "    </tr>\n",
       "    <tr>\n",
       "      <th>2012-01-04</th>\n",
       "      <td>144</td>\n",
       "      <td>NaN</td>\n",
       "      <td>1</td>\n",
       "      <td>116</td>\n",
       "      <td>318</td>\n",
       "      <td>111</td>\n",
       "      <td>8</td>\n",
       "      <td>61</td>\n",
       "      <td>NaN</td>\n",
       "    </tr>\n",
       "    <tr>\n",
       "      <th>2012-01-05</th>\n",
       "      <td>197</td>\n",
       "      <td>NaN</td>\n",
       "      <td>2</td>\n",
       "      <td>124</td>\n",
       "      <td>330</td>\n",
       "      <td>97</td>\n",
       "      <td>13</td>\n",
       "      <td>95</td>\n",
       "      <td>NaN</td>\n",
       "    </tr>\n",
       "  </tbody>\n",
       "</table>\n",
       "</div>"
      ],
      "text/plain": [
       "            Berri 1  Brébeuf (données non disponibles)  Côte-Sainte-Catherine  \\\n",
       "Date                                                                            \n",
       "2012-01-01       35                                NaN                      0   \n",
       "2012-01-02       83                                NaN                      1   \n",
       "2012-01-03      135                                NaN                      2   \n",
       "2012-01-04      144                                NaN                      1   \n",
       "2012-01-05      197                                NaN                      2   \n",
       "\n",
       "            Maisonneuve 1  Maisonneuve 2  du Parc  Pierre-Dupuy  Rachel1  \\\n",
       "Date                                                                       \n",
       "2012-01-01             38             51       26            10       16   \n",
       "2012-01-02             68            153       53             6       43   \n",
       "2012-01-03            104            248       89             3       58   \n",
       "2012-01-04            116            318      111             8       61   \n",
       "2012-01-05            124            330       97            13       95   \n",
       "\n",
       "            St-Urbain (données non disponibles)  \n",
       "Date                                             \n",
       "2012-01-01                                  NaN  \n",
       "2012-01-02                                  NaN  \n",
       "2012-01-03                                  NaN  \n",
       "2012-01-04                                  NaN  \n",
       "2012-01-05                                  NaN  "
      ]
     },
     "execution_count": 87,
     "metadata": {},
     "output_type": "execute_result"
    }
   ],
   "source": [
    "bikes = pd.read_csv('data/bikes.csv', sep=';', parse_dates=['Date'], encoding='latin1', dayfirst=True, index_col='Date')\n",
    "bikes.head()"
   ]
  },
  {
   "cell_type": "markdown",
   "metadata": {},
   "source": [
    "[```dropna```](https://pandas.pydata.org/pandas-docs/stable/generated/pandas.DataFrame.dropna.html)会删除所有带NA的行"
   ]
  },
  {
   "cell_type": "code",
   "execution_count": 76,
   "metadata": {
    "scrolled": false
   },
   "outputs": [
    {
     "data": {
      "text/html": [
       "<div>\n",
       "<style>\n",
       "    .dataframe thead tr:only-child th {\n",
       "        text-align: right;\n",
       "    }\n",
       "\n",
       "    .dataframe thead th {\n",
       "        text-align: left;\n",
       "    }\n",
       "\n",
       "    .dataframe tbody tr th {\n",
       "        vertical-align: top;\n",
       "    }\n",
       "</style>\n",
       "<table border=\"1\" class=\"dataframe\">\n",
       "  <thead>\n",
       "    <tr style=\"text-align: right;\">\n",
       "      <th></th>\n",
       "      <th>Berri 1</th>\n",
       "      <th>Brébeuf (données non disponibles)</th>\n",
       "      <th>Côte-Sainte-Catherine</th>\n",
       "      <th>Maisonneuve 1</th>\n",
       "      <th>Maisonneuve 2</th>\n",
       "      <th>du Parc</th>\n",
       "      <th>Pierre-Dupuy</th>\n",
       "      <th>Rachel1</th>\n",
       "      <th>St-Urbain (données non disponibles)</th>\n",
       "    </tr>\n",
       "    <tr>\n",
       "      <th>Date</th>\n",
       "      <th></th>\n",
       "      <th></th>\n",
       "      <th></th>\n",
       "      <th></th>\n",
       "      <th></th>\n",
       "      <th></th>\n",
       "      <th></th>\n",
       "      <th></th>\n",
       "      <th></th>\n",
       "    </tr>\n",
       "  </thead>\n",
       "  <tbody>\n",
       "  </tbody>\n",
       "</table>\n",
       "</div>"
      ],
      "text/plain": [
       "Empty DataFrame\n",
       "Columns: [Berri 1, Brébeuf (données non disponibles), Côte-Sainte-Catherine, Maisonneuve 1, Maisonneuve 2, du Parc, Pierre-Dupuy, Rachel1, St-Urbain (données non disponibles)]\n",
       "Index: []"
      ]
     },
     "execution_count": 76,
     "metadata": {},
     "output_type": "execute_result"
    }
   ],
   "source": [
    "bikes.dropna()"
   ]
  },
  {
   "cell_type": "markdown",
   "metadata": {},
   "source": [
    "删太多了，我们只想删掉全部都是NA的行"
   ]
  },
  {
   "cell_type": "code",
   "execution_count": 77,
   "metadata": {
    "scrolled": true
   },
   "outputs": [
    {
     "data": {
      "text/html": [
       "<div>\n",
       "<style>\n",
       "    .dataframe thead tr:only-child th {\n",
       "        text-align: right;\n",
       "    }\n",
       "\n",
       "    .dataframe thead th {\n",
       "        text-align: left;\n",
       "    }\n",
       "\n",
       "    .dataframe tbody tr th {\n",
       "        vertical-align: top;\n",
       "    }\n",
       "</style>\n",
       "<table border=\"1\" class=\"dataframe\">\n",
       "  <thead>\n",
       "    <tr style=\"text-align: right;\">\n",
       "      <th></th>\n",
       "      <th>Berri 1</th>\n",
       "      <th>Brébeuf (données non disponibles)</th>\n",
       "      <th>Côte-Sainte-Catherine</th>\n",
       "      <th>Maisonneuve 1</th>\n",
       "      <th>Maisonneuve 2</th>\n",
       "      <th>du Parc</th>\n",
       "      <th>Pierre-Dupuy</th>\n",
       "      <th>Rachel1</th>\n",
       "      <th>St-Urbain (données non disponibles)</th>\n",
       "    </tr>\n",
       "    <tr>\n",
       "      <th>Date</th>\n",
       "      <th></th>\n",
       "      <th></th>\n",
       "      <th></th>\n",
       "      <th></th>\n",
       "      <th></th>\n",
       "      <th></th>\n",
       "      <th></th>\n",
       "      <th></th>\n",
       "      <th></th>\n",
       "    </tr>\n",
       "  </thead>\n",
       "  <tbody>\n",
       "    <tr>\n",
       "      <th>2012-01-01</th>\n",
       "      <td>35</td>\n",
       "      <td>NaN</td>\n",
       "      <td>0</td>\n",
       "      <td>38</td>\n",
       "      <td>51</td>\n",
       "      <td>26</td>\n",
       "      <td>10</td>\n",
       "      <td>16</td>\n",
       "      <td>NaN</td>\n",
       "    </tr>\n",
       "    <tr>\n",
       "      <th>2012-01-02</th>\n",
       "      <td>83</td>\n",
       "      <td>NaN</td>\n",
       "      <td>1</td>\n",
       "      <td>68</td>\n",
       "      <td>153</td>\n",
       "      <td>53</td>\n",
       "      <td>6</td>\n",
       "      <td>43</td>\n",
       "      <td>NaN</td>\n",
       "    </tr>\n",
       "    <tr>\n",
       "      <th>2012-01-03</th>\n",
       "      <td>135</td>\n",
       "      <td>NaN</td>\n",
       "      <td>2</td>\n",
       "      <td>104</td>\n",
       "      <td>248</td>\n",
       "      <td>89</td>\n",
       "      <td>3</td>\n",
       "      <td>58</td>\n",
       "      <td>NaN</td>\n",
       "    </tr>\n",
       "    <tr>\n",
       "      <th>2012-01-04</th>\n",
       "      <td>144</td>\n",
       "      <td>NaN</td>\n",
       "      <td>1</td>\n",
       "      <td>116</td>\n",
       "      <td>318</td>\n",
       "      <td>111</td>\n",
       "      <td>8</td>\n",
       "      <td>61</td>\n",
       "      <td>NaN</td>\n",
       "    </tr>\n",
       "    <tr>\n",
       "      <th>2012-01-05</th>\n",
       "      <td>197</td>\n",
       "      <td>NaN</td>\n",
       "      <td>2</td>\n",
       "      <td>124</td>\n",
       "      <td>330</td>\n",
       "      <td>97</td>\n",
       "      <td>13</td>\n",
       "      <td>95</td>\n",
       "      <td>NaN</td>\n",
       "    </tr>\n",
       "  </tbody>\n",
       "</table>\n",
       "</div>"
      ],
      "text/plain": [
       "            Berri 1  Brébeuf (données non disponibles)  Côte-Sainte-Catherine  \\\n",
       "Date                                                                            \n",
       "2012-01-01       35                                NaN                      0   \n",
       "2012-01-02       83                                NaN                      1   \n",
       "2012-01-03      135                                NaN                      2   \n",
       "2012-01-04      144                                NaN                      1   \n",
       "2012-01-05      197                                NaN                      2   \n",
       "\n",
       "            Maisonneuve 1  Maisonneuve 2  du Parc  Pierre-Dupuy  Rachel1  \\\n",
       "Date                                                                       \n",
       "2012-01-01             38             51       26            10       16   \n",
       "2012-01-02             68            153       53             6       43   \n",
       "2012-01-03            104            248       89             3       58   \n",
       "2012-01-04            116            318      111             8       61   \n",
       "2012-01-05            124            330       97            13       95   \n",
       "\n",
       "            St-Urbain (données non disponibles)  \n",
       "Date                                             \n",
       "2012-01-01                                  NaN  \n",
       "2012-01-02                                  NaN  \n",
       "2012-01-03                                  NaN  \n",
       "2012-01-04                                  NaN  \n",
       "2012-01-05                                  NaN  "
      ]
     },
     "execution_count": 77,
     "metadata": {},
     "output_type": "execute_result"
    }
   ],
   "source": [
    "bikes.dropna(how='all').head()"
   ]
  },
  {
   "cell_type": "code",
   "execution_count": 78,
   "metadata": {
    "scrolled": false
   },
   "outputs": [
    {
     "data": {
      "text/html": [
       "<div>\n",
       "<style>\n",
       "    .dataframe thead tr:only-child th {\n",
       "        text-align: right;\n",
       "    }\n",
       "\n",
       "    .dataframe thead th {\n",
       "        text-align: left;\n",
       "    }\n",
       "\n",
       "    .dataframe tbody tr th {\n",
       "        vertical-align: top;\n",
       "    }\n",
       "</style>\n",
       "<table border=\"1\" class=\"dataframe\">\n",
       "  <thead>\n",
       "    <tr style=\"text-align: right;\">\n",
       "      <th></th>\n",
       "      <th>Berri 1</th>\n",
       "      <th>Côte-Sainte-Catherine</th>\n",
       "      <th>Maisonneuve 1</th>\n",
       "      <th>Maisonneuve 2</th>\n",
       "      <th>du Parc</th>\n",
       "      <th>Pierre-Dupuy</th>\n",
       "      <th>Rachel1</th>\n",
       "    </tr>\n",
       "    <tr>\n",
       "      <th>Date</th>\n",
       "      <th></th>\n",
       "      <th></th>\n",
       "      <th></th>\n",
       "      <th></th>\n",
       "      <th></th>\n",
       "      <th></th>\n",
       "      <th></th>\n",
       "    </tr>\n",
       "  </thead>\n",
       "  <tbody>\n",
       "    <tr>\n",
       "      <th>2012-01-01</th>\n",
       "      <td>35</td>\n",
       "      <td>0</td>\n",
       "      <td>38</td>\n",
       "      <td>51</td>\n",
       "      <td>26</td>\n",
       "      <td>10</td>\n",
       "      <td>16</td>\n",
       "    </tr>\n",
       "    <tr>\n",
       "      <th>2012-01-02</th>\n",
       "      <td>83</td>\n",
       "      <td>1</td>\n",
       "      <td>68</td>\n",
       "      <td>153</td>\n",
       "      <td>53</td>\n",
       "      <td>6</td>\n",
       "      <td>43</td>\n",
       "    </tr>\n",
       "    <tr>\n",
       "      <th>2012-01-03</th>\n",
       "      <td>135</td>\n",
       "      <td>2</td>\n",
       "      <td>104</td>\n",
       "      <td>248</td>\n",
       "      <td>89</td>\n",
       "      <td>3</td>\n",
       "      <td>58</td>\n",
       "    </tr>\n",
       "    <tr>\n",
       "      <th>2012-01-04</th>\n",
       "      <td>144</td>\n",
       "      <td>1</td>\n",
       "      <td>116</td>\n",
       "      <td>318</td>\n",
       "      <td>111</td>\n",
       "      <td>8</td>\n",
       "      <td>61</td>\n",
       "    </tr>\n",
       "    <tr>\n",
       "      <th>2012-01-05</th>\n",
       "      <td>197</td>\n",
       "      <td>2</td>\n",
       "      <td>124</td>\n",
       "      <td>330</td>\n",
       "      <td>97</td>\n",
       "      <td>13</td>\n",
       "      <td>95</td>\n",
       "    </tr>\n",
       "  </tbody>\n",
       "</table>\n",
       "</div>"
      ],
      "text/plain": [
       "            Berri 1  Côte-Sainte-Catherine  Maisonneuve 1  Maisonneuve 2  \\\n",
       "Date                                                                       \n",
       "2012-01-01       35                      0             38             51   \n",
       "2012-01-02       83                      1             68            153   \n",
       "2012-01-03      135                      2            104            248   \n",
       "2012-01-04      144                      1            116            318   \n",
       "2012-01-05      197                      2            124            330   \n",
       "\n",
       "            du Parc  Pierre-Dupuy  Rachel1  \n",
       "Date                                        \n",
       "2012-01-01       26            10       16  \n",
       "2012-01-02       53             6       43  \n",
       "2012-01-03       89             3       58  \n",
       "2012-01-04      111             8       61  \n",
       "2012-01-05       97            13       95  "
      ]
     },
     "execution_count": 78,
     "metadata": {},
     "output_type": "execute_result"
    }
   ],
   "source": [
    "bikes.dropna(axis=1, how='all').head()"
   ]
  },
  {
   "cell_type": "code",
   "execution_count": 79,
   "metadata": {},
   "outputs": [
    {
     "data": {
      "text/plain": [
       "(310, 9)"
      ]
     },
     "execution_count": 79,
     "metadata": {},
     "output_type": "execute_result"
    }
   ],
   "source": [
    "bikes.shape"
   ]
  },
  {
   "cell_type": "markdown",
   "metadata": {},
   "source": [
    "我们数一数每一列有多少数据缺失"
   ]
  },
  {
   "cell_type": "code",
   "execution_count": 80,
   "metadata": {
    "scrolled": true
   },
   "outputs": [
    {
     "data": {
      "text/plain": [
       "Berri 1                                  0\n",
       "Brébeuf (données non disponibles)      310\n",
       "Côte-Sainte-Catherine                    0\n",
       "Maisonneuve 1                            0\n",
       "Maisonneuve 2                            0\n",
       "du Parc                                  0\n",
       "Pierre-Dupuy                             0\n",
       "Rachel1                                  0\n",
       "St-Urbain (données non disponibles)    310\n",
       "dtype: int64"
      ]
     },
     "execution_count": 80,
     "metadata": {},
     "output_type": "execute_result"
    }
   ],
   "source": [
    "bikes.apply(lambda x: sum(x.isnull()))"
   ]
  },
  {
   "cell_type": "markdown",
   "metadata": {},
   "source": [
    "下面给大家介绍如何填充缺失的数据"
   ]
  },
  {
   "cell_type": "code",
   "execution_count": 81,
   "metadata": {},
   "outputs": [
    {
     "data": {
      "text/plain": [
       "Berri 1                                35.000000\n",
       "Brébeuf (données non disponibles)      25.142857\n",
       "Côte-Sainte-Catherine                   0.000000\n",
       "Maisonneuve 1                          38.000000\n",
       "Maisonneuve 2                          51.000000\n",
       "du Parc                                26.000000\n",
       "Pierre-Dupuy                           10.000000\n",
       "Rachel1                                16.000000\n",
       "St-Urbain (données non disponibles)    25.142857\n",
       "Name: 2012-01-01 00:00:00, dtype: float64"
      ]
     },
     "execution_count": 81,
     "metadata": {},
     "output_type": "execute_result"
    }
   ],
   "source": [
    "row = bikes.iloc[0].copy()\n",
    "row.fillna(row.mean())"
   ]
  },
  {
   "cell_type": "code",
   "execution_count": 90,
<<<<<<< HEAD
   "metadata": {
    "collapsed": true
   },
=======
   "metadata": {},
>>>>>>> ZeweiChu/master
   "outputs": [],
   "source": [
    "bikes.iloc[2,1] = 2"
   ]
  },
  {
   "cell_type": "code",
   "execution_count": 91,
   "metadata": {},
   "outputs": [
    {
     "data": {
      "text/html": [
       "<div>\n",
       "<style>\n",
       "    .dataframe thead tr:only-child th {\n",
       "        text-align: right;\n",
       "    }\n",
       "\n",
       "    .dataframe thead th {\n",
       "        text-align: left;\n",
       "    }\n",
       "\n",
       "    .dataframe tbody tr th {\n",
       "        vertical-align: top;\n",
       "    }\n",
       "</style>\n",
       "<table border=\"1\" class=\"dataframe\">\n",
       "  <thead>\n",
       "    <tr style=\"text-align: right;\">\n",
       "      <th></th>\n",
       "      <th>Berri 1</th>\n",
       "      <th>Brébeuf (données non disponibles)</th>\n",
       "      <th>Côte-Sainte-Catherine</th>\n",
       "      <th>Maisonneuve 1</th>\n",
       "      <th>Maisonneuve 2</th>\n",
       "      <th>du Parc</th>\n",
       "      <th>Pierre-Dupuy</th>\n",
       "      <th>Rachel1</th>\n",
       "      <th>St-Urbain (données non disponibles)</th>\n",
       "    </tr>\n",
       "    <tr>\n",
       "      <th>Date</th>\n",
       "      <th></th>\n",
       "      <th></th>\n",
       "      <th></th>\n",
       "      <th></th>\n",
       "      <th></th>\n",
       "      <th></th>\n",
       "      <th></th>\n",
       "      <th></th>\n",
       "      <th></th>\n",
       "    </tr>\n",
       "  </thead>\n",
       "  <tbody>\n",
       "    <tr>\n",
       "      <th>2012-01-01</th>\n",
       "      <td>35</td>\n",
       "      <td>25.142857</td>\n",
       "      <td>0</td>\n",
       "      <td>38</td>\n",
       "      <td>51</td>\n",
       "      <td>26</td>\n",
       "      <td>10</td>\n",
       "      <td>16</td>\n",
       "      <td>25.142857</td>\n",
       "    </tr>\n",
       "    <tr>\n",
       "      <th>2012-01-02</th>\n",
       "      <td>83</td>\n",
       "      <td>58.142857</td>\n",
       "      <td>1</td>\n",
       "      <td>68</td>\n",
       "      <td>153</td>\n",
       "      <td>53</td>\n",
       "      <td>6</td>\n",
       "      <td>43</td>\n",
       "      <td>58.142857</td>\n",
       "    </tr>\n",
       "    <tr>\n",
       "      <th>2012-01-03</th>\n",
       "      <td>135</td>\n",
       "      <td>2.000000</td>\n",
       "      <td>2</td>\n",
       "      <td>104</td>\n",
       "      <td>248</td>\n",
       "      <td>89</td>\n",
       "      <td>3</td>\n",
       "      <td>58</td>\n",
       "      <td>80.125000</td>\n",
       "    </tr>\n",
       "    <tr>\n",
       "      <th>2012-01-04</th>\n",
       "      <td>144</td>\n",
       "      <td>108.428571</td>\n",
       "      <td>1</td>\n",
       "      <td>116</td>\n",
       "      <td>318</td>\n",
       "      <td>111</td>\n",
       "      <td>8</td>\n",
       "      <td>61</td>\n",
       "      <td>108.428571</td>\n",
       "    </tr>\n",
       "    <tr>\n",
       "      <th>2012-01-05</th>\n",
       "      <td>197</td>\n",
       "      <td>122.571429</td>\n",
       "      <td>2</td>\n",
       "      <td>124</td>\n",
       "      <td>330</td>\n",
       "      <td>97</td>\n",
       "      <td>13</td>\n",
       "      <td>95</td>\n",
       "      <td>122.571429</td>\n",
       "    </tr>\n",
       "  </tbody>\n",
       "</table>\n",
       "</div>"
      ],
      "text/plain": [
       "            Berri 1  Brébeuf (données non disponibles)  Côte-Sainte-Catherine  \\\n",
       "Date                                                                            \n",
       "2012-01-01       35                          25.142857                      0   \n",
       "2012-01-02       83                          58.142857                      1   \n",
       "2012-01-03      135                           2.000000                      2   \n",
       "2012-01-04      144                         108.428571                      1   \n",
       "2012-01-05      197                         122.571429                      2   \n",
       "\n",
       "            Maisonneuve 1  Maisonneuve 2  du Parc  Pierre-Dupuy  Rachel1  \\\n",
       "Date                                                                       \n",
       "2012-01-01             38             51       26            10       16   \n",
       "2012-01-02             68            153       53             6       43   \n",
       "2012-01-03            104            248       89             3       58   \n",
       "2012-01-04            116            318      111             8       61   \n",
       "2012-01-05            124            330       97            13       95   \n",
       "\n",
       "            St-Urbain (données non disponibles)  \n",
       "Date                                             \n",
       "2012-01-01                            25.142857  \n",
       "2012-01-02                            58.142857  \n",
       "2012-01-03                            80.125000  \n",
       "2012-01-04                           108.428571  \n",
       "2012-01-05                           122.571429  "
      ]
     },
     "execution_count": 91,
     "metadata": {},
     "output_type": "execute_result"
    }
   ],
   "source": [
    "m = bikes.mean(axis=1)\n",
    "#一行一行去填充\n",
    "for i, col in enumerate(bikes):\n",
    "    bikes.iloc[:, i] = bikes.iloc[:, i].fillna(m)\n",
    "    \n",
    "bikes.head()"
   ]
  },
  {
   "cell_type": "code",
   "execution_count": 92,
   "metadata": {},
   "outputs": [
    {
     "data": {
      "text/html": [
       "<div>\n",
       "<style>\n",
       "    .dataframe thead tr:only-child th {\n",
       "        text-align: right;\n",
       "    }\n",
       "\n",
       "    .dataframe thead th {\n",
       "        text-align: left;\n",
       "    }\n",
       "\n",
       "    .dataframe tbody tr th {\n",
       "        vertical-align: top;\n",
       "    }\n",
       "</style>\n",
       "<table border=\"1\" class=\"dataframe\">\n",
       "  <thead>\n",
       "    <tr style=\"text-align: right;\">\n",
       "      <th></th>\n",
       "      <th>Berri 1</th>\n",
       "      <th>Brébeuf (données non disponibles)</th>\n",
       "      <th>Côte-Sainte-Catherine</th>\n",
       "      <th>Maisonneuve 1</th>\n",
       "      <th>Maisonneuve 2</th>\n",
       "      <th>du Parc</th>\n",
       "      <th>Pierre-Dupuy</th>\n",
       "      <th>Rachel1</th>\n",
       "      <th>St-Urbain (données non disponibles)</th>\n",
       "    </tr>\n",
       "    <tr>\n",
       "      <th>Date</th>\n",
       "      <th></th>\n",
       "      <th></th>\n",
       "      <th></th>\n",
       "      <th></th>\n",
       "      <th></th>\n",
       "      <th></th>\n",
       "      <th></th>\n",
       "      <th></th>\n",
       "      <th></th>\n",
       "    </tr>\n",
       "  </thead>\n",
       "  <tbody>\n",
       "    <tr>\n",
       "      <th>2012-01-01</th>\n",
       "      <td>35</td>\n",
       "      <td>25.142857</td>\n",
       "      <td>0</td>\n",
       "      <td>38</td>\n",
       "      <td>51</td>\n",
       "      <td>26</td>\n",
       "      <td>10</td>\n",
       "      <td>16</td>\n",
       "      <td>25.142857</td>\n",
       "    </tr>\n",
       "    <tr>\n",
       "      <th>2012-01-02</th>\n",
       "      <td>83</td>\n",
       "      <td>58.142857</td>\n",
       "      <td>1</td>\n",
       "      <td>68</td>\n",
       "      <td>153</td>\n",
       "      <td>53</td>\n",
       "      <td>6</td>\n",
       "      <td>43</td>\n",
       "      <td>58.142857</td>\n",
       "    </tr>\n",
       "    <tr>\n",
       "      <th>2012-01-03</th>\n",
       "      <td>135</td>\n",
       "      <td>2.000000</td>\n",
       "      <td>2</td>\n",
       "      <td>104</td>\n",
       "      <td>248</td>\n",
       "      <td>89</td>\n",
       "      <td>3</td>\n",
       "      <td>58</td>\n",
       "      <td>80.125000</td>\n",
       "    </tr>\n",
       "    <tr>\n",
       "      <th>2012-01-04</th>\n",
       "      <td>144</td>\n",
       "      <td>108.428571</td>\n",
       "      <td>1</td>\n",
       "      <td>116</td>\n",
       "      <td>318</td>\n",
       "      <td>111</td>\n",
       "      <td>8</td>\n",
       "      <td>61</td>\n",
       "      <td>108.428571</td>\n",
       "    </tr>\n",
       "    <tr>\n",
       "      <th>2012-01-05</th>\n",
       "      <td>197</td>\n",
       "      <td>122.571429</td>\n",
       "      <td>2</td>\n",
       "      <td>124</td>\n",
       "      <td>330</td>\n",
       "      <td>97</td>\n",
       "      <td>13</td>\n",
       "      <td>95</td>\n",
       "      <td>122.571429</td>\n",
       "    </tr>\n",
       "  </tbody>\n",
       "</table>\n",
       "</div>"
      ],
      "text/plain": [
       "            Berri 1  Brébeuf (données non disponibles)  Côte-Sainte-Catherine  \\\n",
       "Date                                                                            \n",
       "2012-01-01       35                          25.142857                      0   \n",
       "2012-01-02       83                          58.142857                      1   \n",
       "2012-01-03      135                           2.000000                      2   \n",
       "2012-01-04      144                         108.428571                      1   \n",
       "2012-01-05      197                         122.571429                      2   \n",
       "\n",
       "            Maisonneuve 1  Maisonneuve 2  du Parc  Pierre-Dupuy  Rachel1  \\\n",
       "Date                                                                       \n",
       "2012-01-01             38             51       26            10       16   \n",
       "2012-01-02             68            153       53             6       43   \n",
       "2012-01-03            104            248       89             3       58   \n",
       "2012-01-04            116            318      111             8       61   \n",
       "2012-01-05            124            330       97            13       95   \n",
       "\n",
       "            St-Urbain (données non disponibles)  \n",
       "Date                                             \n",
       "2012-01-01                            25.142857  \n",
       "2012-01-02                            58.142857  \n",
       "2012-01-03                            80.125000  \n",
       "2012-01-04                           108.428571  \n",
       "2012-01-05                           122.571429  "
      ]
     },
     "execution_count": 92,
     "metadata": {},
     "output_type": "execute_result"
    }
   ],
   "source": [
    "bikes[:5]"
   ]
  },
  {
   "cell_type": "code",
   "execution_count": 94,
   "metadata": {},
   "outputs": [
    {
     "data": {
      "text/html": [
       "<div>\n",
       "<style>\n",
       "    .dataframe thead tr:only-child th {\n",
       "        text-align: right;\n",
       "    }\n",
       "\n",
       "    .dataframe thead th {\n",
       "        text-align: left;\n",
       "    }\n",
       "\n",
       "    .dataframe tbody tr th {\n",
       "        vertical-align: top;\n",
       "    }\n",
       "</style>\n",
       "<table border=\"1\" class=\"dataframe\">\n",
       "  <thead>\n",
       "    <tr style=\"text-align: right;\">\n",
       "      <th></th>\n",
       "      <th>Berri 1</th>\n",
       "    </tr>\n",
       "    <tr>\n",
       "      <th>Date</th>\n",
       "      <th></th>\n",
       "    </tr>\n",
       "  </thead>\n",
       "  <tbody>\n",
       "    <tr>\n",
       "      <th>2012-01-01</th>\n",
       "      <td>35</td>\n",
       "    </tr>\n",
       "    <tr>\n",
       "      <th>2012-01-02</th>\n",
       "      <td>83</td>\n",
       "    </tr>\n",
       "    <tr>\n",
       "      <th>2012-01-03</th>\n",
       "      <td>135</td>\n",
       "    </tr>\n",
       "    <tr>\n",
       "      <th>2012-01-04</th>\n",
       "      <td>144</td>\n",
       "    </tr>\n",
       "    <tr>\n",
       "      <th>2012-01-05</th>\n",
       "      <td>197</td>\n",
       "    </tr>\n",
       "  </tbody>\n",
       "</table>\n",
       "</div>"
      ],
      "text/plain": [
       "            Berri 1\n",
       "Date               \n",
       "2012-01-01       35\n",
       "2012-01-02       83\n",
       "2012-01-03      135\n",
       "2012-01-04      144\n",
       "2012-01-05      197"
      ]
     },
     "execution_count": 94,
     "metadata": {},
     "output_type": "execute_result"
    }
   ],
   "source": [
    "berri_bikes = bikes[['Berri 1']].copy()\n",
    "berri_bikes.head()"
   ]
  },
  {
   "cell_type": "code",
   "execution_count": 95,
   "metadata": {
    "scrolled": true
   },
   "outputs": [
    {
     "data": {
      "text/plain": [
       "DatetimeIndex(['2012-01-01', '2012-01-02', '2012-01-03', '2012-01-04',\n",
       "               '2012-01-05', '2012-01-06', '2012-01-07', '2012-01-08',\n",
       "               '2012-01-09', '2012-01-10',\n",
       "               ...\n",
       "               '2012-10-27', '2012-10-28', '2012-10-29', '2012-10-30',\n",
       "               '2012-10-31', '2012-11-01', '2012-11-02', '2012-11-03',\n",
       "               '2012-11-04', '2012-11-05'],\n",
       "              dtype='datetime64[ns]', name='Date', length=310, freq=None)"
      ]
     },
     "execution_count": 95,
     "metadata": {},
     "output_type": "execute_result"
    }
   ],
   "source": [
    "berri_bikes.index"
   ]
  },
  {
   "cell_type": "code",
   "execution_count": 96,
   "metadata": {
    "scrolled": true
   },
   "outputs": [
    {
     "data": {
      "text/plain": [
       "Int64Index([6, 0, 1, 2, 3, 4, 5, 6, 0, 1,\n",
       "            ...\n",
       "            5, 6, 0, 1, 2, 3, 4, 5, 6, 0],\n",
       "           dtype='int64', name='Date', length=310)"
      ]
     },
     "execution_count": 96,
     "metadata": {},
     "output_type": "execute_result"
    }
   ],
   "source": [
    "berri_bikes.index.weekday"
   ]
  },
  {
   "cell_type": "code",
   "execution_count": 97,
   "metadata": {},
   "outputs": [
    {
     "data": {
      "text/html": [
       "<div>\n",
       "<style>\n",
       "    .dataframe thead tr:only-child th {\n",
       "        text-align: right;\n",
       "    }\n",
       "\n",
       "    .dataframe thead th {\n",
       "        text-align: left;\n",
       "    }\n",
       "\n",
       "    .dataframe tbody tr th {\n",
       "        vertical-align: top;\n",
       "    }\n",
       "</style>\n",
       "<table border=\"1\" class=\"dataframe\">\n",
       "  <thead>\n",
       "    <tr style=\"text-align: right;\">\n",
       "      <th></th>\n",
       "      <th>Berri 1</th>\n",
       "      <th>weekday</th>\n",
       "    </tr>\n",
       "    <tr>\n",
       "      <th>Date</th>\n",
       "      <th></th>\n",
       "      <th></th>\n",
       "    </tr>\n",
       "  </thead>\n",
       "  <tbody>\n",
       "    <tr>\n",
       "      <th>2012-01-01</th>\n",
       "      <td>35</td>\n",
       "      <td>6</td>\n",
       "    </tr>\n",
       "    <tr>\n",
       "      <th>2012-01-02</th>\n",
       "      <td>83</td>\n",
       "      <td>0</td>\n",
       "    </tr>\n",
       "    <tr>\n",
       "      <th>2012-01-03</th>\n",
       "      <td>135</td>\n",
       "      <td>1</td>\n",
       "    </tr>\n",
       "    <tr>\n",
       "      <th>2012-01-04</th>\n",
       "      <td>144</td>\n",
       "      <td>2</td>\n",
       "    </tr>\n",
       "    <tr>\n",
       "      <th>2012-01-05</th>\n",
       "      <td>197</td>\n",
       "      <td>3</td>\n",
       "    </tr>\n",
       "  </tbody>\n",
       "</table>\n",
       "</div>"
      ],
      "text/plain": [
       "            Berri 1  weekday\n",
       "Date                        \n",
       "2012-01-01       35        6\n",
       "2012-01-02       83        0\n",
       "2012-01-03      135        1\n",
       "2012-01-04      144        2\n",
       "2012-01-05      197        3"
      ]
     },
     "execution_count": 97,
     "metadata": {},
     "output_type": "execute_result"
    }
   ],
   "source": [
    "berri_bikes.loc[:, 'weekday'] = berri_bikes.index.weekday\n",
    "berri_bikes[:5]"
   ]
  },
  {
   "cell_type": "markdown",
   "metadata": {
    "collapsed": true
   },
   "source": [
    "有了weekday信息之后，我们就可以用上我们前面学过的.groupyby把骑车人数按照weekday分类，然后用aggregate算出每个工作日的骑车人数之和。"
   ]
  },
  {
   "cell_type": "code",
   "execution_count": 98,
   "metadata": {},
   "outputs": [
    {
     "data": {
      "text/html": [
       "<div>\n",
       "<style>\n",
       "    .dataframe thead tr:only-child th {\n",
       "        text-align: right;\n",
       "    }\n",
       "\n",
       "    .dataframe thead th {\n",
       "        text-align: left;\n",
       "    }\n",
       "\n",
       "    .dataframe tbody tr th {\n",
       "        vertical-align: top;\n",
       "    }\n",
       "</style>\n",
       "<table border=\"1\" class=\"dataframe\">\n",
       "  <thead>\n",
       "    <tr style=\"text-align: right;\">\n",
       "      <th></th>\n",
       "      <th>Berri 1</th>\n",
       "    </tr>\n",
       "    <tr>\n",
       "      <th>weekday</th>\n",
       "      <th></th>\n",
       "    </tr>\n",
       "  </thead>\n",
       "  <tbody>\n",
       "    <tr>\n",
       "      <th>0</th>\n",
       "      <td>134298</td>\n",
       "    </tr>\n",
       "    <tr>\n",
       "      <th>1</th>\n",
       "      <td>135305</td>\n",
       "    </tr>\n",
       "    <tr>\n",
       "      <th>2</th>\n",
       "      <td>152972</td>\n",
       "    </tr>\n",
       "    <tr>\n",
       "      <th>3</th>\n",
       "      <td>160131</td>\n",
       "    </tr>\n",
       "    <tr>\n",
       "      <th>4</th>\n",
       "      <td>141771</td>\n",
       "    </tr>\n",
       "    <tr>\n",
       "      <th>5</th>\n",
       "      <td>101578</td>\n",
       "    </tr>\n",
       "    <tr>\n",
       "      <th>6</th>\n",
       "      <td>99310</td>\n",
       "    </tr>\n",
       "  </tbody>\n",
       "</table>\n",
       "</div>"
      ],
      "text/plain": [
       "         Berri 1\n",
       "weekday         \n",
       "0         134298\n",
       "1         135305\n",
       "2         152972\n",
       "3         160131\n",
       "4         141771\n",
       "5         101578\n",
       "6          99310"
      ]
     },
     "execution_count": 98,
     "metadata": {},
     "output_type": "execute_result"
    }
   ],
   "source": [
    "weekday_counts = berri_bikes.groupby('weekday').aggregate(sum)\n",
    "weekday_counts"
   ]
  },
  {
   "cell_type": "code",
   "execution_count": 99,
   "metadata": {},
   "outputs": [
    {
     "data": {
      "text/html": [
       "<div>\n",
       "<style>\n",
       "    .dataframe thead tr:only-child th {\n",
       "        text-align: right;\n",
       "    }\n",
       "\n",
       "    .dataframe thead th {\n",
       "        text-align: left;\n",
       "    }\n",
       "\n",
       "    .dataframe tbody tr th {\n",
       "        vertical-align: top;\n",
       "    }\n",
       "</style>\n",
       "<table border=\"1\" class=\"dataframe\">\n",
       "  <thead>\n",
       "    <tr style=\"text-align: right;\">\n",
       "      <th></th>\n",
       "      <th>Berri 1</th>\n",
       "    </tr>\n",
       "  </thead>\n",
       "  <tbody>\n",
       "    <tr>\n",
       "      <th>Monday</th>\n",
       "      <td>134298</td>\n",
       "    </tr>\n",
       "    <tr>\n",
       "      <th>Tuesday</th>\n",
       "      <td>135305</td>\n",
       "    </tr>\n",
       "    <tr>\n",
       "      <th>Wednesday</th>\n",
       "      <td>152972</td>\n",
       "    </tr>\n",
       "    <tr>\n",
       "      <th>Thursday</th>\n",
       "      <td>160131</td>\n",
       "    </tr>\n",
       "    <tr>\n",
       "      <th>Friday</th>\n",
       "      <td>141771</td>\n",
       "    </tr>\n",
       "    <tr>\n",
       "      <th>Saturday</th>\n",
       "      <td>101578</td>\n",
       "    </tr>\n",
       "    <tr>\n",
       "      <th>Sunday</th>\n",
       "      <td>99310</td>\n",
       "    </tr>\n",
       "  </tbody>\n",
       "</table>\n",
       "</div>"
      ],
      "text/plain": [
       "           Berri 1\n",
       "Monday      134298\n",
       "Tuesday     135305\n",
       "Wednesday   152972\n",
       "Thursday    160131\n",
       "Friday      141771\n",
       "Saturday    101578\n",
       "Sunday       99310"
      ]
     },
     "execution_count": 99,
     "metadata": {},
     "output_type": "execute_result"
    }
   ],
   "source": [
    "weekday_counts.index = ['Monday', 'Tuesday', 'Wednesday', 'Thursday', 'Friday', 'Saturday', 'Sunday']\n",
    "weekday_counts"
   ]
  },
  {
   "cell_type": "markdown",
   "metadata": {},
   "source": [
    "接下来我们试试能不能把每条路线都加起来，然后算出一天骑自行车出门的人数之和。\n",
    "to_frame可以把一个Series转换成一个DataFrame"
   ]
  },
  {
   "cell_type": "code",
   "execution_count": 102,
   "metadata": {},
   "outputs": [
    {
     "data": {
      "text/html": [
       "<div>\n",
       "<style>\n",
       "    .dataframe thead tr:only-child th {\n",
       "        text-align: right;\n",
       "    }\n",
       "\n",
       "    .dataframe thead th {\n",
       "        text-align: left;\n",
       "    }\n",
       "\n",
       "    .dataframe tbody tr th {\n",
       "        vertical-align: top;\n",
       "    }\n",
       "</style>\n",
       "<table border=\"1\" class=\"dataframe\">\n",
       "  <thead>\n",
       "    <tr style=\"text-align: right;\">\n",
       "      <th></th>\n",
       "      <th>0</th>\n",
       "    </tr>\n",
       "    <tr>\n",
       "      <th>Date</th>\n",
       "      <th></th>\n",
       "    </tr>\n",
       "  </thead>\n",
       "  <tbody>\n",
       "    <tr>\n",
       "      <th>2012-01-01</th>\n",
       "      <td>226.285714</td>\n",
       "    </tr>\n",
       "    <tr>\n",
       "      <th>2012-01-02</th>\n",
       "      <td>523.285714</td>\n",
       "    </tr>\n",
       "    <tr>\n",
       "      <th>2012-01-03</th>\n",
       "      <td>721.125000</td>\n",
       "    </tr>\n",
       "    <tr>\n",
       "      <th>2012-01-04</th>\n",
       "      <td>975.857143</td>\n",
       "    </tr>\n",
       "    <tr>\n",
       "      <th>2012-01-05</th>\n",
       "      <td>1103.142857</td>\n",
       "    </tr>\n",
       "  </tbody>\n",
       "</table>\n",
       "</div>"
      ],
      "text/plain": [
       "                      0\n",
       "Date                   \n",
       "2012-01-01   226.285714\n",
       "2012-01-02   523.285714\n",
       "2012-01-03   721.125000\n",
       "2012-01-04   975.857143\n",
       "2012-01-05  1103.142857"
      ]
     },
     "execution_count": 102,
     "metadata": {},
     "output_type": "execute_result"
    }
   ],
   "source": [
    "bikes_sum = bikes.sum(axis=1).to_frame()\n",
    "bikes_sum.head()\n",
    "# bikes_sum.index"
   ]
  },
  {
   "cell_type": "code",
   "execution_count": 103,
   "metadata": {},
   "outputs": [
    {
     "data": {
      "text/html": [
       "<div>\n",
       "<style>\n",
       "    .dataframe thead tr:only-child th {\n",
       "        text-align: right;\n",
       "    }\n",
       "\n",
       "    .dataframe thead th {\n",
       "        text-align: left;\n",
       "    }\n",
       "\n",
       "    .dataframe tbody tr th {\n",
       "        vertical-align: top;\n",
       "    }\n",
       "</style>\n",
       "<table border=\"1\" class=\"dataframe\">\n",
       "  <thead>\n",
       "    <tr style=\"text-align: right;\">\n",
       "      <th></th>\n",
       "      <th>0</th>\n",
       "      <th>weekday</th>\n",
       "    </tr>\n",
       "    <tr>\n",
       "      <th>Date</th>\n",
       "      <th></th>\n",
       "      <th></th>\n",
       "    </tr>\n",
       "  </thead>\n",
       "  <tbody>\n",
       "    <tr>\n",
       "      <th>2012-01-01</th>\n",
       "      <td>226.285714</td>\n",
       "      <td>6</td>\n",
       "    </tr>\n",
       "    <tr>\n",
       "      <th>2012-01-02</th>\n",
       "      <td>523.285714</td>\n",
       "      <td>0</td>\n",
       "    </tr>\n",
       "    <tr>\n",
       "      <th>2012-01-03</th>\n",
       "      <td>721.125000</td>\n",
       "      <td>1</td>\n",
       "    </tr>\n",
       "    <tr>\n",
       "      <th>2012-01-04</th>\n",
       "      <td>975.857143</td>\n",
       "      <td>2</td>\n",
       "    </tr>\n",
       "    <tr>\n",
       "      <th>2012-01-05</th>\n",
       "      <td>1103.142857</td>\n",
       "      <td>3</td>\n",
       "    </tr>\n",
       "  </tbody>\n",
       "</table>\n",
       "</div>"
      ],
      "text/plain": [
       "                      0  weekday\n",
       "Date                            \n",
       "2012-01-01   226.285714        6\n",
       "2012-01-02   523.285714        0\n",
       "2012-01-03   721.125000        1\n",
       "2012-01-04   975.857143        2\n",
       "2012-01-05  1103.142857        3"
      ]
     },
     "execution_count": 103,
     "metadata": {},
     "output_type": "execute_result"
    }
   ],
   "source": [
    "bikes_sum.loc[:, 'weekday'] = bikes_sum.index.weekday\n",
    "bikes_sum.head()\n",
    "#type(berri_bikes)"
   ]
  },
  {
   "cell_type": "code",
   "execution_count": 104,
   "metadata": {},
   "outputs": [
    {
     "data": {
      "text/html": [
       "<div>\n",
       "<style>\n",
       "    .dataframe thead tr:only-child th {\n",
       "        text-align: right;\n",
       "    }\n",
       "\n",
       "    .dataframe thead th {\n",
       "        text-align: left;\n",
       "    }\n",
       "\n",
       "    .dataframe tbody tr th {\n",
       "        vertical-align: top;\n",
       "    }\n",
       "</style>\n",
       "<table border=\"1\" class=\"dataframe\">\n",
       "  <thead>\n",
       "    <tr style=\"text-align: right;\">\n",
       "      <th></th>\n",
       "      <th>0</th>\n",
       "    </tr>\n",
       "  </thead>\n",
       "  <tbody>\n",
       "    <tr>\n",
       "      <th>Monday</th>\n",
       "      <td>9.192381e+05</td>\n",
       "    </tr>\n",
       "    <tr>\n",
       "      <th>Tuesday</th>\n",
       "      <td>8.980764e+05</td>\n",
       "    </tr>\n",
       "    <tr>\n",
       "      <th>Wednesday</th>\n",
       "      <td>1.015357e+06</td>\n",
       "    </tr>\n",
       "    <tr>\n",
       "      <th>Thursday</th>\n",
       "      <td>1.065946e+06</td>\n",
       "    </tr>\n",
       "    <tr>\n",
       "      <th>Friday</th>\n",
       "      <td>9.498497e+05</td>\n",
       "    </tr>\n",
       "    <tr>\n",
       "      <th>Saturday</th>\n",
       "      <td>6.643299e+05</td>\n",
       "    </tr>\n",
       "    <tr>\n",
       "      <th>Sunday</th>\n",
       "      <td>6.660604e+05</td>\n",
       "    </tr>\n",
       "  </tbody>\n",
       "</table>\n",
       "</div>"
      ],
      "text/plain": [
       "                      0\n",
       "Monday     9.192381e+05\n",
       "Tuesday    8.980764e+05\n",
       "Wednesday  1.015357e+06\n",
       "Thursday   1.065946e+06\n",
       "Friday     9.498497e+05\n",
       "Saturday   6.643299e+05\n",
       "Sunday     6.660604e+05"
      ]
     },
     "execution_count": 104,
     "metadata": {},
     "output_type": "execute_result"
    }
   ],
   "source": [
    "weekday_counts = bikes_sum.groupby('weekday').aggregate(sum)\n",
    "weekday_counts.index = ['Monday', 'Tuesday', 'Wednesday', 'Thursday', 'Friday', 'Saturday', 'Sunday']\n",
    "weekday_counts"
   ]
  },
  {
   "cell_type": "markdown",
   "metadata": {},
   "source": [
    "作个简单的图看一看\n",
    "[plot](https://pandas.pydata.org/pandas-docs/stable/generated/pandas.DataFrame.plot.html)"
   ]
  },
  {
   "cell_type": "code",
   "execution_count": 105,
   "metadata": {
    "scrolled": false
   },
   "outputs": [
    {
     "data": {
      "text/plain": [
       "<matplotlib.axes._subplots.AxesSubplot at 0x28a68457f60>"
      ]
     },
     "execution_count": 105,
     "metadata": {},
     "output_type": "execute_result"
    },
    {
     "data": {
      "image/png": "iVBORw0KGgoAAAANSUhEUgAAAZMAAAEsCAYAAAAGgF7BAAAABHNCSVQICAgIfAhkiAAAAAlwSFlz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\nmZlZNoeJmZllc5iYmVk2h4mZmWX7/2aoFqo8QTZyAAAAAElFTkSuQmCC\n",
      "text/plain": [
       "<matplotlib.figure.Figure at 0x28a683feba8>"
      ]
     },
     "metadata": {},
     "output_type": "display_data"
    }
   ],
   "source": [
    "%matplotlib inline\n",
    "weekday_counts.plot(grid=True, kind=\"bar\")"
   ]
  },
  {
   "cell_type": "markdown",
   "metadata": {
    "collapsed": true
   },
   "source": [
    "### 2017七月在线 机器学习线上集训 julyedu.com\n",
    "\n",
    "### stock project"
   ]
  },
  {
   "cell_type": "markdown",
   "metadata": {},
   "source": [
    "[stock analysis](https://ntguardian.wordpress.com/2016/09/19/introduction-stock-market-data-python-1/)"
   ]
  },
  {
   "cell_type": "code",
   "execution_count": 106,
   "metadata": {
    "collapsed": true
   },
   "outputs": [],
   "source": [
    "goog = pd.read_csv(\"data/GOOG.csv\", index_col=0)\n",
    "goog.index = pd.to_datetime(goog.index)\n",
    "# goog"
   ]
  },
  {
   "cell_type": "code",
   "execution_count": 107,
   "metadata": {
    "scrolled": true
   },
   "outputs": [
    {
     "data": {
      "text/plain": [
       "<matplotlib.axes._subplots.AxesSubplot at 0x28a684b62b0>"
      ]
     },
     "execution_count": 107,
     "metadata": {},
     "output_type": "execute_result"
    },
    {
     "data": {
      "image/png": "iVBORw0KGgoAAAANSUhEUgAAAYAAAAEACAYAAAC6d6FnAAAABHNCSVQICAgIfAhkiAAAAAlwSFlz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\n+v+5Y9xMfw8DtwAAAABJRU5ErkJggg==\n",
      "text/plain": [
       "<matplotlib.figure.Figure at 0x28a683fe908>"
      ]
     },
     "metadata": {},
     "output_type": "display_data"
    }
   ],
   "source": [
    "goog[\"Adj Close\"].plot(grid = True)"
   ]
  },
  {
   "cell_type": "markdown",
   "metadata": {},
   "source": [
    "```shift```这个function可以帮我们移动时间"
   ]
  },
  {
   "cell_type": "code",
   "execution_count": 108,
   "metadata": {
    "scrolled": false
   },
   "outputs": [
    {
     "data": {
      "text/html": [
       "<div>\n",
       "<style>\n",
       "    .dataframe thead tr:only-child th {\n",
       "        text-align: right;\n",
       "    }\n",
       "\n",
       "    .dataframe thead th {\n",
       "        text-align: left;\n",
       "    }\n",
       "\n",
       "    .dataframe tbody tr th {\n",
       "        vertical-align: top;\n",
       "    }\n",
       "</style>\n",
       "<table border=\"1\" class=\"dataframe\">\n",
       "  <thead>\n",
       "    <tr style=\"text-align: right;\">\n",
       "      <th></th>\n",
       "      <th>Open</th>\n",
       "      <th>High</th>\n",
       "      <th>Low</th>\n",
       "      <th>Close</th>\n",
       "      <th>Adj Close</th>\n",
       "      <th>Volume</th>\n",
       "    </tr>\n",
       "    <tr>\n",
       "      <th>Date</th>\n",
       "      <th></th>\n",
       "      <th></th>\n",
       "      <th></th>\n",
       "      <th></th>\n",
       "      <th></th>\n",
       "      <th></th>\n",
       "    </tr>\n",
       "  </thead>\n",
       "  <tbody>\n",
       "    <tr>\n",
       "      <th>2004-08-19</th>\n",
       "      <td>NaN</td>\n",
       "      <td>NaN</td>\n",
       "      <td>NaN</td>\n",
       "      <td>NaN</td>\n",
       "      <td>NaN</td>\n",
       "      <td>NaN</td>\n",
       "    </tr>\n",
       "    <tr>\n",
       "      <th>2004-08-20</th>\n",
       "      <td>49.813286</td>\n",
       "      <td>51.835709</td>\n",
       "      <td>47.800831</td>\n",
       "      <td>49.982655</td>\n",
       "      <td>49.982655</td>\n",
       "      <td>44871300.0</td>\n",
       "    </tr>\n",
       "    <tr>\n",
       "      <th>2004-08-23</th>\n",
       "      <td>50.316402</td>\n",
       "      <td>54.336334</td>\n",
       "      <td>50.062355</td>\n",
       "      <td>53.952770</td>\n",
       "      <td>53.952770</td>\n",
       "      <td>22942800.0</td>\n",
       "    </tr>\n",
       "    <tr>\n",
       "      <th>2004-08-24</th>\n",
       "      <td>55.168217</td>\n",
       "      <td>56.528118</td>\n",
       "      <td>54.321388</td>\n",
       "      <td>54.495735</td>\n",
       "      <td>54.495735</td>\n",
       "      <td>18342800.0</td>\n",
       "    </tr>\n",
       "    <tr>\n",
       "      <th>2004-08-25</th>\n",
       "      <td>55.412300</td>\n",
       "      <td>55.591629</td>\n",
       "      <td>51.591621</td>\n",
       "      <td>52.239193</td>\n",
       "      <td>52.239193</td>\n",
       "      <td>15319700.0</td>\n",
       "    </tr>\n",
       "  </tbody>\n",
       "</table>\n",
       "</div>"
      ],
      "text/plain": [
       "                 Open       High        Low      Close  Adj Close      Volume\n",
       "Date                                                                         \n",
       "2004-08-19        NaN        NaN        NaN        NaN        NaN         NaN\n",
       "2004-08-20  49.813286  51.835709  47.800831  49.982655  49.982655  44871300.0\n",
       "2004-08-23  50.316402  54.336334  50.062355  53.952770  53.952770  22942800.0\n",
       "2004-08-24  55.168217  56.528118  54.321388  54.495735  54.495735  18342800.0\n",
       "2004-08-25  55.412300  55.591629  51.591621  52.239193  52.239193  15319700.0"
      ]
     },
     "execution_count": 108,
     "metadata": {},
     "output_type": "execute_result"
    }
   ],
   "source": [
    "goog.shift(1).head()"
   ]
  },
  {
   "cell_type": "code",
   "execution_count": 109,
   "metadata": {},
   "outputs": [
    {
     "data": {
      "text/html": [
       "<div>\n",
       "<style>\n",
       "    .dataframe thead tr:only-child th {\n",
       "        text-align: right;\n",
       "    }\n",
       "\n",
       "    .dataframe thead th {\n",
       "        text-align: left;\n",
       "    }\n",
       "\n",
       "    .dataframe tbody tr th {\n",
       "        vertical-align: top;\n",
       "    }\n",
       "</style>\n",
       "<table border=\"1\" class=\"dataframe\">\n",
       "  <thead>\n",
       "    <tr style=\"text-align: right;\">\n",
       "      <th></th>\n",
       "      <th>Open</th>\n",
       "      <th>High</th>\n",
       "      <th>Low</th>\n",
       "      <th>Close</th>\n",
       "      <th>Adj Close</th>\n",
       "      <th>Volume</th>\n",
       "    </tr>\n",
       "    <tr>\n",
       "      <th>Date</th>\n",
       "      <th></th>\n",
       "      <th></th>\n",
       "      <th></th>\n",
       "      <th></th>\n",
       "      <th></th>\n",
       "      <th></th>\n",
       "    </tr>\n",
       "  </thead>\n",
       "  <tbody>\n",
       "    <tr>\n",
       "      <th>2004-08-19</th>\n",
       "      <td>49.813286</td>\n",
       "      <td>51.835709</td>\n",
       "      <td>47.800831</td>\n",
       "      <td>49.982655</td>\n",
       "      <td>49.982655</td>\n",
       "      <td>44871300</td>\n",
       "    </tr>\n",
       "    <tr>\n",
       "      <th>2004-08-20</th>\n",
       "      <td>50.316402</td>\n",
       "      <td>54.336334</td>\n",
       "      <td>50.062355</td>\n",
       "      <td>53.952770</td>\n",
       "      <td>53.952770</td>\n",
       "      <td>22942800</td>\n",
       "    </tr>\n",
       "    <tr>\n",
       "      <th>2004-08-23</th>\n",
       "      <td>55.168217</td>\n",
       "      <td>56.528118</td>\n",
       "      <td>54.321388</td>\n",
       "      <td>54.495735</td>\n",
       "      <td>54.495735</td>\n",
       "      <td>18342800</td>\n",
       "    </tr>\n",
       "    <tr>\n",
       "      <th>2004-08-24</th>\n",
       "      <td>55.412300</td>\n",
       "      <td>55.591629</td>\n",
       "      <td>51.591621</td>\n",
       "      <td>52.239193</td>\n",
       "      <td>52.239193</td>\n",
       "      <td>15319700</td>\n",
       "    </tr>\n",
       "    <tr>\n",
       "      <th>2004-08-25</th>\n",
       "      <td>52.284027</td>\n",
       "      <td>53.798351</td>\n",
       "      <td>51.746044</td>\n",
       "      <td>52.802086</td>\n",
       "      <td>52.802086</td>\n",
       "      <td>9232100</td>\n",
       "    </tr>\n",
       "  </tbody>\n",
       "</table>\n",
       "</div>"
      ],
      "text/plain": [
       "                 Open       High        Low      Close  Adj Close    Volume\n",
       "Date                                                                       \n",
       "2004-08-19  49.813286  51.835709  47.800831  49.982655  49.982655  44871300\n",
       "2004-08-20  50.316402  54.336334  50.062355  53.952770  53.952770  22942800\n",
       "2004-08-23  55.168217  56.528118  54.321388  54.495735  54.495735  18342800\n",
       "2004-08-24  55.412300  55.591629  51.591621  52.239193  52.239193  15319700\n",
       "2004-08-25  52.284027  53.798351  51.746044  52.802086  52.802086   9232100"
      ]
     },
     "execution_count": 109,
     "metadata": {},
     "output_type": "execute_result"
    }
   ],
   "source": [
    "goog.head()"
   ]
  },
  {
   "cell_type": "markdown",
   "metadata": {},
   "source": [
    "datetime indexing"
   ]
  },
  {
   "cell_type": "code",
   "execution_count": 111,
   "metadata": {},
   "outputs": [
    {
     "name": "stdout",
     "output_type": "stream",
     "text": [
      "Date\n",
      "2004-08-19         NaN\n",
      "2004-08-20    0.076433\n",
      "2004-08-23    0.010013\n",
      "2004-08-24   -0.042289\n",
      "2004-08-25    0.010718\n",
      "Name: log-return, dtype: float64\n"
     ]
    }
   ],
   "source": [
    "goog[\"log-return\"] = np.log(goog[\"Adj Close\"] / goog[\"Adj Close\"].shift(1))\n",
    "print(goog[\"log-return\"].head())"
   ]
  },
  {
   "cell_type": "code",
   "execution_count": 112,
   "metadata": {
    "scrolled": false
   },
   "outputs": [
    {
     "data": {
      "text/plain": [
       "<matplotlib.axes._subplots.AxesSubplot at 0x28a69570940>"
      ]
     },
     "execution_count": 112,
     "metadata": {},
     "output_type": "execute_result"
    },
    {
     "data": {
      "image/png": "iVBORw0KGgoAAAANSUhEUgAAAYYAAAEACAYAAAC3adEgAAAABHNCSVQICAgIfAhkiAAAAAlwSFlz\nAAALEgAACxIB0t1+/AAAIABJREFUeJztnXeYFdX5x7/v7rL03hVhAemIUqQIyCKKKPYWS1Sixmii\nKbaoicjPijG2qFGxRGNi10QiCNKW3puIdFjpdSm7sMu29/fHzNw7M3fm3pl755a59/08zz57Z+bM\nzDkzZ8573nLOIWaGIAiCIGhkJTsDgiAIQmohgkEQBEEwIIJBEARBMCCCQRAEQTAggkEQBEEwIIJB\nEARBMCCCQRAEQTAggkEQBEEwIIJBEARBMCCCQRAEQTCQk+wMREOzZs04Ly8vbJrjx4+jbt26iclQ\nApDypDZSntQlncoCxFae5cuXH2Tm5pHS+VIw5OXlYdmyZWHTFBQUID8/PzEZSgBSntRGypO6pFNZ\ngNjKQ0Q/OUknpiRBEATBgAgGQRAEwYAIBkEQBMGACAZBEATBgAgGQRAEwYAIBsExe4+WoapaVvwT\nhHRHBIPgiD1HSzHw2Rl4adrGZGdFEIQ4I4JBcMT+YycBAHM2HUhyTgRBiDciGARXsFiSBCHtEcEg\nOIIo2TkQBCFRiGAQXMEQlUEQ0h0RDIIjCKIyCEKmIIJBEARBMCCCQRAEQTAggkFwhUQlCUL6I4JB\ncIREJQlC5iCCQXCFaAyCkP6IYBAEQRAMiGAQXCEKgyCkPyIYBEEQBAMiGARBEAQDnggGIhpFRBuI\naDMRPWxx/FwiWkFElUR0jelYFRGtUv8mepEfwXskKkkQMoecWC9ARNkAXgdwAYCdAJYS0URm/lGX\nbDuAMQAesLhEKTOfFWs+hMTAEpYkCGlPzIIBQH8Am5l5KwAQ0ScALgcQEAzMXKgeq/bgfkISkLmS\nBCFz8MKUdCqAHbrtneo+p9QiomVEtIiIrvAgP4IgCEIMeKExxEo7Zt5FRB0AzCSiNcy8xZyIiO4E\ncCcAtGzZEgUFBWEvWlJSEjGNn0h2ebYfq/I0H8kuj9dIeVKXaMpy4EQ1/r2uHHefVRM1s1NLW07E\nu/FCMOwCcJpuu426zxHMvEv9v5WICgD0BhAiGJh5AoAJANCvXz/Oz88Pe92CggJESuMnkl2eH3cf\nAxbMRb169ZCff27M10t2ebxGypO6RFOWuz5cjlUH9qK6RVfkn9E6PhmLkkS8Gy9MSUsBdCKi9kSU\nC+B6AI6ii4ioMRHVVH83AzAYOt+EkDpIVJKQiWRqqEXMgoGZKwHcA2AqgHUAPmPmtUT0BBFdBgBE\ndDYR7QRwLYC3iGiteno3AMuIaDWAWQDGm6KZIrJxXzHenbct1mIIDpGgJCETyPSOkCc+BmaeDGCy\nad9Y3e+lUExM5vMWADgjlntf8uo8lFdW4/Yh7WO5jBCBTP9QBCGT8P3I5/JKiYBNJLLmsyCkP74X\nDBoy8Cr1KKuoQuHB48nOhiBETaY2K2kjGKoz9AWmMn/4dBXy/1qAsoqqZGdFEFyR6abTNBIMIhni\nSTQjn2dvPAAAqBSpLQi+wveCQZPsIhcSQzTPOcM7X4KPyVSfmv8Fg/pfNIb4kumqtZBZZPrcYP4X\nDNJiJRQ34ldktQAAR0srsGFvcbKzERWZWof9LxjU/6IxpC4iuzOb695ciAtfnpPsbAgu8L9gEB+D\nIKQ0G/b5U1vIZPwvGFSdQTSG+BJNpz9THXdCGpDhWq7/BYOmMSQ3GxmDm4GEWtJMd+TZceREuQzM\nFFKS9BEMMjNGXInFTyA+hlA27y/BWU9Mw78Xb092VoQwZKrY9r9gUHujYrZIDNE8ZekUh7L1QAkA\noGDD/iTnRLAi0/sy/hcM6huUwbXxxv2nIq/EHgmz9geZaurzv2BQ/2fqC0xp5JVERKqtkIr4XjBk\nkRaVFN/7LNp6CFN+2BPfm6QpYuYLRfQFIZXxvWBAYBxDfBuf6ycswl3/WhHXe/iCKB7zqzM3i0Yn\n+IpMN/X5XjBoGoM0O/Elmu9E0xTeKNgig5xskHorpCK+FwxB57N8Yokg2qdcLeHEBihBmq4QHZmt\nL6SDYFD/y/cVXzL9Q/EaGZgppDL+FwwkU2KkKun2Siav2YMx/1iS7GwICSTd6rBTPBEMRDSKiDYQ\n0WYietji+LlEtIKIKonoGtOxW4lok/p3q+t7q/8z9QUKiePX/16Bgg0Hkp0NQYg7MQsGIsoG8DqA\niwB0B3ADEXU3JdsOYAyAj0znNgHwOIABAPoDeJyIGru7v/JfBENiEJu4NwRG7MvjFFIQLzSG/gA2\nM/NWZi4H8AmAy/UJmLmQmb8HYHZBXghgGjMXMfNhANMAjHJzcyKZEiMRRBO+J28kDBnoY/BTpyLD\no1WR48E1TgWwQ7e9E4oGEO25p1olJKI7AdwJAC1btkRBQQEAoKK8HACwcNFibKsblHMlJSWBNF4S\nj2s6IV7lccre44pMP1Fa6jgf1bpRh8uWLcX+BtmB7WSXJxas8u22PGsOVAIAioqKUvI5xOP9FBQU\nJGV8QDRl2bevDADw47p1aHR0UxxyFT2J+Ha8EAwJgZknAJgAAP369eP8/HwAQM0F04GTJ9G/f390\naF4vkL6goABaGk+YMgkAvL2mCzwvj0sKDx4H5hagdu3ajvNBUycFTCX9+p2N7qc0CBxLdnmiIkwd\ncFse3rAfWL4UTZo0QX5+f48y6B2evh/1uQ0blo+srMQLhmjK8t+9K4E9u9GtW1fk924Tn4xFSSK+\nHS9MSbsAnKbbbqPui/e5APQL9bg5SxCSSybO8ZU5JfU/XgiGpQA6EVF7IsoFcD2AiQ7PnQpgJBE1\nVp3OI9V9jglqplLtUg15I/Zk+pQLfiGD5LaBmAUDM1cCuAdKg74OwGfMvJaIniCiywCAiM4mop0A\nrgXwFhGtVc8tAvAkFOGyFMAT6j7nBUjQJHqCQrQfSlU1Y9eRUm8zkyQyqZfvJX56bpkuuD3xMTDz\nZACTTfvG6n4vhWImsjr3PQDvxZoHGeAWX2L9Tp6e/CMWbS3C0j+dj+b1a3qTqSTBLFEr0SBfqH9I\ng5HPyn+RC4nBTViw/p0s2qoogkdLy73OUsLxoqrJwEwhlUkbwTBrw34cP1mZ3MwIEUmHhtALk0gm\nahx+fPd+zLMX+F4waD6Gv0zZgAe/WJ3k3KQ/mfqh6JFHEB0yCNU/+F4w6DteWw8cT1o+0h0RCEG8\nfBbSWAqpiO8Fg+Av0qEZ9KIxz8S5kvxU1oAPKKm5SB6+FwyZHlYmJB4vGjiptilOhr8f3wsGP8VG\npwPyuL1FnqeQivhSMBwrrUh2FuLGnqOlOHLC/yGd6YwnGkPsl/AdfhWCX6/ahfNfnJ1RnVBfCoYT\nFVWB3+lmShr07EwMfHZGsrMRN9Lh2/LSYZxJzmc/lpWZ8btPVmHz/pLAvsqqamzcV5zEXMUfXwqG\ndKeswrxsRfLx3ycdPzwRbunVn3GEnzoFZPGCtPw/P3UDRr40B9sOpm8UpD8Fg66CRVLvCg8ezygV\nUIg/XtYmqZqpD5kWVVr202EAwMGSk8nJUALwp2AAsP3QCeQ9PAmFh07Yplm89RDy/1qAz5btsE0j\nJIfSSsYXy3cmOxtR4cnI5wxUGfwoA63ynAnTmfhSMDCAmev3RUy3+YBiF1y142hc8/PZ0h1Yu/so\nnp28DhVV1diwtxgb9qanDTLWRlGzM7//w0k88PlqrN5xxItsJRRPNQYPr5Xq+Elzt3JdavkPzs/m\nn/K4xTcruJlx4nReuOWQ+it+L7CyqhoPffl9YLtTy/p44HNlao7C8aPjdl+/c+Sk8k5KdYEEfkHG\nMWQQrGgIjGArEhicmKw8JQBfagxO+eb7PXG/h7lyVFWnnuPYS7z+GPzU6aJ4DIf1Ufljxe9F5aBk\nMG6nIWktGJJButqOvVKbzXLTTyGMQbnghY8h80iXhtTLepCq+FIwMLMrVTxdKmQyePjL7/Hg56tR\n4tGU5hf/ba7vbbM+z77gAH3zopmtNUGQCWZA//oYkp2BDOGTpUpE1+ceRhD5tWElIoC97Semc68z\nBJ8XNaTe+rw84fClxpBK+LWRixYn5S2rqMJfpqy3vwYAbQzfiZOK83nCnC34YVd8o8diJRim6MVC\nPfazq5ZVVKG03H9O+Uj4UQha5Vmcz2mC+eMrq6hC0fFyHC2twFcrYusJh1QcUWXw3vxt+HvBFtvj\nzIytRxXJ8MZsJd0zk9fjklfnJSR/et6avQWvz9rsKK15oFMshLvWkOdmodvYKR7cRYiWcOaiTFhO\n2BPBQESjiGgDEW0mooctjtckok/V44uJKE/dn0dEpUS0Sv1708n9Yn0f1765EH2enIb7P1uN+z5b\nnbZjDuKBk15feWX4yCz9FSqrjGkTPQfNs9+ux/NTN7g6J94NQiqMqC2vYhwo9jYffmxImUMHtAWF\nug8L5JCYBQMRZQN4HcBFALoDuIGIupuS3Q7gMDOfDuAlAM/pjm1h5rPUv7tc3DjqPK9RTRZ7j5UC\nAE5WRq+2myu7PlcHik+mxEeeaCJFZumfmfnTuvndxd5nyCOCJoT0bRA0/rqsDGc/Pd3Ta6bLU0vX\nyEM9XmgM/QFsZuatzFwO4BMAl5vSXA7gA/X3FwBGUIzTooY7ubqasaM42BO1+5C1BiorTmEGZz89\nHf2e8vbj8gORHmdVdfB9bNpXYjiW0r1KD8cxeOmviAcbD6f3eJxoMEclpeir8wQvBMOpAPSTEe1U\n91mmYeZKAEcBNFWPtSeilUQ0m4iGOrpjhBfy9tyteGx+acTLVKfxi00mkcTsm7OD/gfzyOdUDgX0\ncnybVs4jJyrw3rxtKSsgvMRPZdRrBXaCwD+lcU+yw1X3AGjLzIeIqC+A/xJRD2Y+Zk5IRHcCuBMA\n6rVsh00bN4Zc7Pjx43jzqxn4+6oy40327EVBweGQ9CUlSm91xfJlOLgp21GGCwoKAr/n76rA22uM\ni+qsXx8ajaM/xynmc0pKSqK6jtecPFkeMR/bCsMvNLRywzbD9viPglpVmYPrxwMn96xWR+ctWLAA\njWsZ+1Ru38+mw4pA3HrwOJ745kfwwa3o2MhYB1PhfXuZh/nzF6BBzcRL/mi+nT17FRPw+g0bUK32\nIOfMnYvaOYTDRUr7snr1avDuxDehiWgLvCjVLgCn6bbbqPus0uwkohwADQEcYqULcRIAmHk5EW0B\n0BnAMvNNmHkCgAkA0KpjD+7cpTPw4w+GNHXr1sX4JaHOy1atWiE//8zgjimTAAB16tQFiotx9tln\no1vrBuFLqZ6Tn58f2DXu+VkAjI1gt27dgB9WG/bpz4mIxX0A5QN1dZ0oOVpagSHPzcQ7t/TDgA5N\nA/nRyM3NjZiPMaZzzCzaazRTfL4l2PeqRnZCyhnA5nlbkTNjCiqqqzBw0CC0bljbcMzt+6n/UxGw\neGFg+4wze6N/+yau8xQ3vMyDeq1zBp+DZvVqxn49lxQUFKD/OUPw4ncbcf/ILqidG7kTOOXQ98DO\nHejSpQuy1v+AqirG0KFDUa9mDt7bugQ4dABn9OqF/C4tElACI4loC7wwJS0F0ImI2hNRLoDrAUw0\npZkI4Fb19zUAZjIzE1Fz1XkNIuoAoBOArR7kyREVag8wXj6GVKe4rAL3f7Yax8qCS6V+v/MIissq\n8epM6xBOL9Rnc9TSoeP+WMpUqybemCCd1bkdRSfwn5WpMz15aXkV1u6ObrxJMi1JE+ZsxTvztuEf\nC7ZFTmwiEHSgza6qHbAoT2l5FX465P8FfGIWDKrP4B4AUwGsA/AZM68loieI6DI12bsAmhLRZgD3\nAdBCWs8F8D0RrYLilL6LmYuc3NcqMmC9y7DTCjVU8nh5dNM9+N3G+I/5hfhyxU5MmB0qi5MWeeMD\nGe3NADdn6a54fT7+8OnqyAkTxO8/XYnRf5tn6ExEIhXCOyur2PDfKQeKT6JcbScCc+iFeXd3/Ws5\nhj1fEEUOUwtPxjEw82Rm7szMHZn5aXXfWGaeqP4uY+Zrmfl0Zu7PzFvV/V8ycw81VLUPM//P0f08\nqmAVlcp1rvr7Ak+uBwD/XWm2oiksLSzCn/+7JurrVlUzzn56Oiau3h31NezQV/RMCMWLlngu0DL2\n6x8M0VoaqaZNrdiurJ9R5rOR2dEaBV6cFurL1LBqh2ZvPKAc85Gj3Qrfjnx2NYmezf6KKvcheUdL\nw/eU5m0+aLn/2jcX4l+LtuN4lJPRlVYqvZexX/8QObEQF2KMsA7L+r3FWOWDRYu0JxCVOc3inOKy\nCuQ9PMm2Q+UVXgh1c3h7uGv5XC74VDAwsH5PSOCSa8p1gqHM4YIx109YFNM9ezw+NUQNP1Ry0tGK\ndBrMjAlztuBwDL3JS16dG7Y3ZH/v0H1fr9qFaT86z3+sVFUzdh4OLun6+qzNeOSrNXHrpTEzdh8p\n9VRjsBMxdmVIlR5olmmmUSeEC/PdUaSEletDmAFg1Y4jtnNnLf+pyFK7Cp8JJRfVDp+jZR9AG/ms\nbYYTDM5zlpL4UjCUnKzEBwt/ivk6eieoeaAVABw9UYGCDfsN+9bpBJLTb3X5T8ZQ2aMnjILh5neX\n4Lb3l4WdOE1/q+U/HcYzk9cbVo5zyw+7guV4zWKuIDft0O8+WYVf/nMZ+j893ZXtOVr+MmU9hjw3\nC3uOloKZ8fzUDfh4yXbM33wo8slR8MXynThn/EwUq9qeJ+sxWLQ8RPEZW8PM2HUk8rgeJ3jrgLfn\nitfnW86dtaywCFe/sRCv2QRH2BEPXc/qEQSfT3JEw4nySlz75oKYp/nxpWCodFkr7d6R/jpEwJqd\nRzF4/MyAuehX/1qGMf9YiiKbnrnTBuLqN8L7MLS1qe04WVmFA6VBIaZpOsUeNcLa86mqZrw1x37y\nOzV14NeGvcWGntv+4pP4Ps7rawPAnE2Kue5QSbmhgfJymdD9xWXYor6XJduM8RDx/ObtGpRY7vnh\nop8wePxMT2av1TSG6igkgxfPbd8xZXzBhn3uLAZeTIAYOvLZ/mrJUvCWbCvC0sLDeGrSjzFdx5eC\nwSvMH+HL0zdi15HSQEOgaRF2aqtXL1/7yOxM2I98tQZPLCyzPqhj5fbDjk1iVkxcvQtz1UZ3z9Ey\ny7C7gyXlKDx4HJv3F+PCl+fghe+ME9BNWhObczxcz27XkVKcMEWQ6d+ha/OCDk1bW/5TEfIenoT+\nT8/AiBdmW143nt98PHqai7cq9bnQJoyyoqoa4yaudTSvl1ZHl2wrwkeLtzu6v3mhm1gI9MhdugfL\ntHneTc9Xe99OQkyDpwan3X7huw24/LWgZpPs1d1yspQmPdZ6lBGCoei4dYXXPzui0Ia5Sk2QnWU8\nsGirYrLYeTg29fzVGZtw+qOTI2pAszccCOYTCLRM1Qw8++06HCg+iV1HSnHl3xfg0f9EH/lUWh78\n2rYdPG4bdve3GZuwWtUMzGayr1bEz4k4ePxM3PLuEsM+rwRDt7FT8PzU9bj6jYUhx6pMH5kn4ao2\n++waPIZid49mUsZDav23y/bUtXvx/oJCPPlN5F6mpjHc//lqx3XNrRlnxfbQWQrM13Lb8Go+DPNZ\nXyxX6qs5aOTjJTtgh76deHXmZqzeeVR3LOiYXrz1UMjswVas33sME8Jo6ku2FWFlmGeiR5ULrsNy\nQ64T09k+YdaGA9i8X+n9/9//1lqm0Ydpah++1tBkmyTG0m2OhlrYslKNPnlh2kaDUHh/QWHg95Pf\n/Ihuj4Wfk3/JtiK8NXsrHvlqTcCstHZX9E55p0E3X63chfs/V2LrzY1NLI0zABwrq8QdHyy1Pb7s\np8OGhkZ/f3MDboaZMW7iWmzeb21/fX2W9cfptcZQWVWNpyetszxmb0piXPH6fFz+2vyw117+UxFu\ne39pIM8VVdVYpGoMR06UWwo1La3VqzOnjyUwy6k8fXeu/SC0cAscxZIHJ9czJ7E6R3s8K7Yfxs8m\nLHIU4HHJ3+bhmcn2C1td99ZCXOkwpD7bpZPdjowQDIDSAwaUQV32GGt9cZl3zkY9v/14peX+8d8G\nK8e787YFbOaR7u4m7Lasogp3fBAy4wjmbz4YlYPOXAHd+n+smL5uP96ZuxW//XglBjwTOjut/g76\n+0eye+8oKsX7Cwrxi/ftBY8V5jI6+eYWbz2EIc/NDDF9AYpAX1Jo3bmw+6C1wZuRnMi/+fdKzFy/\nH/uOleHbNXvQ6U/fBo499vVa/OrD5bjmjQWGwIvAOgMA/rNyp2EaerPfJppZAlzb9x0skhNtNTN/\ny26K8+48ZSBo0IAQmgmt/mtrWWzaH95/qD/Hqv66DW/XrBuxdtCSPYleynDx3+YGft/54XIseXRE\nYDvZsyrqe2120SyBtBFy98qMTZi+LjS09PNlOzCoY1OLM8ITr+iLp2x61HrMUTxOPwZmxaHvNH3A\nPh28QkiaorJqHCg+ieb1lbmAnv12PXYeLsX6vcXo07axIa3dXD1EZNvg7Sg6YX0gJGdBf9U0i/f8\nnRpWvOPwCXRsXg9A8B3OXL8fE1fvxkZdhN71ExZh4j1Dgnl0lIvYsLtH4cHj2HdM87VFV+9iqa6v\nz9qCOrk5mLpWeYbhOkGfqKYoN/errGbkmszWTsx7erI0wRDjZ5kxGoNbu/CP+rBU07HdR0od2Q69\n4rApvNWcn52HS3FcXTt5474STA8zpuCQjY36v6uicxrHWgGdUF3N+H6n9eAvNz4G/fTJo16ei+5j\np0a897GyCl1jFDzfzH0FpYaFbbR8aT3sk5VVmLp2LwCgVg1rwbCj6ISt1nMiwkjjj5dsx5yNBwKC\nhTl8796wWJL6u0Ttne4/Fqwj3+80RjJFY0qqUCvJ/E1GO/6J8kq8MiPU1GLO970fr8Q7c7ci/68F\nGPu1YgqOXmMAFmw5GBLR5/Ry+tX+XvzO3ky0cKsWOh35ylpxrervfper6Gkj0qOJGtOTMYIBgKsB\nYfrKaV5V7JOlO9AvxtWtlv/kzE/hZHW5zftLDCGxd/xzmWEAmAYz47Nl9hOyRTMdRiIGXv383cW4\nTGdb18aSvD5rM3qN+y6wv4oZy386HGiAw6GZFiMx7C+zsHa30W9TfLISvcZNxXybUe5AUDBoNt+/\nTNmAX324HIu2HsKUH6zzd+/HK7Fub/BeeQ8HZ6k9qTP97D1aFnD6V1czmBmPfLUGt7y3JGDC+Ot3\nG0J8Y3oKNuwPvDvzG/wyzDrosUw4+clSYxTTS9M2BnrfevS3mL3xAP63eneIBllRVY1ZpjFGzIyt\nEUK/9x0tw41vL8bvP1kFQNFComWrg3PNn8fWAyXIe3gSFujqjvZMrXxkbjXyB1TfX6zjVjJGMHy5\nYid6PznNcfpb3gtGv5gbBkBZYCUWwjmb9ERaP9mOIc/NCrFvz1i33ya1Sgy9wXiyYIv1wLXJa4wN\n7CNfrcHVbyzArz5cbpneSfy5GbO2BiiC6VhZJW56x34ZUi26SLunZgo6cqLcEGRg5ovl1o1yua6D\nMPDZGYGOQIdHJwd60XpmbzgQMCtY8dSkdYHIm0iNz83vLsbpj04G4E4wHD1Rgf3FQW1rxfYj+JMu\nkulgSbCjZogQ1F3j1veMUWgaczcdxC/+sRRzNwUj9r5csQvnvTAb81TNhJlDwre/UqfemLF+P+76\ncLlt3XLL/M0HLceJmMfALFa3v9Zp6JqmUGX6lgoPHsf2Q85MiBq7jyrP28q35YaMEQxWPZNk4vTz\nMn+yRcfLQ8YO2HGivApFx8uR9/AkjJu4Fnf8M9TprCeaaS3WeTA1STw4WVkVGJi4YW8xPlu2QxdP\nHxvmdlTf+GhmJ7MpSW/GCifs7cJ9P1oSOmZAE3AfLgqdBeDQ8XJ8bHGOnpnr1Y5ChAcyd9PBgD3d\nLBdKy4O+mqpqxu8/WRmYlnvAs9PR/+kZhvT/1o19+I9ufqQN+4KRYt/aaFRWHNCZWrTesjYw8Z8L\nf0LXx6agqMz6eU/Ra5bqs8x7eJIhCMQpN72z2HKkdvHJShw5ERSA+nDbo6UVeHdeMAKr0hSrnP/X\nghCtZN+xMryyogzr9hwzXNeMVkdnrd+PUS/PcW36FuezD9FmuIxEVTVjvfrBheulaiRyvqN48+t/\nrcCM9ftROH40Lnx5DgDg1kHtAADHIkyEGAmzxtFVF1Y84JkZKBw/Ojjhmtr10pvpohmhvdFiypZY\nA8ByVI1i8g97HJ9jntq+29gpqJubjeWPXYC1u4/hv6t2Y/XOo/jq7nMsnPaR+d/q3QazWSSsnoE2\n1mPyGqVcPxyM/Ly/WLEL3U9RFusyz9sUK6UVVWik/tYE67Qf94WYdSP5yC58aQ6a16+JlfurcNEr\nc9G0bi6WP3aBZVrtSg9+sRoHS8px+ERFIDDCCRmjMaQay35yNmAlFhP+gi0HQ3ohmcKM9aFmM21+\nreMxThmtfyVXvB46rmD93mOBHnAWESZ9vwdL1fDUu/+9IqZ76+momnei5WhpBRZsPogC3QDKcHxl\n43s4Xl6Fro9NCZi3mDmi2dbKd1ZdzbjXJpTbjmk/Kr3+b9cEhZu2yJQmgN/7IbJvcfWOI5aDG71g\n0LMzsWL7YTBzYFpuKxOlppWVnKzE/mOhMx1s2FdsGIh36Hg5Kquq8e/FP4VoBOWV1Tjrie8C5rpf\nfbgsxKwVDtEYUhy7KCIn/OHT1Xjl+rM8zI3/6OPCr+QUfcSH1VTZo14Ohj5nEfCbj7wTBl6ycOsh\nXfRMZO77zJsFg655Y4Flx+ibNc41Fw3NRGzlm4llehiveXfeNuw5UhpW239t1mY8fUVP9H1ymmOt\n6f0FhXhq0jqcrKhG03q5hmN6P+iK7Udw3VvOBZ8IhhTn/Bdnx3T+79Toi0zFbgLEWHCjxG12MMAp\n07DTlsPZzMOhj97SeHn6RkvzW7KY9H1koffR4u3Yc6TUlSlNm/DzlRmbIq4V4wYxJaU48Z7eWHCP\nm3dy179SU1uIJ4UuI2k0rKKrouXl6Zs8u1YimeXQrGfGS6EAiGAQBNfM2RjdxysIXlMep4G2IhgE\nwSWzRTAIKcJbs7fG5bqeCAYiGkVEG4hoMxE9bHG8JhF9qh5fTER5umOPqPs3ENGFXuRHEARBiJ6Y\nBQMRZQMHNsAKAAAgAElEQVR4HcBFALoDuIGIupuS3Q7gMDOfDuAlAM+p53YHcD2AHgBGAfi7ej1B\nEAQhSXihMfQHsJmZtzJzOYBPAFxuSnM5gA/U318AGEHKMNTLAXzCzCeZeRuAzer1BEEQhCThhWA4\nFYB+uaOd6j7LNMxcCeAogKYOzxUEQRASiG+cz0R0JxEtI6LwE/4IgiAIMeGFYNgF4DTddht1n2Ua\nIsoB0BDAIYfnAgCYeQIz92Pmfh7kWRAEQbDBC8GwFEAnImpPRLlQnMkTTWkmArhV/X0NgJmszEQ2\nEcD1atRSewCdAFjPsysIgpCmnNqotmfXalynhuX+q/u0cXyNmAWD6jO4B8BUAOsAfMbMa4noCSK6\nTE32LoCmRLQZwH0AHlbPXQvgMwA/ApgC4DfMnDoTnAiCIMSZl352Jh4a1cXVOdosrc1M8yOtf3IU\n5jw03PIcN/fwxMfAzJOZuTMzd2Tmp9V9Y5l5ovq7jJmvZebTmbk/M2/Vnfu0el4XZv7W7h7pQvtm\ndT293gvXnunp9dKFf/zibE+vd/3Zp0VOJERkYIcmaFBLpmjTc2XvNrjszFPw0R0DHJ9zSkNFw3jq\nip4Yc05eYH+tGtmoX8taY7Bba9wK3zif04XepzWKnMgFvdo0NGw3qav0IM7Oa2yVHA+M7IyWDZzP\ny+5XWjes5en1GtXJxV3DOobsf+eWflhpMyd+qnH/BZ2TnQUAwPT7huHLuwfh/G4tkp2VhOBk0Tsi\nwjmnN3N97Wb1amLcZT0cpXWz+p4IhkQT/ZK5ltSpmYPfjugU2P6D+vG3aVwHHZuHaif3nNcJgzu6\nr4CpSrumdQzbYy/pjo9+OQBdWzXw9D5V1dWoa9HjOlJagcZ1cy3OiC///c1g1+ecYepEmPnX7QOw\nZtxI3DSgbcixt2/xJuaDGWjRoBb6tmuCd241anWjerTy5B6pxoo/R9dxuGf46bbHtDY+3PKtZmrX\nEI3BEc9edUbC75nj4kU64dRGtVFDd82R3VsCAH4+sB1yc2wqgsfCKZ5c1NO+sejaqn5IUerkZuOc\nOAi+u/NPt5xuO9bV4Jzy59HdDNuEYOOw7olRjq5Rr2bQhPOORUM/pFMz1K9VAw1qh5oiLlDrlUYH\ni05HODTtINzEtNf0de4cjZZkaMvRdhx6nmrfudHakWwXWkC2i7bH14LhirNOcX2OvmFORvvYpG5o\nxezWWqkAbiS6nho5wdfYskEtFI4fjb7tGocsQamZPMhHkiG/S3PbY1N+f25gHWeNcJV/pKlxc8rV\nfdoETHRmql0usXdtlI3fHUM7GLYZwPndlPI4+eC/HzcSfds1xtNX9sT340aidSN7U5uTqJbnr+ll\nOKZvcP84qqvhWINaOfjLNWeiad1c3BfGnNUiQqN9+5D2hu2+7RrjicudmVE0/nfPkLDHr+rjfnxt\nbo67ZvQ3wzuiRnbkd1ZRFVq3Jt4zGLf3zA1oCm4aezf4WjDUiqIh/ZnOiehC2FryxV2DXJ9jNu+c\n362FwYHcqUU919e0Uv2tSIbJI1Zq2mk9KpowPVM1k+SE+eBeub534Hf/9k0c56Gh2oO+aUBbDOzg\n/Dwrzs6L7XwNZsarN/TGrAfyHTVMzIod+6YB7dCgVo2wDYqdLfqZq3qG7NN8OeE6G+Mu64Em6vrE\nAzs0tU3Xq421/+0Wda1us2mlf/smuGVQHn51rlFoFo4fjbGXmKdrUyAi20Z527MX48Xr3K94uPGp\ni1yFgj54YdeIS/a2blgLQyx8Dr3aNMLQNjUC70gEgwU3DWjn+pwb+gcb0Vh7zp1a1re044fDrC6/\nfH3vQAxzdhahbZM6VqeFpX6tGtjyzMUhJgW73mysAjGR1IkQSfHWzX3xuxGd0EZ9btlZzqp0NCa9\npvVq4pM73XcG9Hg1fz5D6Rg5jXIza6OtG9rHzZsbm37tlEAGvZDWqlaLBrVwXtcWeO3G3lgzbiTm\nPDgcLdRF57u2qg8A6NDcfWdHzzkdm6Fw/Gjbjo1VLber+1lkv466Wft0Q4Pa7iKtIumZCx8ZEVLe\n9U8Gv283JqRo8K1gIIrsTPOaC3sYTRFZBGw5cNzx+XVys8NWPiKgXVPlQ9fMBBovDAs/ACY7i0LC\n0exWGvORXECnlvXDHj+tSR384YLOgXWYnX4wLi1AMV9H66WGW7bRzpRotb+Di7DnwvGjQ7SKhrVr\n2HZCzELzi7vPCUnTq00jnN+tJf5ydS+8N+Zs9Mtrgvq1aqBt0zq4qs+pePPnfTH5t0Ox4OHzcFaM\nkXj6V/r0lT0xtFNkH5Lde8kiMjTKSx4dEZLm87sGYbwD/+PoM1oHTFkNLfwy4fNnncG+7YzRhPee\nF9SS9BYSzZRUFaclHn0rGJ6+wr3j+M2f9zFUMju11q4zadYw3IR/AUClajNs1SBo3yUEezdZRPjj\nRV3w3ph+GGEK5Wta2/2riofGsOWZi6M/OY5oH0g41Vpfbre+gVh57cY+uPTMU5DX1F4jvNHGJFhZ\nHSpMGtVxZhb81bAOtsdY10TqI670kS5mB+i4S7ujZYOayM3Jwju39kOXVqGCm4gwqmcrZGURTnE5\novdMi86e/o3eNKAdBqhmQG1/XtNQIWlnLsoiCjTKy/58Plo0qIUW9Wviun5BTf7svCa4vn9k8+zr\nN/XBLYPyACjaZDhOUU1uT1+pmOPs2vN/3tYfsx/MD2zbmTw14a3V42v6tnE9SC4cvhUM9aMYJDOq\nZ+vA726tG6CtzUd6SqPaKBw/2lBZgNAGNZxgaNM49IOoUD9wveMvO4sCLzc7i1AzJxvndW3pTa9e\nrXxf/2YwVj8+0osrxs2maYdTh7wmGLyO+rJi4j3BUFG2MQr8eXQ3DD492PHocUoDvHpD77DhhfpD\n+vp9YRRhnGMv6Y7C8aPxyEXdIqYdd2l3TPn9uYHtq/u0wdBTc7D8z+fjm3uHGtKOGdweix8933V+\nnPLkFaF+DLMmrMl07fO7oX/o4MMb7PxuumfcSO3lL/nT+fjLNbENFP1Zv9A8fPeHc/Ht75Tnl60K\nqkih4nVr5gSsBuEwawx/vfZM/DrfPrzVLb4VDPHs8Vk1Lg+N6hIiGML1vK3izB9XHWL602pkZ6Eq\noDEE97vVRqzQnlGd3GzXqq4VTrLk1BEeiaZ1c/HJnQPRyuFAtUpNY9D1FM2OYn2ViaX29GrTCL8c\naoyQeaS/MZ9N6uaima4X6eR96s2M8x46D5N/OxRL/jTClUP05oGK3y2cEz5wP7UmDu/aAqfpzEq1\namTj9jNqRuwFxwOzA3rsJd0tnbBAMP9EhJd/ZnxGNXOyA9FVr55XJxCqSwR8efc5GHNOXtSdnPO7\ntTB0DgDryKTOLesHIg61uhftd202+2mmxDq51h3kaHyVenwrGMLZ1pw8ezsbHwDkZBsfyw392+LX\n+acjx+TYDPeSm5k+qmevOgNjBrcPOS+LgMZ1ctG2SR08pTOPORm48sr14RsMrYRmv0a0lWbbs6Mj\npolVo9Aagdq52WEjWMxoTtimOofde2PORueWiuOzU4t6qFUj+P7CvX8zThyLXZpk48XrzsRwNbzW\nXD0djX7V/c7NyUL3UxqgRf1arsIhNQ3GyVuw03ZSiduGtA+pv5oz+3RdBJ/WHvQ4JfzARgLQu21j\njLusR9TO5tq5ObYRVHaYtRy3U9mc1sRogXj6yp546+a+lqY8AJjz0HC8NyY4VuUxmygtO9JOMNw8\nsB1uG9ze8pgVVjZYTWO489yOaNukDh4YqcReP35pd8O8JG7aQDttQAmfy8Kch4ZjlG4wl5NLX35W\n+JhrvYlKz13DOhoGOF16pvvxIHbEqulogw7t2m07m/kjF3fFB7f1N3ywdXJzAhFfj1zcFUSEjs3r\non6tnJDrN6tXE3+1+Vjvzg+dCsOKq/q0CfSyq5kN79D8XAa0b4I140zmPV2SaB9jgl0nSWF0r9b4\n5t4huFw3jknzw/RuG9pgM9x1BOxoqmqBZm3RDdp7vdzhGCzNlGruaNbJzYloYtRcUyO6tggZAxKJ\ntBMMT17R03LqAjusQlY1Nfz0FvUw56HhgY+9qWleErNmYUbvaNT3Tm5VhcuHt9uvYuow6jIsWsUw\nC7Cc7Cyc371lIBQ0loqup13TOmjZwNs5igDjR2FnM6+Zk41hnUMHw2nVRHvP0+8bhjXjLgzpK1s1\nHG/+vC9uGtA27FgK82nas2Y29se1119LvVarhrVCJjvzdOChn2KSo6DnqQ0N39TlZ52KMefk4cEL\ng4PrYgk/taJhnRpY9ufzXWsLQLCTpuXJad76tmuMZ648A09Z+F6c39P1qT4WDB53jQZ1aIoHL1S8\n+maTkVs0e+cbP+8b2KfvMY7u1RqF40djaCf7Ub1WPe9oHO521wKCHdQsIqz9vwvDXsNqAjkzn/9q\nkGEAoVd894dzAzHxbgma07T/yg+zILDqVY7q2QpPX2kd/Wb3YV98hhLg0LttY4zQhRxrjf7ADk0w\n7tLulk5WL9qxaL6KZI6Ef/TirpETOaBWjWyMu6yHtS+Ngc/uGoQ7hrQ3TAvillianIApCcb/kSAi\n3Digre2MqWHvqbuGW3w7/211GB+D1RGt995AfcDdTbbIIZ2aBQbyOBmuHo6z1RAz/eAst1f00vls\ndyl9hakb4YMJN2eR/hqVFsP43dC8fk1kZ5Eh9K5J3Vx8c+8QlKljAB6/tDuWbCtydD029dQC+y3S\nRZNz8zn5XVqgcLzii+ncsj5++/FKAEFNgogCviYz+hzGakryi75w57kd8czk9XG5tv4Z9DilIXqc\n4m7c039/MxiNatdA/l8LACBkhLUbAr6fBL4YbUxPNFPt+FZjqHQ5sGPm/fkAlAFRX9w1CM+oPUH9\ni6p0EAvvBn1PzEmUiB5LwaAW+YLuLR3NaW/nY4gGqyiwJ03z1BABFGONqlUjG1ueuTjEf5KTnRXo\n7f1icHuDNhaOYDSI9X6Naoar7nY8BP1tLu3A4UhzS5IjopkyR89ZpzVCnm4gYaSxDeEG8gUFtmZK\niilrjhjetQV+M7wj/s/htNx6fKsxhItKslL59FE+/Wzmq9HmfRnW2Zt54vUv323jrD/XvErTC9ed\nGdB8whEpRM5NjpzI4SwiVw75RBDQmuBEY3CvMzg1LzhpCJrVq4nc7CyUV1VHbba4pm8bfLxku22I\np550d1T/+44B+N/q3aiftTMh9/v4lwPx455juPqNBSFLddqZNONJdhYZfC5u8K3GUDNMbyDaMLwO\nzeth4SPn4a4wo0Wjxe3AKy35yO4tsSzK+dyrPTQrWDlnrZ5yqgkGO43B3CoygFE9WhtCIMPispxO\nG4LnrjkDpzSshdwIgQ129G3XGIXjRzsaJJXqODFfhiOvWV3cO6JTQhphQAmx1uaJMt/SysRXu0Y2\nHr/UXRhpovCtYAi31KLV1NZOad2wdswVyersPm2tV1SzQ/uw++lWYnvrlr4Y0bUF6tkMajFjZ183\n46S4VhraaY2N4yGIvPGNeEm1jdHdXJqPfzkQDevUwH9+HTovUDicdkKcCswre7fBgkdGuFqAJR2w\nsoPH4ihOFubxCroj6oHgnnVPjsIvXITWJxL/PXkANbKyUCNMj2rMOXnYXbgZd1w6BFN/2IvOYSJa\n4vH5mSvFqY1qo4XLMM5urRtgzoPDDQNbzunYzNUiNME5mKyPF5+sNGzfnd8RbxRssUzbtXXowKHh\nXVvgy7sH4eo3FgJQzDUpJhcCzbZZYOl9Jhef0Qo9T1Uck047BW4jeeLda/30zoFhtehwJPudzbx/\nmGU0Ubh5nlKV4ABDk+nS5GNIdWLSGIioCRFNI6JN6n/LbjER3aqm2UREt+r2FxDRBiJapf45Mu53\nbR0+dDE7izC0TQ20blgbYwa3d9SYejEAxozW64v22m2b1ompQXEarqZl74+juoasFKZhN6VG33ZB\nf42iMUTO1we3WY/fOMXjdZoBndYUst86vdun7fTVeqEATPn9UNtjAzo0dT2Laar4GDo0r2c5/cbp\nLaILUU4mds/U7GNIdWI1JT0MYAYzdwIwQ902QERNADwOYACA/gAeNwmQm5j5LPVvf4z5cU08X5S2\n5GayFsixta+bOG7SHKJFcT6Hv1nD2jUwrHNz1LLo3MajnQo8gyzrHhwQHHQGOK8PrdTVxpo7nE/I\n7rnUd2Eu8Xoda8F77ASAXQclVYnVlHQ5gHz19wcACgD80ZTmQgDTmLkIAIhoGoBRAD6O8d6ecFHP\n1nh91hbDYCSvaNGgFp696gyc19WbKCe32EXkmDlis27xH0d1xc7DJ/BzdWK2SBAiN6xBv4fVMUe3\ncUW1ncag/h/RtQUevzQYzudU1b9lUB5aNKgVs4PUNy1FAmnTuDZ2Hi5NdjaiwlZDVf8nyhEeK7EK\nhpbMvEf9vReAVet6KoAduu2d6j6NfxBRFYAvATzF8bDphKHnqQ0DA5Kc8s/b+gcmohtzTh7eX1Bo\nm/YGB/O6x4uAXTOCXqhfTlRfca/sfarj2U2Vcx2YrdT/VlpMPCZ1s/sgtWp238jOaKhb49jpd5uV\nRYFRzo7S21w41Zz1qcCU35+LEx5psYnGvr4p//0SUxBRMBDRdABW3aI/6TeYmYnI7Zd9EzPvIqL6\nUATDzQD+aZOPOwHcCQAtW7ZEQUGB5QW1/SUlJbZpvKBwN1AIoKIotLe9cOFCNKnlbcBXNOWpqFQ+\nrvnz5qF2jn2N3L52Gbarv7cUBsuzaOECNLIoR+8W2cgmhORn9uzZEfNUWVmJgoICtWE25qnsZLnn\n7+zoUaXnuXLlChRvC5qMSkpOAACWL1uGAw2C+8t1I7fd5CXS+5kzZ7ZlyHJVZfB5u7mfF8+prKwM\nALBo0SJsqWN8z/H+fpzwo0fX8aosTq5RWc1oWz8L17avMqSvqFDe8/z581G3RmzSIRHvJqJgYGbb\nVTmIaB8RtWbmPUTUGoCVj2AXguYmAGgDxeQEZt6l/i8moo+g+CAsBQMzTwAwAQD69evH+fnKJb/r\nVoyRL80JpNP2FxQUBH7Hk23ztwHrjVX4nEHnuOppOyGa8nT5YR6+33kUw4edaz0KdMokADBcd+u8\nYHkGDx6M5vVDbegh2TBfR922Iic7B/n5+cieEZomNzfX83f20g/zgKNH0a9vX4Nztu7KOUBJMfr3\nP9tguz9ZWQVMmwIArvJi+37UZzE8P99ykGPu3GlARbnz+1m8s2iptWgmUFaKgQMHGtZjABL3/SSC\nmMvi8pmff17ovuyCqUBlJYYMGRLz2iiJeDexdmsnAtCijG4F8LVFmqkARhJRY9XpPBLAVCLKIaJm\nAEBENQBcAuAHtxnoHGFN4HhjZfhKFevA+7/ojw9u6287NUBTC6e4Pu/xUHutnHPZgegt7+9nN8jP\nLqwwXuGE9svFCn6gXZglWZ1wgerDrOlibY1kEquPYTyAz4jodgA/AbgOAIioH4C7mPkOZi4ioicB\nLFXPeULdVxeKgKgBIBvAdABvx5gfQUeTurmWU1FrTLtvGIqOlxv26RuqeNi/jYPuGK/f2AcdmtfF\nRa/MjUvIsCYAzGVJdKimne9F2z3/YYtuppASrBk3Muy4KSeMv7oXHhrVNeb5mxJFTIKBmQ8BGGGx\nfxmAO3Tb7wF4z5TmOABnM6EJcaFJ3Vw0CRNKG61gOL9bS0xft8/ymNYe92qWjbm7KjG0czOUq7Om\nxqOtPuu0Rvhh1zE0qmNU3+0G/yVa22tYuwYOlpRHPQWGEH+imfLaTG5Olufm5Xjiy5HPQmKIdqbU\nejUj94pu7ZGLZ24aiga1aqC6mnFVn1MD6xV7ydhLeuDG/u1CbOgaIet4e56D8HxwW398t3afpS8n\nUaSK6VNIHUQwxAE/f2d6k0d8TEnK/5wsCjTWWVnkasF7N2hrJ4fkI/DL5GNIcCvZpnEdT6fbFgQv\nEP1VMNCrTXAxk2ibyHCNa8osQG8z2ZmfhbogeIUIhhhJkWbOM3rrZoGNp8aQbALRUab9mWRWSfBY\nUsFHiGCIB2nSuETbSF7Sy/mI4GRhXpxdwy9TFghCPBHBINgSrcYQj3mn4oWIAUEIJa0Ew9u39Et2\nFtIKLwa4ZREC80oBqWN6s19QJfMQLUkwk1aCYXgX+8FcicQvi3FEwgsfw8z78zHnoeHBHSkiGSLN\nPKtfICndEV+DYCatwlWT3fNpUCsHx8oqkeuTYe+R8OJxNq1nHECXKlFJ4TSGD2/vjy5hVv0ThHQn\nvQRDEu9dMycLCx4ZgY37imOeJCtVSLagTRZDO6WG5pkoMvU9C/akR9dWJZn1+8YBbVGvZg76tLVc\n3TRj0RqdoZ2U5VVTxWqhmU/MK7tlEinyKoQUJM0EQ+Z+5KmOFhiQKo3RmeoU3HV8MqmZICSStDIl\nJQNx3LkjVZ7Xi9edhbvzi5O2HrcgpDJppTEkk3SJRIoXqabM1c7NRq82jSInzABS7NUIKYAIBiEh\naIIzNfQFAQDuzu8IAGhcR7QmwYiYkoSEoGkMKWJJEgDcMigPtwzKS3Y2hBQkLTSGxy/tnjYhoukG\nmf5nGl/cNQh/ubpXsrMhCK5IC43hF4Pb4xeDkzOnfX6XFnhq0jpcembqTxyXTDI1YqxfXhP0y2vi\n2fXmPjRctC4h7qSFYEgmp7eoh8Lxo5OdDU/53z1DsGbX0ZiuQWQ0G2WmWPAeu5XoBMFLRDAIIZzR\npiHO0C3YEw0Eo6M5QxUGQfAlMfkYiKgJEU0jok3qf8thv0Q0hYiOENE3pv3tiWgxEW0mok+JSMIj\n0gRZ50AQ/EuszueHAcxg5k4AZqjbVjwP4GaL/c8BeImZTwdwGMDtMeZHSDHM8iA3Oy3iHQQhrYn1\nK70cwAfq7w8AXGGViJlnACjW7yOlC3kegC8inS/4Dyv94NGLu+J/9w5JeF4EQXBHrD6Glsy8R/29\nF4CbpbuaAjjCzJXq9k4Ap8aYHyFFsLIc3Xlux8RnRBAE10QUDEQ0HUAri0N/0m8wMxNR3ALpiOhO\nAHcCQMuWLVFQUBA2fUlJScQ0fsIP5dHnj6uVqjB3zlzUzAmVEn4ojxukPKlLOpUFSEx5IgoGZj7f\n7hgR7SOi1sy8h4haA9jv4t6HADQiohxVa2gDYFeYfEwAMAEA+vXrx/n5+WEvXlBQgEhp/EQql6fu\nzCk4Xl5lyF/W9G+BymoMPXco6uSGVrNULk80SHlSl3QqC5CY8sRqSpoI4FYA49X/Xzs9UdUwZgG4\nBsAnbs8XUof5D5+HE+VVhn0SgyQI/iVW5/N4ABcQ0SYA56vbIKJ+RPSOloiI5gL4HMAIItpJRBeq\nh/4I4D4i2gzF5/BujPkRkkCjOrk4pZH1Gsky66wg+I+YNAZmPgRghMX+ZQDu0G0PtTl/K4D+seRB\nSE1k2IIg+BcJKhfiCstE24LgO0QwCHEhsP6CyAVB8B0iGIS4IKYkQfAvIhiEuCIKgyD4DxEMQlzQ\nFAYWW5Ig+A4RDEJc0GZTFbEgCP5DBIMQF4IaQ1KzIQhCFIhgEOJDQDIkNReCIESBCAYhLpzbqTkA\nIDdHqpgg+A1Z2lOICy9cdyYeuLALaudmJzsrgiC4RLpzQlyoVSMb7ZvVTXY2BEGIAhEMgiAIggER\nDIIgCIIBEQyCIAiCAREMgiAIggERDIIgCIIBEQyCIAiCAfLjJGdEdADATxGSNQNwMAHZSRRSntRG\nypO6pFNZgNjK046Zm0dK5EvB4AQiWsbM/ZKdD6+Q8qQ2Up7UJZ3KAiSmPGJKEgRBEAyIYBAEQRAM\npLNgmJDsDHiMlCe1kfKkLulUFiAB5UlbH4MgCIIQHemsMQiCIAhRIIJBEARBMOBrwUBEzdT/FCmt\nHyCiPkTUNNn58Jp0eT8AQES+/mb0EFHaLJZBRK3U/2lR14hoMBF1TNb9fVnJiag3EU0G8AcAYJ87\nStTyTAewGGmweBIRDSKivxHRGCAt3k9/IvotADBzdbLzEytE1I+IPgQwNpmNjxeo384MAE8CaVHX\n+hDRdwBmAmiYrHz4SjAQURYRfQDgHwA+YuY/JTtPsUBENYnoTQBvA/g7gDkARqvHfNnzIaJrALwG\nYCmAEUT0FBH1THK2ooaIfg/gPwD+TEQXqft82dNWv5/XALwFYAaA1gDGEVGd5ObMPaTwEoB/AviA\nmX+Z7DzFAhHVIKK3oEQc/Q3AVAD56rGEt9O+6p0yczURNQbwIzP/CwCIqDmAgz7tKbQGsBzA75m5\njIg6AWhKROTT8gBADwBfMfOHRDQNwIcAqohoJzMfSXLeomEzgEsAdADwCIBvmbnKj+9I/X5mAvgz\nMx8honkAxgKoTHLWXMPMTET1AKxk5n8CgKr9bPOpVlcTwGwobUGpalIeQkQ5zJzw95PyGgMRXUdE\n9xHREHXXrQBGEtGDRDQLinSdoAqIlEctzwNE1J+ZC5n5bWYuUw/XA3CaWul90SvVvZ9B6q4iALWI\nqCEz7wWwD0A7AINsL5JCENFAIuqs2zUJwPfq/xLNpATAL+/HUB5m/koVChcAWAalc/IMEXVLWiYd\nYvFu7gcwgIgeI6L5AJ4H8D4R9U1ODt1hKs9xZv6ImUvV7RwAVcxcmQyNIWUFAxFlE9FYAH9Ud71B\nRNcx82EAr0DxL4wDcA+A+gBuIqKU1YBM5akG8C4RXaUe097DfwFcRkR1mLkqSVl1hMX7eZuILgSw\nBEALAO8Q0WdQGtBiAC3V81LSREZEjYhoEoBpAK4jIm3BamLmKlV4vwDgdiJqloxenBvsyqN7/ocB\n3MjMFwA4DuBWImqZnNyGx64szHwMwOsAroGizd0AYA+Aq1O5o2hVHrUzSLq2YDaAK4mocTI0oJQV\nDGrD2AXA/cz8IoDHAfyGiDoz85MAujPzbGY+BOBjAFek8sdqU557iKib7sUfgOJ06pqkbDrGojzj\noPTgiqF8pF8AmMLMN0Bxql+knpeq5pe6UOy696q/zwVCnM0FABapaUBE/RObRVfYlYfV/8uYebKa\n9oXmiscAAAYOSURBVFsAvQGcSEI+nWBZFgBg5r8ByGfmOcx8Ekrnqh9StyxAmHejmvuyABSqaYYl\nI4MpJRiI6BYiGkZEjdRd+wA0Vu1sXwFYA+BGIsoy2as7AlicauYXB+X5EcDPdPkuAXA6AFbPT6ne\ndYTyfAFgE4DrmbmImT9l5vfUdF2gfLApha48DZh5FxTH32cAyqCYKE5R0xEQEIZPAfgjER0F0CeV\n3pHT8ljQF0pPO2U6Vm7KoloRNPoC2AkgpTRuN3VN7YzUVE8t0/YnMr9JFwyq+tRa9RfcCuAmAK+r\njqWDAM6AYnsHgFcBXImgWWIEES0GcB6At1PB/BJleVoAADMXATgEpTwp0bt2WZ6/AbiciFqr544g\norVQeqPzEp/7UGzK84ZqHipj5hMApgNoDN17ICWi53QAHwGYD2AIM7+Z7HcUTXnU8xoQ0QVEtBTA\nKADP6OzbSSGGstQkonwiWgbgQgDjdX67pBFDXctm5uNQ2ueB2v5E5j2pgkF9AAzFR7CLmUcAuBvA\nMSiNzN8BnAOgFyl29w0A1gO4Wr1EXSiV4BJm3pz4EhiJoTzX6i5zKzO/kOCsWxJDea5TL1EIJQLm\nEmbekfACmAhTniLoJiZj5vlQ8t6ViBqqZauGUu6xzDyCmdckvgRGYihPLdU+zwCeYuZLmXlj4ksQ\nJIay1FZNSOVIkbIAMdc1rYN7GzOPS2zOFZLirFVNJ08CyCZloFoDqKofK6GA90BRbV+A0kO7Hkr0\nxKdQ1N2latqJic99KB6UZ7F2LfWDTSoelGeRmnYLgC0JL4AJB+X5HYDdRDSMmWerp70NxWw0DUA7\nIurLzDsB7E98CYzEWJ7pANoSUW9mnp6E7BvwsCwLkpD9EDyqa72ZeTczlyehCACSoDEQ0TAosfuN\nocSIPwmgAsBwUp15qsT8PwDPsxKj/B2AW4hoJRRhlvTemoaUJy3KUw3FeT5Od+poAL8GsBrAGapQ\nSDoelGcVlPLsTlyurUmnsgCe1rXkl4eZE/oHYCiAm3Xbf4eiYo0BsFzdlwWgFZTIltPUfa0AdEh0\nfqU8GVWezwDkqfsuB3BusvOfzuVJp7KkW3mS4WNYDuAzCkbizAfQlpnfh6J+3cuKVG0DoIJV2zQz\n72XmrUnIbySkPEib8lQxcyEAMPPXzDwnGRmOQDqVJ53KAqRReRIuGJj5BDOf5KCD5QIo8fsA8AsA\n3YjoGyhjE1YkOn9ukfKkNtGUhyh1QlDNpFN50qksQHqVJ2kjhVWpylBCTzUncjGARwH0hDLnya4k\nZc81Up7Uxk15WNXvU5l0Kk86lQVIj/IkM1y1GkANKLHwvVRJ+hiAamae56dGR0XKk9pIeVKXdCoL\nkA7lSaaDA8rgjWoog59uT2ZepDxSHr/9pVN50qks6VAeUguRFIioDYCbAbzIyiAVXyPlSW2kPKlL\nOpUF8H95kioYBEEQhNQj6XMlCYIgCKmFCAZBEATBgAgGQRAEwYAIBkEQBMGACAZBEATBgAgGQYgA\nEVUR0SoiWktEq4nofoqwQDsR5RHRjYnKoyB4iQgGQYhMKTOfxcw9oMx/cxGUNbvDkQdABIPgS2Qc\ngyBEgIhKmLmebrsDlMWimgFoB+BDKKsJAsA9zLyAiBYB6AZgG4APoKx4Nx5APpT1fF9n5rcSVghB\ncIEIBkGIgFkwqPuOAOgCZXK0amYuI6JOAD5m5n5ElA/gAWa+RE1/J4AWzPwUEdWEMiXztcy8LaGF\nEQQHJG12VUFIE2oAeI2IzoKyhGNnm3QjoUyodo263RBAJygahSCkFCIYBMElqimpCsr6z48D2Afg\nTCg+uzK70wDcy8xTE5JJQYgBcT4LgguIqDmANwG8xoodtiGAPayszHUzAG31rmIA9XWnTgVwNxHV\nUK/TmYjqQhBSENEYBCEytYloFRSzUSUUZ/OL6rG/A/iSiK4FMAvAcXX/9wCqiGg1gPcBvAIlUmmF\numrXAQBXJKoAguAGcT4LgiAIBsSUJAiCIBgQwSAIgiAYEMEgCIIgGBDBIAiCIBgQwSAIgiAYEMEg\nCIIgGBDBIAiCIBgQwSAIgiAY+H8PgAhGlVWfAQAAAABJRU5ErkJggg==\n",
      "text/plain": [
       "<matplotlib.figure.Figure at 0x28a69599fd0>"
      ]
     },
     "metadata": {},
     "output_type": "display_data"
    }
   ],
   "source": [
    "goog[\"log-return\"].plot(grid=True)"
   ]
  },
  {
   "cell_type": "code",
   "execution_count": 114,
   "metadata": {
    "scrolled": true
   },
   "outputs": [
    {
     "ename": "TypeError",
     "evalue": "Empty 'DataFrame': no numeric data to plot",
     "output_type": "error",
     "traceback": [
      "\u001b[1;31m---------------------------------------------------------------------------\u001b[0m",
      "\u001b[1;31mTypeError\u001b[0m                                 Traceback (most recent call last)",
      "\u001b[1;32m<ipython-input-114-454380685462>\u001b[0m in \u001b[0;36m<module>\u001b[1;34m()\u001b[0m\n\u001b[0;32m      1\u001b[0m \u001b[0maapl\u001b[0m \u001b[1;33m=\u001b[0m \u001b[0mpd\u001b[0m\u001b[1;33m.\u001b[0m\u001b[0mread_csv\u001b[0m\u001b[1;33m(\u001b[0m\u001b[1;34m\"data/AAPL.csv\"\u001b[0m\u001b[1;33m,\u001b[0m \u001b[0mindex_col\u001b[0m\u001b[1;33m=\u001b[0m\u001b[1;36m0\u001b[0m\u001b[1;33m)\u001b[0m\u001b[1;33m\u001b[0m\u001b[0m\n\u001b[0;32m      2\u001b[0m \u001b[0maapl\u001b[0m\u001b[1;33m.\u001b[0m\u001b[0mindex\u001b[0m \u001b[1;33m=\u001b[0m \u001b[0mpd\u001b[0m\u001b[1;33m.\u001b[0m\u001b[0mto_datetime\u001b[0m\u001b[1;33m(\u001b[0m\u001b[0maapl\u001b[0m\u001b[1;33m.\u001b[0m\u001b[0mindex\u001b[0m\u001b[1;33m)\u001b[0m\u001b[1;33m\u001b[0m\u001b[0m\n\u001b[1;32m----> 3\u001b[1;33m \u001b[0maapl\u001b[0m\u001b[1;33m[\u001b[0m\u001b[1;34m\"Adj Close\"\u001b[0m\u001b[1;33m]\u001b[0m\u001b[1;33m.\u001b[0m\u001b[0mplot\u001b[0m\u001b[1;33m(\u001b[0m\u001b[0mgrid\u001b[0m\u001b[1;33m=\u001b[0m\u001b[1;32mTrue\u001b[0m\u001b[1;33m)\u001b[0m\u001b[1;33m\u001b[0m\u001b[0m\n\u001b[0m",
      "\u001b[1;32mc:\\users\\jasonchuzewei\\anaconda3\\envs\\py36\\lib\\site-packages\\pandas\\plotting\\_core.py\u001b[0m in \u001b[0;36m__call__\u001b[1;34m(self, kind, ax, figsize, use_index, title, grid, legend, style, logx, logy, loglog, xticks, yticks, xlim, ylim, rot, fontsize, colormap, table, yerr, xerr, label, secondary_y, **kwds)\u001b[0m\n\u001b[0;32m   2451\u001b[0m                            \u001b[0mcolormap\u001b[0m\u001b[1;33m=\u001b[0m\u001b[0mcolormap\u001b[0m\u001b[1;33m,\u001b[0m \u001b[0mtable\u001b[0m\u001b[1;33m=\u001b[0m\u001b[0mtable\u001b[0m\u001b[1;33m,\u001b[0m \u001b[0myerr\u001b[0m\u001b[1;33m=\u001b[0m\u001b[0myerr\u001b[0m\u001b[1;33m,\u001b[0m\u001b[1;33m\u001b[0m\u001b[0m\n\u001b[0;32m   2452\u001b[0m                            \u001b[0mxerr\u001b[0m\u001b[1;33m=\u001b[0m\u001b[0mxerr\u001b[0m\u001b[1;33m,\u001b[0m \u001b[0mlabel\u001b[0m\u001b[1;33m=\u001b[0m\u001b[0mlabel\u001b[0m\u001b[1;33m,\u001b[0m \u001b[0msecondary_y\u001b[0m\u001b[1;33m=\u001b[0m\u001b[0msecondary_y\u001b[0m\u001b[1;33m,\u001b[0m\u001b[1;33m\u001b[0m\u001b[0m\n\u001b[1;32m-> 2453\u001b[1;33m                            **kwds)\n\u001b[0m\u001b[0;32m   2454\u001b[0m     \u001b[0m__call__\u001b[0m\u001b[1;33m.\u001b[0m\u001b[0m__doc__\u001b[0m \u001b[1;33m=\u001b[0m \u001b[0mplot_series\u001b[0m\u001b[1;33m.\u001b[0m\u001b[0m__doc__\u001b[0m\u001b[1;33m\u001b[0m\u001b[0m\n\u001b[0;32m   2455\u001b[0m \u001b[1;33m\u001b[0m\u001b[0m\n",
      "\u001b[1;32mc:\\users\\jasonchuzewei\\anaconda3\\envs\\py36\\lib\\site-packages\\pandas\\plotting\\_core.py\u001b[0m in \u001b[0;36mplot_series\u001b[1;34m(data, kind, ax, figsize, use_index, title, grid, legend, style, logx, logy, loglog, xticks, yticks, xlim, ylim, rot, fontsize, colormap, table, yerr, xerr, label, secondary_y, **kwds)\u001b[0m\n\u001b[0;32m   1892\u001b[0m                  \u001b[0myerr\u001b[0m\u001b[1;33m=\u001b[0m\u001b[0myerr\u001b[0m\u001b[1;33m,\u001b[0m \u001b[0mxerr\u001b[0m\u001b[1;33m=\u001b[0m\u001b[0mxerr\u001b[0m\u001b[1;33m,\u001b[0m\u001b[1;33m\u001b[0m\u001b[0m\n\u001b[0;32m   1893\u001b[0m                  \u001b[0mlabel\u001b[0m\u001b[1;33m=\u001b[0m\u001b[0mlabel\u001b[0m\u001b[1;33m,\u001b[0m \u001b[0msecondary_y\u001b[0m\u001b[1;33m=\u001b[0m\u001b[0msecondary_y\u001b[0m\u001b[1;33m,\u001b[0m\u001b[1;33m\u001b[0m\u001b[0m\n\u001b[1;32m-> 1894\u001b[1;33m                  **kwds)\n\u001b[0m\u001b[0;32m   1895\u001b[0m \u001b[1;33m\u001b[0m\u001b[0m\n\u001b[0;32m   1896\u001b[0m \u001b[1;33m\u001b[0m\u001b[0m\n",
      "\u001b[1;32mc:\\users\\jasonchuzewei\\anaconda3\\envs\\py36\\lib\\site-packages\\pandas\\plotting\\_core.py\u001b[0m in \u001b[0;36m_plot\u001b[1;34m(data, x, y, subplots, ax, kind, **kwds)\u001b[0m\n\u001b[0;32m   1692\u001b[0m         \u001b[0mplot_obj\u001b[0m \u001b[1;33m=\u001b[0m \u001b[0mklass\u001b[0m\u001b[1;33m(\u001b[0m\u001b[0mdata\u001b[0m\u001b[1;33m,\u001b[0m \u001b[0msubplots\u001b[0m\u001b[1;33m=\u001b[0m\u001b[0msubplots\u001b[0m\u001b[1;33m,\u001b[0m \u001b[0max\u001b[0m\u001b[1;33m=\u001b[0m\u001b[0max\u001b[0m\u001b[1;33m,\u001b[0m \u001b[0mkind\u001b[0m\u001b[1;33m=\u001b[0m\u001b[0mkind\u001b[0m\u001b[1;33m,\u001b[0m \u001b[1;33m**\u001b[0m\u001b[0mkwds\u001b[0m\u001b[1;33m)\u001b[0m\u001b[1;33m\u001b[0m\u001b[0m\n\u001b[0;32m   1693\u001b[0m \u001b[1;33m\u001b[0m\u001b[0m\n\u001b[1;32m-> 1694\u001b[1;33m     \u001b[0mplot_obj\u001b[0m\u001b[1;33m.\u001b[0m\u001b[0mgenerate\u001b[0m\u001b[1;33m(\u001b[0m\u001b[1;33m)\u001b[0m\u001b[1;33m\u001b[0m\u001b[0m\n\u001b[0m\u001b[0;32m   1695\u001b[0m     \u001b[0mplot_obj\u001b[0m\u001b[1;33m.\u001b[0m\u001b[0mdraw\u001b[0m\u001b[1;33m(\u001b[0m\u001b[1;33m)\u001b[0m\u001b[1;33m\u001b[0m\u001b[0m\n\u001b[0;32m   1696\u001b[0m     \u001b[1;32mreturn\u001b[0m \u001b[0mplot_obj\u001b[0m\u001b[1;33m.\u001b[0m\u001b[0mresult\u001b[0m\u001b[1;33m\u001b[0m\u001b[0m\n",
      "\u001b[1;32mc:\\users\\jasonchuzewei\\anaconda3\\envs\\py36\\lib\\site-packages\\pandas\\plotting\\_core.py\u001b[0m in \u001b[0;36mgenerate\u001b[1;34m(self)\u001b[0m\n\u001b[0;32m    241\u001b[0m     \u001b[1;32mdef\u001b[0m \u001b[0mgenerate\u001b[0m\u001b[1;33m(\u001b[0m\u001b[0mself\u001b[0m\u001b[1;33m)\u001b[0m\u001b[1;33m:\u001b[0m\u001b[1;33m\u001b[0m\u001b[0m\n\u001b[0;32m    242\u001b[0m         \u001b[0mself\u001b[0m\u001b[1;33m.\u001b[0m\u001b[0m_args_adjust\u001b[0m\u001b[1;33m(\u001b[0m\u001b[1;33m)\u001b[0m\u001b[1;33m\u001b[0m\u001b[0m\n\u001b[1;32m--> 243\u001b[1;33m         \u001b[0mself\u001b[0m\u001b[1;33m.\u001b[0m\u001b[0m_compute_plot_data\u001b[0m\u001b[1;33m(\u001b[0m\u001b[1;33m)\u001b[0m\u001b[1;33m\u001b[0m\u001b[0m\n\u001b[0m\u001b[0;32m    244\u001b[0m         \u001b[0mself\u001b[0m\u001b[1;33m.\u001b[0m\u001b[0m_setup_subplots\u001b[0m\u001b[1;33m(\u001b[0m\u001b[1;33m)\u001b[0m\u001b[1;33m\u001b[0m\u001b[0m\n\u001b[0;32m    245\u001b[0m         \u001b[0mself\u001b[0m\u001b[1;33m.\u001b[0m\u001b[0m_make_plot\u001b[0m\u001b[1;33m(\u001b[0m\u001b[1;33m)\u001b[0m\u001b[1;33m\u001b[0m\u001b[0m\n",
      "\u001b[1;32mc:\\users\\jasonchuzewei\\anaconda3\\envs\\py36\\lib\\site-packages\\pandas\\plotting\\_core.py\u001b[0m in \u001b[0;36m_compute_plot_data\u001b[1;34m(self)\u001b[0m\n\u001b[0;32m    350\u001b[0m         \u001b[1;32mif\u001b[0m \u001b[0mis_empty\u001b[0m\u001b[1;33m:\u001b[0m\u001b[1;33m\u001b[0m\u001b[0m\n\u001b[0;32m    351\u001b[0m             raise TypeError('Empty {0!r}: no numeric data to '\n\u001b[1;32m--> 352\u001b[1;33m                             'plot'.format(numeric_data.__class__.__name__))\n\u001b[0m\u001b[0;32m    353\u001b[0m \u001b[1;33m\u001b[0m\u001b[0m\n\u001b[0;32m    354\u001b[0m         \u001b[0mself\u001b[0m\u001b[1;33m.\u001b[0m\u001b[0mdata\u001b[0m \u001b[1;33m=\u001b[0m \u001b[0mnumeric_data\u001b[0m\u001b[1;33m\u001b[0m\u001b[0m\n",
      "\u001b[1;31mTypeError\u001b[0m: Empty 'DataFrame': no numeric data to plot"
     ]
    }
   ],
   "source": [
    "aapl = pd.read_csv(\"data/AAPL.csv\", index_col=0)\n",
    "aapl.index = pd.to_datetime(aapl.index)\n",
    "aapl[\"Adj Close\"].plot(grid=True)"
   ]
  },
  {
   "cell_type": "code",
   "execution_count": 115,
   "metadata": {
    "scrolled": true
   },
   "outputs": [
    {
     "ename": "ValueError",
     "evalue": "Unable to parse string \"null\" at position 165",
     "output_type": "error",
     "traceback": [
      "\u001b[1;31m---------------------------------------------------------------------------\u001b[0m",
      "\u001b[1;31mValueError\u001b[0m                                Traceback (most recent call last)",
      "\u001b[1;32mpandas\\_libs\\src\\inference.pyx\u001b[0m in \u001b[0;36mpandas._libs.lib.maybe_convert_numeric (pandas\\_libs\\lib.c:56156)\u001b[1;34m()\u001b[0m\n",
      "\u001b[1;31mValueError\u001b[0m: Unable to parse string \"null\"",
      "\nDuring handling of the above exception, another exception occurred:\n",
      "\u001b[1;31mValueError\u001b[0m                                Traceback (most recent call last)",
      "\u001b[1;32m<ipython-input-115-2824b8554c23>\u001b[0m in \u001b[0;36m<module>\u001b[1;34m()\u001b[0m\n\u001b[1;32m----> 1\u001b[1;33m \u001b[0maapl\u001b[0m\u001b[1;33m[\u001b[0m\u001b[1;34m\"Adj Close\"\u001b[0m\u001b[1;33m]\u001b[0m \u001b[1;33m=\u001b[0m \u001b[0mpd\u001b[0m\u001b[1;33m.\u001b[0m\u001b[0mto_numeric\u001b[0m\u001b[1;33m(\u001b[0m\u001b[0maapl\u001b[0m\u001b[1;33m[\u001b[0m\u001b[1;34m\"Adj Close\"\u001b[0m\u001b[1;33m]\u001b[0m\u001b[1;33m)\u001b[0m\u001b[1;33m\u001b[0m\u001b[0m\n\u001b[0m",
      "\u001b[1;32mc:\\users\\jasonchuzewei\\anaconda3\\envs\\py36\\lib\\site-packages\\pandas\\core\\tools\\numeric.py\u001b[0m in \u001b[0;36mto_numeric\u001b[1;34m(arg, errors, downcast)\u001b[0m\n\u001b[0;32m    124\u001b[0m             \u001b[0mcoerce_numeric\u001b[0m \u001b[1;33m=\u001b[0m \u001b[1;32mFalse\u001b[0m \u001b[1;32mif\u001b[0m \u001b[0merrors\u001b[0m \u001b[1;32min\u001b[0m \u001b[1;33m(\u001b[0m\u001b[1;34m'ignore'\u001b[0m\u001b[1;33m,\u001b[0m \u001b[1;34m'raise'\u001b[0m\u001b[1;33m)\u001b[0m \u001b[1;32melse\u001b[0m \u001b[1;32mTrue\u001b[0m\u001b[1;33m\u001b[0m\u001b[0m\n\u001b[0;32m    125\u001b[0m             values = lib.maybe_convert_numeric(values, set(),\n\u001b[1;32m--> 126\u001b[1;33m                                                coerce_numeric=coerce_numeric)\n\u001b[0m\u001b[0;32m    127\u001b[0m \u001b[1;33m\u001b[0m\u001b[0m\n\u001b[0;32m    128\u001b[0m     \u001b[1;32mexcept\u001b[0m \u001b[0mException\u001b[0m\u001b[1;33m:\u001b[0m\u001b[1;33m\u001b[0m\u001b[0m\n",
      "\u001b[1;32mpandas\\_libs\\src\\inference.pyx\u001b[0m in \u001b[0;36mpandas._libs.lib.maybe_convert_numeric (pandas\\_libs\\lib.c:56638)\u001b[1;34m()\u001b[0m\n",
      "\u001b[1;31mValueError\u001b[0m: Unable to parse string \"null\" at position 165"
     ]
    }
   ],
   "source": [
    "aapl[\"Adj Close\"] = pd.to_numeric(aapl[\"Adj Close\"])"
   ]
  },
  {
   "cell_type": "code",
   "execution_count": 116,
   "metadata": {
    "collapsed": true
   },
   "outputs": [],
   "source": [
    "aapl[\"Adj Close\"][aapl[\"Adj Close\"] == \"null\"] = np.NaN"
   ]
  },
  {
   "cell_type": "code",
   "execution_count": 119,
   "metadata": {
    "collapsed": true
   },
   "outputs": [],
   "source": [
    "aapl[\"Adj Close\"] = aapl[\"Adj Close\"].ffill()"
   ]
  },
  {
   "cell_type": "code",
   "execution_count": 118,
   "metadata": {
    "scrolled": true
   },
   "outputs": [
    {
     "data": {
      "text/plain": [
       "Date\n",
       "1980-12-12    0.423252\n",
       "1980-12-15    0.401170\n",
       "1980-12-16    0.371726\n",
       "1980-12-17    0.380927\n",
       "1980-12-18    0.391969\n",
       "Name: Adj Close, dtype: object"
      ]
     },
     "execution_count": 118,
     "metadata": {},
     "output_type": "execute_result"
    }
   ],
   "source": [
    "aapl[\"Adj Close\"].head()"
   ]
  },
  {
   "cell_type": "code",
   "execution_count": null,
   "metadata": {
    "collapsed": true
   },
   "outputs": [],
   "source": []
  },
  {
   "cell_type": "code",
   "execution_count": 120,
   "metadata": {
    "collapsed": true,
    "scrolled": false
   },
   "outputs": [],
   "source": [
    "aapl[\"Adj Close\"] = aapl[\"Adj Close\"].apply(lambda x: float(x))"
   ]
  },
  {
   "cell_type": "code",
   "execution_count": 121,
   "metadata": {
    "scrolled": true
   },
   "outputs": [
    {
     "data": {
      "text/plain": [
       "<matplotlib.axes._subplots.AxesSubplot at 0x28a696e9b38>"
      ]
     },
     "execution_count": 121,
     "metadata": {},
     "output_type": "execute_result"
    },
    {
     "data": {
      "image/png": "iVBORw0KGgoAAAANSUhEUgAAAXoAAAEACAYAAAC9Gb03AAAABHNCSVQICAgIfAhkiAAAAAlwSFlz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\nMaaf+3/4eAywoAUHuAAAAABJRU5ErkJggg==\n",
      "text/plain": [
       "<matplotlib.figure.Figure at 0x28a696e0320>"
      ]
     },
     "metadata": {},
     "output_type": "display_data"
    }
   ],
   "source": [
    "aapl[\"Adj Close\"].plot(grid=True)"
   ]
  },
  {
   "cell_type": "code",
   "execution_count": 122,
   "metadata": {},
   "outputs": [
    {
     "data": {
      "text/plain": [
       "<matplotlib.axes._subplots.AxesSubplot at 0x28a698b5710>"
      ]
     },
     "execution_count": 122,
     "metadata": {},
     "output_type": "execute_result"
    },
    {
     "data": {
      "image/png": "iVBORw0KGgoAAAANSUhEUgAAAXcAAAEHCAYAAABV4gY/AAAABHNCSVQICAgIfAhkiAAAAAlwSFlz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\nYCInAAAAAElFTkSuQmCC\n",
      "text/plain": [
       "<matplotlib.figure.Figure at 0x28a698c8e48>"
      ]
     },
     "metadata": {},
     "output_type": "display_data"
    }
   ],
   "source": [
    "goog.join(aapl, lsuffix=\" goog\", rsuffix=\" aapl\").plot()"
   ]
  },
  {
   "cell_type": "code",
   "execution_count": 124,
<<<<<<< HEAD
   "metadata": {
    "collapsed": true
   },
=======
   "metadata": {},
>>>>>>> ZeweiChu/master
   "outputs": [],
   "source": [
    "msft = pd.read_csv(\"data/MSFT.csv\", index_col=0)\n",
    "msft.index = pd.to_datetime(msft.index)"
   ]
  },
  {
   "cell_type": "code",
   "execution_count": 125,
   "metadata": {
    "collapsed": true
   },
   "outputs": [],
   "source": [
    "stocks = pd.DataFrame({\"AAPL\": aapl[\"Adj Close\"].bfill(),\n",
    "                      \"MSFT\": msft[\"Adj Close\"].bfill(),\n",
    "                      \"GOOG\": goog[\"Adj Close\"].bfill()})"
   ]
  },
  {
   "cell_type": "code",
   "execution_count": 126,
   "metadata": {},
   "outputs": [
    {
     "data": {
      "text/plain": [
       "<matplotlib.axes._subplots.AxesSubplot at 0x28a698d4198>"
      ]
     },
     "execution_count": 126,
     "metadata": {},
     "output_type": "execute_result"
    },
    {
     "data": {
      "image/png": "iVBORw0KGgoAAAANSUhEUgAAAYAAAAEACAYAAAC6d6FnAAAABHNCSVQICAgIfAhkiAAAAAlwSFlz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\nPwEXz6Bw617nAAAAAElFTkSuQmCC\n",
      "text/plain": [
       "<matplotlib.figure.Figure at 0x28a697556a0>"
      ]
     },
     "metadata": {},
     "output_type": "display_data"
    }
   ],
   "source": [
    "# stocks = pd.to_numeric(stocks)\n",
    "stocks.plot(grid=True)"
   ]
  },
  {
   "cell_type": "code",
   "execution_count": 127,
   "metadata": {
    "collapsed": true
   },
   "outputs": [],
   "source": [
    "valid_stocks = stocks[stocks.index >= stocks[\"GOOG\"].first_valid_index()]"
   ]
  },
  {
   "cell_type": "code",
   "execution_count": 133,
   "metadata": {},
   "outputs": [
    {
     "data": {
      "text/html": [
       "<div>\n",
       "<style>\n",
       "    .dataframe thead tr:only-child th {\n",
       "        text-align: right;\n",
       "    }\n",
       "\n",
       "    .dataframe thead th {\n",
       "        text-align: left;\n",
       "    }\n",
       "\n",
       "    .dataframe tbody tr th {\n",
       "        vertical-align: top;\n",
       "    }\n",
       "</style>\n",
       "<table border=\"1\" class=\"dataframe\">\n",
       "  <thead>\n",
       "    <tr style=\"text-align: right;\">\n",
       "      <th></th>\n",
       "      <th>AAPL</th>\n",
       "      <th>GOOG</th>\n",
       "      <th>MSFT</th>\n",
       "    </tr>\n",
       "    <tr>\n",
       "      <th>Date</th>\n",
       "      <th></th>\n",
       "      <th></th>\n",
       "      <th></th>\n",
       "    </tr>\n",
       "  </thead>\n",
       "  <tbody>\n",
       "    <tr>\n",
       "      <th>2004-08-19</th>\n",
       "      <td>1.981210</td>\n",
       "      <td>49.982655</td>\n",
       "      <td>18.360205</td>\n",
       "    </tr>\n",
       "    <tr>\n",
       "      <th>2004-08-20</th>\n",
       "      <td>1.987016</td>\n",
       "      <td>53.952770</td>\n",
       "      <td>18.414366</td>\n",
       "    </tr>\n",
       "    <tr>\n",
       "      <th>2004-08-23</th>\n",
       "      <td>2.005080</td>\n",
       "      <td>54.495735</td>\n",
       "      <td>18.495850</td>\n",
       "    </tr>\n",
       "    <tr>\n",
       "      <th>2004-08-24</th>\n",
       "      <td>2.061206</td>\n",
       "      <td>52.239193</td>\n",
       "      <td>18.495850</td>\n",
       "    </tr>\n",
       "    <tr>\n",
       "      <th>2004-08-25</th>\n",
       "      <td>2.132171</td>\n",
       "      <td>52.802086</td>\n",
       "      <td>18.706341</td>\n",
       "    </tr>\n",
       "  </tbody>\n",
       "</table>\n",
       "</div>"
      ],
      "text/plain": [
       "                AAPL       GOOG       MSFT\n",
       "Date                                      \n",
       "2004-08-19  1.981210  49.982655  18.360205\n",
       "2004-08-20  1.987016  53.952770  18.414366\n",
       "2004-08-23  2.005080  54.495735  18.495850\n",
       "2004-08-24  2.061206  52.239193  18.495850\n",
       "2004-08-25  2.132171  52.802086  18.706341"
      ]
     },
     "execution_count": 133,
     "metadata": {},
     "output_type": "execute_result"
    }
   ],
   "source": [
    "valid_stocks.head()"
   ]
  },
  {
   "cell_type": "code",
   "execution_count": 128,
   "metadata": {},
   "outputs": [
    {
     "data": {
      "text/plain": [
       "<matplotlib.axes._subplots.AxesSubplot at 0x28a69a068d0>"
      ]
     },
     "execution_count": 128,
     "metadata": {},
     "output_type": "execute_result"
    },
    {
     "data": {
      "image/png": "iVBORw0KGgoAAAANSUhEUgAAAYAAAAEACAYAAAC6d6FnAAAABHNCSVQICAgIfAhkiAAAAAlwSFlz\nAAALEgAACxIB0t1+/AAAIABJREFUeJzsnXd8lEX6wL+zJdn0CqmUUASpoYuKROyAImc55FBOUTwb\ndvH86YntFNtZzxPl1NMT7Kh4YgGCooJSIi0oBALpgZC2qVvm98e7m91NNr0n8/188pn6zjuTwDzv\nPPPMM0JKiUKhUCh6H7rO7oBCoVAoOgclABQKhaKXogSAQqFQ9FKUAFAoFIpeihIACoVC0UtRAkCh\nUCh6KUoAKBQKRS9FCQCFQqHopSgBoFAoFL0UJQAUCoWil2Lo7A40RGRkpBw4cGCj9crKyggICGj/\nDnUQajxdl540FlDj6eq0dDzbt28/LqXs01i9Li0ABg4cyLZt2xqtl5ycTFJSUvt3qINQ4+m69KSx\ngBpPV6el4xFCHGlKvUZVQEKIfwsh8oUQe9zywoUQ3wghDjjCMEe+EEK8IIQ4KITYJYQY7/bMQkf9\nA0KIhc0ekUKhUCjalKbsAbwJnF8r715gvZRyKLDekQa4ABjq+FkMvAKawAAeBKYAk4EHnUJDoVAo\nFJ1DowJASvkdcKJW9hzgLUf8LeBit/z/SI0tQKgQIgY4D/hGSnlCSlkIfENdoaJQKBSKDqSlewBR\nUsocRzwXiHLE44AMt3qZjrz68puNxWIhMzOTysrKmryQkBBSU1Nb0lyXpCnjMZlMxMfHYzQaO6hX\nCoWip9HqTWAppRRCtNmtMkKIxWjqI6KiokhOTvYoDwwMJCoqiri4OIQQANhsNvR6fVt1odNpbDxS\nSoqLi/n1118xm80d2LOWYTab6/wduys9aSygxtPVae/xtFQA5AkhYqSUOQ4VT74jPwvo51Yv3pGX\nBSTVyk/21rCUcgWwAmDixImy9g54amoq8fHxNZM/QGlpKUFBQS0cStejKeMJCgrCbDYzceLEDupV\ny+lJlhk9aSygxtPVafJ4SnNBSgiOaVb7LT0I9hngtORZCHzqln+VwxroFKDYoSr6CjhXCBHm2Pw9\n15HXItwn/96K+h0oFIoanhkGzw5v9mNNMQNdBfwEDBNCZAohFgFPAOcIIQ4AZzvSAP8DDgEHgdeA\nGwGklCeAR4BfHD8PO/K6LWvWrEEIwf79+z3yn3vuOUwmE8XFxTV5ycnJhISEkJiYyMknn8xDDz1U\nkz979uwO7bdCoehhFGU0XqcemmIFdIWUMkZKaZRSxkspV0opC6SUZ0kph0opz3ZO5g7rn5uklIOl\nlKOllNvc2vm3lHKI4+eNFve4i7Bq1SpOP/10Vq1aVSd/0qRJfPzxxx7506ZNIyUlhW3btvHOO++w\nY8eOjuyuQqHoqay5wTO94bEmP6p8AbUAs9nM5s2bWblyJatXr67JT0tLw2w28+ijj9YRDE4CAgKY\nMGECBw8e7KjuKhSKnow5zxV/YRx892STH+3SriAa46HP97Ivu6RNrYBGxAbz4IUjG6zz6aefcv75\n53PSSScRERHB9u3bmTBhAqtXr2bevHlMmzaN3377jby8PKKiojyeLSgoYMuWLTzwwAMcO3asTfqs\nUCh6MbHj4fjvWvzEIdD7NPlRtQJoAatWrWLevHkAzJs3r+Zr35mv0+m45JJL+OCDD2qe+f777xk3\nbhznnnsu9957LyNHNixkFAqFoklYKz3TtuomP9qtVwDOL/WONAM9ceIEGzZsYPfu3QghsNlsCCFY\nuHAhBw4c4JxzzgGgurqahIQEbr75ZkDbA1i7dm2H9FGhUPQiyo63+FG1AmgmH374IVdeeSVHjhwh\nPT2djIwMEhISuPXWW1m2bBnp6emkp6eTnZ1NdnY2R440ySmfQqFQNJ+SbDiyucWPKwHQTFatWsXc\nuXM98i655BIOHz5cJ3/u3Lkem8TeWL9+PfHx8TU/P/30U5v3WaFQ9FCSH2/V491aBdQZbNy4sU7e\nkiVLWLJkSZ38Z599tibu7TRfUlISFRUVdfJLS0tb10mFQtHzsVlhx3+0eMQQCIyCIz80qwm1AlAo\nFIruSMEBVzxiCMSMbXYTSgAoFApFd0S6+eDUG2HKX5rdhBIACoVC0R2pKnHFpy8Fo3+zm1ACQKFQ\nKLojhQ4Lw5t+hujR2iqgmSgBoFAoFN2RwsNaGJaghT6BzW5CCQCFQqHojlgqNLcPBofrB33zjTqV\nAGgheXl5zJ8/n0GDBjFhwgSmTp3KJ598AsDmzZuZPHkyw4cPZ/jw4axYscLj2RUrVtSUTZ48mc2b\nXQc5rFYrDz30EEOHDiUxMZHExEQee6zp3v0UCkUvQdpA1PKBdvErsOBj7/W9oM4BtAApJRdffDEL\nFy7k3XffBeDIkSN89tln5ObmMn/+fNasWcP48eM5fvw45513HnFxccyaNYu1a9fy6quvsnnzZiIj\nI9mxYwcXX3wxP//8M9HR0dx///3k5OSwe/duTCYTpaWlPPPMM508YoVC0eWw20FXSwAkzm9WE2oF\n0AI2bNiAj48Pf/mLy+xqwIAB3HLLLbz88sv8+c9/Zvz48QBERkby5JNP8sQT2p05y5cv56mnniIy\nMhKA8ePHs3DhQl5++WXKy8t57bXXeOqppzCZTIB29eOyZcs6doAKhaLr420F0Ey69wrgy3shdzd+\nNmuL9F9eiR4NFzzRYJW9e/fWTPDeyhYuXOiRN3HiRPbu3VtTPmHChDrlb731FgcPHqR///496n5j\nhULRTthtoGvdN7xaAbQBN910E2PHjmXSpElt2u4bb7xBYmIi/fr1IyOj5de+KRSKHoitqlm+/73R\nvVcAji/1ig50Bw0wcuRIPvroo5r0yy+/zPHjx5k4cSLnnXce27dvZ86cOTXl27dvr/H/P2LECLZv\n386MGTPqlA8ZMoSjR4/WuLe++uqrufrqqxk1ahQ2m63DxqdQKLoB5SfAL7xVTagVQAuYMWMGlZWV\nvPLKKzV55eXlgLYaePPNN0lJSQG0G8CWLl3KPffcA8A999zD0qVLKSgoACAlJYU333yTG2+8EX9/\nfxYtWsRdd91FZaV2yYPNZqO6uukXPCgUil5CRSH4t04AdO8VQCchhGDNmjXcfvvtPPnkk/Tp04eA\ngACWL19OTEwM77zzDtdddx2lpaVIKbntttu48MILAbjooovIysri1FNPRQhBUFAQ77zzDjExMQA8\n9thjLF26lFGjRhEUFISfnx8LFy4kNja2M4esUCi6AhVFUJAG8RO0FUDkkFY1pwRAC4mJianX1/8Z\nZ5zBL7/8Uu+zN9xwAzfccIPXMqPRyEMPPeThSlqhUCgA+OxmSP0c7joA5QXgN7lVzSkVkEKhUHQX\nUj/XwoKDUHEC/CNa1ZwSAAqFQtGVOfwdWKug6Kgr740LwG6FkPhWNa1UQAqFQtFF8SvPhLduglGX\nwJ6P6lboM7xV7asVgEKhUHRRDNYyLeJt8ocW3QLmjhIACoVC0UXR26oaruDbfBfQ7rRKAAghbhdC\n7BVC7BFCrBJCmIQQCUKIrUKIg0KI94QQPo66vo70QUf5wFb1XKFQKHoK5mNQmlsnu2YF4OS6Da74\nlZ+0+rUtFgBCiDhgCTBRSjkK0APzgOXAP6SUQ4BCYJHjkUVAoSP/H4563RIhBAsWLKhJW61W+vTp\nw+zZswHNVfTs2bMZO3YsI0aMYObMmQCkp6fj5+dX4+Y5MTGRV199tSbu4+PD6NGjOe2007j33ns7\nZWwKhaITeHoIPDOsTvagQ/9xJabeDLHjoe9IuOhFGDyjTv3m0tpNYAPgJ4SwAP5ADjADcPokfQtY\nBrwCzHHEAT4EXhJCCCndbzbuHgQEBLBnzx4qKirw8/Pjm2++IS4urqb8b3/7G+eccw633norALt2\n7aopGzx4cM0pYSfXX389AAMHDmTjxo34+voqh3AKRW9n01P4V2S70hGDQQi48cc2e0WLVwBSyizg\naeAo2sRfDGwHiqSUVke1TMA5M8YBGY5nrY76rTNi7URmzpzJF198AcCqVau44ooraspycnKIj3eZ\nZ40ZM6bD+6dQKLoJFUWuuJTaz08vQ/r3nvVaafHjjRavAIQQYWhf9QlAEfABcH5rOySEWAwsBoiK\niiI5OdmjPCQkhNLSUgCe+/U5DhQfQEqJEKK1rwZgaMhQbht7W6P1LrzwQpYvX8706dNJSUlh3rx5\nbNy4kdLS0honbs8//zxJSUksWLCAmJgYzGYzaWlpNQJhypQpHid+pZSYzWYMBkPNGBuisrKyzu+n\nK2I2m7tFP5tCTxoLqPF0BXwrjzHVEf/pqw8BmLrlvppyuzCgk1aSD1XB4eQ2fXdrVEBnA4ellMcA\nhBAfA6cBoUIIg+MrPx7IctTPAvoBmUIIAxACFNRuVEq5AlgBMHHiRJmUlORRnpqaWqMe8fHxQa/X\nY7PZ0OtbdzGCEx8fnyapX6ZOnUpmZiZr165l9uzZ+Pv7YzAYCAoKYu7cuUyfPp1169bx5ZdfMm3a\nNPbs2UNgYCCDBw/2UAm5I4QgMDAQvV7fpD6YTCbGjRvX7DF2NMnJydT+O3ZXetJYQI2nU6go1C5w\n1xthyytgcW3+Tt1yLcx82qO67s79UF5AUt8utAJAU/2cIoTwByqAs4BtwEbgUmA1sBD41FH/M0f6\nJ0f5htbq/5dOXgpQ4z65o7nooou46667SE5OrvHu6SQ8PJz58+czf/58Zs+ezXfffVfnIhiFQtHL\nyN8P/5wCQ86B6UthnRdjj8oiz3RgH+2nHWjNHsBWtM3cHcBuR1srgKXAHUKIg2g6/pWOR1YCEY78\nO4Bub+ZyzTXX8OCDDzJ69GiP/A0bNtS4hy4tLSUtLY3+/ft3RhcVCkVb8/0zkLe3Zc8e2ayFB7+B\nlWd7r2OpaFnbLaBVVkBSygeBB2tlHwLquKiTUlYCl7XmfV2N+Ph4lixZUid/+/bt3HzzzRgMBux2\nO9deey2TJk0iPT294zupUCjaDpsF1j8MycvhgfzmP//FnY3X+f6Z5rfbQpQvoBZgNpvr5CUlJdXo\nHu+++27uvvvuOnUGDhzInj176m3XKSCasgGsUCg6mGUhrritCoozIWcXDJ/pyq8qhbf/ALOf1e4X\nbwp6X7gnDR6v5djtnEfYXuBHeyqOlSsIhUKhaAxv25UrzoTVV3jmHVwPmT/Dh4vq1gcI6AsTroYb\nt7jyluwEXy97mKctoTR4aMv73ASUAFAoFIrG+Pi6unllDhWQu3CoKNTC4795b8du0ax/+p7sygtx\nHJVqpWO3lqBUQAqFQtEYuz+ov0zaQehh499hUyMebuw20Dmm3WXFnmUDp0HOr63rZzPpliuAbug9\nos1RvwOFootgdzg+cJ/8x15Rt15JNlSVgK6eM0sGkyt+7qNt178G6HYCwGQyUVBQ0KsnQCklBQUF\nmEymxisrFIrWYbc3Um7VdP/uCMckX5AG1mot/qxD7XPisPd2nALg9Dvg1Fta1tdm0u1UQPHx8WRm\nZnLs2LGavMrKyh41GTZlPCaTycPfkEKhaCceDtPChOlQfgLCB7ru5gVNrZOx1fMZadcshF6dBmcv\ng9Nv17x45u+Fs2pbzjsYeLoWDji1jQdQP91OABiNRhISEjzykpOTu4VLhKbS08ajUPQIDm/S9PYp\n79YSAFaX+mfm07DpSZA27S5fgG+XwZQbICgaDD7Q5yTv7Q+YCvceBVOI9/J2oNupgBQKhaLDaIqq\n2ep2a9fk6zTroF3vwdf/58ovzYG09VBWx/2ZJx04+YMSAAqFQlE/6Ztd8bOXaaFz09eJ05/PiDn1\nt7PN4RHHaSbaRVACQKFQKOrjrdmu+JQbtLD2Cd99a7SwWvP/xbBZddvJ3a2Fs//Rtv1rJUoAKBQK\nRWPcdRCMDsOM2Hr25ywOARBZ6/Su0R+O/e4oG9I+/Wsh3W4TWKFQKDqMAadpN3Y1xR1ztcNHmNHP\nM99S7hIOgVFt279WolYACoVCUR92GwRENq2ucEynR938/Fy30bNObeHQySgBoFAoFPUh7a6J3Z2L\nXoIRF7vSg8+CC57S4uGDtHD8VRA33vM5v7D26WcLUSoghUKhqI/6BMD4K7XJ3LkBfOXHrrLz/g4T\nFkK0dvc3M+6HDY/C+IXt399mogSAQqFQ1Ed9AgDq995pNHmWGQMcYddS/4BSASkUit7O98/A2tu9\nlzUkAELi4cz74cat3sud1JwbEC3uYnuhVgAKhaJ3s/5hLaxtoy8l5KRA5DDvzwkB0+ve/FeHSIfr\nB2+XvnQyagWgUCgUAP+apl37aLdp6eydWljf5S5N5aTz4NI3YFoT7gPuYJQAUCgUCoDcXVp49Cct\nLDrSNu0KAaP+4DpI1oVQAkChUCjccZpqluZ1bj86ACUAFAqFwp3qctj/P1i3tLN70u6oTWCFQqFw\n570FYM51pU86v/P60s6oFYBCoVC44z75J5wB81Z1Xl/aGSUAFApF76Y+O3+AydeDrudOkz13ZAqF\nQtEUZAOXvvuFdlw/OoFWCQAhRKgQ4kMhxH4hRKoQYqoQIlwI8Y0Q4oAjDHPUFUKIF4QQB4UQu4QQ\n4xtrX6FQKNqdflO0cOHaumVG/47tSwfT2hXA88A6KeVwYCyQCtwLrJdSDgXWO9IAFwBDHT+LgVda\n+W6FQtEdkRJs1sbrdRRCDwOnQdiAumVd0H9PW9JiASCECAHOAFYCSCmrpZRFwBzgLUe1twCnz9Q5\nwH+kxhYgVAgR0+KeKxSK7sm7l8MjEbDpqaZdut7uOPqg961bZOh6h7faktasABKAY8AbQoidQojX\nhRABQJSUMsdRJxdwXoETB2S4PZ/pyFMoFL2FA9/Cga+1+MZHYcdbDdfvCKTUTusavAiAHq4Cas05\nAAMwHrhFSrlVCPE8LnUPAFJKKYRologXQixGUxERFRVFcnJyo8+YzeYm1esuqPF0XXrSWKDjxzP0\n99c9vvrytn5EaulAr3VNFXmcnPoPdo15AJshAKSk/9EPyItKosrU1+szLRnPuOJCbHoTe37cyhm1\nyr7fuk17dyfR7n8fKWWLfoBoIN0tPQ34AvgNiHHkxQC/OeKvAle41a+pV9/PhAkTZFPYuHFjk+p1\nF9R4ui49aSxSdvB4SnKlfDBYyqeHS/lojBZf/af66z8YrP08O1JL73hbS78wvt5HWjSe186S8q05\nUtpsrnce2iTlx3+R0m5vfnttSEv/PsA22YR5vMUrACllrhAiQwgxTEr5G3AWsM/xsxB4whF+6njk\nM+BmIcRqYApQLF2qIoVC0dN59zItLM2GkH5QXOZd7w6QtsEVL87QvHQ6KTjYtv1yqoDc7f0TztB+\nejitdQVxC/BfIYQPcAi4Gm1f4X0hxCLgCHC5o+7/gJnAQaDcUVehUPQGCtIg51ct7hMEV6yCf50O\nh5Lr1pUS3p7bcHuVJWAKbqPOSTwua0lc0Ebtdn1aJQCklCnARC9FZ3mpK4GbWvM+hULRTXnR7djP\n6EsherQWLz9et+6RHxtv74l+sKy44Tq5e+Bfp8FtuyG0f/317FbQOabCB4u01UAvQZ0EVigU7Ut1\nuff8YTO1MH2zK8+c33aml7+8poXPjYav76+/ns0KeqMW70WTPygBoFAo2pvaF6s4devZKVr45iwt\nPPw9PD0UXp+hpQec5vnc+U/A3Yea/l6d0RX/8UX48Bp4dmTdevl7IW9v09vtQSgBoFAo2g9rFfzz\nFM+8UX/QwtJsV151mesKRidz/wV3p2nxEXPglBsgIMJV/vxY2Pcp9WKt9Ezv+QhKMr0fPivJangc\nPRQlABQKRfux+4P6y85f7oqvu1fTxbsT0g8CIjVd/+X/ceWP+aMWFqbD+1d5b9tuA3M9N3pVFLri\nTmFw2m3197MHowSAQqFoPyodG7UBXg5uTb7OFS/JhvICz/L69PF6H8+0u8mok1VXuE4c1yZ/n6tf\nlgot9Om8w16diboRTKFQtA9VZvjqPi1+1+8OlYzbpF7bD3+1uWnt1nbP8PZcWPQt9JukfdH/uhoO\nfOUqD4r1VDc59xwSztDMSaHXCgC1AlAoFO1D6ueuuBCaZ02jyTPPyaFkyHWYay5OhhsaMAXN2l43\nb+XZ8PtXBJoPwyfXe5bNedF7O4e/gxzHRrRvUAMD6bmoFYBCoWh7rNWw5i+N14saDXm7Nf2/c2KP\nHdfwM6YQ7/nvXs7wgFounYPjIG5C4/1QKwCFQqFoI4rdHP/Oe7f+ehe/3Py2k5w+J0Wdw2CBZbVM\nThd9DX5hcN7jnvljr6jVaO+y/3eiBIBCoWhbUj+HFMekf+oSGD6r/roxYyFiiCvtF954+z6BjtDx\n1T7rWe/1rt0AIfFaPHE+9B0BZ/0NFn0DF78Cf3Uz/bRVN/7eHogSAAqFou1470p4bwF8/7SWntIE\nNdBIN78/137beH3nPoKvwxfQmMu914t3U/34hcKNP8G0O6HfZG3/wTdQMy81+EHC9Mbf2wNRAkCh\nULQdqZ95pkOacOeTuw1+xODG6/s69gDGznOkW7GBO2IO3J/recCsF6E2gRUKRftw6i1Nq+cbCEtS\nPA9oNURABNx1APwj669z9bqmtdXLUQJAoVC0PYkL4OyHml4/PAHtltkmEuj9RrAaBkxtelu9GKUC\nUigUbYcpFCYv1qx7dPqOe69/JMSOd8UVTUKtABQKRdshZd0Tvh3BPZrTuH3vPcyI6X/o+Pd3U9QK\nQKFQtCGdJAAc5EedAdGjOu393Q0lABQKRdsh7fTWQ1XdESUAFApF2+G8YF3RLVACQKFQNI/CI3D8\ngPcyae9UFZCieai/lEKhaJiUVXDC7SrG58fAK6d5ryvtagXQjVACQKFQ1I+UmlfPF8aBzQLmY1q+\nrQr+HgflJ7R08nLI20dnbwIrmof6SykUivqxWVzxN2bC026O26rN8P0zsPcTSP47vDJVc6q2+6OO\n76eiRahzAAqFon7cb+nK/Llu+ZZ/Oix/3Cg+2r59UrQZagWgUCjq5+sHvOdPXqyFtSd/gNnPtV9/\nFG2KEgAKhaJ+9q2pmzf2Cpj5FIyd78obM88VHzaz/fulaBOUAFAoFPXjVAFNuwsC+sKVa2Cmw9e/\n+4nbwWeCj8Mtc2OO2hRdhlYLACGEXgixUwix1pFOEEJsFUIcFEK8J4TwceT7OtIHHeUDW/tuhULR\nxvzwPKT/4ErHjnPcpPUA3H1Am+h9HTdyTfkL6BzbiP2nwqKv4IrVygy0G9EWK4BbgVS39HLgH1LK\nIUAhsMiRvwgodOT/w1FPoVB0FarL4Ju/wZtuKpzsnRA+yHt9nR4eOA5/zYSwARA1EoZd0DF9VbQJ\nrRIAQoh4YBbwuiMtgBnAh44qbwEXO+JzHGkc5Wc56isUiq5AlZvFzy8r4cRhLb5/bf3PCNG6G7kU\nnUprzUCfA+4BnP8CIoAiKaXVkc4EnHfCxQEZAFJKqxCi2FH/eCv7oFAoWouU8P6VrvQXd7jiZ97f\n8f1RdAgtFgBCiNlAvpRyuxAiqa06JIRYDCwGiIqKIjk5udFnzGZzk+p1F9R4ui49aSzgGo9feQ5T\nMrZ6rbOtJBxzNxlzT/37tBetWQGcBlwkhJgJmIBg4HkgVAhhcKwC4oEsR/0soB+QKYQwACFAQe1G\npZQrgBUAEydOlElJSY12JDk5mabU6y6o8XRdetJYwG08/5rmyrzmK/j3eTXJiRcuqvtgF6XH/n3a\niRbvAUgp/yqljJdSDgTmARuklH8CNgKXOqotBD51xD9zpHGUb5BSypa+X6FQNJGKQqgsqb/8+EHI\n3aXFb94G/U/pmH4pOp32OAewFLhDCHEQTce/0pG/Eohw5N8B3NsO71YoFO5ICcsHwhP96q+z401X\nPHKoFl79pRbqjO3VM0UXoE18AUkpk4FkR/wQMNlLnUrgsrZ4n0KhaCK/rnLF/3sZ/OmDunV+fFEL\nT13iyhtwqiYEguPq1lf0GNRJ4N5AdTm8dSHk/NrZPVF0NHl7XfEDX3uWWSo5/fsrXOlzHvYsH3Cq\nZt+v6LEoAdAbyNoGh7+DL5d2dk8UHU1+KgTHa/HwwZ5l+9disJVr8UnXqhO8vRDlDro34NwANIXC\nxr+DXzic8pfO7ZOiYzhxCPpNhvxAiDzJlf/tMtj8D1da79vhXVN0PmoF0Bv43bGh5x8Om5bDuqWw\nLKRz+6Rof35ZCYWHIbQ/6I2el7u4T/6gWQopeh1KAPQGdr6jhdkpnvlFGR3fF0XH4TzNGzNWs+ax\nOwTAV/9Xt278hI7rl6LLoARAb8Dpqz1/r2f+oY0d3xdFx/Dralc8dpx2ccvBb+GDP8NPL2n5/hFs\nnfyy5sxtwtWd0k1F56IEQE/HboNdq72XFR7p2L4omk5JTsufLToKn1yvxQOjITxB8/QJ2v29ThZ+\nToV/vObMTadv+fsU3RYlAHo65XW8bbiwVXVcPxRNZ/8X8OxwOLSpZc9nuN3de9tuLbzyE886A07T\n3DcrejVKAPR0arsAGHEx3Pm7Fv/xRc1KRNG1+O1/WnjsN8/8HW9rm/dvzPJ03Vyb446/7627wOCj\nxUP7eV7hePoddZ9T9DqUAOjpbH/DMz14BgRFudI73u7Y/nRzhN0KyU9A+Yn2e0mBQyh/95SnAP/s\nZi08shl+etn7s6V5mqUX1D3EdfYyLfQNhqFnt1VvFd0YJQB6Os4NPydVpZ7poOiO60t7IaW26dnW\nk7KlEna9D1aXqqzPsc2Q/Dh884D2Nf7bl03vY2PYrPB8Ihz9UUuX5bvcNNhtnnXtFtj9obax687r\njol9+Oy67QdFwV+z4M79TeuzosejBEBPxl1NMNrhhil6tBYu+EgL7Va6PQ+FapueX97Tdm3u/wIe\ni4KPr4OdrlXSoEP/1SJO09pV8xqf3KWEhyNg5bn119m7Bl6epNntuxMUBfs+g4fDPfPTf4CPFsE7\nl3jmFx/Vwote9P4e30DwCWi4v4pegxIAPZmio674Ja/D/fkwaLqWTkjSwobcBHc3LBVt19ZqN335\nsd+1SfynlzFV5detu/6hhtuqLAJpg4ytYK2uW/7re/DBQs/9mAue1MIv7vS8qevKNVroXCWA6+9c\nmO7K868yDvh7AAAgAElEQVQlMBQKLygB0JMpcph5XrteCw1ux/31BvAJqv8EaOERWP0n7xNWV0FK\nWHefK13f3bW73oes7S1/z8+vapP8V/d5L9/8D8jf7zK1rM2H17jiyX/3LNv5Dnyy2JWOGQvLimFI\nPTp6b776f3gBKovh/au09KTrvD+rUNRCCYCeTOrnWhgU4708cgjk7/Ne9vwYbUJ9tI+m6659irgr\n8Fg0bKm1GfrJDVporYJMx6T/8XXw2ozmte0fARPdbsJyd51wx364ZCX8zW3P4Z9T4MV6TtO6+9R3\nN8utLIFPb/Ks6/TYqnNz03XJSliSAou+BaMfzH1V+5smOFZzv7ymqZeczyZegULRFJQA6MmkOPTV\nfqHeyyuLIf37prW1YnrXWg38+BJYK7X4om/hwhe0+K/vauG2f8PrM+CX11vWvt2mHY6aerMrb8w8\nkpM+heAYGH2pVn6K2wRemgNfernnyHnJCsAuN3/8lvL63x8c64pHDNEOc/WbpKXHztM2chd+5qpz\nzG1j10+pfxRNQwmAnkpBmhaaQurf9HPqnL1ZsoycWzfPObl2Bb52+LOZu0KbGMc71B9DztHCdY6J\n+Is7tVA085+63aZ9hZ/3mCtv5lN16w09xzOdu9t7W77BWtxa4do0tjkE6uTF2lc+QLxjkte7rRpi\nE5vX97CBzauv6LUoAdATKEiDZ0d4TuSHv9PCK+pxA+HOqnme6eJMT5cBTj6/FT5eXDe/I9n1gcuT\n6bS7YOwftbgQEJNY/0Qv7ZqZZVORtrptmYLr1gsfpIV9R2jhkLPq1inJAtx87Rce1oSv091D/1Ng\nxBzNUuvC51317vxNO8zVEA8WuVRMsePhgQLl11/RZNR9AD2Bf58HZce0zcBhF2h5Zoe1ivOL0hsD\np2kqIIOfZ/5uL9cGOtn1nqaD7qxJxv1cw/CZnmXHD0BOSl1X14HRYM7VTshGjWj8Hbm7NfWMc99j\nyc76zxiEDYDFydDnZM1sdP1D2s+tu7SykmxI/czzmTdmQWm2Kx0cr33xX1JLXdWUMxpCaM7chPDc\n5FcomoBaAXR3dn2gTf6gTRh5+zQLHqe1ib6BS73/7LCasVZA8nJXftlxLZz/vnZe4LpaXkN/eK5t\n+t4Sctw2o/vWmszHXO6ZnnG/ZlFztcO1witTG2/fnA//Ol2Ln+w4TBU+COIn1v9M7Li6k+/zY+DD\nRZ6mnXNf1UL3yR80f/2twWhSk7+iRSgB0F2REj5bAh9f68rb+7E2yT0/pvntuZsnOvXVQ87WfuLG\nw7Q7XeU7/tOyPrcW576G0LssYtyZXusgmNOU0qmmATjwTcPv2PqqKz75+qb3zduKaM+Hmgmqk74n\ne382MMp7vkLRzigB0BX44GqXTx6bheicb7XLWmof/3en/ATseMuV1nnR5rnrk5uCc3NS2rXQXQd+\n1t9gwcdaPG4iPBYLqfXY3bcXhx3eMRd85LKIcSc4Vvvif7BI04XHjtPy3Sfn/16quY1w3w9Y/SdY\n/4gWd65urvoUdM3877FwrXaAa/xCV96Ot8AvTOuXT6Ar/5QbXfHmvkehaCPUv7zOpuio9uXudPR1\neBPDf3sRnhvVsOuAPR+64leucR32cnL2Ms+JqCmUOFQT0g6Iul+1/Sa73m0pg/f+1Lz2W0PKu7D2\ndi0e18jtVUJoB93q45Pr4ZEIbc/gl5XaeYfvn9YEYL9TNDPKQUnN72PCNJhyPVz0gjbhO/GP0EJ3\na6zzH29++wpFG6M2gTuTj651qTVA27wM6edKZ23zrG+p1E6ljp3vMje8ZQdEDNbi9xyGJxO0+Om3\nN60PiQsgxeHXpjQHQuI0AeDNmsa5ynCuEEA7cNUR+udvHnTF3b+km8rlb3u6VAB4qZZe/7unNU+b\n3hyptQTn5nPBQS3trloD7e+ofPIrOhG1Amgqdhvs+bhhtUxzsFZp1jbZOzzzi2vd0/vOpZpTtxOH\nNSuTb/4GTw/RHJSFJbgmf9D8v9yxH+5rxm1SF78MV6/T4r9/Bfmpjq9hL+PUedlQPri+bl5bUlkM\n+z6FKofPosmLW6YyGXERnPVgw3U2PqqFoQMartdUzvyrZ9rHH274Ceat0tJzX4FTb677nELRQSgB\n0FS+XAofXg0vNPNQTn2U1LIE+ZNLpVMU4vZVePAb2Pov7+/1ZuIZHKNNNM2hskgLv3sS/unF14wT\nb2qV1e3odqCiCJ7or/m4sVbCvHe9H8ZqKglnaKHexzO/9n24SUtb/g53xi+ESddqG9ZOoka4LmlR\nKDoZJQCaitPU0qnPbav2Ji/W9MWDXb5qjva/1LXhCrDhEVd8rpuVyh9WtE1fBns5vFQft++DxD/B\nrGe1tNBBxi9t0w93qstgea0v8f5NMONsiPiJjg3iY54uHibWEgCmWucIWooQMOsZ7xvWCkUXQAmA\nplLt8K2f7eVQkMNVcI3zsabgvGTk5Iu0UKeHazfAlWs4ETFeO1F666+ezyzZqfmBuS9Hi7fVYSyD\nT9P13iFxcPE/YdIizUxS2mHl2a6zAy3FnA9PD4P0zVCaC3+P9Syf/VzbuDh2/s6ck/zkxZoHzoHT\ntPT8970/p1D0QFosAIQQ/YQQG4UQ+4QQe4UQtzryw4UQ3wghDjjCMEe+EEK8IIQ4KITYJYQY31aD\naDfyUyFllbY5637zknOj1UlxhuYquLZnR5ul/olxg0Pf7K6OiJ8Ag890pcMGwrBZrrjTnt3H39O2\nvS2odLNaGTwD7kht/Bn3L+XVrbQIStuobZh+cgN89X+u/OGzNcFY+yu9tTgPX/UZpoV/XqutxE46\nr23fo1B0YVpjBWQF7pRS7hBCBAHbhRDfAH8G1kspnxBC3AvcCywFLgCGOn6mAK84wq7Lqnmel2zU\nh9MHzzG3SbOqFB6P1+K379O+nEG7tOTgesjYoqUbs6CZ5/Do2d6uF9xPDF/pxQ+QN3yDXPGYsa17\nf/5eLSw+6rrVauA01/jbmtGXQ5/hdU8TKxS9iBavAKSUOVLKHY54KZAKxAFzAOcJpbeAix3xOcB/\npMYWIFQIUY+j+i5CfZN//GRXvCDN8yrCfZ9qobs/HXfHaivO9LSf7zO84T4IL/b47YHTm6ZTJdUU\n3Dehf361/noNYa2CN2bCL/+uW/bndjxoptNpXjbVhqyiF9MmewBCiIHAOGArECWldNoh5gLOc+5x\ngLuNY6Yjr2uytpYd/T1ud7VaK7STpE7dvzvvX6X54nF//vunXXH3VcK9GZofl67AyLlww4/wx7cb\nr+tkwFS4cUvL31lRBI/2hSM/QHUpnHxhy9tSKBTNRsjGLrRurAEhAoFNwGNSyo+FEEVSylC38kIp\nZZgQYi3whJRysyN/PbBUSrmtVnuLgcUAUVFRE1avbtydsdlsJjCwBYeD6kFvLWfaZs288cCQa8mO\nPR+pMxJgPsKkbUtq6uVGJRGdlwzAoYQFDDr8ToPtFoWMJLRYU3XsHXE3x/qe7rVeW4+nvUlKngPA\n5tPexmqs6zK5ZjxSeqxmpn13GXq765KZ3aPuoyByCoMP/pvSoCHkR53R/p1vJt3tb9MYajxdm5aO\n58wzz9wupWzAg6FGqwSAEMIIrAW+klI+68j7DUiSUuY4VDzJUsphQohXHfFVtevV1/7EiRPltm3b\n6iuuITk5maSkpBaPow4ZP8NKx0Uf7kf6AV4YDyfcTu8iNFPIB0/Ac2Nc9/ACXPYmHNoE29/wbOOM\nuzVPlfXQ5uNpb9zdL9+2u453y+TkZJICD2mronszNL/6ZQXwlGMj2xgAs56GxPl0dbrd36YR1Hi6\nNi0djxCiSQKgNVZAAlgJpDonfwefAU4nNAuBT93yr3JYA50CFDc0+XcqzrtV//RR3TL3G6IAkDDZ\ncQl3YF9X9hl3a2qVC2u5TvaPbLqbhu7CBW6Hs54b7enewskXd2mh8w7ilW43af1fdreY/BWKnkZr\nrIBOA64EdgshnE7a7wOeAN4XQiwCjgBOJ+3/A2YCB4FyoI3t+tqQ9M3aJR3ebnfy5ro3xnFK99pv\nIX+/5p7B3armmq81P/aJ8z0tZ3oK4bXMYvevhdNudaWldLmW+Pd5cHeaaxXlfuBNoVB0KC0WAA5d\nfn3mKXVmTqnpmm7yUrdrISUc+VHzBunN+ibOy/EF98u9+3qx6uk/RfvpqdQWapZKj2SfYz96lj/j\n9jvyJmQVCkWHoLyB1qayGMryIXp0/XUufgXKC+Brhx4/YXrH9K2rIvSe6cC+miAtyYL3FjAye6dn\nud2ihVeu6Zj+KRQKr/ReAWCt0vzNuLsXSF3r8rNf+7Ypd5z66pF/0J5vqG5voO/J2knl8hOa187i\nDPh5hef5CNCcua120/W7n3pWKBTNxmaXlFdbCfQ1IFpwXqj3CQApNRfM6/4KGVtdVj4rz3OdzgWo\nKGy8rZCue4yhQ/ENdPktWhYC3z/jvd7wWa64+xWTCoWiRcx64Xv255YC4GfUk/rI+ZRUWpr8fO8S\nAKV58Mtr8J2b1crTw+D2vZ6TP2jOyRTtx+jLOrsHCkW3xmqz10z+ABUWGw99vpdPU7IbeMqT3iMA\nqsvhmZPq5ptztesBQdv4TVygndw9/4mO7F3vYfRlmpsMU2jjdRUKRQ1SSvJKqjjlcc9LmKYNjWRM\nfAgvb0zjjR/Sm9Vm73EHffw3z/RFL8KEP3vmXfoGjLkMbtra8J2yivr5w+uu+PDZsKwYu9C73C1f\n9KJ2A1lw13YDpVB0JYorLAx/YF2dyR/gzasnc+tZro/bc0d4MVWvh94zy6W6ORb7y2bNymf8VdqN\nTZ/erPmBbwt/872dyKGuuMM66vtp7zM9yXHhjdFP8yGkUCiahNVm5/q3t1Fl1e7iDvQ1sOHO6WQU\nVjCuXyg6nUCvE6Q/4dpje21hfa150nsEgNMh24NFnvb90aPh+k2d06eeiF+YKz7pWgCkztCye3wV\nihYipWTUg1/RL9yf9/8ylWCTkQ3783hgzV5sdkluSSV3nzeMC8fEsi+nhPe3ZfDaVRPR6zrA824z\nee7bA2w5dIInLx3D5RP71eT3DW69I8neIwAC+kDEkI5xrdybCRugraaiRqpJX9FpvLIpjbJqG/tz\nSxmz7GuvdZ766jee+sqlGt5xtJBJA+tqAQ4fLyMq2Bd/n46dLqWUbMu18lLKQQCPyb+t6PkCQEp4\nyLHheMbdnduX3oK6VUvRQZRXW3lkbSr3zRxOkElzv5KSUcST635r8Lnv7j6TM57a6JF32b9+4uE5\nI7nylAEcM1fRN8jEA2v28PYWl4PHC0ZF88qCCW3S9+yiCl7eeBCrTfLetgwmDAjjoxtOpaLaxh9X\n/MSuTJcjyvlT+jfQUsvp+QLg7262+iPmdF4/FApFm2K3SyY9+i1l1TZW/XyUYVFBnB9n5fl1PwCw\n/JLRDIsOJruogqF9Axka5emyJP2JWRSWVbN83X72ZBezJ6uEv326l799urfed365J5c9WcWMigup\nU1ZpsTH9qY0k9gvln3+aUK86aeP+fCw2O69sSmPn0aKa/O1HChl47xcedSdG6fnntUn0DWqfe0O6\n/xrdWoWxugh+fk27WcrdvbWUYCnT4nekQlB05/RRoVC0KVJKZjyTTFm1rSbvt7xSnt9RVZP+46T+\nJPYLZebomDqTv5OwAB+euGQML8wbV++7nPP4otM1p4ezX9zMI2v3edQ5WlDO8AfWkVdSxVd781iz\nM8trW3P/+QNXv/kLi9/eXjP5D48O4od7Z3jUiw0xcfjxmdw8ztRukz90txVAVSls/LumynFa7Dza\nl9Pc6zwU6vI5v98hTc95BIJjO7q3CoWijfh4Ryaf/ZpNSYWFC0bFkJpTQnqB5oQx5W/nkPjwNx71\nH5kzslntD+oTyP+WTGPmC98D8ObVk7j53Z0sPHUAd507rMbNQvrxMtbvz2fl5sOs3HyY9XdOZ192\nCbes8vR39cgX+5g0MJw73k9hUJ8AHp4zis0HjtdM+kvPH87ydfs5KSqQdbdpFx9tve8sHlizhycv\nHUOIn7FFrh2aS/cSAM5L1rf8ExZ+rl2u7o0n+sElK+GjRVo6tH30ZwpFV2dvdjERAb5Eh3SRq0eb\niM0u+TQlixXfHSLjRLnHl/4ON7VJ2t9notcJfn3wXISAtz7fxKykUxjUp/m3aJ0cE8SjF4/itCGR\nJEQGsOehuntZK/88iae/+o2XNmobs2c947IgvG/mcK6bNogV3x3i8S/31+wxbDtSyPvbMmvq3XXu\nSdyQNJg/TupHgK/LkWJUsIkVVzV6h0ub0r0EgDtvue6PtQsDOmn1LHdO/gADTkOh6E1c//Y2vtqb\nV5N+fl4iF42N7ZCvytbw0Od7vZ5mjQv1o8pq47jZdYWou9lmiJ+2ATy6j6FFkz+AEIIFpwxotN68\nyf1qBICTW2YMYfEZgwEYEeu6FvWcEVF8s0/7O0QG+nLPecM4b5Smig4P8GlRP9uS7iUA/MLqOmk7\n4x6+ZzLT7T/ClL9AUJR2K1XRUe2yEeVvXtFDsNslT371GyfKqnh4zihMRk833DnFFVhtkp8OFXhM\n/gC3rk7h1tUpHoeFugpSSr7am8vdH+yitMrzQy4+zI8lM4Yyc0wMgb6u6cpml51msx8f5k/6E7PI\nL6kkyGTEZNR5CNZpQ/uw9pbT2fT7MRafMQijXsehY2YSIgO6nADuXgKgolC7qaskE0Zfrl25OOwC\n5KZNMONBV73bdndeHxWKdqC43MLYh1327O9vy+SB2SOYkhDOv384zMc7PDcdfQw6Ntw5nRA/I1/u\nyeWeD3cBcN4/vqOs2sr5I6O5f/aIdu3zmp1ZPPvN7wSZDFw3bRAGvSBpWF8sVjthAT7Y7RKL3c66\nPbnculq7VPCkqEDeXjQFnRD0CfKtt+2ucGCroYNYo+JCPCyFWroqaQl5ZXmNV3LQfQTA+1dpYdmx\nuhe1KxQ9mPJqax2bdaCOJYo7u5edi69BWyFcPrEfEwaEcdYzm/gtT/Me+frmw/ySfgJZVcn4UywE\nm4z1ttUQtb/E92YXM+uFzRj1AovNZZF323sp3h734KlLxzB3XBwGffc3TuwIqmxVfJ/5PRszNvJZ\n2mctaqN7CIBfXod9jrvlL1BeOhW9h92ZxVz40mYABkUG8M0d08ksLGfFd4f479ajgKZnnpIQzrSh\nfYgJNaETombydzK4TyBrbzmd2S9ursn71XHQaMyyr/nrBcOZOy6uWe4Fvt6by+K3t3stc07+S84a\nilEnWJOSRdqxMo86Qristi+bEM9l7XDStbtSZikjrzyPcls5L+18iTJLGZW2So6WHKWkuoRo/2i2\n522n1FLaeGMN0PUFQGUxfOG4PGT+++qUqaLXkHGivGbyX3r+cP50Sn/0OsGAiAAemzuae84fTrXV\n3qCqxJ1RcSFsv/9sjAYd63bn8tGOTLYePgHA41/u5/Ev9zM8OogAXwORgT48Nnc0j67dx5qUbOJC\n/RjcN5Dll4wmIsCXD7dnct8n3lWtz1w2lpOigogJNREZqPXtlrOGsi+7hOTf87n61IQ6evPeRGFl\nIWWWMow6I35GP05UnGBLzhY+PvAxqSdSiTBFUFBZ4Hogs24bFdYKogKiuG7wdRwuPsyS8UuI9Itk\na85W+vj1YTCDm9SXri0AsndqN3UBhA9Wk7+i23KstIoqq434MH9A+3rOK6lkx9Eithwq4PazT+Ky\nifHYJfxw8Dj/TD7IlkPa5Pz8vETmJNa9fc5p+dIcIhwT8uWT+nH5pH5s2LiRB7ZKsooqADwuGHHf\nSM4qqiCrqIKpj2/waO/VKycwNj6UBz7dw5WnDOC0IZH16udHxAZ7WMh0B6pt1fyc+zNSSj78/UNS\njqUwJHQI84fPp69/XySSkREjySvP4629b/Ht0W9JCE7gxsQbGR81nixzFn39+mLQGXgp5SVW7FrR\n6DsLKgsYEzmGKTFTOJ55nEkjJxHlH8Wg0EEYdUYCjYHodXqvz06JmdKs8XVtAQBwLBUGnA5Xf9F4\nXYWig7Da7KTmlCKEZt4XEeiDUa+jymrDR+/5dfvd78e46t8/N9jePR/t4p6PdtXJv376IK+Tf1uh\nE4KPbphKaaWFmFA/Rj34FZeMj8fXqONdh4rp0YtHMTw6iF8zi2v2HUL8jKy56TQSIgMAzSSzo5FS\nUlhViElvQq/T46tveCUkpeRwyWEi/SIJMgbVWYFIhz7KmW+z27h7091syPAUej/n/szPufX/PfPL\n89m6bmu95QtHLGRI2BB25u8kJT+FhJAEhoYN5Yy4MyioLGB6/PSaPiSXJJM0OKnBcbWGri8AjAFw\nyeuN11Mo2pC8kkoqqm0cN1chBBSVWygwV/Pu9kr+vM77x0iYv5HCcu0+1lB/Ixar3eMAkzsJkQEc\nPq7pxGeOjuZ/u3MBzQXAkKggHr5oJAMdk2t7Ex1iqjko5m4mes1pCfj56IkL9QNg4sBwZo2OISzA\nWGePoT0os5TxY/aPxAfGszN/J3uO7yHLnMWBwgOMiBzB1hzvk2z0h9EsHLGQQaGD8NH5EB0QTR//\nPjz9y9Os/m21R91J0ZMIMAaQnJHskT8qYhQHig5QZdNcS9yceDOJfRMx6oxE+EUw+5PZdd67dNJS\npvebzqaMTSz/ZXlNO3sK9gDwh6F/4NpR19IvWNvruHjIxa36/bQFXVsAxI6D/9vW2b1QdHOklKQX\nlBMf5odRr8Nul6TmljC4TyAmox4pZc0X1+95pTz0+V5+OFjgtS3nN6OPQceFY2I5dNxMVmEF/cP9\nSS8o5+SYYKw2OyWVFoocwmBwnwCevTwRITQVS9JJfbxutpZVWQnw7Tr/JYf0rWu62JQTxVJKKm2V\nlFaXcqDwAKfGnlrz+7XYLOSV55Feks7X6V/zQ/YPDAgewMiIkfgZ/EgrSiO3PJc9x/dgl3aPdgWC\n2MBYSi2lNZP/1SOvJsucxba8bQT7BJNekk5uWW7NBOzEqDNisVtq2onwi+B4xXF+yf3F6xick/Z1\no6/j8mGXEx3g6Uds90Jt/8Nqt2LQef7NFoxYwIIRCzzyLHYLRl3LLK3ak67zr03RrpirzQT6aP+h\npZTYpb1ePWJPQEpJfmkVx0qr+O/Wo6z6+Wi9dQ06gdUuGRDhzxGHfxkhYNboGIJMRjYfPMbTl44l\nNtSP1J1bOWdGUpM2MC02OwfyzB567zHx9d+F3JUmfycZpRlsztpMtjmbYxXHCDIGYdAZsNqtLBm/\nhG+PfEu4KRwhBFnmLL7L/I7NWZsbb9iN/PL8mok42CeYQSGDOC32NMJMYYzrOw6L3cLoyNGcHH4y\nep0ei93CpoxNTI2dSoDRc5WUnJzMJ/ZPSDmWwr2T72VLzhZOVJ6omXzvmngXsYEuv2Duah8pJc/t\neI7UglTunHgnsYGxBPl4dyLnpPbkXx9dcfIHJQC6BO5fOlW2Ko5WHSW9OJ3YwFh89J7HxSusFWSV\nZmGVVvRCT5BPEAJBXnkeffz6EBOo3bUrpaTCWkFBZQE3fHMTR0oPMzhkMBUWO/nlOQgBcUGxjI9K\n5JpR1zAgeABSSmzShkCwJWcLvjKevCIrvrpAxvcPJTywadYm7UGlxcbRE+VkFpazcX8uVmEmveQw\nPnpJevkurNUhVFttnCiMZPrARLJK8jlQkIcwmNEZSvGJMCNtAVhKEsHuS5CvgUCTgdJKKxUWGz4G\nHVmFFVwxuR+3nnUSIX5G/HxcAtIu7eSX51NkP8bvhb/jZ/AjPigenajfZt2o19VM/iXVJejQ1Qhh\nm92GTuiotlejQ4dep/doq6CigFX7V1FuLSe1IJXS6lJKqks4XnEci91CTEAMCSEJjIwYiV3aySvP\n42DRQSw2CxOiJpBpzsQmbZRbygn2CWZY+DCMOiPhpnBOiTkFo85IQWUBR6qOkJKfwonKE1TZqqi2\nVWOxWzhUfIgNRzeQbc5GIr2Or7Y6xR290HPdmOvYfXw3sQGxbMrYRH5FPgB3T7ybjNIMpsVPY0rM\nFKpsVQQaA6m2VWMyNL7CMOqMnD3g7HrLn5/xfE38goQLGmzLXZALIbh9wu2Nvr8nIaT0/sftCoxK\nHCXf+fodAIqqiqiyVVFmKeNQ0SGEENikDZPeRE5GDhNOnkCAMQCDzoBe6AkzhWGz26i0VSKlRCJr\nQtD+A2aUZpBWnIZA1PyHDvENwc/gx8HCg6QVp1FlrSLYNxg/gx/VtmqOlByhf3B/THoT5dZyKqwV\n+Bv8sUs70QHRXDPqGnRCh7/RnwprBTa7jUPFh0grSqOgsgCd0JFtzia9OJ288jzKLGUUVhVitVvr\njN9H50O1vZrYgFjCTGGUWco4Wnq0ztLYnRCfECSScks51tr+kQBp98FeFYW9qg/6wP3oDNoXr/Or\nrk59KRDC8Tur6otOb0YYysEWhF4GYjPk1NS9csSVzBk8h2HhwzzaSE5OJikpqcG/tZSSrUePkFa6\ni0prOWkn8tibc5zjJ8KxizLMtjwslCIMpRgCf2+wraYwru84BocOJrcsl3JLOcPChxFhiiC3PBer\n3UqVrYpj5cfILcsl0CeQIyVHqLBWeLQhEMQExBDpF4lBZ6CkuoQySxnhpnASQhLwN/iTU5ZDSn6K\nh712kDFIm2zt1QhEzb/JCFMEQT5BlFnKOFZxrKZ+TEAMg0MHE24K1/69VBaSXZaNUWckozQDAD+D\nH5XWSiQSk95EQkgCPnofAowBHKs4xoHCAy36PZ0z4BwuSLiAaXHT8NH71Ai/Lw59gURiEAaqbFWE\nmcIYHj6c+MB4Ivwi6ny4dBRN+bfWnWjpeIQQ26WUje7Md7gAEEKcDzwP6IHXpZT1nuzyS/CTQ5YN\nqZOvEzr0Qo9RZ6TSVtnghNgYfgY/gnyCMFebKbeWe5T1D+qPv9GfwspCLHYLAkFhVSE+Oh989D74\nG/3RoUMiySnL8XjWOXl7I8gniIHBA4kJiCHQJ5AQX+3IuFFn1PSgB9OZOmYyBwsPsu/EPqx2q/b1\naOWLS+gAAA9oSURBVAwmLmAgRns0WYUW0guKqbBWkFdSRam1AIQFodPeKe2+SJsfAUY/4iN07Nk3\nDtBz/RmDGBYdxOHjZby44Xf0AQfwjdyAQWdAmtIAsFtCsVX0Y0LMMIqrzBy1rMdWHYLO97jrb2AP\nwVcEUSG8GCk7CDQG4aM3cqLyBAOCBtIvYBhJAyZjrrLyYepXlFSZKbfnU1UZjNCXI3wKaoRNXQR+\n+iCMOgPxgf2Y0PcUTokfw/ESKyGmIMZEDyStOI31h38kzC+A2KAogn2C6evfl0Cj9jv+6MBHrE1b\nS1pxWk2r/gZ/BgQPIPVEqjYuoSPUV1PTxATEEB0QTWl1KVH+UST2TSTt9zTiBsVRWFWIQJBZmklG\naQY+eh9CfEPIKM3A3+BPpjkTi81CbGAsg0IH8WP2jxRXaQevovyjGBI6hCxzFoNDBzM4dDA78nZQ\nUl1Cla2KEREj6BfUjynRU5gYPbHBVUa5pZwySxmRfpFYpRUpJUZdXVfC1bZqss3ZFFUVcbj4MNW2\nasJMYfy06yfOHH8mwT7BmAymmlVlkE8Qfga/Bt/dFVECQKNLCgAhhB74HTgH7XjDL8AVUkqvZ9pP\nGnOS/Nfaf2HQGfAzaJYIgcZAhoQNqdGpSSn5Nvlbhk8YjsVuwSqtWOwW8sryMBlM+Bv8EUKgQzPN\nE0JgtVvx0fkQ6htKVEAUOqHDarOTWXKcoqoics0F+IloKir8OG6u4ri5iqJyC1lFFQT46IkJ9SPY\nZCTYz0CwyUiBuQqztYQDpVsRejO+RoFdV06EKQyLvZrqqhD8ZDShxniKy22UVeqRaJYmVVY7xRUW\nsosq8TXoMBl1pB0rIzLQl/AAI5UWO0Xl1ZRWWan9p4oL9SPAV0+Ar4GBEQF8sjOLIX0DMegEY+JD\nOHdENDOG90WnE9jtEiE8l7yHj5fx4voDfLE7hyqrJkTH9w/ljnOGMbZfSM0Ve+7YpR27XTMf1OkE\nH24/wl0f7sQ3ai0+YfWbvtWLNKK3h+IjIxjbZzzxpjHodFbiQsIYFR9AqCmIAGMA0f7RbbpnYbFb\nyDXnEh8UX6P/rbJVYdAZGtTrqgmma6PGo9FUAdDRewCTgYNSykMAQojVwBzAqwAwEIDJMoaKahvF\n1TbKq62UVFj5ouIQJZUWLDZt0jqaaSckO5+Kahvl1TaqrHYMOhO+Rh1+RgsGnc5N9SMxV1kpqyrl\nRFkOlZY9VNvsmOtMsCc8+uLvoyfQ14C5ykp5PaZ90JC9th04il4nCDIZ0AmBn1FPeIAPYQE+DI8O\notKiCQM/WcnQfpFUVNswGXWE+BkJ8fchwKGTPjlGO1ATWUsn/48/Jtb7dp2XwzkJkQE8+8dEnm3g\nuTrtCB3u8/ClEwYwKi6M21aHU31sAeeOjOZAfiHHSm0k9gvFZpfsOnSE2Dg9IyMH8XvJTkrlUS4b\nPotzhw3Dx9A521BGnbHGHA80wdgU/bNC0ZPo6P99cUCGWzoTqPfoWtoxM/Nfq/tVqRMQ7GfE6HAa\nJa02wqxm/Hz0mIx6gkwGbHap2XGXViORCARCaF+ugb4GIgJ9GNo3EJOPHh+9jmA/I8Em7ddhMuqJ\nCjYRE2KiT5Av4QE+Ne8CKK20IITAXGmluMJCkMmAj0GHUa+jtNJCYZmFE+XVjng1o+JCGBARgAAC\nTQaPtryhSf2mT8qdzfDo4JpbjbyRnFzg9hUzrN56CoWiY+loFdClwPlSymsd6SuBKVLKm93qLAYW\nA4RHxU149OW38NWDr17ga4AAo8BXr03kTsxmM4GBHedutb1R4+m69KSxgBpPV6el4znzzDP/v71z\nj7GrqsL476OU8mxpKIUaoEhpsQJKGYKgSItYkEB4KCCP8DBEE7S8BENQHjUlhISAoZRnFYESCA3i\nI/IoFGoJECrlHfhHsRh5ylNLYRBmPv/Ye+B22uncmblzzrn3rl9yc+/dZ58765tzzl57r73PWXWF\ngNLKmIJewN7Aoprv5wHn9VW/o6PD9bBkyZK66jULoae6tJIWO/RUncHqAZa7jja56Cn+J4DJkr4o\naQPgGGBwD7IOgiAIhkShcwC2P5U0C1hEWgZ6o+0XirQhCIIgSBS+BMP2PcA9Rf/dIAiCYHWa6y6P\nIAiCoGGEAwiCIGhTwgEEQRC0KZV+GJykt4B/1lF1HPB2v7Wah9BTXVpJC4SeqjNYPRNtb9lfpUo7\ngHqRtNz13PTQJISe6tJKWiD0VJ3h1hMhoCAIgjYlHEAQBEGb0ioO4IayDWgwoae6tJIWCD1VZ1j1\ntMQcQBAEQTBwWmUEEARBEAyQcABBEARtStM4AEnj8vuaqa2aEEm7S9qibDsaSascGwCpyZLhroOc\nirVlkLR1fm+J803SNyRNKuNvV/4klzRN0j3AWQBu8kmLrGcxsIwSHsbXSCTtLWmupJOhJY7NnpJO\nB7DdXbY9Q0XSHpIWABeW1cA0knztPAjMgZY433aXdD/wEDCmDBsq6wAkrSfpZuC3wG22f1G2TUNB\n0ihJ1wHzgWuAh4GD87am68nk7G7zSDke9pd0saRdSjZr0Eg6E/g9cL6kg3JZU/ac87UzD7geeBCY\nAMyWtHG5lg0OJX4F3ALcbPuHZds0FCSNlHQ9aYXPXNLj8WfkbYW2yZXtgdruljQWeNH2rQCStgTe\nblLPPwF4EjjTdqekycAWktSkenYG7rK9QNIDwAKgS9Irtt8v2bbB8HfgEGAHUqa6e213NePxydfO\nQ8D5tt+X9AhwIfBpyaYNCtuWtCnwtO1bAPKIZkWTjtRGAUtJbcFHORS8j6T1bRd6jCo1ApB0tKSf\nStonF50EHCDpZ5KWkLzlDdkRVJ6s5xxJe9p+2fZ8251586bAtvnkrnxPs+bY7J2L3gU2lDTG9hvA\nm8BEUtrPyiNpL0lTaoruBp7L7x/0hIJIiYsqT289tu/Kjf9MYDmpA3KJpKmlGTkA1nJ8zga+JukC\nSY8ClwE3Seoox8KB0UvPKtu32f4of18f6MoJswptkyvhACSNkHQhcG4uulbS0bbfA64kxf9nA7OA\nzYDjJVV29NJLTzfwG0nfzdt6/ud/AA6VtLHtrpJM7Ze1HJv5kg4E/gqMB34taSGpoVwJbJX3q2RY\nS9Lmku4GHgCOlrRJzybbXdlBXw6cImlc0T2ygdKXnpr//3vAcbZnAquAkyRtVY61/dOXHtv/Ba4G\njiSN0I4FXge+V+UO4dr05E6fatqCpcARksYWPaKphAPIDeBOwNm2rwAuAn4iaYrtOcCXbS+1/Q5w\nO3B4lS/MPvTMkjS15gC/RZr8+VJJZtbFWrTMJvXGVpIuxDuB+2wfS5rYPijvV9WwySakmOtp+fO+\nsMak71+Ax3MdJO1ZrIkDoi89zu/LcxY+gHuBacCHJdhZL2vVA2B7LjDD9sO2PyZ1ovagCfXk3O3d\n2Qm8nOtML9q40hyApBMlTZe0eS56Exib42B3Ac8Dx0lar1dMeRKwrGphkzr0vAh8v8buD4AdAef9\nK9Nj7kfLncDfgGNsv2v7Dts35no7kS7KSlGjZ7TtV0mTbwuBTlJY4Qu5nuAzp3cxcK6k/wC7V/T4\nrFPPWugg9Zor1XkaiJ4cFeihA3gFqNQIeiDnW+54jMq7dvaUF2VroQ4gD3sm5Hj+ScDxwNV5gudt\nYFdSbBzgKuAIPg8p7C9pGfAtYH4VwiaD1DMewPa7wDskPaX3mAeoZS5wmKQJed/9Jb1A6l0+Urz1\na9KHnmtzWKfT9ofAYmAsNcdAaQXNjsBtwKPAPravq+jxWaeevN9oSTMlPQF8B7ikJvZcGkPQM0rS\nDEnLgQOBS2vm1UpjCOfbCNurSG3xXj3lhRluu5AXMCK/TwFu7SkDrgVuBDYH7iMNkTbO2+8AZuXP\nhwJHFGXvMOo5veY3RpetY4hazsifJzXJsbmKtHKptu5ZpN7+mBpt44H9ytbRAD0b5rJvA4eVraMB\nejbKZV8nhYFL19KI8y2Xb1CG7cM+kZpDHnOAEUo3dI0mD9mcltnNIg1LLyf1uo4hrVi4gzRUfSLX\n/dNw21oPDdCzrOe3nCa2SqMBWh7PdV8CXipcQC/q0HMG8Jqk6baX5t3mky7IB4CJkjpsvwL8u3gF\nqzNEPYuB7SRNs724BPPXoIF6HivB/DVo0Pk2zfZrtv9XgoThDQFJmk5a+z6WtM56DvAJsJ/yxJpT\nKOeXwGVOa3zvB06U9DRpedTzw2njQGglPa2kBerW002axJ5ds+vBwI+BZ4Fdc+NfOg3Q8wxJz2vF\nWd03oeczep9v5eoZ5qHRN4ETar5fA5wKnAw8mcvWA7YmrSbZNpdtDexQxpCoXfS0kpZB6FkIbJ/L\nDgP2Ldv+0BN6yngN9yTwk8BCfb7y5VFgO9s3kYZNpzl5yW2AT2z/C8D2G7b/Mcy2DYZW0tNKWmBg\nerpsvwxg+4+2Hy7D4H4IPYSe4WZYHYDtD21/7M9X7MwkrX8H+AEwVdKfSWv7nxpOWxpBK+lpJS0w\nOD1SdZZ29ib0hJ4iKORu2uwlTVrS2TOZuxL4ObAL6ZkerxZhSyNoJT2tpAUGpsd5TF5lQk+1aXY9\nRd0H0A2MJK0n/0r2jBcA3bYfaaYGJtNKelpJC4SeqhN6qkRRkw2kmxy6STcKnVLU3w097aUl9FT/\nFXqq8yosKbykbYATgCucnuPR1LSSnlbSAqGn6oSe6lCYAwiCIAiqRSWeBhoEQRAUTziAIAiCNiUc\nQBAEQZsSDiAIgqBNCQcQBEHQpoQDCIIaJHVJekbSC5KelXS2+knULWl7SccVZWMQNIpwAEGwOh/Z\n3s32zqTnuxxEyum8LrYHwgEETUfcBxAENUj6wPamNd93ICUlGgdMBBaQkntDylb3mKTHganACuBm\nUsrMS4EZpHyvV9u+vjARQVAn4QCCoIbeDiCXvU9KeL+S9IyXTkmTgdtt7yFpBnCO7UNy/R8B421f\nLGkU6VHBR9leUaiYIOiHQp4GGgQtwkhgnqTdSKn/pvRR7wDSg8GOzN/HAJNJI4QgqAzhAIJgHeQQ\nUBcpR/BFwJvAV0nzZ5197QacZntRIUYGwSCJSeAg6ANJWwLXAfOcYqVjgNedMj2dAPRkg1oJbFaz\n6yLgVEkj8+9MkbQJQVAxYgQQBKuzkaRnSOGeT0mTvlfkbdcAv5N0FLAEWJXLnwO6JD0L3ARcSVoZ\n9FTOAvUWcHhRAoKgXmISOAiCoE2JEFAQBEGbEg4gCIKgTQkHEARB0KaEAwiCIGhTwgEEQRC0KeEA\ngiAI2pRwAEEQBG1KOIAgCII25f+olb62UIthxQAAAABJRU5ErkJggg==\n",
      "text/plain": [
       "<matplotlib.figure.Figure at 0x28a698b1c50>"
      ]
     },
     "metadata": {},
     "output_type": "display_data"
    }
   ],
   "source": [
    "valid_stocks.plot(grid=True)"
   ]
  },
  {
   "cell_type": "code",
   "execution_count": 129,
   "metadata": {},
   "outputs": [
    {
     "data": {
      "text/plain": [
       "AAPL    float64\n",
       "GOOG    float64\n",
       "MSFT    float64\n",
       "dtype: object"
      ]
     },
     "execution_count": 129,
     "metadata": {},
     "output_type": "execute_result"
    },
    {
     "data": {
      "image/png": "iVBORw0KGgoAAAANSUhEUgAAAYAAAAEACAYAAAC6d6FnAAAABHNCSVQICAgIfAhkiAAAAAlwSFlz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\ngiAI2pRwAEEQBG1KOIAgCII25f+olb62UIthxQAAAABJRU5ErkJggg==\n",
      "text/plain": [
       "<matplotlib.figure.Figure at 0x28a699d57f0>"
      ]
     },
     "metadata": {},
     "output_type": "display_data"
    }
   ],
   "source": [
    "valid_stocks.plot(grid=True)\n",
    "valid_stocks.dtypes"
   ]
  },
  {
   "cell_type": "code",
   "execution_count": 130,
   "metadata": {},
   "outputs": [
    {
     "data": {
      "text/plain": [
       "<matplotlib.axes._subplots.AxesSubplot at 0x28a698a2cc0>"
      ]
     },
     "execution_count": 130,
     "metadata": {},
     "output_type": "execute_result"
    },
    {
     "data": {
      "image/png": "iVBORw0KGgoAAAANSUhEUgAAAYwAAAEQCAYAAACjnUNyAAAABHNCSVQICAgIfAhkiAAAAAlwSFlz\nAAALEgAACxIB0t1+/AAAIABJREFUeJzsnWdYFFcXgN9L76CAKNhAEey9x4jd2I0xlsQSNZoYY740\nNc2YYhLTmykmxho1RhN7V4gajd2IBRQRFWwUKUvbZfd+PwaIKOiCrKLe93n2YXfmzp2zy+6cOfc0\nIaVEoVAoFIpbYXW3BVAoFArFvYFSGAqFQqEwC6UwFAqFQmEWSmEoFAqFwiyUwlAoFAqFWSiFoVAo\nFAqzUApDoVAoFGahFIZCoVAozEIpDIVCoVCYhc3dFqA08fLyktWrVzdrbHp6Os7OzpYVyEzKiixl\nRQ5QspRlOUDJUpblgOLJcuDAgQQppbdZg6WU982jadOm0lxCQ0PNHmtpyoosZUUOKZUshVFW5JBS\nyVIYZUUOKYsnC7BfmnmNVUtSCoVCoTALpTAUCoVCYRYWVRhCiO5CiEghRJQQYkoh++2FEL/l7t8j\nhKh+zb4GQojdQohjQohwIYSDJWVVKBQKxc2xmNNbCGENzAS6ALHAPiHEKinl8WuGjQauSilrCiEG\nAzOAQUIIG2AhMExK+a8QwhMwWEpWhUJx/2IwGIiNjSUrK8ui53F3d+fEiRMWPYe5FCaLg4MDlStX\nxtbWtsTzWjJKqgUQJaWMBhBCLAH6AtcqjL7AtNzny4BvhRAC6AockVL+CyClTLSgnAqF4j4mNjYW\nV1dXqlevjnZ5sQxpaWm4urpabP7icL0sUkoSExOJjY3F39+/xPNacknKDzh/zevY3G2FjpFS5gAp\ngCdQC5BCiI1CiINCiEkWlFOhUNzHZGVl4enpaVFlUdYRQuDp6XnbVlZZzcOwAR4CmgMZwFYhxAEp\n5dbrBwohxgJjAXx8fAgLCzPrBDqdzuyxlqasyFJW5AAlS1mWA+4tWdzd3dHpdBaXw2g0kpaWZvHz\nmENRsmRlZRX4rC6lm4o3sbnxt8V9AK2Bjde8fg147boxG4HWuc9tgARAAIOBedeMewt49VbnVHkY\nt0dZkUNKJUthlBU5pLy3ZDl+/PgdkSM1NfWOnMccipLl+s9iffjFMpOHsQ8IFEL4CyHscpXAquvG\nrAJG5D5/DNgmpZS5iqS+EMIp1wHenoK+D4VCobjnWLFiBUIIIiIiCmz/8ssvcXBwICUlJX9bWFgY\n7u7uNGrUiNq1a/POO+/kb+/Vq1epyJOYnl2s8RZTGFLzSUxAu/ifAJZKKY8JId4VQvTJHTYb8BRC\nRAEvAVNyj70KfI6mdA4DB6WUay0lq0KhUNwJFi9ezEMPPcTixYtv2N68eXP++OOPAtvbtWvH4cOH\n2b9/PwsXLuTgwYOlKk9Cmr5Y4y2ahyGlXCelrCWlrCGlnJ67baqUclXu8ywp5UApZU0pZQuZG1GV\nu2+hlLKulLKelFI5vRUKxT2NTqdj586dzJ49myVLluRvP336NDqdjvfff/8GRZKHs7MzTZs2JSoq\nqlRlStAVz8Ioq05vhUKhKHXeWX2M4xdSS3XOOr5uvN277i3HrVy5ku7du1OrVi08PT05cOAATZs2\nZcmSJQwePJh27doRGRnJ5cuX8fHxKXBsYmIi//zzD2+99Rbx8fGlJntxFYYqDaJQKBR3gMWLFzN4\n8GAABg8enG9N5G23srJiwIAB/P777/nH7Nixg8aNG9O1a1emTJlC3bq3VkzFQVkYCoVCUQTmWAKW\nICkpiW3bthEeHo4QAqPRiBCCESNGcOrUKbp06QKAXq/H39+fCRMmAJoPY82aNRaTK0FXhnwYCoVC\noYBly5YxbNgwzp49S0xMDOfPn8ff358XXniBadOmERMTQ0xMDBcuXODChQucPXv2jsiVkKaWpBQK\nhaJMsXjxYvr3719g24ABAzhz5swN2/v371/AKV4YW7dupXLlyvmP3bt3F1umLIORtOycYh2jlqQU\nCoXCwoSGht6wbeLEiUycOPGG7Z9//nn+85CQkBv2h4SEkJmZedsyFdd/AcrCUCgUigeS4vovQCkM\nhUKheCAprv8ClMJQKBSKBxK1JKVQKBQKs1AKQ6FQKBRmkaDT4+pQvLgnpTAUCoXiASRel42Xi32x\njlEKQ6FQKO4Aly9fZujQoQQEBNC0aVNat27Nn3/+CcDOnTtp0aIFwcHBBAcHM2vWrALHzpo1K39f\nixYt2LlzZ/6+nJwcXn/9dQIDA2nUqBGNGjXik08+uaU8CWnZeLnYFes9qDwMhUKhsDBSSvr168eI\nESNYtGgRAGfPnmXVqlVcunSJoUOHsmLFCpo0aUJCQgLdunXDz8+Pnj17smbNGn788Ud27tyJl5cX\nBw8epF+/fuzdu5eKFSvy5ptvcunSJcLDw3FwcCAtLY0PPvjgljIl6LKp5VO8HuTKwlAoFAoLs23b\nNuzs7HjmmWfyt1WrVo3nn3+emTNnMnLkSJo0aQKAl5cXH3/8MR999BEAM2bM4JNPPsHLywuAJk2a\nMGLECGbOnElGRgY//fQT33zzDQ4ODgC4urry+uuv31KmBJ2+2EtSysJQKBQPDuunwKXw0p2zYn14\n5KObDjl27Fi+Qihs34gRIwpsa9asGceOHcvf37Rp0xv2z5s3j6ioKKpWrYqra/EsBX2OiZRMg/Jh\nKBQKRVnnueeeo2HDhjRv3rxU550zZ05+S9fz588XOS6vNauXq/JhKBQKReHcwhKwFHXr1mX58uX5\nr2fOnElCQgLNmjWjW7duHDhwgL59++bvP3DgQH7vizp16nDgwAE6dux4w/6aNWty7tw50tLScHV1\n5amnnuKpp56iTp06GI3GIuVJzC0LoiwMhUKhKGN07NiRrKwsvv/++/xtGRkZgGZtzJ07l8OHDwNa\nd73JkyczaZLWmXrSpElMnjyZxMREAA4fPszcuXMZP348Tk5OjB49mgkTJpCVlQWA0WhEr795naj4\n3KQ95cNQKBSKMoYQghUrVvDiiy/y8ccf4+3tjbOzMzNmzKBSpUosXLiQp59+mrS0NKSU/O9//6N3\n794A9OnTh7i4ONq0aYMQAldXVxYuXEilSpUAmD59Om+99Rb16tXD1dUVR0dHhg4diq+vb5Hy5NWR\n8lYKQ6FQKMoelSpVKrLPxcMPP8y+ffuKPPbZZ5/l2WefLXSfra0tH330UX5UFUBaWhp2dkX7J/Iq\n1RbXh6GWpBQKheIBI0GXjZOdNU52qjSIQqFQKG5CQgnKgoBSGAqFQvHAoSmM4i1HgVIYCoVC8cCR\nkFb8LG9QCkOhUCgeOBJ02Xi5KoWhUCgUipuQYzSRlKEsDIVCoSiTCCF48skn81/n5OTg7e1Nr169\nAK30ea9evWjYsCF16tShR48eAMTExODo6JhftrxRo0b8+OOP+c/t7OyoX78+jRo1YsqUKWbJkpSh\nR0rwLoEPQ+VhKBQKhYVxdnbm6NGjZGZm4ujoyObNm/Hz88vfP3XqVLp06cILL7wAwJEjR/L31ahR\nIz8LPI9x48YBUL16dUJDQ/Mr2ZpDQlrJyoKAsjAUCoXijtCjRw/Wrl0LwOLFixkyZEj+vosXL1K5\ncuX81w0aNLCYHHm9vEviw1AWhkKheGCYsXcGEUkRpTpncPlgJreYfMtxgwcP5t1336VXr14cOXKE\nUaNGsWPHDkCrJzVo0CC+/fZbOnfuzFNPPZVf2uP06dM0atQIgLZt2zJz5szbkjdPYXg6qyUphUKh\nKJM0aNCAmJgYFi9enO+jyKNbt25ER0ezYcMG1q9fT+PGjTl69ChQ+JLU7aAsDIVCoTADcywBS9Kn\nTx9eeeUVwsLC8qvP5lG+fHmGDh3K0KFD6dWrF9u3b7+hcVJpkKDTY2djhat98S//FvVhCCG6CyEi\nhRBRQogbXPhCCHshxG+5+/cIIapft7+qEEInhHjFknIqFArFnWDUqFG8/fbb1K9fv8D2bdu25Zc7\nT0tL4/Tp01StWtUiMiSkZePtYo8QotjHWkxhCCGsgZnAI0AdYIgQos51w0YDV6WUNYEvgBnX7f8c\nWG8pGRUKheJOUrlyZSZOnHjD9gMHDtCsWTMaNGhA69atGTNmTKl348sjvoRlQcCyS1ItgCgpZTSA\nEGIJ0Bc4fs2YvsC03OfLgG+FEEJKKYUQ/YAzQLoFZVQoFAqLo9PpbtgWEhJCSEgIAK+++iqvvvrq\nDWOqV6+e78sojJiYmGLLkqDT4+vuUOzjwLIKww+4tqlsLNCyqDFSyhwhRArgKYTIAiYDXYCbLkcJ\nIcYCYwF8fHwICwszSzidTmf2WEtTVmQpK3KAkqUsywH3lizu7u6kpaVZXA6j0XhHzmMORcmSlZXF\nhaQ0vK0zSvT/K6tO72nAF1JK3a3W2aSUs4BZAM2aNZN5GvtWhIWFYe5YS1NWZCkrcoCSpSzLAfeW\nLCdOnMDV1dXicuT11S4LFCWLvb0DOgPUD6xGSEhwsee1pMKIA6pc87py7rbCxsQKIWwAdyARzRJ5\nTAjxMeABmIQQWVLKby0or0KhuE+RUpbIyXs/IaVEIjGaZImyvMGyCmMfECiE8EdTDIOBodeNWQWM\nAHYDjwHbpJQSaJc3QAgxDdApZaFQKEqCg4MDiYmJeHp6PrBKQ0pJYmIiJitboGRlQcCCCiPXJzEB\n2AhYA79IKY8JId4F9kspVwGzgQVCiCggCU2pKBQKRalRuXJlYmNjiY+Pt+h5srKycHAomTO5tClM\nFgcHB9Ks3IAyqDAApJTrgHXXbZt6zfMsYOAt5phmEeEUCsUDga2tLf7+/hY/T1hYGI0bN7b4ecyh\nKFmOHNa8At6uJQurVcUHFQqF4gEhQVfySrWgFIZCoVA8MCTosrG1Frg72pboeKUwFAqF4gEhIS0b\nT+eSlQUBpTAUCoXigUHr5V0y/wUohaFQKBQPDAm6kvXyzkMpDIVCoXhASNBlK4WhUCgUipsjpSRR\np8ezhJVqQSkMhUKheCBIzcxBbzThrSwMhUKhUNyM+LzWrEphKBQKheJmJCiFoVAoFApzyFcYKqxW\noVAoFDcjIU1ZGAqFQqEwgwSdHisB5ZyUhaFQKBSKm5Cgy6a8sz3WViXvCaIUhkKhUDwAaEl7Jbcu\nQCkMhUKheCBI0Onxdi25/wKUwlAoFIoHgtstCwJKYSgUCsV9j5RSLUkpFAqF4tak641kGUzKwlAo\nFArFzSmNHAxQCkOhUCjue/7L8lYKQ6FQKBQ34b86UsqHoVAoFIqbEK/TA9xWaXNQCkOhUCjuexLS\nshECyjsrC0OhUCgUNyFBl005JztsrG/vkq8UhkKhUNznJOiy8bxN6wKUwlAoFIr7ngSd/rZDakEp\nDIVCobjvSdBl33ZILSiFoVAoFIVyKf0SBpPhbotRKiSk3X5ZEFAKQ6FQKG4gKSuJPiv68Pn+z++2\nKLdNpt5Iut6olqQUCoXCEqw+vZrMnEyWRi7lSsaVuy3ObZGXtHe7ORigFIZCoVAUQErJ8lPLqe5W\nHaM0MufonLst0m0Rn18WRC1JKRQKRaly6MohzqScYVS9UfSp0YffT/5OfEb83RarxJRW4UGwsMIQ\nQnQXQkQKIaKEEFMK2W8vhPgtd/8eIUT13O1dhBAHhBDhuX87WlJOhUKhyGP5qeW42LrQrXo3nm7w\nNDmmHH45+svdFqvEJOSWBSnTCkMIYQ3MBB4B6gBDhBB1rhs2GrgqpawJfAHMyN2eAPSWUtYHRgAL\nLCWnQqFQ5JGqT2VTzCZ6+PfAydaJKq5V6F2j9z1tZeT5MDzLeJRUCyBKShktpdQDS4C+143pC8zL\nfb4M6CSEEFLKQ1LKC7nbjwGOQojbV48KhUJxE9ZGryXLmMWAWgPyt42tP/aetjISdNm4Odhgb2N9\n23MJKWUpiFTIxEI8BnSXUo7JfT0MaCmlnHDNmKO5Y2JzX5/OHZNw3TzPSCk7F3GescBYAB8fn6ZL\nliwxSz6dToeLi0uJ3ltpU1ZkKStygJKlLMsB96csUkpmXJyBEILJlSYX2Pdrwq8cyDjA275v427j\nblE5SoNrZZl5OIvzaSY+audU6NgOHTockFI2M2tiKaVFHsBjwM/XvB4GfHvdmKNA5Wtenwa8rnld\nN3dbDXPO2bRpU2kuoaGhZo+1NGVFlrIih5RKlsIoK3JIeX/KcjT+qKw3t55ccmLJDfvOpZyTDec1\nlB/t+cjicpQG18oy8IddcuAPu4ocC+yXZl7XLbkkFQdUueZ15dxthY4RQtgA7kBi7uvKwJ/AcCnl\nabPOKI23J7FCoXhgWXZqGY42jvQI6HHDvipuVegV0Oue9GUk6LJLJQcDLOvD2AcECiH8hRB2wGBg\n1XVjVqE5tUGzSLZJKaUQwgNYC0yRUv5t9hkzr96+1AqF4oEjw5DBuuh1dK3WFVc710LHjG2g+TLm\nHLu38jJKqywIWFBhSClzgAnARuAEsFRKeUwI8a4Qok/usNmApxAiCngJyAu9nQDUBKYKIQ7nPirc\n8qSZKaX9NhQKxe2Qo4djKyAn+25LclM2xGwgIyeDx2o9VuSYqm5V6RXQi6WRS0nITChyXFkiO8dI\nalZOqYTUgoXzMKSU66SUtaSUNaSU03O3TZVSrsp9niWlHCilrCmlbCGljM7d/r6U0llK2eiax63z\n8/VpkKWUhkJRJshIggX94PcRsOubuy3NTVl+cjkB7gE09G5403F5Vsa9EjGVmJeDUQqVauF+y/SW\nEk5uuttSKBSKhCj4uRPE7gPPmrDnRzBk3W2pCuXk1ZMcSTjCgMABCCFuOraqW1V6BvTk98jf7wkr\nIy8H456wMO441rYQsfpuS6FQPNic2aEpi6wUGLEaen4G6VfgyG93W7JC+ePUH9ha2dK7Rm+zxo9r\nMA6DyXBP1JgqzaQ9uN8UhoM7nNoChsy7LYlC8WByaCEs6A8uFWDMVqjaCvzbQ6WG2rKUyVRqp8ox\nmvhw3QmuZJR8zmxjNqtPr6Zz1c6Ucyhn1jF5Vsa94MtISNOWpO6FKKk7j4MHGNLhdOjdk0GfDuf3\n3r3zKxR3A5MJtrwDK5+D6m1h9GYo76/tEwLaTITEU3ByQ6md8u/Tify4PZq10SVvcrT57GZS9ak8\nWuvRYh03tsFY9CZ9mbcy4tWS1E2wcwF7d4hYc3fOb8iChY/B7C6w6a1SvZtSKMos+gxYNhJ2fg5N\nR8ITy8DRo+CYOv3Aoyrs+rrUTrs+/CIAey/lkGUoWQ7W8pPLqexSmRYVWxTruGpu1e6JiKkEXTbO\ndtY42t1+WRC43xSGEFCrG0SuB2POnT23yQh/jIFzu6BmZ+2H8ceYMh9OqFDcFmmXYG5POL4Kuk6H\nXl9qvsTrsbaBVs/Bud2lYoEbjCY2HrtEH/coZE42YZHFb3IUkxLD/sv7GVBrAFai+JfCPCtj7tG5\nxT72TpGg05dahBTcbwoDoHYvyEzSLtx3Cilh/SQ4sRq6f6TdYXV5F44u19ZzVUKh4n7k0lH4qRPE\nR8DgX6HNBO2mrSgaP6ktG//91W2fek90Ei2ydvF19lSesd/En4euLyJxa/449QfWwpq+Na6viWoe\n1dyq0dO/J79F/lZmrQwtaU8pjKKp2RlsHODEHVyW2vEZ7PtZW6dt9az2o2n7AgyYrYUVzu4Gyefu\nnDwKhYUpn7gffummleN5aj0E97z1QfYu0HwMRKzVwm5vgy2HT/Ge7VwAetkdJDQinuQMvdnHG4wG\nVp5eSfvK7fF28i6xHHlWxrxj8249+C6QoCu9LG+4HxWGnTPU6Kh9KS1UibcAhxbCtveg/uPQ+Z2C\n++o/BsP+BN0l+LkzXDhseXkUCkuz50fqh0+H8gHw9DbwbWT+sS3HgbUd7P62xKfPMZqoe/wLvEQK\nBPWkhuEkLsZk1ub6NMwhLDaMpKykAmXMS0J19+r09O/JkoglpBnTbmsuS6ApDGVh3JzgXpAaCxcO\nWfY8JzfBqokQ0AH6zgSrQj7O6g/BqE3aj2RODy3sV6G4FzHmwNpXYP0kEj2baZaFm2/x5nCpAA0H\nw+FFoCu+3wHgxN5NDJQbOVtzGLR/FYFkkEcEK4qxLLX85HJ8nHxo69u2RDJcS56VsTV1623PVZoY\njCauZhiUwrglQY+AsLZstFTsAa3kQcV6MGgB2NzE7KsQrIUZegbAosfh4HzLyaVQWIKsVFg8CPb9\nBK0ncLTeFG2JqSS0eR6Metg7q/jH5mTjEzaZOOlNxX7vQaVGZNuVZ4BLOPtirnI+KeOWU8Tp4th1\nYRf9A/tjbXX70UPV3avTw78H29O2k5iZeNvzlRZJ6aVbFgTuV4XhVB6qtbGcHyMhChYN1O6WnlgG\n9oVXtyyAWyXtjiwgBFY9D6Ef3JklM4Xidkk+p/krTodqUVDdpms3ZCXFK1Dzeez7WctbKgamHZ9T\nITuGFX4v4+jiDkKQ6NmcgNQ92JLDysO3tjL+PPUnAP1r9i+R+IUxtsFYcmROmfJlxKdpEZreyodh\nBrV7Q0IkJJwq3XnTLsPC3CSfJ//QlMY1bDl+mcd/2M0zCw7w3prjzN55hg1HLxEem0JSjj1yyBIt\nWuSvGbBivFbNU6Eoq8Tu1yKhUuLgyeXQ7KnSmbfNRC168NBC84+Jj4Qdn7PS2Ibqrfrlb070bIaV\nXsdw31j+OBSX13ytUHJMOfwZ9SdtfNvg61LM5bSb4O/uTzPnZiyJXFJmrIzSriMFYFNqM5U1gnv+\nF+ra7qXSmTM7DX59DNLjYcQa8KxRYPeuqATG/3qQCm72JGXo+etkPJnXJRQ52lrj6/4Y492sGPDv\nfM6djWJf+Qk4RCfi5+FIRXcHbK3vXz2uuIc49if8+Qy4+MDINeAdVHpzV20JVVpqzu9mo7U8jZth\nMsHqF8gS9sxgBJuD/otsulquIdg48LjbcWZHVCc8LoUGlT0KnWbXhV1cybjClBZTCt1/O3Rz78aB\niweYd2weLzUrpWvObZCQV6lWKQwzcK8Mvo01P0ZpKIwcPfz2JFw+BkN/g8pNC+w+EpvM0/P34+/l\nzNJxrXF3skVKSXKGgbjkTO1xNZMLuc/nJw8i3MqVN67+QK+kNxl5fBKXKY8Q4OPqgF85R3w9HPHz\ncMTPo+BrV4dCEqMUitJCSi1UfNt7UKWVlmPh7FX652kzEX57Ak6shHq3iFY6OBfO7eZT6+doUCsQ\nZ/v/Ll0ma3vwb0/N+J3YWffkz0NxRSqMZSeXUd6hPCGVQ0rvfeTiY+vDI/6PsCRyCSPrjaS8Q/lS\nP0dxSMyzMErRh3H/KgzQoqW2vQepF4ofzXEtJpNWIyc6DPp+B4FdCuyOjtcxcs4+PJzsmDeqBe5O\n2gVdCEE5ZzvKOdtRz6+wxvEPoY/sQM3fhrHd5X1Cm33HcWOVfMXy7/lkNhy9iMFY0MR2dbDJVSSO\nBRSJr4cjlcs54u1ij5XVzcs0KxSFkpMNq/8H/y6C+gOhz7dg62CZcwX10Eqf//0V1H206KS/1Iuw\n+W1SK7XhlzNt+LpBpULm6o71qY08USOL1f9e4I0etbG5zlKPz4hne+x2htcdjm1h2eilwNgGY1l/\nZj1zj83lpaZ318pI0GXjYGuFcymVBYH7XWHU7q0pjIi10OLpks+z5W0IXwqdpkLjJwrsupSSxbDZ\nexHAwjEtqehevB+XXVAX9jf+gGaRM+i+5ym6D14I/g/n7zeZJPG67BsslAvJmcRezWRfTBKpWQXL\noNhaCyq5O+Lr4cATLavRu2HprdXmsevCLowmI+0qtyv1uRV3iYwkzYo++zeEvA7tJ908c/t2sbKC\n1hNgzf/gzHYIaI/RZMRgMuBgc83vaP0kMOqZW+5/2J030TG4kOabgd0AGOx+jDknm7AzKoGQoILj\nFhxfgFEaGRB4e7kXNyPAPYDu1buzJGIJI+veXSsjQafHy8X+lj0+isP9rTC8g8AzUPNjlFRhRG7Q\n6kI1Gw0PFbxjSM7QM2z2HlIyDSwZ2wp/L2dOXj3JyqiVjK4/2uwvi841AMZsgV8HwoJHod930OBx\nAKysBD5uDvi4OdCkauHll9OyDFxIziIuOYO45Kx8xRIel8LLS/8lqKIrtXzMiOQyk4TMBF4KewlH\nG0e2Dtxaojo8ijJGXuRfSiw8+jM0GHhnzttwCIROh11fk+LXiPFbxnM54zILeyykonNF7WbvxCpM\nHd9m0U4bQmq542JfyGXL3Q8qNiAw+W/cHVvy56G4Agpjy9ktzDk2h341+1HNrZpF39K4huPKhJVR\n2kl7cD9HSeVRuxfE7NTunopLeqIWAutTD7p/WOBuK0Ofw6i5+zibmMGs4U2p5+eO3qhn0l+TmH98\nPgNWDWDXhWLUs/KoAqM2aP0D/nhaW0M2M+zW1cGWoIqudAz2YVirakx5JJivhzTm92da4+pgw0tL\nD2Mwll7l3C8PfEm6IZ2EzASOJx4vtXnvdWIS0gktQRG8u05+w6NULZjjTikL0Ja7Wo7javQ2nl73\nJCeSTqAz6Bi/dTxpqRe0REGfehyq8iSXUrPoUb+Q5ag8anXHKnYPj9VxYuOxS+iyNcs7MimS13e+\nTgPvBrzZ6k2Lv6UA9wDNlxGxhKSsElx3Son4Uq4jBQ+CwgjurdW7ObmxeMdJCWtf1EL/+v8INv99\n8AajifG/HuTw+WS+HtKINjU0h+Dso7M5nXKaV5q9grudO+M2j+OTfZ+gN5oZOuvooYUu1h8IW9+F\nNS/eVtVdLxd7pvevx9G4VGaG3l7tnjz+jf+XladX8mjgo1gJK0LP38XeI2UAKSV7ohN5ev5+OnwW\nxlNz9rHh6KW7LZb5HFqo9d128YGnt2rRS3eYhHr9GeVbkejUc3zT8Ru+CPmCM8lneHnNUAxpF6H3\n16w7loCdtRWdaheyHJVHUHeQJp4of5Isg4lNxy6RmJnI89uex9XOlS9DvsTeunQvoEUxrsE4snKy\n7mpeRoJOj7dr6eVgwH2mMAymQhqp+DYGV9/iZ32HL4PjK6HD61o2dy4mk+SV3/8lLDKe6f3r072e\ndscTnRzNT0d+4hH/RxhRdwRLei1hUNAg5h+fz9C1QzmdfNq889rYQ/9Z8NCLcGCOFkVSzOSma+le\nrxL9G/vG0SYKAAAgAElEQVTx7bYowmNTSjwPgEma+HDPh3g7ejOp+SQaeTfir/N/3dac9yr6HBMr\nDsXR+9udDJr1D/tjkpjQoSZ1fd1448/w/AiVu0VMSgyHrxwmK6eIPtomE2yZltvwqB2M3gTlqt9J\nEQG4knGFUdtfIs7WnpmXr9DWpRqtfVszNWgYuw2JvFe7NSbfxqwPv8jDtbxuHiFYqTG4+OCftIPK\n5RxZfugsL4W9RFJWEl93+Pq2igwWlwCPALr7d2dxxGKuZt35atUmKUlKz8bTWVkYRVJowoyVlZaT\nEbVVa/RiDqkXYN3LWpx42xfyN0speXfNcVYevsCr3YIY0qIqoF1Ip+2ehpOtE5ObTwbAwcaBN1u9\nyTcdv+FKxhUGrRnEbxG/3TSpqIDMnadBz8/h1Cat30AJ6+4ATOtdF08XO17+/XCJG80ArIxaybHE\nY7zY9EWcbZ0JqRJC5NVILurML/p2r5Ocoee7sCge/jiU//12mEy9kQ/612f3a514uWsQnz3ekLSs\nHN5ccdS8/7UF0Ol1jNgwgmHrh9F6UWseX/047//zPiujVhKdEo0pW6eVtdn5BTR9Cp74/caGR3eA\ni7qLjNwwksvpl/m+7XRaZmbDP99Djp7++5cyLlPyZ1Ys7+78mgspt1iOAu13E9gVEbWVRxtU4IBu\nNgevHOS9tu9R16vunXlT1/BMg2fumpWh04NJUqqVauE+UxhXs68Wrs1r94KcTDhtRnEwKWHlBDAa\noN/3cE2tmZmhUczdFcOotv6MD/kvae/3yN85dOUQrzZ7FU9HzwLThVQJYXmf5TT1acr7e95nYuhE\n8+84mo+GwYu0DNefO5c4a93dyZYZAxpw8rKOL7acLNEcqfpUvjz4JY28G9EroBcA7au0B+Cv2Pvf\nyjiTkM7UlUdp/eE2Pt4QSc0KLsx5qjmbX2zP0JZVcbDVvifBFd14sUst1h+9xKp/L9wVWecdn0dS\nVhKvt3ydp+o9hZu9G2uj1/Lm32/Sd0VfHlrchqev/sPXTfsR1rAvifrUOy5jbFosT218iuSsZGZ1\nnUXTmj2hbj84MA+2vgPxJ3iuw6f0DujN8jOzsfc4RKfaPreeuFZ3yE7BweY3bD320dzjMR7xf8Ty\nb6gQ8qyMRRGL7riVkaLXblZKMwcD7jOFIaVk4YlCSg1Ua6s1bjGnttT+XzTF0vW9Apncv+45y6eb\nTtK/sR9v9qydH6p2Kf0SXxz8glaVWtGnRp9Cp/R28ub7zt8zqfkk/o77m0dXPWq+QzzoES3LVp+u\ntX499495x11HSFAFhrSoyqzt0Rw4W3xH3PeHv+dq1lVea/la/nv3d/OnqmtVwmLDSiRTWUdKyT/R\niXx1MIuOn4WxZO95ejWoxPoX2rFwTEs6BFUoNN9l7MMBNK7qwdSVx7icWsSSkIVIyExg3rF5dKve\njSHBQ5jYZCI/d/2Zv4f8zYq2H/OuzsQj6ZmkeAbwy9V/eT50IiFLQ+i2rBuv/PUK847N49CVQ2Tm\nZFpMxrOpZxm5YSQ6g46fuv1EQ++G2o42E0GfpmV/130UEdSdaa2nYZ1dE/uKyziZYkZ7gIAQdju5\nMuvCSpwMDbh0NsRi78Mc7paVkZqdqzCU07toXO1cWXxiMTq9ruAOa1vtwntyvWY5FEXiadj0ptZP\no9no/M3rwi/y5oqjdAyuwMePNci/SEgpmb5nOkaTkamtpt403tlKWDGszjAW91xcfIe4X1MYsxkc\ny8O8PppvpQS80bM2fh6OvLz0XzL05jvTo65GsThiMQNqDaCOZx2yDEbeW3OcL7acon2V9uy9uJcM\ng5nLffcA+hwTfx6Kpfe3Oxk86x9OXTXyfIea7JzSgU8GNqR2JbebHm9tJfhsYEOyc4xMWX7kji5N\n/fDvDxiMBp5v/HyB7VanNlNj6Rj6Z5l469FlLB24kd1DdzOv+zxeafYK9b3rEx4fzqf7P2X4+uH5\nS1nv7X6PFVErOJ18GpO8/Ui708mnGblhJAaTgdldZ1PX85qlIt9GWqsABw94ZAYAEZcySI4ZiqeD\nLy+EvkB0cvRN5z+bncgrPp74GyWjgl7n+AUdJy/fvT4VAR5aXsadtjLyLQylMIrGy9GLNEMaSyKX\n3LgzuBdkpWghtoVhMsKKZzXl0ufb/BDaf6IT+d+SwzSpWo6ZQ5sUqPO0+exmws6HMb7ReKq4VTFL\nxqDyQSzutTjfIf7Euie4ZDAjqqZ8gFYivVJDWDoCds8063zX4mJvw6cDGxKTmMGM9RFmHSOl5KN9\nH+Fk68TExhO5kJzJoB93M3vnGb7eegpf22YYTIbihRCXUfL8E+0+3saLv/1LlsHEh4/W5/MQJ17q\nGkQFV/OTMgO8XZjSPZjQyHiW7j9vQan/41zqOZafXM6AWgMK5hrs+REWD9Ys5qe3at8hwNHGkSY+\nTRhRdwSftv+UjY9tJPTxUL7u8DWj6o3C3d6ddWfW8dbfb9FvZT/aLm7LmE1j+Prg1xzJOFLstqSR\nSZGM2jgKgF+6/UJQ+UJqUw1aCM/tyS/quS78EjY4812n77CzsmP81vFFnjdNn8bEbRMR1nZ8fSGO\ngVU15V2S9q2lybiGWsTU/ON3rq1BnoXhrRRG0TjaONLWty0Lji+40aSu0RFsHIuOltr1NZzfAz0+\n1ZKAgMhLaTw9fz9VPZ2YPaIZjtek2Kdkp/Dh3g+pXb42w+oMK7aceQ7xy+mX+fjixyyNXHrrO1Fn\nTxixSvPJbHwdNrymRbsUg1YBnoxq68+83Wf5O+rWP/gt57aw5+IeJjSawIk4I72/2cnp+HS+GtwI\nHzd7lu60xtXOlbDzYcWSoywRHa/jrRX/+Sdq+bgy56nmbPrfwwxpURU765Jlyg5vXZ3WAZ68u/q4\nWX0abpdvDn2DrbUtzzR8RttwTcMjgnqY1fDIy9GLDlU7MLHJRH7q+hN/D/mblX1X8n7b9+kZ0JPU\n7FTmHJ3DT/E/0WFpB7ou68rLYS8z9+hcDlw+UORS1vHE44zeNBobKxvmdJtDDY8ahY7D3gVcKwLa\nzcq68Iu0relFbe/qzOw0k6SsJCZsnXCDRWs0GZm8fTLnUs/xecupVMkxUj5uG+0CvVh5KA6T6e61\nEqjhUYNu1bux6MSdszJS9RI7ayvcHEs3N/u+UhgAY+qPISkrKb/mfT52TlCzk+bHuP4ie+mo1p+i\nTl8tBwK4kJzJiF/24mRnzbxRLfBwKhht8MWBL7iadZVpbaZhY1Wyf0qeQ7yGfQ3e++c98xzito4w\ncB60Gg//fKdFuxiKt948qXsQAd7OTFp2hNSsopfoMnMy+WTfJwR6BJJ2pTlP/ryHcs52rJzQlr7G\nzfxUax9HYtOo5tiUHXE7MJpKHoF1p5FSsvt0ImPm7afT53/x2z7NP7Hhf+1YMLpo/0RxsLISfPxY\nAwAmLTti0YvWsYRjbIjZwPA6w/Fy9CrY8KjNRHh8gda+uJhYCSsCPALoW7Mvb7Z6k6W9l7J76G5e\n9HmRV5u9SkPvhhxLPMZnBz5j5IaRtF7UmoGrB/LO7nf489SfRF2N4vCVw4zZOAZnG2fmdp9Ldffq\n5r2nC6mcS8qgR31NgdT1qsvHD3/MiaQTTN4xucD37atDX7EjbgdTWkyhRWBvLdk2cgP9G/txISWL\nvTF3L4EOtLyMzJzMO2ZlpGRLPF3sSrUsCNyHCqOpT1MaV2jMnGNzMFzvr6jdW+uvHXfgv205eq2E\ns4MH9PwChCAl08DIOXtJz85h7lMt8PNwLDDNvkv7WH5qOcPrDKeOZ53bktfbyZtnKzzLq81eNd8h\nbmWtZZ53+0ArezK/b7Ey2R1srflsYEMupmTy/pqiM7XnHp3LxfSLOKY9xofrT9KtbkVWPNeWGuf/\nhNUv0ODoR0z33EBkdBWSspIITwg3W4a7RZ5/otc3Oxny0z8cPHeV5zsG8veUjnwysCHBFW/unygu\nVco78VavOuyOTmT+7phSnTsPKSVfHPiCcvblGFl3pGZZLHxUK5bZ+ystgKOw9sElxMHGgQCHAIbX\nHc4n7T9hw4ANhD4eyrcdv2V0/dGUsy/HxjMbmbprKv1X9WfY+mF4OHgwp/scqriat3QLmu/Q2krQ\ntU7F/G0hVUKY3HwyYefD+Hjfx0gp2avby5yjc3i81uMMCh6kDazVDc7tpqu/A8521sVq32oJapar\nmW9lJGclW/x8qXpZ6v4LuM8URrbBhBCCMfXHcCn9Emuir1t+qtUNrGwgYvV/2/76CC6HQ5+vwdmT\nLIORsfP3cyYhnR+HNb3BwZmVk8U7u9+hsktlnm30bKnIbSWsGF53OIt6LsLNzo1xm8fx6b5Pb+0Q\nb/0cDJwLFw5rEVRJZ8w+Z+Oq5RgfUpOl+2PZeuLyDfvjdHH8HD4bh+wm7D7mzpRHgvnuiSa4nN0G\nq1/QlvgaDOaJ9AX0uHoagVWZDq9NztAzM/Q//0R2juaf2DWlIy91qYV3KYcfXsug5lUICfLmow0R\nRMfrbn1AMdl9YTd7Lu1hbIOxuNi5wO5vIHafVqGg6chSP19heDl60b5Ke55v/Dyzus5i55CdrOq3\niukPTWd8w/HM7T63WA2L8paj2tTwpJxzQet+aO2hDK8znEURi3j/n/dZnLiY5hWbM6XlNT0uaj0C\n0ojjuVC61avI2vCLt5WDVBrcSStDUxilm4MB95nCOHUljYX/nOUh34cILh/ML0d/KbhM4lgOqj+k\nLUtJCef3aslLjZ+EoEcwmSQvL/2XPWeS+HRgQ9rUvLEHwKwjszibepaprafiaON4w/7bIbh8cH6G\n+Lzj83hi3RO3jAqhbj8YvhIyEjWlca31dAsmdgokuKIrU/4I52p6QeU0adt09DkmDPE9mD+qJc+0\nr4GIO5jbx7w+PD4f+s6E2n1433oJnhkebI4pe2VCrvVPfLJR80/MvcY/kZc/YUmEEMwY0AB7G2te\n/v1fjKW4NGWSJr44+AV+Ln48HvQ4xJ+E0A+hdh+o/1ipnae4WAkr/N396VOjD882epYKTjcp6VEI\nJy6mEZOYUWSy3svNXqZLtS4sPbkUN2s3Pmv/GbZW12SB+zUBJy84qS1LpWXlsC3i7tb5qlmuJl2r\nd+XXE79a3MpIyVYWxi1xtrfhzRVHGbfwIINrjSQmNYYt57YUHBTcC5JO45oWpS1FuVWGbh8ipeS9\ntcdZG36RN3rUpm8jvxvmj0yKZM7ROfSt0ZfWvq0t8h7yHOJfd/iay+mXGbRm0K0d4tVaaxFUto4w\nt5dWYdcM7Gys+PzxRiRn6Jm66hiQW/pkzTKOXN2Bh747a8b35qFALy3keNFAcPbWMoPtXbUuaQNm\nk129EyMzT3M27TSxabG3/yGc2U7l8ys1y6mYTn241j+xL98/0bvhf/6JkFLwTxQXHzcH3u1bl0Pn\nkpm1PfcmIHY/pN1e3an1Z9YTkRTBhMYTsBPWWqkPOyf21XmDRXvOsS78IruiEjh2IYW45EzSs3Pu\nWgZ6cVh/9CJWArrWKTxZz0pY8cFDHzC2wVie9XmWcg7XVXK2stZWFE5tpo2/BxVc7e96tBTcGSvD\nZJKk6WWpJ+3BfVbe3N/LmWd61mbGhgj+jbXFp2YVfjryE12rdf3P+RPcE9a9Qv3w98GQrFXndHDj\n5+3RzPlby+Ie087/hrmNJiPTdk3Dzd6NV5q9YvH30qFqB+p51eONnW/w3j/vsTNuJ++0eefGH0Ye\nXoEwegssehyWDNGivZqPLnzsNdTxdeN/nWvxycZIPHPsmDNvN/sM3+PiUIE1I97E3cFJK0uS18d8\n2J8F+5jb2GH/xK/U/q47kMRv2z7j5b5flOxN69Nh01vsO7qQnY4OBP66hNpWTlSr0g6bmh21GH2P\notfA9Tkm1hy5wM87znD8Yirlne14vmMgw1pVs+iSk7n0aejLhqOX+GLzSfra7MF3y3itftPT28Cp\n+H0TDEYD3xz6hqByQfTw7wH//ACxe5lX6Q3e/rXo2mV21la4O9ni4WiLh5Mt7o52eFz72sku/3k5\nJzvcc5+72NuUuhO1MKSUrA2/SKsATzxvcpfsYOPA842fJywsrPABtbrD4V+xjt1L30a+zN0Vw9V0\n/Q1LXHeSwHKBdK3elUURixheZzgeDqVfkiUl04BRln4OBlhYYQghugNfAdbAz1LKj67bbw/MB5oC\nicAgKWVM7r7XgNGAEZgopTSr3OyYdgG0CvBk4pJDnI1uyeVKywg9t52O1bQyFrj5gl8z7OL2a5FG\n/u1YeTiO6etO0LNBpQJZ3NeyKGIRRxOP8vHDH1vkn1wY3k7e/NDlBxYeX8iXB79kwKoBvP/Q+7Tx\nbVP4Aa4+MHItLBsFa1+ClPPQceotHZ7jHg5g0/HLzD2WjINnKLYVrvBRyFeassjWaX06dFdgxOob\n+pgDYOtIg9Er8V3yMCcursV4sifWtToX782e3wd/jiX76hleCwjksum/DGn7jP0E7t9F0N9vU9vW\nnaCKzagV2AOnGp3AwZ3kDD2/7jnHvF0xXEnLJrCCCx89Wp9+jf3uyJKTuQgheL9fPWyjv6TClhnI\nivUR8RHaMt+Tf2g5QMVg6cmlxOni+L7z94ikM+RseYe/acr75+ryUpdaPNa0MqlZBpIz8h56kjO1\n5ymZ+vztccmZHL+QQnKmgQx90ev81lYCD0db3J1ssTJkMj9mX65iyVU4Tra5yuU/hePhaIerg02x\nLLqTl3VEx6czqu2NN27FokYHsLaDk+vp1/hVftpxhrXhF3mylWX7YdyKcQ3GsTFmI/OPz2dik4ml\nPn9CXmtWC/gwLKYwhBDWwEygCxAL7BNCrJJSXhuWMxq4KqWsKYQYDMwABgkh6gCDgbqAL7BFCFFL\nSmmW16qenztrnn+Id1a7s+bqFiZt/ZylvZsS4O2iDWj1LImhM/HsNJVdUQm88vu/tPQvz2cDGxb6\nxY7TxfHNoW9o59eO7tW7l/gzKQl5DvEWlVoweftkxm0ex4g6I5jYZCJ21oV8IexdtPpT617R/DOX\njkKXd8Gn6GguG2srvni8IRMXbOBKhVCa+LSlQ5UOWlb80uFwKRyGLIbKzYqcw8HFg+BKffgrfiVp\nvz2Jx/A/oFoRiu1acvTw1wzY+Tm4VWZZp5e4fPp3xlcYT+dWnYlIiiAyKYKIywfZcvUUy03ZkLIH\nse8fqu5+napGJ/TpPsRlBBNYsQufDGzBw4Fed+ROuCR4JuznCz7jhKkKf1X7iudaRWgJoxumQM/P\nzJ5Hp9fx478/0qJiCwKcGhH5wyP45lgxz/MF1g56OL9hli/F87Nl5xhJyTSQkmEgOdPA1XRNyWiv\nc5VMpoGYuEyupGVx8nIaKRkG0rKLrhxgYyVoWq0cIUEV6BDsTZCP603/P+vCteWobnUrFjnGLOxd\nNZ9l5AbqdHmPWj4u/LQjmtirmZTLtZ48nGy1NspO/ym661u7ljaB5QLpWk2zMkbUHYG7fWHtm0tO\ngk7zR5Z20h5Y1sJoAURJKaMBhBBLgL7AtQqjLzAt9/ky4FuhfZP6AkuklNnAGSFEVO58u809uZOd\nDTMGNMZ26xOsjJ1Jr5/m8W63vgxo4oeo/xjhiV5UiDcwbsEB/L2cmTW8WaF3owajgXd2vQPAW63e\numsXojyH+Gf7P2Pe8XnsubSHGQ/PIMA94MbB1jbQ6wut42DoB/B9G2g4GEJeg3KF310FeLvgW20T\ncelZTGoxCQGwaqJWV6v319p68C0Y3rQ/2zauZLV9eZ78dSBixCqtrElRXDkBf4yFS0eg0ZNkdJ7K\nrLWP07xic4LtggksF0hguUB61+gNaEsVl9IvsfLoLnYc3UBqdgQR9snEe8aCZyyxbOHt3TYEH/El\nyKcJtf3aEOQZTFXXqlhblQFL48IhWDQI6/LVWFLuExbvuETNJzrSufXzWO/+BryDze4MOe/4PK5m\nX6W2/RBmf/k2b4kjbK/zNj8N7IP1bfhn7G2sqeBqfcus9rCwMEJC/mvPazCaSM005FswyRn/KZfL\nqVnsPJXAjA0RzNgQQSV3B0KCvGlfqwJta3reULJ8XfhFWviXL51lxFrdYf0kRFI0z7SvwUfrI5i9\nMxqDsWg/jpuDDeWc7fBwsqNqeScCK7hoDx8Xqnk6F6j2UFKeafgMm85uYv7x+TeUcbld8i0MCyzD\nCks5wIQQjwHdpZRjcl8PA1pKKSdcM+Zo7pjY3NengZZoSuQfKeXC3O2zgfVSymWFnGcsMBbAx8en\n6ZIlBcuC6E16psa+TU6WLwnRo2hZ0Zrhde1JTEnn83ArrAS82cqB8g43fglSjanMjp9NdHY0g8sP\npq1r21L4ZG5Ep9Ph4uJi9vjwjHB+TfwVvdTzaLlHaevStkhFZmNIpeq5P/CLW4uQJi74dudstYEY\n7P5bVsswZbAtdRubUjbR0a0j/cr1wz96AdXOLeNM9SGcrT7YLLlM0sSU869juFqdTSkH8LDK4HCj\n6aS7VC84UJqoHLuagOgF5Ng4ERn0HIleLdmcsplVyat40edFKuRUKPCZ5Jgkey7msDEmh3NpJlzt\noGMVWzpWtcWRBFKu/k287iixhgucsjYSZWdLTu5nYo81vra++NlXo7JdZfzs/PC19cXOyjyTvbj/\nn8JwSj9H40OvY7R25FDjD4mWgk8i/0GXUQ6HjLrMd/ySRobD7K07jay8YnxFyJFqTGVa7DvYZAVj\ne6YLmx0mk+oWRETjdyzbg7sQWYrD1SwT4QlGjsQbOZZoJDMHrAXUKmdFfW9rGnrZgIA3dmbyZG07\nOlczb4nuZrI4ZF6m1Z6xRNUYRWyVvoB245FlBJ1ekm6Q6AwSnR7tr0Gi02t/0/SSKxmS+Mz/rpHW\nAnycBb7OVvi5WOGb+6joLMjOSC/WZzI7fjYRmRFM85uGs3XxkyqLYnOMgV8j9HzT0QlXu1t/Hzp0\n6HBASln08sE13PNObynlLGAWQLNmzWRISMgNY86Hn+fLg18yIsSKhdtNxGZJjAYrjMKa355pQ1DF\nG/tdH0s8xvvb3ifVmMon7T+x6FKUdrd2o9xFEUIIgzMG88bON/jt4m9ccb7CO61v4hCnD6TEwV8z\nqHxoIZWvhEKbCWQ0H82iM6uZc3QOqfpUmjg1YXqv6TgfWgTnlkGTEfj3/gr/YlyEOu/oyAZCGXD5\nNbaWm0HzE9O1khReNbUByefgz2fh7E4I6old76+o7+JNmj6NN5a/wUN+DzGq86j8z+Rqup5Fe88x\nb3cMV9L0BFZwYUZXf/o2ut4/cU1b0aQzGKK2EH16IxFXDhEhcoiwS+dfh/PszH0rVsKK6m7VCSof\nRO3ytQkqH0Rw+eBC+7AX9/9zA1dj4JdnMDo4sbvHeyy9GMaOuB2YyplwLAdOoiLPxrdnTvYVgo/O\nYJrPN9Rv0ITOtStQzfO/C0lYWBjtHm7PsBWT0cscDPHdWVX5VxxTbXAatZCKHlVLLmMxKeln0j/3\nr8Fo4sDZq4RFxhMWeYWlkWksjTTgaGuNEDCxfzsquJlXu+uWskR/QU1TFDVL+D/M0OcQHZ/OqStp\nnLqs49QVHVFXdByMTicvQtpKQAVHKxpU1yyRwAqu1KzgQg1vlwIlha7F96ovA1YNILp8dKlaGfs2\nRmAVeZqenUNKPRrQkgojDrg2pKVy7rbCxsQKIWwAdzTntznHms2goEHMDp9Niv1Gfn/mbV5YcojL\nGZKFTzcrVFmsjV7L27veprxDeeY/Mp/g8sElPbXFyHOILzi+gK8OfsWAVQOY/tD0osN93f205MQ2\nz6Pf+i6/H5rJT2d+JdHaiod9H2JCk4lcDr+Mc9Q2WPeqZsr3/LzYd6ztq7RndfRqkt30vObyHp+k\nvYaY30dTGjE7Yb3WYIq+30GjofnzLzi+gFR9KhMaawboRZ2JN/4MZ/nBWLIMJh6u5c0nA/3N80+U\n98e2xdMEtXiaIJORvhcOQ/Q25OlQLsQdIMJWEOHgSIS8xOH0y6w/sz7/0AqOFfKVR97jtqq0pl0i\nfkEf/rA3sty7Mhf3vY+Xoxdj6o/h0cBHOZ54nB/+/YGTcjkT/Sox9kIWLyRMpc+aaby3RlsO6VTb\nhy51KnA+zUTvH1ZwzmkjPqI9f3Qw4L55t+b7uIPKojSwtbaiVYAnrQI8mfJIMBdTMvOVh5+Hk9nK\nwiyCusOub7Tiow7F9xc42dlQz8+den4Fj80yGIlJTM9XIruORnMmIZ1tEVfIydUkQkDlco4EVnAl\nsIILNSu4EOijKZNa5WrRpVoXfj3xK8PrDC81X0ZCmh5XO2GesogvXn8cSyqMfUCgEMIf7WI/GBh6\n3ZhVwAg038RjwDYppRRCrAIWCSE+R3N6BwJ7SyqIi50LQ2oPYdaRWTzf+Hk2/u9h1m7ZTquAgs2O\njCYjXx36ijlH59DUpymfh3xe6B1nWcFKWDGi7ghaVmrJpO2TGLt57E0d4jmmHFYmHeEH60tc8ixP\ncxz48kIMjRK3g1dbspKTYce7mt/hsV80X0gxaevbFhsrGxrVvsCy3VV4tPds2uwYDt+1BkM6VHsI\n+n1XwJeSnJXM/OPz6VS1E8lXfRi1eh/bIjKxs4mlfyM/Rj3kX6hiN+9DsobKTaFyU8TDr+KXrcPv\n7C46RYfC6VCIP0GKlRWRrp6c8Akk0t6NiLTz7LqwC2NujIW9sKfO+joElQuitqdmjdT0qHnT/tAm\naWJPzBZ+3zaJUDcTOcKBVuVq8mrQ64RUCclPMvNz8aNT1U6EngvlhyM/8J7nZSq75fCG9ffoanxH\n6Mlkft4RzQ9/aWGy7lX/wM7alsVdx+D+Sy/t82w6qmSfTRmikrsjQ1pUze9iWarU6q4FgERthXqP\nltq0DrbWBFd0yy8n08T2AiEh7TEYTZy9RpGcuqLj1OU0dp5KQG/87+bD190BP5+HSLfezJQt3zK6\n7rMEVnDF3al40XLXk6DLxs2MpSjiT8K8XsWa22IKQ0qZI4SYAGxEC6v9RUp5TAjxLrBfSrkKmA0s\nyLbEtqEAACAASURBVHVqJ6EpFXLHLUVzkOcAz5kbIVUUT9Z+kgXHFzA7fDYftPsAb6eCPotUfSqT\ntmsNjgYFDWJyi8kFM0fLMMHlg/mt1298uu9T5h2fx95Le/no4Y/yHeImaWLDmQ3MPDyTc2nnqO9V\nn3fbvEurSq0QZ/6CLe/AyudoDFC+BgxdWqJCdaAp5+Y+zbmYfpjACp14bZeJzUN+x27189BkGLR6\n7oYw35+OzCbdkMGR8Fas2LgHLxc7+taw5a0h7Us/ltzeBWp11R4AqRdxjw6jRXQYLaJDQaeVScn2\nrMHpqi2IKOfLtisXSSOLVadX5ZfOtxbW+Lv7F7BEgsoFYcLEyqiV/B75G+d1cXgIE8OqdOWx5i9S\n1a3wi6GVsKJTtU50rNqRsPNh/LB7OtOzLuN37v/tnXd8VGX2uJ+TBgk1oQYISG9SFgREpCPYQUVY\nVEQFXSu6ou66fhFdFVn1pysqNhbRBcu6KLuCGlApAipKcQUEQrEAKl2DtJCc3x/vDUxiCJNkyk04\nz+czn5lbZu6TOzdz7tvOO4JRPe7kyd+fyycb9zLzi/dYGreSUa2vo+aHD0H2YVdqDGGeqDJJvU5u\nLpn174c0YByP+NgYmtSsRJOalQic6+9Idg7f7zlAxk+ZR6u1NmwvR05MGz7Ofpv3FjeDnCRqVCp3\ntKG9SS1XMqmXnMjBrGx+OXiEzINHyDyYle/5CL94rz//Zjf1K5wgYOzMcMGiiKXnsLZhqOq7wLv5\n1t0b8PogeSqf8+z3EPBQqFySyyczuNlgXv36VW5sf2OebZt+3sToj0azNXMr93a9l0ubFajkaxLj\nEhnbdSzd6nZj3JJxDH1nKHd2upMaiTV4auVTZOzJoGlyUyb2nkivtF7HqnUa9YJre8LX77B93nPU\nHPaMS6NeAnqm9WTC0gnc168yY17dxpRv6nP9zb8tIG7PPMgLi1byxo/TycpsR0JOHR4d3JAL2tXh\n08Ufh2Xg0W+onArth7mHquu5tWke5TbOo9Wqd2iVtZ+LiEHSOpHTcCBb6pzK2oR41u7NYN2edSz9\ncWmenGUxEkOO5tBBy3HTzt30O3cS5VoNDEpFROhdvze90nrx8X+u4dnti7n/k/t5ocILjGozir0V\n36WqVuVqqep+/AY8XPC4GCMvMbHQtD9kpLt5b6LUYy4uNoaG1SvQsHoF+gfMG7V2Vw0unTWYwX02\n0Sxh8NGSyYzlW9lXSHflXETcXDeVy8dTqXwczWtXomOVQtLp79zgMkJojhu4fFfL4P+GoPcsA4xo\nNYLX1r7GS6teojuuS+DCLQv508I/kRCbwOQBk+lYq5BuoKWAPvX70KZ6m6MjxAEaVG7AIz0eYcAp\nA4iRAu5GRaDVhazZXpmaKSUcLIXLKDph6QT2xf6Pfi1b8dSHGVzcoe7Rrpqrtv7MlMWbeefLbcRU\n/w8JKdlM6HMHA1u3je74CRE3XqVWK5fY8cgh+H4p382bSoMjm4hZ+Aj1UeonVKJ/w+5u5Hm729iV\nlMy6vetZt3sdmYf2cu7a+TTJWAAXv+hS5hdZQ+hxwYt0n3YJi3/6gmebNjr6Xd7V9gYqzhkL9TpD\nlz+E+gyUXZqfDf973eWPaxCetD7FpUW15pzV4CwWb5vJ2Euup0o5dxOgqvz4y0EyftrHtr0HSEyI\nPRoUKh19jqNCwm8HRh539Puuja5kkXPETf1cs2jtsydVwKhVoRYDGw/k7Q1v0za1LZO/mszE5RNp\nkdKCJ3s/SWrFghOdlTZyG8RnZMwgPiae8xudX+w5O4pD3Yp1aVK1CQu2LGDseYPp/8QCJry3lgGt\nazNl0WY+27ybpIRYLupUgbmZnzOw8UUMOrXgrqRRJa4cNOzO5m+zadCrl0shv3kh5LZ/rHOF52qV\n63FG416c0ag3bF4EGfNdh4G2JSipxsYhQ6Zy5uR+dMtYxScD/x9vfb2IoesWw+H9LvGjH8aWlBYa\n93GZqte/77uAAW7099xv5zLt62nc1P4mwN04pFZJJLVKiJKc7toIU89zA3JHvAM1gy9Z5HJSBQyA\nkaeO5O0Nb/PYj4+xd+tezjnlHO7vdn/IM89GmxiJiWrVWu+03kxZNYWUSke4pltDnl+4ibeWb6Vu\n1UTuObclQzql8cSKh5BM989SKkhKcdmBWw9yy7s3ucCxaZ6bl2TFNLe+331B5fE6IYnJMOwNZHIf\nzvjwEVKS+5Kwbpb7/BrNSv75JxPlq0CDbu576n0PxEUvn1RBNE9pTr/6/Zi2ZhpXtLwi5KO/XbA4\n37V7jZhVaOaHwjjpAkZa5TTObXguszfN5rYOt3HNqdf4No1EaaZnWk9e/OpFFm9dzC19+3MwK5su\njarRv1Ut4mJj+O6X75i5YSZDmw8tvSW7lEbu0WmkqxvftsLNftiw+4nfGyzVm7g5T6YNpsX21ZDa\nHrqGdmTwSUOnUfCv4TD7j3Dh0xEb5Bgs17e7ng+++yBPKSMk7N4EL18ARw66aqhiBgsoY+nNg+Xe\nrvfylzp/YWSbkRYswkSb6m1IKZ/C/C3zqVgujvsHnsq5bVKP5ul59stniY+J59q2waXC8D0xsS7X\nViiDRS6N+8A5f+NwfBVXFVWM7s4G0OpC6HGXKwkuKmZG5TCSW8qYvmY6vxz+JTQfunuTK1lkHXDV\nULVan/g9hXBSBozEuERqx5cwsZlRKDESQ496PVi0dRFZOXmnyt2wZwOzN81mWMthbv5p48R0vpYl\nZ0yF2qdG26R00/svcOpg+PB+WD0z2ja/4fp215OZlcm0NdNK/mG7N8PUC7xg8d+QXDsnZcAwIkOv\ner3IPJzJip9W5Fk/6ctJJMUncU3r0j/gLKIU1MPNKBoirpSW1gXe/oObxMpHNE9pTt/6fZm2ZlqJ\nShnlD/zkqqGyfnUzctZuExI/uwKNsNG1TlcSYhKYv2X+0XVrdq1h7rdzGd5qeMTmFTGMPMSXd1MA\nVKwFr/0e9nwbbaM85JYypq+ZXrwP2PMN7VfeA4cyXbBIbRsyNwsYRthIik+ic2pnFny/4Oi0oE+v\neJrKCZW5stWVUbYzTmoqVHdTDR85DK8OdXmmfEKLlBb0SetzNL9aUcl68yo026uGSg1td3ULGEZY\n6VWvF99lfsfmXzazcvtKPt76MVefejWVEoqZG8owQkWN5jD0FdiVAW9eBdknHlUdKYpTytixfwd/\nX/JXesbt4Ja0ZiEPFmABwwgzPdPc1LgLvl/AUyueIqV8Cpe1yJ+D0jCiRKNebrKxjR/Be3e69DA+\noGW1lkGXMjb9vIlxS8YxYMYAXsr4N/WOHOEzdrLg+wUh97KAYYSV2hVq0zKlJS+vdkkRr21zLUnx\nSdHWMoxjdLgSut0GX0yBTydF2+YoR0sZXxdcylixfQWjPxrNwJkDmb1pNhc3vZhZcU2Yvj+B2nG1\nmLB0AoeyD4XUyQKGEXZ6pvVk18Fd1EqqxaXNS19iR+MkoO84aHkhpN8Da2dH2wZwpYzeab3zlDJy\nNIePvvuI4e8O58r3rmTF9hXc0O4G5gyew/91vIO0bz4hvukABqdcypZ9W5i6ampInSxgGGGnX/1+\nCMIN7W4odA4Jw4gaMTFw0fNQ53cwYxRsWxltIwBuaHcDmYczmbpqKjPWz2DgzIHcOu9WdhzYwd2d\n7yb9knRubH+jm7fn20WQtR+a9qd5YnP6N+jP5K8ms23ftpD5WMAwwk7zlOakX5LOxU3DPxeBYRSb\nhCQY9jokVXPdbX8u9iSfISO3lPHiVy9y3yf3kRiXyKM9HmXWRbO4rOVleat318+BuMSj2QbuOO0O\nAB774rGQ+VjAMCJCasVUS8Ni+J9KteCyN+DQPtfd9lBmtI0Yc9oYBjUZxOT+k3nj/Dc4u+HZv80+\nrerm+2jYA+JdItXUiqlc2/Za5n47lyXbloTExQKGYRhGILVau4SP29fAtEvgwJ6o6jSo3IAHuj1A\nl9Qux7/p2rUB9nwDTc/Ks3pE6xGkVUpjwtIJZGVnFfzeImABwzAMIz9N+7l57betgJfOhV9+iLZR\n4axPd8/NBuRZXS62HH/u/Gc2/7yZV9e+WuLDWMAwDMMoiNaD3Gjwvd/BP/q7OSX8SsYcqNESqv52\n3vge9XrQs15PJq2cxI79O0p0GAsYhmEYx6NRL5cWPOtXFzR80nsqD4cy4dslv6mOCuRPnf5EVk4W\njy97vESHsoBhGIZRGHU7wDVzID7JzS2xeWG0jfKycR7kZP2mOiqQtMppXH3q1czaNItlPy0r9qEs\nYBiGYZyI6k1gZDpUqecawtf8N9pGx8iYA+WquJTthTCqzShSK6Qy/rPxHMkpXt4sCxiGYRjBULkO\nXP2umyb3zRGwbGq0jbzutHOhcW+IjS9018S4RO7sdCfr96znzfVvFutwFjAMwzCCJSnFzTHRuC+8\ncyssfCy6CQt/+BL2/VhodVQg/er34/TU03lqxVPsPri7yIezgGEYhlEUEpJg2GvQdih89AC8fzfk\n5ETHJWOue25y/AbvQESEuzvfzYGsA0xcPrHIh7PZ5A3DMIpKbDwMes6lEfl0EuzfhSQPjbxHRjrU\n6QAVawT9lkZVG3F5y8t5Zc0rXNL0kiIdzkoYhmEYxSEmBgaMh773wlf/4tRV4+Hwr5E7/q+73Jzk\nQVZHBXJ9u+uplliN8Z+NL9L7LGAYhmEUFxHoPgYueJKU3SvglUGwv+htA8ViwweAFjr+4nhUTKjI\n7R1vZ9WuVUV6nwUMwzCMktLxKla3vgt+WAkvnROZTLcZ6VChJqT+rlhvP7/R+XSo2aFI77GAYRiG\nEQJ21ugKV8xwwWLKANiZEb6DZR+BDR+60kVM8X7GRYS7u9xdpPdYwDAMwwgVDXvAVbMg64ALGluX\nh+c4Wz6Hg3uLVR0VSIuUFkXa3wKGYRhGKKnTHkbOgYQK8PIFLnVHqMlIh5g4aNwn9J9dCGEJGCKS\nIiJzRSTDe04+zn4jvH0yRGSEty5JRGaLyFoRWS0iE8LhaBiGETaqNXb5p6rWh1eHwOq3Q/v5GXOh\nflcoXyW0n3sCwlXC+DPwoao2BT70lvMgIinAOKAL0BkYFxBYHlPVFsDvgG4ick6YPA3DMMJD5VSX\nSqROB3jzavj8H6H53J+3wE+rSlwdVRzCFTAGAi97r18GBhWwzwBgrqruVtU9wFzgbFXdr6rzAFT1\nMLAcqBcmT8MwjPCRmAzD34am/WH27bDgkZKnEsmY456bFn38RUkJV8Copaq5U1T9CNQqYJ+6wPcB\ny1u8dUcRkarABbhSimEYRukjIQl+Px3aDYN5D8F7d5UslUjGXFfVVaN56ByDRLSY0U5EPgBqF7Dp\nHuBlVa0asO8eVc3TjiEidwDlVfVBb3kscEBVH/OW44B3gHRV/XshHtcB1wHUqlWr4+uvvx6U/759\n+6hYsWJQ+4Ybv7j4xQPMxc8eYC7F8tAcGm98mbQtM/mpZg/WthiNxhSeYTY/MdmH6bb4Cn6s3YeM\nZtcX3yWA3r17L1PV04LaWVVD/gDWAane61RgXQH7DAOeD1h+HhgWsDwFmFiU43bs2FGDZd68eUHv\nG2784uIXD1VzKQi/eKiaS0EE5ZGTo/rxE6rjKqu+Mkj1YGbRDpLxgXvvuvSSu3gAX2iQv7HhqpL6\nLzDCez0C+E8B+6QD/UUk2Wvs7u+tQ0QeBKoAt4XJzzAMI/KIwJm3wYVPw6b58MrAoqUSyZgDceWh\nYfewKRZGuALGBOAsEckA+nnLiMhpIjIZQFV3Aw8An3uPv6rqbhGph6vWagUsF5GVIjIqTJ6GYRiR\np8NwGPJP+PErmHK26/l0IlRhfbobHBifGH7HAghLenNV3QX0LWD9F8CogOUpuKqnwH22ABIOL8Mw\nDN/Q8nwY/ha8Ngz+McD1pqrR7Pj779oIezZD15si55gPG+ltGIYRLU45E66aDdmHXSqRLcuOv29G\nuntu2j8ybgVgAcMwDCOapLaFkelQrpKXSuSjgvdbnw41WkByg8j6BWABwzAMI9qkNHL5p1IawvQh\nsGpG3u2HMuHbJVEtXYAFDMMwDH9QqbarnqrXCf49Epa+eGzbpvmQk2UBwzAMw/BIrOoawpudDe/e\nAfMedr2jMuZAuSpQ//So6oWll5RhGIZRTOITYeg0eGc0LJgA+3e6dCCNe0Ns0UaGhxoLGIZhGH4j\nNg4GPgNJ1WDJRLcuytVRYAHDMAzDn4hA/wegYk1Y/k9XTRVlLGAYhmH4mTNucQ8fYI3ehmEYRlBY\nwDAMwzCCwgKGYRiGERQWMAzDMIygsIBhGIZhBIUFDMMwDCMoLGAYhmEYQSFuSteygYjsAL4Ncvfq\nwM4w6hQFv7j4xQPMpSD84gHmUhB+8YCiuTRQ1RrB7FimAkZREJEvVPW0aHuAf1z84gHm4mcPMBc/\ne0D4XKxKyjAMwwgKCxiGYRhGUJzMAeOFaAsE4BcXv3iAuRSEXzzAXArCLx4QJpeTtg3DMAzDKBon\ncwnDMAzDKAIWMCKIiEi0HYzjY9+PYRROmQ0Y4mgUbQ8AEXlIRFqqD+r/RKRK7g9jtH8gRaS6iMRG\n08W7Tv4sIg188v1UCngd7e+nkh+uFRG5WESSo3X8QESkhYhU8F6fdDcYZTJgeD9C6cAUEQlqQEqY\nPC4TkYXAjcAV0fLwXC4RkW+BicCTANH6gRSRy0VkJfAYMDlaLiLSC/gK6AjERvr4+VyGiMhqYIKI\nPAJR/X6uEJHluGvl8Wi5eB6fAmcCByN9/HwuQ0RkDfAI8BZE9fu5VkQmiUjjiB9cVcvcA0gA5gML\ngYuAuAgeOwaoAjyPC1rdgFHAGG+7ROF81ADmAKcDicAXuCAWG2GPOOBmYAHuRyAWNzK/a5Suk3HA\noALWR/Q7ApoDHwOdveVFwK0RdhDv/+ZW7//mDKAesA64KFLnxfOIAa4GsoEu0bg28jm1ABYDp3vL\n3wHdo/D9xAJDgQzvO7oMKB9JjzJRwhCR8gGvRVUPA+/g7gRGAjUj5JGoqjmq+jPwgqoOUNXFgAJD\nIGp3JTnAfmCvqh7A/ShcCLSPpISqHgFmq2pPVV0EpOGC145IegRwOvCziCSJyL0iMkxEKkfhO6oP\nrARWecsvAmNF5HeROLiIlFPHYc9hsKouUdUtuO6ZzSH8126ARw6wFHgDOCQiMSIyQkRahvP4+V0C\nFqsDa4HvvPUrgKwIuiR65yUbWAZ0AZ4FegAROydQBqqkRGQs8L6I3CwibVVVRaQu0A9XpP4BGCIi\ngwLrh8Pk8Z6IjBaRNqq6TERyz+8M4IiItA3X8fO53C8i5wWsSgJ2AcleQF0MrMHdrRDgGXYXVd3s\nre+EC+jlgPEicm84XQI9RCRWROJwd2mdgZm40s8w4G/h/mEq4PvJBBoAZ3n14lWAjbjScbi/n7uB\nt0TkVhFppqofAjsCjtkR2Bau4xfgMdpr71uNKxXPAr4EuuKqmB/29o/EORktIg2BTcA+4Gnc95IJ\nPCQiT4pI5XB5eC534X5XxohIF1XdoKq7gX/jSh3dI9q+E82iXgiKadfgqp66AH/F/eM38rY95D3f\ni6v//ABIiqBHg4DtDYFpQPswn48U3B3hHtw/WXzAtkeBh4Dq3nIa8A1QM0Iucfm2pwLJ3utTcKWM\nOhE+J9cB/wEe8ZarA28CZ0fh+7kRV435Ce6HqR3urrZqmFwaAh9512Vv4BnvGqnkbY/xnl8D2uZ7\nb8iqpgrxSPKukbFAY2/fJrgbwJBfJydwKe9tHwPc7r2uA3werv9poDGuSns6rlr7SeBhXLVh7nfT\nH3gZ6Buu7yf/o9SWMLw7sTRgkqp+hmuMWg3cJyLxwDCvwfls4L+4Im7IG86O47EKmJC7j7q76gZ4\nVUBhvDv6FZipqsnAVuD2gG2TgDbAmSJSXlW/x9Wbp0bIZQwc+9tV9QdV3eO9/gZ3t98wAh6B5+Qt\n4EeggoikqOpOYDdQOwwehbqo6iRc+87VqnozrjF+PhATpt44u4FZqnqFqs7D/Y/UAbK8UmiOiCQA\n9VT1fyLSXkRu9FxDWTVVkEdd4AiwHZigqhu9424AluD+l8LB8c5JjNeRJgd3k4WqbgM24H7Yw8FP\nwIOqerm6GoHtwHZVPayuyg5VneP5tBGR80TkJm99+KoOwxWJIvHANVrOCliugavjawvcCdzlrU8E\n3iXgrj8CHkuBXgHrRgPTI3BOKnrPnXAXdGrAtt/j7mKfwQWQz4AqkXYh4A4IKA88gbuzC9fddGHn\npDswHpjqeSwHWkfhnMQG7oNrx3glTA65GR4qBayrhwvageu6eedjgvd/dXM0PLz1icDfgXnhuGZP\n4FLZW74D164yClfyWAacEq5rxTtmPK7W4kdgNvAXoE3A9q64YLIN+GM4XVRLaQkj4I5rAtBIRHp4\ny7twxcnBqvqoquZ2TzwAXKiqwc6VUVKPnZ5H/4DdDwJvh7vvtqru8+4QP8f1RnogYPMbwH24i28X\nrij7c6RdVFXFcaG3HuB8Vd0bSQ9v28e4czIfV93RQ139eVgo5JxkA3h15u94u/8hTA7qPWcGrO4C\nfJ9vXR1cNRC4XkFPR8NDRHoDH3qL54Xjmj2Byy/e8pO4KsueuNJGD3Wl47ChqlnAUlWtjevAcwi4\nDUDckIFHcNdLE1V9IpwuuUK+fQCDgAcKWC94deLATcBnAdtu4lg9YxwhqM8rgceYgOX4knoE4ZJb\nt5nrVANXD94U1yOoa+6+UXbpiqseSwHSonxOzvDJOTkdOM1bXy0KLrdzrETeDXd33RSvTTBKHmfg\nqimTgbpRPidnAi281wmRcilg25XAw97rcqG6VoJ2juTBgjyJuf2NR+GK7Fkcp88zx4rzH+Hu8s/E\nNRTdWVY8iuNCQOM+7q4oB9cVsJNPXFaW1MUvHmXAJbeKbCLwIK5Rfi7Qqix4hNBlTpRcAq+Varhq\nqTEl9Si2f7QOHMSJ7QVUAq4F5uXbFosrii3B9bBpBFyPK+LfUxY9iuCyEFc/LsD5wGa8u6Sy6OIX\nj1Ls0tHbbxtukF5IBwz6xaMUu5yG6zH2HK5nXUhuQovtHc2D5ztJo3ENfaO85cCG0c+BkQHLzXEp\nC5LzfUaJi4p+8QiFC65KISQNhH5x8YtHGXS5gRBUb/jFowy6XASkhMKlRH9HtAW8k3EV8CmuC+wC\n4G68vtfe9nNwXWaTC3hvyNJb+MUjBC4hTYXiFxe/eJQxl5Dc3PjJo4y5hKTtM1QPv/SS6gv8TVXf\nx/XXLwdcnrtRVd8DvgauE5dBcwgcTQOSXQY9SupypIy6+MWjLLkcLoMeZcklYilIgiGqASNgANsK\nXH0uqvoFLhrXFZFuAbv/CTfSMQOo5e2rZcnDXPztYS7+9jCX8BPRgCEi3SQgJa96IxZxmSBjAsYx\nrMJLAeC9rwluoNlMoIOqPlUWPMzF3x7m4m8Pc4k8EQkYItJBRObgup1WCVife/wMXB3eUBGJVZcl\nsxau5xHAz7hRpherG5Jfqj3Mxd8e5uJvD3OJHmENGCISLyLP4/oxT8SNTejlbYsNiMCZuLxG5YDH\nxOWCSsaNRkZVd6hqRmn3MBd/e5iLvz3MJfqEu4RRDteXuLuqzsIle2spInF6LBXC/cCruCg7Fnci\nP/aWXy5jHubibw9z8beHuUQbDXG3K1yKg2bea8m3bSTwXO42XJLAV8nbxSyGfInHSrOHufjbw1z8\n7WEu/nqE7oOgKm7Yeibwf0CFgBOXm6OlCS5tb+48CIGDVwrMnVJaPczF3x7m4m8Pc/HnI5RVUhVw\ndXi3eK97gOsapi63fgwud3s6LtsjmntWRWL0WH1fWfEwF397mIu/PczFh5QoYIjIlSLSU9w8yFtx\njT//wqXy7iIiud3GxDthufPkHsxdD3m6n5VqD3Pxt4e5+NvDXPxPkQOGOFJFZB4wAjdi8VkRqa6q\nB1V1P2461GSgDxyd/yBWVX/1jnl67vriivvFw1z87WEu/vYwl1KGFq0eL9Z7bgZMy10HPAW8lW/f\nP+JSA1chb4reUCQI9IWHufjbw1z87WEupe8RVAlDRGJFZDwwXkR64rIpZsPRmcJuBc7wtuXyIm6q\nybnA5tzim5YgT4tfPMzF3x7m4m8Pcym9nDBgeCdpGa4ItgE3pWQW0FtEOsPROrr7vEcu5wE34nK4\nt9GSj6b0hYe5+NvDXPztYS6lnCCKad2B4QHLk3B54q8ClnnrYoDauAahU7x1A3Fz3oakKOQXD3Px\nt4e5+NvDXEr3I5gTmoRr/c+t37ucY3PKrgRu8V6fBrwWNlGfeJiLvz3Mxd8e5lK6HyesklLV/ap6\nSI/N93AWsMN7fTVuKPws4DVgORzrThZK/OJhLv72MBd/e5hLKacIkTgWVzR7D2jirWuCGwF5JlA3\nEhHOLx7m4m8Pc/G3h7mUzkdRxmHkAPHATqCtF3XHAjmqukjdwJZI4BcPc/G3h7n428NcSiNFjMKn\n407sIgImLY/0wy8e5uJvD3Pxt4e5lL6HeCcqKESkHjAceFxVDwX9xhDjFw9z8beHufjbw1xKH0UK\nGIZhGMbJS0Tn9DYMwzBKLxYwDMMwjKCwgGEYhmEEhQUMwzAMIygsYBiGYRhBYQHDMIqJiGSLyEoR\nWS0iX4rIGHFTdRb2nlNE5LJIORpGKLGAYRjF54CqtlfV1rgcROcA407wnlMACxhGqcTGYRhGMRGR\nfapaMWC5EfA5UB1oAPwTqOBtvllVl4jIp0BLYDPwMjARmAD0wmVNfUZVn4/YH2EYRcAChmEUk/wB\nw1u3FzdjWyYuD9FBEWmKS419moj0Au5Q1fO9/a8DaqrqgyJSDlgMXKqqmyP6xxhGEMRFW8Awyijx\nwNMi0h433Wez4+zXH5fsbrC3XAVoiiuBGIavsIBhGCHCq5LKBrbj2jJ+Atrh2goPHu9tuEl60iMi\naRglwBq9DSMEiEgN4DngaXX1vFWAH9TNBz0cN98CuKqqSgFvTQduEJF473OaiUgFDMOHWAnDpcNi\nAQAAAH9JREFUMIpPooisxFU/HcE1cj/ubZsEzBCRS4F5wK/e+v8B2SLyJTAVeBLXc2q5N5PbDmBQ\npP4AwygK1uhtGIZhBIVVSRmGYRhBYQHDMAzDCAoLGIZhGEZQWMAwDMMwgsIChmEYhhEUFjAMwzCM\noLCAYRiGYQSFBQzDMAwjKP4//O+h64L41rgAAAAASUVORK5CYII=\n",
      "text/plain": [
       "<matplotlib.figure.Figure at 0x28a696e9470>"
      ]
     },
     "metadata": {},
     "output_type": "display_data"
    }
   ],
   "source": [
    "valid_stocks_lr = np.log(valid_stocks / valid_stocks.shift(1))\n",
    "valid_stocks_lr.loc[\"2017-01-01\":\"2017-02-01\"].plot(grid=True)"
   ]
  },
  {
   "cell_type": "code",
   "execution_count": 131,
   "metadata": {
    "scrolled": true
   },
   "outputs": [
    {
     "data": {
      "text/plain": [
       "<matplotlib.axes._subplots.AxesSubplot at 0x28a69c3ceb8>"
      ]
     },
     "execution_count": 131,
     "metadata": {},
     "output_type": "execute_result"
    },
    {
     "data": {
      "image/png": "iVBORw0KGgoAAAANSUhEUgAABJMAAAQXCAYAAABLUipKAAAABHNCSVQICAgIfAhkiAAAAAlwSFlz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\nSUVORK5CYII=\n",
      "text/plain": [
       "<matplotlib.figure.Figure at 0x28a69c04198>"
      ]
     },
     "metadata": {},
     "output_type": "display_data"
    }
   ],
   "source": [
    "valid_stocks_lr[valid_stocks_lr.index > pd.to_datetime(\"2017-01-01\")].plot(figsize=(20, 20))"
   ]
  },
  {
   "cell_type": "markdown",
   "metadata": {},
   "source": [
    "### 下面我们试试能不能把日K图变成月K图"
   ]
  },
  {
   "cell_type": "code",
   "execution_count": 134,
   "metadata": {
    "scrolled": true
   },
   "outputs": [
    {
     "data": {
      "text/html": [
       "<div>\n",
       "<style>\n",
       "    .dataframe thead tr:only-child th {\n",
       "        text-align: right;\n",
       "    }\n",
       "\n",
       "    .dataframe thead th {\n",
       "        text-align: left;\n",
       "    }\n",
       "\n",
       "    .dataframe tbody tr th {\n",
       "        vertical-align: top;\n",
       "    }\n",
       "</style>\n",
       "<table border=\"1\" class=\"dataframe\">\n",
       "  <thead>\n",
       "    <tr style=\"text-align: right;\">\n",
       "      <th></th>\n",
       "      <th></th>\n",
       "      <th>AAPL</th>\n",
       "      <th>GOOG</th>\n",
       "      <th>MSFT</th>\n",
       "    </tr>\n",
       "    <tr>\n",
       "      <th>Date</th>\n",
       "      <th>Date</th>\n",
       "      <th></th>\n",
       "      <th></th>\n",
       "      <th></th>\n",
       "    </tr>\n",
       "  </thead>\n",
       "  <tbody>\n",
       "    <tr>\n",
       "      <th rowspan=\"5\" valign=\"top\">2004</th>\n",
       "      <th>8</th>\n",
       "      <td>2.225070</td>\n",
       "      <td>50.993862</td>\n",
       "      <td>18.536587</td>\n",
       "    </tr>\n",
       "    <tr>\n",
       "      <th>9</th>\n",
       "      <td>2.499898</td>\n",
       "      <td>64.558022</td>\n",
       "      <td>18.774242</td>\n",
       "    </tr>\n",
       "    <tr>\n",
       "      <th>10</th>\n",
       "      <td>3.380507</td>\n",
       "      <td>94.964050</td>\n",
       "      <td>18.991516</td>\n",
       "    </tr>\n",
       "    <tr>\n",
       "      <th>11</th>\n",
       "      <td>4.325631</td>\n",
       "      <td>90.650223</td>\n",
       "      <td>20.288960</td>\n",
       "    </tr>\n",
       "    <tr>\n",
       "      <th>12</th>\n",
       "      <td>4.154669</td>\n",
       "      <td>96.035034</td>\n",
       "      <td>20.220860</td>\n",
       "    </tr>\n",
       "    <tr>\n",
       "      <th rowspan=\"12\" valign=\"top\">2005</th>\n",
       "      <th>1</th>\n",
       "      <td>4.961088</td>\n",
       "      <td>97.444756</td>\n",
       "      <td>19.887878</td>\n",
       "    </tr>\n",
       "    <tr>\n",
       "      <th>2</th>\n",
       "      <td>5.788151</td>\n",
       "      <td>93.643997</td>\n",
       "      <td>19.099041</td>\n",
       "    </tr>\n",
       "    <tr>\n",
       "      <th>3</th>\n",
       "      <td>5.376554</td>\n",
       "      <td>89.917969</td>\n",
       "      <td>18.347527</td>\n",
       "    </tr>\n",
       "    <tr>\n",
       "      <th>4</th>\n",
       "      <td>4.652713</td>\n",
       "      <td>109.589233</td>\n",
       "      <td>19.205309</td>\n",
       "    </tr>\n",
       "    <tr>\n",
       "      <th>5</th>\n",
       "      <td>5.130114</td>\n",
       "      <td>138.117310</td>\n",
       "      <td>19.646990</td>\n",
       "    </tr>\n",
       "    <tr>\n",
       "      <th>6</th>\n",
       "      <td>4.749484</td>\n",
       "      <td>146.525787</td>\n",
       "      <td>18.915941</td>\n",
       "    </tr>\n",
       "    <tr>\n",
       "      <th>7</th>\n",
       "      <td>5.503002</td>\n",
       "      <td>143.342712</td>\n",
       "      <td>19.502306</td>\n",
       "    </tr>\n",
       "    <tr>\n",
       "      <th>8</th>\n",
       "      <td>6.050076</td>\n",
       "      <td>142.466003</td>\n",
       "      <td>20.912022</td>\n",
       "    </tr>\n",
       "    <tr>\n",
       "      <th>9</th>\n",
       "      <td>6.917136</td>\n",
       "      <td>157.639130</td>\n",
       "      <td>19.651812</td>\n",
       "    </tr>\n",
       "    <tr>\n",
       "      <th>10</th>\n",
       "      <td>7.430664</td>\n",
       "      <td>185.375168</td>\n",
       "      <td>19.628889</td>\n",
       "    </tr>\n",
       "    <tr>\n",
       "      <th>11</th>\n",
       "      <td>8.750609</td>\n",
       "      <td>201.698990</td>\n",
       "      <td>21.203133</td>\n",
       "    </tr>\n",
       "    <tr>\n",
       "      <th>12</th>\n",
       "      <td>9.275754</td>\n",
       "      <td>206.655411</td>\n",
       "      <td>20.031137</td>\n",
       "    </tr>\n",
       "    <tr>\n",
       "      <th rowspan=\"12\" valign=\"top\">2006</th>\n",
       "      <th>1</th>\n",
       "      <td>9.742828</td>\n",
       "      <td>215.522171</td>\n",
       "      <td>21.563158</td>\n",
       "    </tr>\n",
       "    <tr>\n",
       "      <th>2</th>\n",
       "      <td>8.837059</td>\n",
       "      <td>180.632950</td>\n",
       "      <td>20.652407</td>\n",
       "    </tr>\n",
       "    <tr>\n",
       "      <th>3</th>\n",
       "      <td>8.092573</td>\n",
       "      <td>194.271820</td>\n",
       "      <td>20.913734</td>\n",
       "    </tr>\n",
       "    <tr>\n",
       "      <th>4</th>\n",
       "      <td>9.082209</td>\n",
       "      <td>208.189651</td>\n",
       "      <td>18.561808</td>\n",
       "    </tr>\n",
       "    <tr>\n",
       "      <th>5</th>\n",
       "      <td>7.711944</td>\n",
       "      <td>185.215759</td>\n",
       "      <td>17.476786</td>\n",
       "    </tr>\n",
       "    <tr>\n",
       "      <th>6</th>\n",
       "      <td>7.389377</td>\n",
       "      <td>208.882065</td>\n",
       "      <td>17.978323</td>\n",
       "    </tr>\n",
       "    <tr>\n",
       "      <th>7</th>\n",
       "      <td>8.768673</td>\n",
       "      <td>192.578171</td>\n",
       "      <td>18.564741</td>\n",
       "    </tr>\n",
       "    <tr>\n",
       "      <th>8</th>\n",
       "      <td>8.754478</td>\n",
       "      <td>188.558243</td>\n",
       "      <td>19.903198</td>\n",
       "    </tr>\n",
       "    <tr>\n",
       "      <th>9</th>\n",
       "      <td>9.932499</td>\n",
       "      <td>200.199600</td>\n",
       "      <td>21.181025</td>\n",
       "    </tr>\n",
       "    <tr>\n",
       "      <th>10</th>\n",
       "      <td>10.461510</td>\n",
       "      <td>237.305527</td>\n",
       "      <td>22.234270</td>\n",
       "    </tr>\n",
       "    <tr>\n",
       "      <th>11</th>\n",
       "      <td>11.826615</td>\n",
       "      <td>241.499802</td>\n",
       "      <td>22.815401</td>\n",
       "    </tr>\n",
       "    <tr>\n",
       "      <th>12</th>\n",
       "      <td>10.946650</td>\n",
       "      <td>229.380234</td>\n",
       "      <td>23.203939</td>\n",
       "    </tr>\n",
       "    <tr>\n",
       "      <th>2007</th>\n",
       "      <th>1</th>\n",
       "      <td>11.061483</td>\n",
       "      <td>249.813644</td>\n",
       "      <td>23.981028</td>\n",
       "    </tr>\n",
       "    <tr>\n",
       "      <th>...</th>\n",
       "      <th>...</th>\n",
       "      <td>...</td>\n",
       "      <td>...</td>\n",
       "      <td>...</td>\n",
       "    </tr>\n",
       "    <tr>\n",
       "      <th rowspan=\"11\" valign=\"top\">2015</th>\n",
       "      <th>2</th>\n",
       "      <td>123.003296</td>\n",
       "      <td>556.871094</td>\n",
       "      <td>41.354286</td>\n",
       "    </tr>\n",
       "    <tr>\n",
       "      <th>3</th>\n",
       "      <td>119.144463</td>\n",
       "      <td>546.499573</td>\n",
       "      <td>38.345856</td>\n",
       "    </tr>\n",
       "    <tr>\n",
       "      <th>4</th>\n",
       "      <td>119.833878</td>\n",
       "      <td>537.340027</td>\n",
       "      <td>45.871666</td>\n",
       "    </tr>\n",
       "    <tr>\n",
       "      <th>5</th>\n",
       "      <td>125.267044</td>\n",
       "      <td>532.109985</td>\n",
       "      <td>44.480183</td>\n",
       "    </tr>\n",
       "    <tr>\n",
       "      <th>6</th>\n",
       "      <td>120.603661</td>\n",
       "      <td>520.510010</td>\n",
       "      <td>41.907818</td>\n",
       "    </tr>\n",
       "    <tr>\n",
       "      <th>7</th>\n",
       "      <td>116.632576</td>\n",
       "      <td>625.609985</td>\n",
       "      <td>44.328312</td>\n",
       "    </tr>\n",
       "    <tr>\n",
       "      <th>8</th>\n",
       "      <td>108.911949</td>\n",
       "      <td>618.250000</td>\n",
       "      <td>41.582230</td>\n",
       "    </tr>\n",
       "    <tr>\n",
       "      <th>9</th>\n",
       "      <td>106.535904</td>\n",
       "      <td>608.419983</td>\n",
       "      <td>42.289272</td>\n",
       "    </tr>\n",
       "    <tr>\n",
       "      <th>10</th>\n",
       "      <td>115.421944</td>\n",
       "      <td>710.809998</td>\n",
       "      <td>50.296143</td>\n",
       "    </tr>\n",
       "    <tr>\n",
       "      <th>11</th>\n",
       "      <td>114.751991</td>\n",
       "      <td>742.599976</td>\n",
       "      <td>52.280025</td>\n",
       "    </tr>\n",
       "    <tr>\n",
       "      <th>12</th>\n",
       "      <td>102.103088</td>\n",
       "      <td>758.880005</td>\n",
       "      <td>53.366989</td>\n",
       "    </tr>\n",
       "    <tr>\n",
       "      <th rowspan=\"12\" valign=\"top\">2016</th>\n",
       "      <th>1</th>\n",
       "      <td>94.420609</td>\n",
       "      <td>742.950012</td>\n",
       "      <td>52.991844</td>\n",
       "    </tr>\n",
       "    <tr>\n",
       "      <th>2</th>\n",
       "      <td>94.299042</td>\n",
       "      <td>697.770020</td>\n",
       "      <td>49.293587</td>\n",
       "    </tr>\n",
       "    <tr>\n",
       "      <th>3</th>\n",
       "      <td>106.294884</td>\n",
       "      <td>744.950012</td>\n",
       "      <td>53.507950</td>\n",
       "    </tr>\n",
       "    <tr>\n",
       "      <th>4</th>\n",
       "      <td>91.421997</td>\n",
       "      <td>693.010010</td>\n",
       "      <td>48.315075</td>\n",
       "    </tr>\n",
       "    <tr>\n",
       "      <th>5</th>\n",
       "      <td>97.983612</td>\n",
       "      <td>735.719971</td>\n",
       "      <td>51.706627</td>\n",
       "    </tr>\n",
       "    <tr>\n",
       "      <th>6</th>\n",
       "      <td>93.803650</td>\n",
       "      <td>692.099976</td>\n",
       "      <td>49.921288</td>\n",
       "    </tr>\n",
       "    <tr>\n",
       "      <th>7</th>\n",
       "      <td>102.251869</td>\n",
       "      <td>768.789978</td>\n",
       "      <td>55.296825</td>\n",
       "    </tr>\n",
       "    <tr>\n",
       "      <th>8</th>\n",
       "      <td>104.670319</td>\n",
       "      <td>767.049988</td>\n",
       "      <td>56.407177</td>\n",
       "    </tr>\n",
       "    <tr>\n",
       "      <th>9</th>\n",
       "      <td>111.526680</td>\n",
       "      <td>777.289978</td>\n",
       "      <td>56.544609</td>\n",
       "    </tr>\n",
       "    <tr>\n",
       "      <th>10</th>\n",
       "      <td>112.010071</td>\n",
       "      <td>784.539978</td>\n",
       "      <td>58.822102</td>\n",
       "    </tr>\n",
       "    <tr>\n",
       "      <th>11</th>\n",
       "      <td>109.590553</td>\n",
       "      <td>758.039978</td>\n",
       "      <td>59.555504</td>\n",
       "    </tr>\n",
       "    <tr>\n",
       "      <th>12</th>\n",
       "      <td>114.845985</td>\n",
       "      <td>771.820007</td>\n",
       "      <td>61.413525</td>\n",
       "    </tr>\n",
       "    <tr>\n",
       "      <th rowspan=\"7\" valign=\"top\">2017</th>\n",
       "      <th>1</th>\n",
       "      <td>120.329475</td>\n",
       "      <td>796.789978</td>\n",
       "      <td>63.894184</td>\n",
       "    </tr>\n",
       "    <tr>\n",
       "      <th>2</th>\n",
       "      <td>136.426895</td>\n",
       "      <td>823.210022</td>\n",
       "      <td>63.615360</td>\n",
       "    </tr>\n",
       "    <tr>\n",
       "      <th>3</th>\n",
       "      <td>143.069473</td>\n",
       "      <td>829.559998</td>\n",
       "      <td>65.484650</td>\n",
       "    </tr>\n",
       "    <tr>\n",
       "      <th>4</th>\n",
       "      <td>143.059494</td>\n",
       "      <td>905.960022</td>\n",
       "      <td>68.069824</td>\n",
       "    </tr>\n",
       "    <tr>\n",
       "      <th>5</th>\n",
       "      <td>152.759995</td>\n",
       "      <td>964.859985</td>\n",
       "      <td>69.839996</td>\n",
       "    </tr>\n",
       "    <tr>\n",
       "      <th>6</th>\n",
       "      <td>144.020004</td>\n",
       "      <td>908.729980</td>\n",
       "      <td>68.930000</td>\n",
       "    </tr>\n",
       "    <tr>\n",
       "      <th>7</th>\n",
       "      <td>150.339996</td>\n",
       "      <td>968.150024</td>\n",
       "      <td>74.220001</td>\n",
       "    </tr>\n",
       "  </tbody>\n",
       "</table>\n",
       "<p>156 rows × 3 columns</p>\n",
       "</div>"
      ],
      "text/plain": [
       "                 AAPL        GOOG       MSFT\n",
       "Date Date                                   \n",
       "2004 8       2.225070   50.993862  18.536587\n",
       "     9       2.499898   64.558022  18.774242\n",
       "     10      3.380507   94.964050  18.991516\n",
       "     11      4.325631   90.650223  20.288960\n",
       "     12      4.154669   96.035034  20.220860\n",
       "2005 1       4.961088   97.444756  19.887878\n",
       "     2       5.788151   93.643997  19.099041\n",
       "     3       5.376554   89.917969  18.347527\n",
       "     4       4.652713  109.589233  19.205309\n",
       "     5       5.130114  138.117310  19.646990\n",
       "     6       4.749484  146.525787  18.915941\n",
       "     7       5.503002  143.342712  19.502306\n",
       "     8       6.050076  142.466003  20.912022\n",
       "     9       6.917136  157.639130  19.651812\n",
       "     10      7.430664  185.375168  19.628889\n",
       "     11      8.750609  201.698990  21.203133\n",
       "     12      9.275754  206.655411  20.031137\n",
       "2006 1       9.742828  215.522171  21.563158\n",
       "     2       8.837059  180.632950  20.652407\n",
       "     3       8.092573  194.271820  20.913734\n",
       "     4       9.082209  208.189651  18.561808\n",
       "     5       7.711944  185.215759  17.476786\n",
       "     6       7.389377  208.882065  17.978323\n",
       "     7       8.768673  192.578171  18.564741\n",
       "     8       8.754478  188.558243  19.903198\n",
       "     9       9.932499  200.199600  21.181025\n",
       "     10     10.461510  237.305527  22.234270\n",
       "     11     11.826615  241.499802  22.815401\n",
       "     12     10.946650  229.380234  23.203939\n",
       "2007 1      11.061483  249.813644  23.981028\n",
       "...               ...         ...        ...\n",
       "2015 2     123.003296  556.871094  41.354286\n",
       "     3     119.144463  546.499573  38.345856\n",
       "     4     119.833878  537.340027  45.871666\n",
       "     5     125.267044  532.109985  44.480183\n",
       "     6     120.603661  520.510010  41.907818\n",
       "     7     116.632576  625.609985  44.328312\n",
       "     8     108.911949  618.250000  41.582230\n",
       "     9     106.535904  608.419983  42.289272\n",
       "     10    115.421944  710.809998  50.296143\n",
       "     11    114.751991  742.599976  52.280025\n",
       "     12    102.103088  758.880005  53.366989\n",
       "2016 1      94.420609  742.950012  52.991844\n",
       "     2      94.299042  697.770020  49.293587\n",
       "     3     106.294884  744.950012  53.507950\n",
       "     4      91.421997  693.010010  48.315075\n",
       "     5      97.983612  735.719971  51.706627\n",
       "     6      93.803650  692.099976  49.921288\n",
       "     7     102.251869  768.789978  55.296825\n",
       "     8     104.670319  767.049988  56.407177\n",
       "     9     111.526680  777.289978  56.544609\n",
       "     10    112.010071  784.539978  58.822102\n",
       "     11    109.590553  758.039978  59.555504\n",
       "     12    114.845985  771.820007  61.413525\n",
       "2017 1     120.329475  796.789978  63.894184\n",
       "     2     136.426895  823.210022  63.615360\n",
       "     3     143.069473  829.559998  65.484650\n",
       "     4     143.059494  905.960022  68.069824\n",
       "     5     152.759995  964.859985  69.839996\n",
       "     6     144.020004  908.729980  68.930000\n",
       "     7     150.339996  968.150024  74.220001\n",
       "\n",
       "[156 rows x 3 columns]"
      ]
     },
     "execution_count": 134,
     "metadata": {},
     "output_type": "execute_result"
    }
   ],
   "source": [
    "monthly_stocks = valid_stocks.groupby([valid_stocks.index.year, valid_stocks.index.month]).last()\n",
    "monthly_stocks"
   ]
  },
  {
   "cell_type": "code",
   "execution_count": 135,
   "metadata": {},
   "outputs": [
    {
     "name": "stdout",
     "output_type": "stream",
     "text": [
      "['2004-8', '2004-9', '2004-10', '2004-11', '2004-12', '2005-1', '2005-2', '2005-3', '2005-4', '2005-5', '2005-6', '2005-7', '2005-8', '2005-9', '2005-10', '2005-11', '2005-12', '2006-1', '2006-2', '2006-3', '2006-4', '2006-5', '2006-6', '2006-7', '2006-8', '2006-9', '2006-10', '2006-11', '2006-12', '2007-1', '2007-2', '2007-3', '2007-4', '2007-5', '2007-6', '2007-7', '2007-8', '2007-9', '2007-10', '2007-11', '2007-12', '2008-1', '2008-2', '2008-3', '2008-4', '2008-5', '2008-6', '2008-7', '2008-8', '2008-9', '2008-10', '2008-11', '2008-12', '2009-1', '2009-2', '2009-3', '2009-4', '2009-5', '2009-6', '2009-7', '2009-8', '2009-9', '2009-10', '2009-11', '2009-12', '2010-1', '2010-2', '2010-3', '2010-4', '2010-5', '2010-6', '2010-7', '2010-8', '2010-9', '2010-10', '2010-11', '2010-12', '2011-1', '2011-2', '2011-3', '2011-4', '2011-5', '2011-6', '2011-7', '2011-8', '2011-9', '2011-10', '2011-11', '2011-12', '2012-1', '2012-2', '2012-3', '2012-4', '2012-5', '2012-6', '2012-7', '2012-8', '2012-9', '2012-10', '2012-11', '2012-12', '2013-1', '2013-2', '2013-3', '2013-4', '2013-5', '2013-6', '2013-7', '2013-8', '2013-9', '2013-10', '2013-11', '2013-12', '2014-1', '2014-2', '2014-3', '2014-4', '2014-5', '2014-6', '2014-7', '2014-8', '2014-9', '2014-10', '2014-11', '2014-12', '2015-1', '2015-2', '2015-3', '2015-4', '2015-5', '2015-6', '2015-7', '2015-8', '2015-9', '2015-10', '2015-11', '2015-12', '2016-1', '2016-2', '2016-3', '2016-4', '2016-5', '2016-6', '2016-7', '2016-8', '2016-9', '2016-10', '2016-11', '2016-12', '2017-1', '2017-2', '2017-3', '2017-4', '2017-5', '2017-6', '2017-7']\n"
     ]
    }
   ],
   "source": [
    "index = [ str(i[0]) + \"-\" + str(i[1]) for i in monthly_stocks.index.values]\n",
    "print(index)\n",
    "index = pd.core.indexes.period.PeriodIndex(index, freq=\"M\")"
   ]
  },
  {
   "cell_type": "code",
   "execution_count": 136,
   "metadata": {
    "collapsed": true
   },
   "outputs": [],
   "source": [
    "monthly_stocks.index = index #= monthly_stocks.index."
   ]
  },
  {
   "cell_type": "code",
   "execution_count": 139,
   "metadata": {},
   "outputs": [
    {
     "data": {
      "text/html": [
       "<div>\n",
       "<style>\n",
       "    .dataframe thead tr:only-child th {\n",
       "        text-align: right;\n",
       "    }\n",
       "\n",
       "    .dataframe thead th {\n",
       "        text-align: left;\n",
       "    }\n",
       "\n",
       "    .dataframe tbody tr th {\n",
       "        vertical-align: top;\n",
       "    }\n",
       "</style>\n",
       "<table border=\"1\" class=\"dataframe\">\n",
       "  <thead>\n",
       "    <tr style=\"text-align: right;\">\n",
       "      <th></th>\n",
       "      <th>AAPL</th>\n",
       "      <th>GOOG</th>\n",
       "      <th>MSFT</th>\n",
       "    </tr>\n",
       "  </thead>\n",
       "  <tbody>\n",
       "    <tr>\n",
       "      <th>2004-08</th>\n",
       "      <td>2.225070</td>\n",
       "      <td>50.993862</td>\n",
       "      <td>18.536587</td>\n",
       "    </tr>\n",
       "    <tr>\n",
       "      <th>2004-09</th>\n",
       "      <td>2.499898</td>\n",
       "      <td>64.558022</td>\n",
       "      <td>18.774242</td>\n",
       "    </tr>\n",
       "    <tr>\n",
       "      <th>2004-10</th>\n",
       "      <td>3.380507</td>\n",
       "      <td>94.964050</td>\n",
       "      <td>18.991516</td>\n",
       "    </tr>\n",
       "    <tr>\n",
       "      <th>2004-11</th>\n",
       "      <td>4.325631</td>\n",
       "      <td>90.650223</td>\n",
       "      <td>20.288960</td>\n",
       "    </tr>\n",
       "    <tr>\n",
       "      <th>2004-12</th>\n",
       "      <td>4.154669</td>\n",
       "      <td>96.035034</td>\n",
       "      <td>20.220860</td>\n",
       "    </tr>\n",
       "  </tbody>\n",
       "</table>\n",
       "</div>"
      ],
      "text/plain": [
       "             AAPL       GOOG       MSFT\n",
       "2004-08  2.225070  50.993862  18.536587\n",
       "2004-09  2.499898  64.558022  18.774242\n",
       "2004-10  3.380507  94.964050  18.991516\n",
       "2004-11  4.325631  90.650223  20.288960\n",
       "2004-12  4.154669  96.035034  20.220860"
      ]
     },
     "execution_count": 139,
     "metadata": {},
     "output_type": "execute_result"
    }
   ],
   "source": [
    "monthly_stocks.head()"
   ]
  },
  {
   "cell_type": "code",
   "execution_count": 140,
   "metadata": {
    "scrolled": true
   },
   "outputs": [
    {
     "data": {
      "text/plain": [
       "<matplotlib.axes._subplots.AxesSubplot at 0x28a69b242b0>"
      ]
     },
     "execution_count": 140,
     "metadata": {},
     "output_type": "execute_result"
    },
    {
     "data": {
      "image/png": "iVBORw0KGgoAAAANSUhEUgAAAYAAAAD8CAYAAAB+UHOxAAAABHNCSVQICAgIfAhkiAAAAAlwSFlz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\nOACDwWBYpfwfJ1RPHpCChhIAAAAASUVORK5CYII=\n",
      "text/plain": [
       "<matplotlib.figure.Figure at 0x28a69c9df60>"
      ]
     },
     "metadata": {},
     "output_type": "display_data"
    }
   ],
   "source": [
    "monthly_stocks.plot(grid=True)"
   ]
  },
  {
   "cell_type": "code",
   "execution_count": 141,
   "metadata": {
    "scrolled": true
   },
   "outputs": [
    {
     "data": {
      "text/plain": [
       "AAPL     49.653461\n",
       "GOOG    269.469971\n",
       "MSFT     22.714565\n",
       "Name: 2011-08, dtype: float64"
      ]
     },
     "execution_count": 141,
     "metadata": {},
     "output_type": "execute_result"
    }
   ],
   "source": [
    "monthly_stocks.loc[\"2011-8\"]"
   ]
  },
  {
   "cell_type": "code",
   "execution_count": 142,
   "metadata": {
    "scrolled": true
   },
   "outputs": [
    {
     "data": {
      "text/plain": [
       "AAPL     49.653461\n",
       "GOOG    269.469971\n",
       "MSFT     22.714565\n",
       "Name: 2011-08, dtype: float64"
      ]
     },
     "execution_count": 142,
     "metadata": {},
     "output_type": "execute_result"
    }
   ],
   "source": [
    "monthly_stocks.loc[\"2011/8\"]"
   ]
  },
  {
   "cell_type": "code",
   "execution_count": 85,
   "metadata": {},
   "outputs": [
    {
     "data": {
      "text/plain": [
       "AAPL     49.653461\n",
       "GOOG    269.469971\n",
       "MSFT     22.714565\n",
       "Name: 2011-08, dtype: float64"
      ]
     },
     "execution_count": 85,
     "metadata": {},
     "output_type": "execute_result"
    }
   ],
   "source": [
    "monthly_stocks.loc[\"8/2011\"]"
   ]
  },
  {
   "cell_type": "markdown",
   "metadata": {},
   "source": [
    "## 特征处理\n"
   ]
  },
  {
   "cell_type": "markdown",
   "metadata": {},
   "source": [
    "更多资料参考寒小阳的教程[link](https://github.com/HanXiaoyang/Feature_Engineering_and_XGBoost_Parameter_Tuning/blob/master/Feature%20Engineering.ipynb)"
   ]
  },
  {
   "cell_type": "code",
   "execution_count": 144,
   "metadata": {},
   "outputs": [
    {
     "data": {
      "text/html": [
       "<div>\n",
       "<style>\n",
       "    .dataframe thead tr:only-child th {\n",
       "        text-align: right;\n",
       "    }\n",
       "\n",
       "    .dataframe thead th {\n",
       "        text-align: left;\n",
       "    }\n",
       "\n",
       "    .dataframe tbody tr th {\n",
       "        vertical-align: top;\n",
       "    }\n",
       "</style>\n",
       "<table border=\"1\" class=\"dataframe\">\n",
       "  <thead>\n",
       "    <tr style=\"text-align: right;\">\n",
       "      <th></th>\n",
       "      <th>serious_dlqin2yrs</th>\n",
       "      <th>revolving_utilization_of_unsecured_lines</th>\n",
       "      <th>age</th>\n",
       "      <th>number_of_time30-59_days_past_due_not_worse</th>\n",
       "      <th>debt_ratio</th>\n",
       "      <th>monthly_income</th>\n",
       "      <th>number_of_open_credit_lines_and_loans</th>\n",
       "      <th>number_of_times90_days_late</th>\n",
       "      <th>number_real_estate_loans_or_lines</th>\n",
       "      <th>number_of_time60-89_days_past_due_not_worse</th>\n",
       "      <th>number_of_dependents</th>\n",
       "    </tr>\n",
       "  </thead>\n",
       "  <tbody>\n",
       "    <tr>\n",
       "      <th>0</th>\n",
       "      <td>1</td>\n",
       "      <td>0.766127</td>\n",
       "      <td>45</td>\n",
       "      <td>2</td>\n",
       "      <td>0.802982</td>\n",
       "      <td>9120.0</td>\n",
       "      <td>13</td>\n",
       "      <td>0</td>\n",
       "      <td>6</td>\n",
       "      <td>0</td>\n",
       "      <td>2.0</td>\n",
       "    </tr>\n",
       "    <tr>\n",
       "      <th>1</th>\n",
       "      <td>0</td>\n",
       "      <td>0.957151</td>\n",
       "      <td>40</td>\n",
       "      <td>0</td>\n",
       "      <td>0.121876</td>\n",
       "      <td>2600.0</td>\n",
       "      <td>4</td>\n",
       "      <td>0</td>\n",
       "      <td>0</td>\n",
       "      <td>0</td>\n",
       "      <td>1.0</td>\n",
       "    </tr>\n",
       "    <tr>\n",
       "      <th>2</th>\n",
       "      <td>0</td>\n",
       "      <td>0.658180</td>\n",
       "      <td>38</td>\n",
       "      <td>1</td>\n",
       "      <td>0.085113</td>\n",
       "      <td>3042.0</td>\n",
       "      <td>2</td>\n",
       "      <td>1</td>\n",
       "      <td>0</td>\n",
       "      <td>0</td>\n",
       "      <td>0.0</td>\n",
       "    </tr>\n",
       "    <tr>\n",
       "      <th>3</th>\n",
       "      <td>0</td>\n",
       "      <td>0.907239</td>\n",
       "      <td>49</td>\n",
       "      <td>1</td>\n",
       "      <td>0.024926</td>\n",
       "      <td>63588.0</td>\n",
       "      <td>7</td>\n",
       "      <td>0</td>\n",
       "      <td>1</td>\n",
       "      <td>0</td>\n",
       "      <td>0.0</td>\n",
       "    </tr>\n",
       "    <tr>\n",
       "      <th>4</th>\n",
       "      <td>0</td>\n",
       "      <td>0.213179</td>\n",
       "      <td>74</td>\n",
       "      <td>0</td>\n",
       "      <td>0.375607</td>\n",
       "      <td>3500.0</td>\n",
       "      <td>3</td>\n",
       "      <td>0</td>\n",
       "      <td>1</td>\n",
       "      <td>0</td>\n",
       "      <td>1.0</td>\n",
       "    </tr>\n",
       "  </tbody>\n",
       "</table>\n",
       "</div>"
      ],
      "text/plain": [
       "   serious_dlqin2yrs  revolving_utilization_of_unsecured_lines  age  \\\n",
       "0                  1                                  0.766127   45   \n",
       "1                  0                                  0.957151   40   \n",
       "2                  0                                  0.658180   38   \n",
       "3                  0                                  0.907239   49   \n",
       "4                  0                                  0.213179   74   \n",
       "\n",
       "   number_of_time30-59_days_past_due_not_worse  debt_ratio  monthly_income  \\\n",
       "0                                            2    0.802982          9120.0   \n",
       "1                                            0    0.121876          2600.0   \n",
       "2                                            1    0.085113          3042.0   \n",
       "3                                            1    0.024926         63588.0   \n",
       "4                                            0    0.375607          3500.0   \n",
       "\n",
       "   number_of_open_credit_lines_and_loans  number_of_times90_days_late  \\\n",
       "0                                     13                            0   \n",
       "1                                      4                            0   \n",
       "2                                      2                            1   \n",
       "3                                      7                            0   \n",
       "4                                      3                            0   \n",
       "\n",
       "   number_real_estate_loans_or_lines  \\\n",
       "0                                  6   \n",
       "1                                  0   \n",
       "2                                  0   \n",
       "3                                  1   \n",
       "4                                  1   \n",
       "\n",
       "   number_of_time60-89_days_past_due_not_worse  number_of_dependents  \n",
       "0                                            0                   2.0  \n",
       "1                                            0                   1.0  \n",
       "2                                            0                   0.0  \n",
       "3                                            0                   0.0  \n",
       "4                                            0                   1.0  "
      ]
     },
     "execution_count": 144,
     "metadata": {},
     "output_type": "execute_result"
    }
   ],
   "source": [
    "df = pd.read_csv(\"data/credit-data.csv\")\n",
    "df.head()"
   ]
  },
  {
   "cell_type": "code",
   "execution_count": 146,
   "metadata": {},
   "outputs": [
    {
     "name": "stdout",
     "output_type": "stream",
     "text": [
      "serious_dlqin2yrs\n",
      "0    104905\n",
      "1      7510\n",
      "Name: serious_dlqin2yrs, dtype: int64\n",
      "revolving_utilization_of_unsecured_lines\n",
      "0.000000    8154\n",
      "1.000000    7651\n",
      "1.000000      13\n",
      "0.950100       6\n",
      "0.982004       4\n",
      "0.717131       4\n",
      "0.004999       4\n",
      "0.120879       4\n",
      "0.988024       4\n",
      "0.921079       4\n",
      "0.990033       4\n",
      "0.003650       4\n",
      "0.857143       4\n",
      "0.076923       4\n",
      "0.017849       4\n",
      "0.002500       4\n",
      "0.017749       4\n",
      "0.912176       4\n",
      "0.161677       4\n",
      "0.000800       4\n",
      "0.035964       4\n",
      "0.538922       4\n",
      "0.058941       4\n",
      "0.007984       4\n",
      "0.713147       4\n",
      "0.018798       4\n",
      "0.999001       4\n",
      "0.992016       4\n",
      "1.105788       4\n",
      "0.147705       3\n",
      "            ... \n",
      "0.129278       1\n",
      "0.929222       1\n",
      "0.043920       1\n",
      "0.691795       1\n",
      "0.067803       1\n",
      "0.079228       1\n",
      "0.081027       1\n",
      "0.606954       1\n",
      "0.016722       1\n",
      "0.121215       1\n",
      "0.006934       1\n",
      "0.091811       1\n",
      "0.329528       1\n",
      "0.070119       1\n",
      "0.440980       1\n",
      "0.011720       1\n",
      "0.410886       1\n",
      "0.024189       1\n",
      "0.995846       1\n",
      "0.200634       1\n",
      "0.046474       1\n",
      "0.042231       1\n",
      "0.732798       1\n",
      "0.728896       1\n",
      "0.908993       1\n",
      "0.096150       1\n",
      "1.013588       1\n",
      "0.055367       1\n",
      "0.935638       1\n",
      "0.244689       1\n",
      "Name: revolving_utilization_of_unsecured_lines, Length: 94799, dtype: int64\n",
      "age\n",
      "48     2867\n",
      "49     2857\n",
      "50     2841\n",
      "47     2802\n",
      "63     2751\n",
      "46     2745\n",
      "51     2731\n",
      "54     2716\n",
      "53     2715\n",
      "62     2695\n",
      "52     2693\n",
      "56     2684\n",
      "61     2665\n",
      "45     2590\n",
      "55     2535\n",
      "58     2534\n",
      "57     2526\n",
      "44     2468\n",
      "59     2454\n",
      "60     2431\n",
      "43     2371\n",
      "41     2359\n",
      "40     2321\n",
      "42     2265\n",
      "64     2263\n",
      "39     2241\n",
      "38     1986\n",
      "65     1943\n",
      "37     1916\n",
      "66     1898\n",
      "       ... \n",
      "24      611\n",
      "81      600\n",
      "82      483\n",
      "23      466\n",
      "83      371\n",
      "85      358\n",
      "84      354\n",
      "22      327\n",
      "86      293\n",
      "87      263\n",
      "88      240\n",
      "89      198\n",
      "90      137\n",
      "21      134\n",
      "91      117\n",
      "92       69\n",
      "93       65\n",
      "95       33\n",
      "94       32\n",
      "96       15\n",
      "97       12\n",
      "99        7\n",
      "98        5\n",
      "103       3\n",
      "101       2\n",
      "109       2\n",
      "102       1\n",
      "105       1\n",
      "107       1\n",
      "0         1\n",
      "Name: age, Length: 86, dtype: int64\n",
      "number_of_time30-59_days_past_due_not_worse\n",
      "0     94359\n",
      "1     12097\n",
      "2      3459\n",
      "3      1317\n",
      "4       547\n",
      "5       242\n",
      "98      204\n",
      "6       106\n",
      "7        45\n",
      "8        19\n",
      "9         8\n",
      "96        5\n",
      "10        3\n",
      "12        2\n",
      "13        1\n",
      "11        1\n",
      "Name: number_of_time30-59_days_past_due_not_worse, dtype: int64\n",
      "debt_ratio\n",
      "0.000000     3060\n",
      "1.000000      178\n",
      "2.000000      139\n",
      "4.000000      126\n",
      "3.000000      119\n",
      "5.000000      101\n",
      "9.000000       95\n",
      "7.000000       91\n",
      "10.000000      87\n",
      "6.000000       86\n",
      "13.000000      84\n",
      "11.000000      82\n",
      "14.000000      82\n",
      "8.000000       80\n",
      "12.000000      78\n",
      "21.000000      78\n",
      "19.000000      72\n",
      "15.000000      71\n",
      "16.000000      65\n",
      "24.000000      64\n",
      "27.000000      63\n",
      "28.000000      60\n",
      "30.000000      59\n",
      "25.000000      59\n",
      "20.000000      59\n",
      "18.000000      58\n",
      "29.000000      56\n",
      "23.000000      55\n",
      "37.000000      55\n",
      "26.000000      54\n",
      "             ... \n",
      "0.183504        1\n",
      "0.333730        1\n",
      "5.496834        1\n",
      "0.040600        1\n",
      "0.544018        1\n",
      "1.144132        1\n",
      "0.415017        1\n",
      "0.640048        1\n",
      "0.253556        1\n",
      "1.512488        1\n",
      "2.567388        1\n",
      "0.338518        1\n",
      "0.135821        1\n",
      "0.162562        1\n",
      "0.838101        1\n",
      "0.013540        1\n",
      "0.328478        1\n",
      "1.759393        1\n",
      "0.123074        1\n",
      "0.050650        1\n",
      "0.422001        1\n",
      "0.243132        1\n",
      "0.354303        1\n",
      "0.107120        1\n",
      "0.892576        1\n",
      "0.269128        1\n",
      "15.258278       1\n",
      "0.287966        1\n",
      "0.144124        1\n",
      "2.762470        1\n",
      "Name: debt_ratio, Length: 87816, dtype: int64\n",
      "monthly_income\n",
      "5000.0     2376\n",
      "4000.0     1828\n",
      "6000.0     1738\n",
      "7000.0     1538\n",
      "2500.0     1479\n",
      "3000.0     1315\n",
      "8000.0     1266\n",
      "0.0        1227\n",
      "2155.0     1221\n",
      "3235.0     1214\n",
      "1406.0     1208\n",
      "1300.0     1202\n",
      "4166.0     1190\n",
      "10000.0    1179\n",
      "7500.0     1152\n",
      "3333.0     1142\n",
      "4100.0     1061\n",
      "3500.0     1030\n",
      "6017.0      960\n",
      "2400.0      934\n",
      "4500.0      927\n",
      "9666.0      902\n",
      "924.0       897\n",
      "2000.0      833\n",
      "10500.0     828\n",
      "2200.0      824\n",
      "10833.0     819\n",
      "4145.0      811\n",
      "5500.0      660\n",
      "2850.0      640\n",
      "           ... \n",
      "8765.0        1\n",
      "19550.0       1\n",
      "15341.0       1\n",
      "7671.0        1\n",
      "10205.0       1\n",
      "987.0         1\n",
      "23846.0       1\n",
      "6076.0        1\n",
      "18358.0       1\n",
      "89786.0       1\n",
      "13802.0       1\n",
      "6631.0        1\n",
      "9177.0        1\n",
      "8724.0        1\n",
      "5679.0        1\n",
      "11336.0       1\n",
      "8763.0        1\n",
      "26700.0       1\n",
      "8368.0        1\n",
      "15152.0       1\n",
      "15325.0       1\n",
      "5823.0        1\n",
      "15202.0       1\n",
      "27600.0       1\n",
      "1015.0        1\n",
      "9686.0        1\n",
      "1411.0        1\n",
      "10135.0       1\n",
      "13282.0       1\n",
      "33740.0       1\n",
      "Name: monthly_income, Length: 12391, dtype: int64\n",
      "number_of_open_credit_lines_and_loans\n",
      "6     10228\n",
      "7      9883\n",
      "5      9698\n",
      "8      9498\n",
      "4      8709\n",
      "9      8492\n",
      "10     7160\n",
      "3      6797\n",
      "11     6247\n",
      "12     5259\n",
      "2      4987\n",
      "13     4263\n",
      "14     3378\n",
      "1      3325\n",
      "15     2703\n",
      "16     2227\n",
      "17     1784\n",
      "0      1410\n",
      "18     1393\n",
      "19     1089\n",
      "20      900\n",
      "21      645\n",
      "22      519\n",
      "23      409\n",
      "24      303\n",
      "25      262\n",
      "26      184\n",
      "27      135\n",
      "28      111\n",
      "29       80\n",
      "30       68\n",
      "31       53\n",
      "32       40\n",
      "33       38\n",
      "34       25\n",
      "35       20\n",
      "36       15\n",
      "38        9\n",
      "40        8\n",
      "42        8\n",
      "39        7\n",
      "37        7\n",
      "43        7\n",
      "45        6\n",
      "54        4\n",
      "48        4\n",
      "41        3\n",
      "46        3\n",
      "49        2\n",
      "50        2\n",
      "56        2\n",
      "47        1\n",
      "51        1\n",
      "52        1\n",
      "53        1\n",
      "44        1\n",
      "57        1\n",
      "Name: number_of_open_credit_lines_and_loans, dtype: int64\n",
      "number_of_times90_days_late\n",
      "0     106157\n",
      "1       3961\n",
      "2       1138\n",
      "3        486\n",
      "4        229\n",
      "98       204\n",
      "5         96\n",
      "6         63\n",
      "7         30\n",
      "8         16\n",
      "9         13\n",
      "10         5\n",
      "96         5\n",
      "11         4\n",
      "13         2\n",
      "14         2\n",
      "15         2\n",
      "12         1\n",
      "17         1\n",
      "Name: number_of_times90_days_late, dtype: int64\n",
      "number_real_estate_loans_or_lines\n",
      "0     42195\n",
      "1     39226\n",
      "2     23540\n",
      "3      4734\n",
      "4      1616\n",
      "5       514\n",
      "6       236\n",
      "7       132\n",
      "8        67\n",
      "9        59\n",
      "10       23\n",
      "11       20\n",
      "12       13\n",
      "13        9\n",
      "15        6\n",
      "14        5\n",
      "16        4\n",
      "17        3\n",
      "25        3\n",
      "18        2\n",
      "19        2\n",
      "23        2\n",
      "26        1\n",
      "20        1\n",
      "21        1\n",
      "29        1\n",
      "Name: number_real_estate_loans_or_lines, dtype: int64\n",
      "number_of_time60-89_days_past_due_not_worse\n",
      "0     106738\n",
      "1       4286\n",
      "2        820\n",
      "3        233\n",
      "98       204\n",
      "4         79\n",
      "5         27\n",
      "6         14\n",
      "7          6\n",
      "96         5\n",
      "8          2\n",
      "11         1\n",
      "Name: number_of_time60-89_days_past_due_not_worse, dtype: int64\n",
      "number_of_dependents\n",
      "0.0     67999\n",
      "1.0     19812\n",
      "2.0     14659\n",
      "3.0      7068\n",
      "4.0      2128\n",
      "5.0       568\n",
      "6.0       112\n",
      "7.0        38\n",
      "8.0        19\n",
      "9.0         5\n",
      "10.0        5\n",
      "13.0        1\n",
      "20.0        1\n",
      "Name: number_of_dependents, dtype: int64\n"
     ]
    }
   ],
   "source": [
    "for i, val in enumerate(df):\n",
    "    print(val)\n",
    "    print(df[val].value_counts())"
   ]
  },
  {
   "cell_type": "code",
   "execution_count": 147,
   "metadata": {},
   "outputs": [
    {
     "data": {
      "text/plain": [
       "0     112392\n",
       "1         11\n",
       "3          5\n",
       "2          4\n",
       "14         1\n",
       "7          1\n",
       "4          1\n",
       "Name: income_bins, dtype: int64"
      ]
     },
     "execution_count": 147,
     "metadata": {},
     "output_type": "execute_result"
    }
   ],
   "source": [
    "df['income_bins'] = pd.cut(df.monthly_income, bins=15, labels=False)\n",
    "pd.value_counts(df.income_bins)"
   ]
  },
  {
   "cell_type": "code",
   "execution_count": 148,
   "metadata": {
    "collapsed": true
   },
   "outputs": [],
   "source": [
    "df[\"monthly_income\"] = df[\"monthly_income\"].fillna(df[\"monthly_income\"].mean())"
   ]
  },
  {
   "cell_type": "code",
   "execution_count": 150,
<<<<<<< HEAD
   "metadata": {
    "collapsed": true
   },
=======
   "metadata": {},
>>>>>>> ZeweiChu/master
   "outputs": [],
   "source": [
    "df[\"income_bins\"] = np.log(df.monthly_income + 1e-9)"
   ]
  },
  {
   "cell_type": "code",
   "execution_count": 151,
   "metadata": {
    "collapsed": true
   },
   "outputs": [],
   "source": [
    "df[\"income_bins\"] = df[\"income_bins\"].astype(\"int\")"
   ]
  },
  {
   "cell_type": "code",
   "execution_count": 152,
   "metadata": {},
   "outputs": [
    {
     "data": {
      "text/html": [
       "<div>\n",
       "<style>\n",
       "    .dataframe thead tr:only-child th {\n",
       "        text-align: right;\n",
       "    }\n",
       "\n",
       "    .dataframe thead th {\n",
       "        text-align: left;\n",
       "    }\n",
       "\n",
       "    .dataframe tbody tr th {\n",
       "        vertical-align: top;\n",
       "    }\n",
       "</style>\n",
       "<table border=\"1\" class=\"dataframe\">\n",
       "  <thead>\n",
       "    <tr style=\"text-align: right;\">\n",
       "      <th></th>\n",
       "      <th>serious_dlqin2yrs</th>\n",
       "    </tr>\n",
       "    <tr>\n",
       "      <th>income_bins</th>\n",
       "      <th></th>\n",
       "    </tr>\n",
       "  </thead>\n",
       "  <tbody>\n",
       "    <tr>\n",
       "      <th>-20</th>\n",
       "      <td>0.042380</td>\n",
       "    </tr>\n",
       "    <tr>\n",
       "      <th>0</th>\n",
       "      <td>0.027149</td>\n",
       "    </tr>\n",
       "    <tr>\n",
       "      <th>1</th>\n",
       "      <td>0.200000</td>\n",
       "    </tr>\n",
       "    <tr>\n",
       "      <th>2</th>\n",
       "      <td>0.000000</td>\n",
       "    </tr>\n",
       "    <tr>\n",
       "      <th>3</th>\n",
       "      <td>0.000000</td>\n",
       "    </tr>\n",
       "    <tr>\n",
       "      <th>4</th>\n",
       "      <td>0.029412</td>\n",
       "    </tr>\n",
       "    <tr>\n",
       "      <th>5</th>\n",
       "      <td>0.042254</td>\n",
       "    </tr>\n",
       "    <tr>\n",
       "      <th>6</th>\n",
       "      <td>0.055284</td>\n",
       "    </tr>\n",
       "    <tr>\n",
       "      <th>7</th>\n",
       "      <td>0.095066</td>\n",
       "    </tr>\n",
       "    <tr>\n",
       "      <th>8</th>\n",
       "      <td>0.067735</td>\n",
       "    </tr>\n",
       "    <tr>\n",
       "      <th>9</th>\n",
       "      <td>0.046682</td>\n",
       "    </tr>\n",
       "    <tr>\n",
       "      <th>10</th>\n",
       "      <td>0.052541</td>\n",
       "    </tr>\n",
       "    <tr>\n",
       "      <th>11</th>\n",
       "      <td>0.050000</td>\n",
       "    </tr>\n",
       "    <tr>\n",
       "      <th>12</th>\n",
       "      <td>0.055556</td>\n",
       "    </tr>\n",
       "    <tr>\n",
       "      <th>13</th>\n",
       "      <td>0.000000</td>\n",
       "    </tr>\n",
       "    <tr>\n",
       "      <th>14</th>\n",
       "      <td>0.000000</td>\n",
       "    </tr>\n",
       "  </tbody>\n",
       "</table>\n",
       "</div>"
      ],
      "text/plain": [
       "             serious_dlqin2yrs\n",
       "income_bins                   \n",
       "-20                   0.042380\n",
       " 0                    0.027149\n",
       " 1                    0.200000\n",
       " 2                    0.000000\n",
       " 3                    0.000000\n",
       " 4                    0.029412\n",
       " 5                    0.042254\n",
       " 6                    0.055284\n",
       " 7                    0.095066\n",
       " 8                    0.067735\n",
       " 9                    0.046682\n",
       " 10                   0.052541\n",
       " 11                   0.050000\n",
       " 12                   0.055556\n",
       " 13                   0.000000\n",
       " 14                   0.000000"
      ]
     },
     "execution_count": 152,
     "metadata": {},
     "output_type": "execute_result"
    }
   ],
   "source": [
    "df[[\"income_bins\", \"serious_dlqin2yrs\"]].groupby(\"income_bins\").mean()"
   ]
  },
  {
   "cell_type": "code",
   "execution_count": 155,
   "metadata": {},
   "outputs": [
    {
     "data": {
      "text/plain": [
       "<matplotlib.axes._subplots.AxesSubplot at 0x28a69e89eb8>"
      ]
     },
     "execution_count": 155,
     "metadata": {},
     "output_type": "execute_result"
    },
    {
     "data": {
      "image/png": "iVBORw0KGgoAAAANSUhEUgAAAYQAAAERCAYAAAB7FtAjAAAABHNCSVQICAgIfAhkiAAAAAlwSFlz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\ncUIwMzPACcHMzJL/DzyFhoxgKVrUAAAAAElFTkSuQmCC\n",
      "text/plain": [
       "<matplotlib.figure.Figure at 0x28a69e99b38>"
      ]
     },
     "metadata": {},
     "output_type": "display_data"
    }
   ],
   "source": [
    "cols = ['income_bins', 'serious_dlqin2yrs']\n",
    "income_means = df[cols].groupby(\"income_bins\").mean()\n",
    "income_means.plot(kind=\"bar\")"
   ]
  },
  {
   "cell_type": "code",
   "execution_count": 158,
   "metadata": {},
   "outputs": [
    {
     "data": {
      "text/plain": [
       "<matplotlib.axes._subplots.AxesSubplot at 0x28a6bfa6710>"
      ]
     },
     "execution_count": 158,
     "metadata": {},
     "output_type": "execute_result"
    },
    {
     "data": {
      "image/png": "iVBORw0KGgoAAAANSUhEUgAAAX0AAAETCAYAAADah9Z7AAAABHNCSVQICAgIfAhkiAAAAAlwSFlz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\n",
      "text/plain": [
       "<matplotlib.figure.Figure at 0x28a6b49ac88>"
      ]
     },
     "metadata": {},
     "output_type": "display_data"
    },
    {
     "data": {
      "image/png": "iVBORw0KGgoAAAANSUhEUgAAAX0AAAEKCAYAAAD+XoUoAAAABHNCSVQICAgIfAhkiAAAAAlwSFlz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\nP8Vj34LhvWgmAAAAAElFTkSuQmCC\n",
      "text/plain": [
       "<matplotlib.figure.Figure at 0x28a6b4b3080>"
      ]
     },
     "metadata": {},
     "output_type": "display_data"
    }
   ],
   "source": [
    "cols = ['age', 'serious_dlqin2yrs']\n",
    "age_means = df[cols].groupby(\"age\").mean()\n",
    "age_means.plot(kind=\"bar\")\n",
    "age_means.plot()"
   ]
  },
  {
   "cell_type": "markdown",
   "metadata": {},
   "source": [
    "### [cut](https://pandas.pydata.org/pandas-docs/stable/generated/pandas.cut.html)"
   ]
  },
  {
   "cell_type": "code",
   "execution_count": 159,
   "metadata": {},
   "outputs": [
    {
     "data": {
      "text/plain": [
       "(45, 50]     14112\n",
       "(50, 55]     13390\n",
       "(55, 60]     12629\n",
       "(60, 65]     12317\n",
       "(40, 45]     12053\n",
       "(35, 40]     10241\n",
       "(65, 70]      8315\n",
       "(30, 35]      8123\n",
       "(75, 120]     7581\n",
       "(25, 30]      5803\n",
       "(70, 75]      5600\n",
       "(20, 25]      2250\n",
       "(0, 20]          0\n",
       "Name: age_bucket, dtype: int64"
      ]
     },
     "execution_count": 159,
     "metadata": {},
     "output_type": "execute_result"
    }
   ],
   "source": [
    "mybins = [0] + list(range(20, 80, 5)) + [120]\n",
    "df['age_bucket'] = pd.cut(df.age, bins=mybins)\n",
    "df['age_bucket'].value_counts()"
   ]
  },
  {
   "cell_type": "code",
   "execution_count": 160,
   "metadata": {},
   "outputs": [
    {
     "data": {
      "text/html": [
       "<div>\n",
       "<style>\n",
       "    .dataframe thead tr:only-child th {\n",
       "        text-align: right;\n",
       "    }\n",
       "\n",
       "    .dataframe thead th {\n",
       "        text-align: left;\n",
       "    }\n",
       "\n",
       "    .dataframe tbody tr th {\n",
       "        vertical-align: top;\n",
       "    }\n",
       "</style>\n",
       "<table border=\"1\" class=\"dataframe\">\n",
       "  <thead>\n",
       "    <tr style=\"text-align: right;\">\n",
       "      <th></th>\n",
       "      <th>serious_dlqin2yrs</th>\n",
       "    </tr>\n",
       "    <tr>\n",
       "      <th>age_bucket</th>\n",
       "      <th></th>\n",
       "    </tr>\n",
       "  </thead>\n",
       "  <tbody>\n",
       "    <tr>\n",
       "      <th>(0, 20]</th>\n",
       "      <td>0.000000</td>\n",
       "    </tr>\n",
       "    <tr>\n",
       "      <th>(20, 25]</th>\n",
       "      <td>0.109778</td>\n",
       "    </tr>\n",
       "    <tr>\n",
       "      <th>(25, 30]</th>\n",
       "      <td>0.116319</td>\n",
       "    </tr>\n",
       "    <tr>\n",
       "      <th>(30, 35]</th>\n",
       "      <td>0.108211</td>\n",
       "    </tr>\n",
       "    <tr>\n",
       "      <th>(35, 40]</th>\n",
       "      <td>0.088956</td>\n",
       "    </tr>\n",
       "    <tr>\n",
       "      <th>(40, 45]</th>\n",
       "      <td>0.085124</td>\n",
       "    </tr>\n",
       "    <tr>\n",
       "      <th>(45, 50]</th>\n",
       "      <td>0.080995</td>\n",
       "    </tr>\n",
       "    <tr>\n",
       "      <th>(50, 55]</th>\n",
       "      <td>0.072890</td>\n",
       "    </tr>\n",
       "    <tr>\n",
       "      <th>(55, 60]</th>\n",
       "      <td>0.050598</td>\n",
       "    </tr>\n",
       "    <tr>\n",
       "      <th>(60, 65]</th>\n",
       "      <td>0.039864</td>\n",
       "    </tr>\n",
       "    <tr>\n",
       "      <th>(65, 70]</th>\n",
       "      <td>0.026458</td>\n",
       "    </tr>\n",
       "    <tr>\n",
       "      <th>(70, 75]</th>\n",
       "      <td>0.026607</td>\n",
       "    </tr>\n",
       "    <tr>\n",
       "      <th>(75, 120]</th>\n",
       "      <td>0.020314</td>\n",
       "    </tr>\n",
       "  </tbody>\n",
       "</table>\n",
       "</div>"
      ],
      "text/plain": [
       "            serious_dlqin2yrs\n",
       "age_bucket                   \n",
       "(0, 20]              0.000000\n",
       "(20, 25]             0.109778\n",
       "(25, 30]             0.116319\n",
       "(30, 35]             0.108211\n",
       "(35, 40]             0.088956\n",
       "(40, 45]             0.085124\n",
       "(45, 50]             0.080995\n",
       "(50, 55]             0.072890\n",
       "(55, 60]             0.050598\n",
       "(60, 65]             0.039864\n",
       "(65, 70]             0.026458\n",
       "(70, 75]             0.026607\n",
       "(75, 120]            0.020314"
      ]
     },
     "execution_count": 160,
     "metadata": {},
     "output_type": "execute_result"
    }
   ],
   "source": [
    "df[[\"age_bucket\", \"serious_dlqin2yrs\"]].groupby(\"age_bucket\").mean().fillna(0)"
   ]
  },
  {
   "cell_type": "code",
   "execution_count": 161,
   "metadata": {
    "scrolled": true
   },
   "outputs": [
    {
     "data": {
      "text/plain": [
       "<matplotlib.axes._subplots.AxesSubplot at 0x28a6c060588>"
      ]
     },
     "execution_count": 161,
     "metadata": {},
     "output_type": "execute_result"
    },
    {
     "data": {
      "image/png": "iVBORw0KGgoAAAANSUhEUgAAAZEAAAELCAYAAAAY3LtyAAAABHNCSVQICAgIfAhkiAAAAAlwSFlz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\npiGilFIqzzRElFJK5ZmGiFJKqTz7/zd0O9VDMihIAAAAAElFTkSuQmCC\n",
      "text/plain": [
       "<matplotlib.figure.Figure at 0x28a6ba25780>"
      ]
     },
     "metadata": {},
     "output_type": "display_data"
    }
   ],
   "source": [
    "df[[\"age_bucket\", \"serious_dlqin2yrs\"]].groupby(\"age_bucket\").mean().plot()"
   ]
  },
  {
   "cell_type": "markdown",
   "metadata": {},
   "source": [
    "把categorize的类型转换成数值类型"
   ]
  },
  {
   "cell_type": "code",
   "execution_count": 163,
   "metadata": {},
   "outputs": [
    {
     "data": {
      "text/plain": [
       "0    0\n",
       "1    1\n",
       "2    1\n",
       "3    2\n",
       "4    3\n",
       "Name: age_bucket, dtype: int64"
      ]
     },
     "execution_count": 163,
     "metadata": {},
     "output_type": "execute_result"
    }
   ],
   "source": [
    "labels, levels = pd.factorize(df.age_bucket)\n",
    "df.age_bucket = labels\n",
    "df.age_bucket.head()"
   ]
  }
 ],
 "metadata": {
  "kernelspec": {
   "display_name": "Python 3",
   "language": "python",
   "name": "python3"
  },
  "language_info": {
   "codemirror_mode": {
    "name": "ipython",
    "version": 3
   },
   "file_extension": ".py",
   "mimetype": "text/x-python",
   "name": "python",
   "nbconvert_exporter": "python",
   "pygments_lexer": "ipython3",
   "version": "3.6.1"
  }
 },
 "nbformat": 4,
 "nbformat_minor": 2
}
