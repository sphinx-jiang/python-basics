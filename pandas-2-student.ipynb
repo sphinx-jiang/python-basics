{
 "cells": [
  {
   "cell_type": "markdown",
   "metadata": {},
   "source": [
    "# Pandas教程\n",
    "\n",
    "\n",
    "### 2017七月在线 机器学习线上集训 julyedu.com\n",
    "by 褚则伟 "
   ]
  },
  {
   "cell_type": "markdown",
   "metadata": {},
   "source": [
    "## 目录\n",
    "- Group by\n",
    "- Aggregate\n",
    "- concat\n",
    "- merge\n",
    "- join\n",
    "- bike project\n",
    "- stocks project\n",
    "- credit project"
   ]
  },
  {
   "cell_type": "markdown",
   "metadata": {},
   "source": [
    "## Group By\n",
    "\n",
    "### 2017七月在线 机器学习线上集训 julyedu.com"
   ]
  },
  {
   "cell_type": "markdown",
   "metadata": {},
   "source": [
    "举个栗子，假设我们现在有一张公司每个员工的收入流水。"
   ]
  },
  {
<<<<<<< HEAD
=======
   "cell_type": "code",
   "execution_count": 2,
   "metadata": {
    "collapsed": true
   },
   "outputs": [],
   "source": [
    "import pandas as pd\n",
    "import numpy as np"
   ]
  },
  {
   "cell_type": "code",
   "execution_count": 3,
   "metadata": {},
   "outputs": [
    {
     "data": {
      "text/html": [
       "<div>\n",
       "<style>\n",
       "    .dataframe thead tr:only-child th {\n",
       "        text-align: right;\n",
       "    }\n",
       "\n",
       "    .dataframe thead th {\n",
       "        text-align: left;\n",
       "    }\n",
       "\n",
       "    .dataframe tbody tr th {\n",
       "        vertical-align: top;\n",
       "    }\n",
       "</style>\n",
       "<table border=\"1\" class=\"dataframe\">\n",
       "  <thead>\n",
       "    <tr style=\"text-align: right;\">\n",
       "      <th></th>\n",
       "      <th>Bonus</th>\n",
       "      <th>Name</th>\n",
       "      <th>Salary</th>\n",
       "      <th>Year</th>\n",
       "    </tr>\n",
       "  </thead>\n",
       "  <tbody>\n",
       "    <tr>\n",
       "      <th>0</th>\n",
       "      <td>3000</td>\n",
       "      <td>July</td>\n",
       "      <td>10000</td>\n",
       "      <td>2016</td>\n",
       "    </tr>\n",
       "    <tr>\n",
       "      <th>1</th>\n",
       "      <td>1000</td>\n",
       "      <td>Zewei</td>\n",
       "      <td>2000</td>\n",
       "      <td>2016</td>\n",
       "    </tr>\n",
       "    <tr>\n",
       "      <th>2</th>\n",
       "      <td>1000</td>\n",
       "      <td>Zewei</td>\n",
       "      <td>4000</td>\n",
       "      <td>2016</td>\n",
       "    </tr>\n",
       "    <tr>\n",
       "      <th>3</th>\n",
       "      <td>1200</td>\n",
       "      <td>Han</td>\n",
       "      <td>5000</td>\n",
       "      <td>2016</td>\n",
       "    </tr>\n",
       "    <tr>\n",
       "      <th>4</th>\n",
       "      <td>4000</td>\n",
       "      <td>July</td>\n",
       "      <td>18000</td>\n",
       "      <td>2017</td>\n",
       "    </tr>\n",
       "    <tr>\n",
       "      <th>5</th>\n",
       "      <td>2300</td>\n",
       "      <td>July</td>\n",
       "      <td>25000</td>\n",
       "      <td>2017</td>\n",
       "    </tr>\n",
       "    <tr>\n",
       "      <th>6</th>\n",
       "      <td>500</td>\n",
       "      <td>Zewei</td>\n",
       "      <td>3000</td>\n",
       "      <td>2017</td>\n",
       "    </tr>\n",
       "    <tr>\n",
       "      <th>7</th>\n",
       "      <td>1000</td>\n",
       "      <td>July</td>\n",
       "      <td>4000</td>\n",
       "      <td>2017</td>\n",
       "    </tr>\n",
       "  </tbody>\n",
       "</table>\n",
       "</div>"
      ],
      "text/plain": [
       "   Bonus   Name  Salary  Year\n",
       "0   3000   July   10000  2016\n",
       "1   1000  Zewei    2000  2016\n",
       "2   1000  Zewei    4000  2016\n",
       "3   1200    Han    5000  2016\n",
       "4   4000   July   18000  2017\n",
       "5   2300   July   25000  2017\n",
       "6    500  Zewei    3000  2017\n",
       "7   1000   July    4000  2017"
      ]
     },
     "execution_count": 3,
     "metadata": {},
     "output_type": "execute_result"
    }
   ],
   "source": [
    "salaries = pd.DataFrame({\n",
    "    'Name': ['July', 'Zewei', 'Zewei', 'Han', 'July', 'July', 'Zewei', 'July'],\n",
    "    'Year': [2016,2016,2016,2016,2017,2017,2017,2017],\n",
    "    'Salary': [10000,2000,4000,5000,18000,25000,3000,4000],\n",
    "    'Bonus': [3000,1000,1000,1200,4000,2300,500,1000]\n",
    "})\n",
    "salaries"
   ]
  },
  {
>>>>>>> ZeweiChu/master
   "cell_type": "markdown",
   "metadata": {},
   "source": [
    "接下来我给大家演示一下什么叫做Group By"
   ]
  },
  {
<<<<<<< HEAD
=======
   "cell_type": "code",
   "execution_count": 15,
   "metadata": {},
   "outputs": [
    {
     "data": {
      "text/plain": [
       "<pandas.core.groupby.DataFrameGroupBy object at 0x000001EB62879A20>"
      ]
     },
     "execution_count": 15,
     "metadata": {},
     "output_type": "execute_result"
    }
   ],
   "source": [
    "group_by_name = salaries.groupby(\"Name\")\n",
    "group_by_name"
   ]
  },
  {
>>>>>>> ZeweiChu/master
   "cell_type": "markdown",
   "metadata": {},
   "source": [
    "groupby构造了一个GroupBy object，我们可以对这个object做各种操作"
   ]
  },
  {
   "cell_type": "markdown",
   "metadata": {},
   "source": [
    "### groupby之后一般要做一些aggregate操作"
   ]
  },
  {
<<<<<<< HEAD
=======
   "cell_type": "code",
   "execution_count": 6,
   "metadata": {
    "scrolled": true
   },
   "outputs": [
    {
     "data": {
      "text/html": [
       "<div>\n",
       "<style>\n",
       "    .dataframe thead tr:only-child th {\n",
       "        text-align: right;\n",
       "    }\n",
       "\n",
       "    .dataframe thead th {\n",
       "        text-align: left;\n",
       "    }\n",
       "\n",
       "    .dataframe tbody tr th {\n",
       "        vertical-align: top;\n",
       "    }\n",
       "</style>\n",
       "<table border=\"1\" class=\"dataframe\">\n",
       "  <thead>\n",
       "    <tr style=\"text-align: right;\">\n",
       "      <th></th>\n",
       "      <th>Bonus</th>\n",
       "      <th>Salary</th>\n",
       "      <th>Year</th>\n",
       "    </tr>\n",
       "    <tr>\n",
       "      <th>Name</th>\n",
       "      <th></th>\n",
       "      <th></th>\n",
       "      <th></th>\n",
       "    </tr>\n",
       "  </thead>\n",
       "  <tbody>\n",
       "    <tr>\n",
       "      <th>Han</th>\n",
       "      <td>1200</td>\n",
       "      <td>5000</td>\n",
       "      <td>2016</td>\n",
       "    </tr>\n",
       "    <tr>\n",
       "      <th>July</th>\n",
       "      <td>10300</td>\n",
       "      <td>57000</td>\n",
       "      <td>8067</td>\n",
       "    </tr>\n",
       "    <tr>\n",
       "      <th>Zewei</th>\n",
       "      <td>2500</td>\n",
       "      <td>9000</td>\n",
       "      <td>6049</td>\n",
       "    </tr>\n",
       "  </tbody>\n",
       "</table>\n",
       "</div>"
      ],
      "text/plain": [
       "       Bonus  Salary  Year\n",
       "Name                      \n",
       "Han     1200    5000  2016\n",
       "July   10300   57000  8067\n",
       "Zewei   2500    9000  6049"
      ]
     },
     "execution_count": 6,
     "metadata": {},
     "output_type": "execute_result"
    }
   ],
   "source": [
    "group_by_name.sum()"
   ]
  },
  {
   "cell_type": "code",
   "execution_count": 8,
   "metadata": {
    "scrolled": true
   },
   "outputs": [
    {
     "data": {
      "text/html": [
       "<div>\n",
       "<style>\n",
       "    .dataframe thead tr:only-child th {\n",
       "        text-align: right;\n",
       "    }\n",
       "\n",
       "    .dataframe thead th {\n",
       "        text-align: left;\n",
       "    }\n",
       "\n",
       "    .dataframe tbody tr th {\n",
       "        vertical-align: top;\n",
       "    }\n",
       "</style>\n",
       "<table border=\"1\" class=\"dataframe\">\n",
       "  <thead>\n",
       "    <tr style=\"text-align: right;\">\n",
       "      <th></th>\n",
       "      <th>Salary</th>\n",
       "      <th>Bonus</th>\n",
       "    </tr>\n",
       "    <tr>\n",
       "      <th>Name</th>\n",
       "      <th></th>\n",
       "      <th></th>\n",
       "    </tr>\n",
       "  </thead>\n",
       "  <tbody>\n",
       "    <tr>\n",
       "      <th>Han</th>\n",
       "      <td>5000</td>\n",
       "      <td>1200</td>\n",
       "    </tr>\n",
       "    <tr>\n",
       "      <th>July</th>\n",
       "      <td>57000</td>\n",
       "      <td>10300</td>\n",
       "    </tr>\n",
       "    <tr>\n",
       "      <th>Zewei</th>\n",
       "      <td>9000</td>\n",
       "      <td>2500</td>\n",
       "    </tr>\n",
       "  </tbody>\n",
       "</table>\n",
       "</div>"
      ],
      "text/plain": [
       "       Salary  Bonus\n",
       "Name                \n",
       "Han      5000   1200\n",
       "July    57000  10300\n",
       "Zewei    9000   2500"
      ]
     },
     "execution_count": 8,
     "metadata": {},
     "output_type": "execute_result"
    }
   ],
   "source": [
    "group_by_name[[\"Salary\", \"Bonus\"]].sum()"
   ]
  },
  {
   "cell_type": "markdown",
   "metadata": {},
   "source": [
    "groupby + aggregate"
   ]
  },
  {
>>>>>>> ZeweiChu/master
   "cell_type": "markdown",
   "metadata": {},
   "source": [
    "默认会排序，也可以选择不排序"
   ]
  },
  {
<<<<<<< HEAD
=======
   "cell_type": "code",
   "execution_count": 11,
   "metadata": {},
   "outputs": [
    {
     "data": {
      "text/html": [
       "<div>\n",
       "<style>\n",
       "    .dataframe thead tr:only-child th {\n",
       "        text-align: right;\n",
       "    }\n",
       "\n",
       "    .dataframe thead th {\n",
       "        text-align: left;\n",
       "    }\n",
       "\n",
       "    .dataframe tbody tr th {\n",
       "        vertical-align: top;\n",
       "    }\n",
       "</style>\n",
       "<table border=\"1\" class=\"dataframe\">\n",
       "  <thead>\n",
       "    <tr style=\"text-align: right;\">\n",
       "      <th></th>\n",
       "      <th>Bonus</th>\n",
       "      <th>Salary</th>\n",
       "      <th>Year</th>\n",
       "    </tr>\n",
       "    <tr>\n",
       "      <th>Name</th>\n",
       "      <th></th>\n",
       "      <th></th>\n",
       "      <th></th>\n",
       "    </tr>\n",
       "  </thead>\n",
       "  <tbody>\n",
       "    <tr>\n",
       "      <th>July</th>\n",
       "      <td>10300</td>\n",
       "      <td>57000</td>\n",
       "      <td>8067</td>\n",
       "    </tr>\n",
       "    <tr>\n",
       "      <th>Zewei</th>\n",
       "      <td>2500</td>\n",
       "      <td>9000</td>\n",
       "      <td>6049</td>\n",
       "    </tr>\n",
       "    <tr>\n",
       "      <th>Han</th>\n",
       "      <td>1200</td>\n",
       "      <td>5000</td>\n",
       "      <td>2016</td>\n",
       "    </tr>\n",
       "  </tbody>\n",
       "</table>\n",
       "</div>"
      ],
      "text/plain": [
       "       Bonus  Salary  Year\n",
       "Name                      \n",
       "July   10300   57000  8067\n",
       "Zewei   2500    9000  6049\n",
       "Han     1200    5000  2016"
      ]
     },
     "execution_count": 11,
     "metadata": {},
     "output_type": "execute_result"
    }
   ],
   "source": [
    "salaries.groupby(\"Name\", sort=False).sum()"
   ]
  },
  {
>>>>>>> ZeweiChu/master
   "cell_type": "markdown",
   "metadata": {},
   "source": [
    "也可以这么写"
   ]
  },
  {
<<<<<<< HEAD
=======
   "cell_type": "code",
   "execution_count": 14,
   "metadata": {},
   "outputs": [
    {
     "data": {
      "text/html": [
       "<div>\n",
       "<style>\n",
       "    .dataframe thead tr:only-child th {\n",
       "        text-align: right;\n",
       "    }\n",
       "\n",
       "    .dataframe thead th {\n",
       "        text-align: left;\n",
       "    }\n",
       "\n",
       "    .dataframe tbody tr th {\n",
       "        vertical-align: top;\n",
       "    }\n",
       "</style>\n",
       "<table border=\"1\" class=\"dataframe\">\n",
       "  <thead>\n",
       "    <tr style=\"text-align: right;\">\n",
       "      <th></th>\n",
       "      <th>Bonus</th>\n",
       "      <th>Salary</th>\n",
       "      <th>Year</th>\n",
       "    </tr>\n",
       "    <tr>\n",
       "      <th>Name</th>\n",
       "      <th></th>\n",
       "      <th></th>\n",
       "      <th></th>\n",
       "    </tr>\n",
       "  </thead>\n",
       "  <tbody>\n",
       "    <tr>\n",
       "      <th>Han</th>\n",
       "      <td>1200</td>\n",
       "      <td>5000</td>\n",
       "      <td>2016</td>\n",
       "    </tr>\n",
       "    <tr>\n",
       "      <th>July</th>\n",
       "      <td>10300</td>\n",
       "      <td>57000</td>\n",
       "      <td>8067</td>\n",
       "    </tr>\n",
       "    <tr>\n",
       "      <th>Zewei</th>\n",
       "      <td>2500</td>\n",
       "      <td>9000</td>\n",
       "      <td>6049</td>\n",
       "    </tr>\n",
       "  </tbody>\n",
       "</table>\n",
       "</div>"
      ],
      "text/plain": [
       "       Bonus  Salary  Year\n",
       "Name                      \n",
       "Han     1200    5000  2016\n",
       "July   10300   57000  8067\n",
       "Zewei   2500    9000  6049"
      ]
     },
     "execution_count": 14,
     "metadata": {},
     "output_type": "execute_result"
    }
   ],
   "source": [
    "group_by_name.agg(sum)"
   ]
  },
  {
>>>>>>> ZeweiChu/master
   "cell_type": "markdown",
   "metadata": {},
   "source": [
    "group by的attributes"
   ]
  },
  {
<<<<<<< HEAD
=======
   "cell_type": "code",
   "execution_count": 17,
   "metadata": {},
   "outputs": [
    {
     "data": {
      "text/html": [
       "<div>\n",
       "<style>\n",
       "    .dataframe thead tr:only-child th {\n",
       "        text-align: right;\n",
       "    }\n",
       "\n",
       "    .dataframe thead th {\n",
       "        text-align: left;\n",
       "    }\n",
       "\n",
       "    .dataframe tbody tr th {\n",
       "        vertical-align: top;\n",
       "    }\n",
       "</style>\n",
       "<table border=\"1\" class=\"dataframe\">\n",
       "  <thead>\n",
       "    <tr style=\"text-align: right;\">\n",
       "      <th></th>\n",
       "      <th>Bonus</th>\n",
       "      <th>Name</th>\n",
       "      <th>Salary</th>\n",
       "      <th>Year</th>\n",
       "    </tr>\n",
       "  </thead>\n",
       "  <tbody>\n",
       "    <tr>\n",
       "      <th>0</th>\n",
       "      <td>3000</td>\n",
       "      <td>July</td>\n",
       "      <td>10000</td>\n",
       "      <td>2016</td>\n",
       "    </tr>\n",
       "    <tr>\n",
       "      <th>1</th>\n",
       "      <td>1000</td>\n",
       "      <td>Zewei</td>\n",
       "      <td>2000</td>\n",
       "      <td>2016</td>\n",
       "    </tr>\n",
       "    <tr>\n",
       "      <th>2</th>\n",
       "      <td>1000</td>\n",
       "      <td>Zewei</td>\n",
       "      <td>4000</td>\n",
       "      <td>2016</td>\n",
       "    </tr>\n",
       "    <tr>\n",
       "      <th>3</th>\n",
       "      <td>1200</td>\n",
       "      <td>Han</td>\n",
       "      <td>5000</td>\n",
       "      <td>2016</td>\n",
       "    </tr>\n",
       "    <tr>\n",
       "      <th>4</th>\n",
       "      <td>4000</td>\n",
       "      <td>July</td>\n",
       "      <td>18000</td>\n",
       "      <td>2017</td>\n",
       "    </tr>\n",
       "    <tr>\n",
       "      <th>5</th>\n",
       "      <td>2300</td>\n",
       "      <td>July</td>\n",
       "      <td>25000</td>\n",
       "      <td>2017</td>\n",
       "    </tr>\n",
       "    <tr>\n",
       "      <th>6</th>\n",
       "      <td>500</td>\n",
       "      <td>Zewei</td>\n",
       "      <td>3000</td>\n",
       "      <td>2017</td>\n",
       "    </tr>\n",
       "    <tr>\n",
       "      <th>7</th>\n",
       "      <td>1000</td>\n",
       "      <td>July</td>\n",
       "      <td>4000</td>\n",
       "      <td>2017</td>\n",
       "    </tr>\n",
       "  </tbody>\n",
       "</table>\n",
       "</div>"
      ],
      "text/plain": [
       "   Bonus   Name  Salary  Year\n",
       "0   3000   July   10000  2016\n",
       "1   1000  Zewei    2000  2016\n",
       "2   1000  Zewei    4000  2016\n",
       "3   1200    Han    5000  2016\n",
       "4   4000   July   18000  2017\n",
       "5   2300   July   25000  2017\n",
       "6    500  Zewei    3000  2017\n",
       "7   1000   July    4000  2017"
      ]
     },
     "execution_count": 17,
     "metadata": {},
     "output_type": "execute_result"
    }
   ],
   "source": [
    "salaries"
   ]
  },
  {
   "cell_type": "code",
   "execution_count": 16,
   "metadata": {
    "scrolled": true
   },
   "outputs": [
    {
     "data": {
      "text/plain": [
       "{'Han': Int64Index([3], dtype='int64'),\n",
       " 'July': Int64Index([0, 4, 5, 7], dtype='int64'),\n",
       " 'Zewei': Int64Index([1, 2, 6], dtype='int64')}"
      ]
     },
     "execution_count": 16,
     "metadata": {},
     "output_type": "execute_result"
    }
   ],
   "source": [
    "group_by_name.groups"
   ]
  },
  {
   "cell_type": "code",
   "execution_count": 18,
   "metadata": {},
   "outputs": [
    {
     "data": {
      "text/plain": [
       "3"
      ]
     },
     "execution_count": 18,
     "metadata": {},
     "output_type": "execute_result"
    }
   ],
   "source": [
    "len(group_by_name)"
   ]
  },
  {
>>>>>>> ZeweiChu/master
   "cell_type": "markdown",
   "metadata": {},
   "source": [
    "用多个列groupby"
   ]
  },
  {
<<<<<<< HEAD
=======
   "cell_type": "code",
   "execution_count": 19,
   "metadata": {},
   "outputs": [
    {
     "data": {
      "text/html": [
       "<div>\n",
       "<style>\n",
       "    .dataframe thead tr:only-child th {\n",
       "        text-align: right;\n",
       "    }\n",
       "\n",
       "    .dataframe thead th {\n",
       "        text-align: left;\n",
       "    }\n",
       "\n",
       "    .dataframe tbody tr th {\n",
       "        vertical-align: top;\n",
       "    }\n",
       "</style>\n",
       "<table border=\"1\" class=\"dataframe\">\n",
       "  <thead>\n",
       "    <tr style=\"text-align: right;\">\n",
       "      <th></th>\n",
       "      <th></th>\n",
       "      <th>Bonus</th>\n",
       "      <th>Salary</th>\n",
       "    </tr>\n",
       "    <tr>\n",
       "      <th>Name</th>\n",
       "      <th>Year</th>\n",
       "      <th></th>\n",
       "      <th></th>\n",
       "    </tr>\n",
       "  </thead>\n",
       "  <tbody>\n",
       "    <tr>\n",
       "      <th>Han</th>\n",
       "      <th>2016</th>\n",
       "      <td>1200</td>\n",
       "      <td>5000</td>\n",
       "    </tr>\n",
       "    <tr>\n",
       "      <th rowspan=\"2\" valign=\"top\">July</th>\n",
       "      <th>2016</th>\n",
       "      <td>3000</td>\n",
       "      <td>10000</td>\n",
       "    </tr>\n",
       "    <tr>\n",
       "      <th>2017</th>\n",
       "      <td>7300</td>\n",
       "      <td>47000</td>\n",
       "    </tr>\n",
       "    <tr>\n",
       "      <th rowspan=\"2\" valign=\"top\">Zewei</th>\n",
       "      <th>2016</th>\n",
       "      <td>2000</td>\n",
       "      <td>6000</td>\n",
       "    </tr>\n",
       "    <tr>\n",
       "      <th>2017</th>\n",
       "      <td>500</td>\n",
       "      <td>3000</td>\n",
       "    </tr>\n",
       "  </tbody>\n",
       "</table>\n",
       "</div>"
      ],
      "text/plain": [
       "            Bonus  Salary\n",
       "Name  Year               \n",
       "Han   2016   1200    5000\n",
       "July  2016   3000   10000\n",
       "      2017   7300   47000\n",
       "Zewei 2016   2000    6000\n",
       "      2017    500    3000"
      ]
     },
     "execution_count": 19,
     "metadata": {},
     "output_type": "execute_result"
    }
   ],
   "source": [
    "groupby_name_year = salaries.groupby([\"Name\", \"Year\"])\n",
    "groupby_name_year.sum()"
   ]
  },
  {
>>>>>>> ZeweiChu/master
   "cell_type": "markdown",
   "metadata": {},
   "source": [
    "除了sum之外，我们再来尝试一下size,mean,median "
   ]
  },
  {
<<<<<<< HEAD
=======
   "cell_type": "code",
   "execution_count": 20,
   "metadata": {},
   "outputs": [
    {
     "data": {
      "text/plain": [
       "Name   Year\n",
       "Han    2016    1\n",
       "July   2016    1\n",
       "       2017    3\n",
       "Zewei  2016    2\n",
       "       2017    1\n",
       "dtype: int64"
      ]
     },
     "execution_count": 20,
     "metadata": {},
     "output_type": "execute_result"
    }
   ],
   "source": [
    "groupby_name_year.size()"
   ]
  },
  {
   "cell_type": "code",
   "execution_count": 21,
   "metadata": {
    "scrolled": true
   },
   "outputs": [
    {
     "data": {
      "text/html": [
       "<div>\n",
       "<style>\n",
       "    .dataframe thead tr:only-child th {\n",
       "        text-align: right;\n",
       "    }\n",
       "\n",
       "    .dataframe thead th {\n",
       "        text-align: left;\n",
       "    }\n",
       "\n",
       "    .dataframe tbody tr th {\n",
       "        vertical-align: top;\n",
       "    }\n",
       "</style>\n",
       "<table border=\"1\" class=\"dataframe\">\n",
       "  <thead>\n",
       "    <tr style=\"text-align: right;\">\n",
       "      <th></th>\n",
       "      <th></th>\n",
       "      <th>Bonus</th>\n",
       "      <th>Salary</th>\n",
       "    </tr>\n",
       "    <tr>\n",
       "      <th>Name</th>\n",
       "      <th>Year</th>\n",
       "      <th></th>\n",
       "      <th></th>\n",
       "    </tr>\n",
       "  </thead>\n",
       "  <tbody>\n",
       "    <tr>\n",
       "      <th>Han</th>\n",
       "      <th>2016</th>\n",
       "      <td>1200.000000</td>\n",
       "      <td>5000.000000</td>\n",
       "    </tr>\n",
       "    <tr>\n",
       "      <th rowspan=\"2\" valign=\"top\">July</th>\n",
       "      <th>2016</th>\n",
       "      <td>3000.000000</td>\n",
       "      <td>10000.000000</td>\n",
       "    </tr>\n",
       "    <tr>\n",
       "      <th>2017</th>\n",
       "      <td>2433.333333</td>\n",
       "      <td>15666.666667</td>\n",
       "    </tr>\n",
       "    <tr>\n",
       "      <th rowspan=\"2\" valign=\"top\">Zewei</th>\n",
       "      <th>2016</th>\n",
       "      <td>1000.000000</td>\n",
       "      <td>3000.000000</td>\n",
       "    </tr>\n",
       "    <tr>\n",
       "      <th>2017</th>\n",
       "      <td>500.000000</td>\n",
       "      <td>3000.000000</td>\n",
       "    </tr>\n",
       "  </tbody>\n",
       "</table>\n",
       "</div>"
      ],
      "text/plain": [
       "                  Bonus        Salary\n",
       "Name  Year                           \n",
       "Han   2016  1200.000000   5000.000000\n",
       "July  2016  3000.000000  10000.000000\n",
       "      2017  2433.333333  15666.666667\n",
       "Zewei 2016  1000.000000   3000.000000\n",
       "      2017   500.000000   3000.000000"
      ]
     },
     "execution_count": 21,
     "metadata": {},
     "output_type": "execute_result"
    }
   ],
   "source": [
    "groupby_name_year.mean()"
   ]
  },
  {
   "cell_type": "code",
   "execution_count": 25,
   "metadata": {},
   "outputs": [
    {
     "data": {
      "text/html": [
       "<div>\n",
       "<style>\n",
       "    .dataframe thead tr:only-child th {\n",
       "        text-align: right;\n",
       "    }\n",
       "\n",
       "    .dataframe thead th {\n",
       "        text-align: left;\n",
       "    }\n",
       "\n",
       "    .dataframe tbody tr th {\n",
       "        vertical-align: top;\n",
       "    }\n",
       "</style>\n",
       "<table border=\"1\" class=\"dataframe\">\n",
       "  <thead>\n",
       "    <tr>\n",
       "      <th></th>\n",
       "      <th colspan=\"8\" halign=\"left\">Bonus</th>\n",
       "      <th colspan=\"5\" halign=\"left\">Salary</th>\n",
       "      <th colspan=\"8\" halign=\"left\">Year</th>\n",
       "    </tr>\n",
       "    <tr>\n",
       "      <th></th>\n",
       "      <th>count</th>\n",
       "      <th>mean</th>\n",
       "      <th>std</th>\n",
       "      <th>min</th>\n",
       "      <th>25%</th>\n",
       "      <th>50%</th>\n",
       "      <th>75%</th>\n",
       "      <th>max</th>\n",
       "      <th>count</th>\n",
       "      <th>mean</th>\n",
       "      <th>...</th>\n",
       "      <th>75%</th>\n",
       "      <th>max</th>\n",
       "      <th>count</th>\n",
       "      <th>mean</th>\n",
       "      <th>std</th>\n",
       "      <th>min</th>\n",
       "      <th>25%</th>\n",
       "      <th>50%</th>\n",
       "      <th>75%</th>\n",
       "      <th>max</th>\n",
       "    </tr>\n",
       "    <tr>\n",
       "      <th>Name</th>\n",
       "      <th></th>\n",
       "      <th></th>\n",
       "      <th></th>\n",
       "      <th></th>\n",
       "      <th></th>\n",
       "      <th></th>\n",
       "      <th></th>\n",
       "      <th></th>\n",
       "      <th></th>\n",
       "      <th></th>\n",
       "      <th></th>\n",
       "      <th></th>\n",
       "      <th></th>\n",
       "      <th></th>\n",
       "      <th></th>\n",
       "      <th></th>\n",
       "      <th></th>\n",
       "      <th></th>\n",
       "      <th></th>\n",
       "      <th></th>\n",
       "      <th></th>\n",
       "    </tr>\n",
       "  </thead>\n",
       "  <tbody>\n",
       "    <tr>\n",
       "      <th>Han</th>\n",
       "      <td>1.0</td>\n",
       "      <td>1200.000000</td>\n",
       "      <td>NaN</td>\n",
       "      <td>1200.0</td>\n",
       "      <td>1200.0</td>\n",
       "      <td>1200.0</td>\n",
       "      <td>1200.0</td>\n",
       "      <td>1200.0</td>\n",
       "      <td>1.0</td>\n",
       "      <td>5000.0</td>\n",
       "      <td>...</td>\n",
       "      <td>5000.0</td>\n",
       "      <td>5000.0</td>\n",
       "      <td>1.0</td>\n",
       "      <td>2016.000000</td>\n",
       "      <td>NaN</td>\n",
       "      <td>2016.0</td>\n",
       "      <td>2016.00</td>\n",
       "      <td>2016.0</td>\n",
       "      <td>2016.0</td>\n",
       "      <td>2016.0</td>\n",
       "    </tr>\n",
       "    <tr>\n",
       "      <th>July</th>\n",
       "      <td>4.0</td>\n",
       "      <td>2575.000000</td>\n",
       "      <td>1260.621540</td>\n",
       "      <td>1000.0</td>\n",
       "      <td>1975.0</td>\n",
       "      <td>2650.0</td>\n",
       "      <td>3250.0</td>\n",
       "      <td>4000.0</td>\n",
       "      <td>4.0</td>\n",
       "      <td>14250.0</td>\n",
       "      <td>...</td>\n",
       "      <td>19750.0</td>\n",
       "      <td>25000.0</td>\n",
       "      <td>4.0</td>\n",
       "      <td>2016.750000</td>\n",
       "      <td>0.50000</td>\n",
       "      <td>2016.0</td>\n",
       "      <td>2016.75</td>\n",
       "      <td>2017.0</td>\n",
       "      <td>2017.0</td>\n",
       "      <td>2017.0</td>\n",
       "    </tr>\n",
       "    <tr>\n",
       "      <th>Zewei</th>\n",
       "      <td>3.0</td>\n",
       "      <td>833.333333</td>\n",
       "      <td>288.675135</td>\n",
       "      <td>500.0</td>\n",
       "      <td>750.0</td>\n",
       "      <td>1000.0</td>\n",
       "      <td>1000.0</td>\n",
       "      <td>1000.0</td>\n",
       "      <td>3.0</td>\n",
       "      <td>3000.0</td>\n",
       "      <td>...</td>\n",
       "      <td>3500.0</td>\n",
       "      <td>4000.0</td>\n",
       "      <td>3.0</td>\n",
       "      <td>2016.333333</td>\n",
       "      <td>0.57735</td>\n",
       "      <td>2016.0</td>\n",
       "      <td>2016.00</td>\n",
       "      <td>2016.0</td>\n",
       "      <td>2016.5</td>\n",
       "      <td>2017.0</td>\n",
       "    </tr>\n",
       "  </tbody>\n",
       "</table>\n",
       "<p>3 rows × 24 columns</p>\n",
       "</div>"
      ],
      "text/plain": [
       "      Bonus                                                                    \\\n",
       "      count         mean          std     min     25%     50%     75%     max   \n",
       "Name                                                                            \n",
       "Han     1.0  1200.000000          NaN  1200.0  1200.0  1200.0  1200.0  1200.0   \n",
       "July    4.0  2575.000000  1260.621540  1000.0  1975.0  2650.0  3250.0  4000.0   \n",
       "Zewei   3.0   833.333333   288.675135   500.0   750.0  1000.0  1000.0  1000.0   \n",
       "\n",
       "      Salary            ...                      Year                        \\\n",
       "       count     mean   ...        75%      max count         mean      std   \n",
       "Name                    ...                                                   \n",
       "Han      1.0   5000.0   ...     5000.0   5000.0   1.0  2016.000000      NaN   \n",
       "July     4.0  14250.0   ...    19750.0  25000.0   4.0  2016.750000  0.50000   \n",
       "Zewei    3.0   3000.0   ...     3500.0   4000.0   3.0  2016.333333  0.57735   \n",
       "\n",
       "                                                \n",
       "          min      25%     50%     75%     max  \n",
       "Name                                            \n",
       "Han    2016.0  2016.00  2016.0  2016.0  2016.0  \n",
       "July   2016.0  2016.75  2017.0  2017.0  2017.0  \n",
       "Zewei  2016.0  2016.00  2016.0  2016.5  2017.0  \n",
       "\n",
       "[3 rows x 24 columns]"
      ]
     },
     "execution_count": 25,
     "metadata": {},
     "output_type": "execute_result"
    }
   ],
   "source": [
    "group_by_name.describe()"
   ]
  },
  {
>>>>>>> ZeweiChu/master
   "cell_type": "markdown",
   "metadata": {},
   "source": [
    "### iterate GroupBy object"
   ]
  },
  {
<<<<<<< HEAD
=======
   "cell_type": "code",
   "execution_count": 27,
   "metadata": {},
   "outputs": [
    {
     "name": "stdout",
     "output_type": "stream",
     "text": [
      "Han\n",
      "   Bonus Name  Salary  Year\n",
      "3   1200  Han    5000  2016\n",
      "<class 'pandas.core.frame.DataFrame'>\n",
      "July\n",
      "   Bonus  Name  Salary  Year\n",
      "0   3000  July   10000  2016\n",
      "4   4000  July   18000  2017\n",
      "5   2300  July   25000  2017\n",
      "7   1000  July    4000  2017\n",
      "<class 'pandas.core.frame.DataFrame'>\n",
      "Zewei\n",
      "   Bonus   Name  Salary  Year\n",
      "1   1000  Zewei    2000  2016\n",
      "2   1000  Zewei    4000  2016\n",
      "6    500  Zewei    3000  2017\n",
      "<class 'pandas.core.frame.DataFrame'>\n"
     ]
    }
   ],
   "source": [
    "for name, group in group_by_name:\n",
    "    print(name)\n",
    "    print(group)\n",
    "    print(type(group))"
   ]
  },
  {
>>>>>>> ZeweiChu/master
   "cell_type": "markdown",
   "metadata": {},
   "source": [
    "选择一个group"
   ]
  },
  {
<<<<<<< HEAD
=======
   "cell_type": "code",
   "execution_count": 30,
   "metadata": {},
   "outputs": [
    {
     "data": {
      "text/html": [
       "<div>\n",
       "<style>\n",
       "    .dataframe thead tr:only-child th {\n",
       "        text-align: right;\n",
       "    }\n",
       "\n",
       "    .dataframe thead th {\n",
       "        text-align: left;\n",
       "    }\n",
       "\n",
       "    .dataframe tbody tr th {\n",
       "        vertical-align: top;\n",
       "    }\n",
       "</style>\n",
       "<table border=\"1\" class=\"dataframe\">\n",
       "  <thead>\n",
       "    <tr style=\"text-align: right;\">\n",
       "      <th></th>\n",
       "      <th>Bonus</th>\n",
       "      <th>Salary</th>\n",
       "      <th>Year</th>\n",
       "    </tr>\n",
       "  </thead>\n",
       "  <tbody>\n",
       "    <tr>\n",
       "      <th>1</th>\n",
       "      <td>1000</td>\n",
       "      <td>2000</td>\n",
       "      <td>2016</td>\n",
       "    </tr>\n",
       "    <tr>\n",
       "      <th>2</th>\n",
       "      <td>1000</td>\n",
       "      <td>4000</td>\n",
       "      <td>2016</td>\n",
       "    </tr>\n",
       "    <tr>\n",
       "      <th>6</th>\n",
       "      <td>500</td>\n",
       "      <td>3000</td>\n",
       "      <td>2017</td>\n",
       "    </tr>\n",
       "  </tbody>\n",
       "</table>\n",
       "</div>"
      ],
      "text/plain": [
       "   Bonus  Salary  Year\n",
       "1   1000    2000  2016\n",
       "2   1000    4000  2016\n",
       "6    500    3000  2017"
      ]
     },
     "execution_count": 30,
     "metadata": {},
     "output_type": "execute_result"
    }
   ],
   "source": [
    "group_by_name.get_group(\"Zewei\")"
   ]
  },
  {
   "cell_type": "code",
   "execution_count": 36,
   "metadata": {},
   "outputs": [
    {
     "data": {
      "text/html": [
       "<div>\n",
       "<style>\n",
       "    .dataframe thead tr:only-child th {\n",
       "        text-align: right;\n",
       "    }\n",
       "\n",
       "    .dataframe thead th {\n",
       "        text-align: left;\n",
       "    }\n",
       "\n",
       "    .dataframe tbody tr th {\n",
       "        vertical-align: top;\n",
       "    }\n",
       "</style>\n",
       "<table border=\"1\" class=\"dataframe\">\n",
       "  <thead>\n",
       "    <tr>\n",
       "      <th></th>\n",
       "      <th></th>\n",
       "      <th colspan=\"3\" halign=\"left\">Bonus</th>\n",
       "      <th colspan=\"3\" halign=\"left\">Salary</th>\n",
       "    </tr>\n",
       "    <tr>\n",
       "      <th></th>\n",
       "      <th></th>\n",
       "      <th>sum</th>\n",
       "      <th>mean</th>\n",
       "      <th>std</th>\n",
       "      <th>sum</th>\n",
       "      <th>mean</th>\n",
       "      <th>std</th>\n",
       "    </tr>\n",
       "    <tr>\n",
       "      <th>Name</th>\n",
       "      <th>Year</th>\n",
       "      <th></th>\n",
       "      <th></th>\n",
       "      <th></th>\n",
       "      <th></th>\n",
       "      <th></th>\n",
       "      <th></th>\n",
       "    </tr>\n",
       "  </thead>\n",
       "  <tbody>\n",
       "    <tr>\n",
       "      <th>Han</th>\n",
       "      <th>2016</th>\n",
       "      <td>1200</td>\n",
       "      <td>1200.000000</td>\n",
       "      <td>NaN</td>\n",
       "      <td>5000</td>\n",
       "      <td>5000.000000</td>\n",
       "      <td>NaN</td>\n",
       "    </tr>\n",
       "    <tr>\n",
       "      <th rowspan=\"2\" valign=\"top\">July</th>\n",
       "      <th>2016</th>\n",
       "      <td>3000</td>\n",
       "      <td>3000.000000</td>\n",
       "      <td>NaN</td>\n",
       "      <td>10000</td>\n",
       "      <td>10000.000000</td>\n",
       "      <td>NaN</td>\n",
       "    </tr>\n",
       "    <tr>\n",
       "      <th>2017</th>\n",
       "      <td>7300</td>\n",
       "      <td>2433.333333</td>\n",
       "      <td>1504.43788</td>\n",
       "      <td>47000</td>\n",
       "      <td>15666.666667</td>\n",
       "      <td>10692.676622</td>\n",
       "    </tr>\n",
       "    <tr>\n",
       "      <th rowspan=\"2\" valign=\"top\">Zewei</th>\n",
       "      <th>2016</th>\n",
       "      <td>2000</td>\n",
       "      <td>1000.000000</td>\n",
       "      <td>0.00000</td>\n",
       "      <td>6000</td>\n",
       "      <td>3000.000000</td>\n",
       "      <td>1414.213562</td>\n",
       "    </tr>\n",
       "    <tr>\n",
       "      <th>2017</th>\n",
       "      <td>500</td>\n",
       "      <td>500.000000</td>\n",
       "      <td>NaN</td>\n",
       "      <td>3000</td>\n",
       "      <td>3000.000000</td>\n",
       "      <td>NaN</td>\n",
       "    </tr>\n",
       "  </tbody>\n",
       "</table>\n",
       "</div>"
      ],
      "text/plain": [
       "           Bonus                          Salary                            \n",
       "             sum         mean         std    sum          mean           std\n",
       "Name  Year                                                                  \n",
       "Han   2016  1200  1200.000000         NaN   5000   5000.000000           NaN\n",
       "July  2016  3000  3000.000000         NaN  10000  10000.000000           NaN\n",
       "      2017  7300  2433.333333  1504.43788  47000  15666.666667  10692.676622\n",
       "Zewei 2016  2000  1000.000000     0.00000   6000   3000.000000   1414.213562\n",
       "      2017   500   500.000000         NaN   3000   3000.000000           NaN"
      ]
     },
     "execution_count": 36,
     "metadata": {},
     "output_type": "execute_result"
    }
   ],
   "source": [
    "groupby_name_year.agg([sum, np.mean, np.std])"
   ]
  },
  {
>>>>>>> ZeweiChu/master
   "cell_type": "markdown",
   "metadata": {},
   "source": [
    "### transform"
   ]
  },
  {
<<<<<<< HEAD
=======
   "cell_type": "code",
   "execution_count": 40,
   "metadata": {
    "scrolled": true
   },
   "outputs": [
    {
     "data": {
      "text/html": [
       "<div>\n",
       "<style>\n",
       "    .dataframe thead tr:only-child th {\n",
       "        text-align: right;\n",
       "    }\n",
       "\n",
       "    .dataframe thead th {\n",
       "        text-align: left;\n",
       "    }\n",
       "\n",
       "    .dataframe tbody tr th {\n",
       "        vertical-align: top;\n",
       "    }\n",
       "</style>\n",
       "<table border=\"1\" class=\"dataframe\">\n",
       "  <thead>\n",
       "    <tr style=\"text-align: right;\">\n",
       "      <th></th>\n",
       "      <th>Open</th>\n",
       "      <th>High</th>\n",
       "      <th>Low</th>\n",
       "      <th>Close</th>\n",
       "      <th>Adj Close</th>\n",
       "      <th>Volume</th>\n",
       "    </tr>\n",
       "    <tr>\n",
       "      <th>Date</th>\n",
       "      <th></th>\n",
       "      <th></th>\n",
       "      <th></th>\n",
       "      <th></th>\n",
       "      <th></th>\n",
       "      <th></th>\n",
       "    </tr>\n",
       "  </thead>\n",
       "  <tbody>\n",
       "    <tr>\n",
       "      <th>1999-01-22</th>\n",
       "      <td>1.750000</td>\n",
       "      <td>1.953125</td>\n",
       "      <td>1.552083</td>\n",
       "      <td>1.640625</td>\n",
       "      <td>1.523430</td>\n",
       "      <td>67867200</td>\n",
       "    </tr>\n",
       "    <tr>\n",
       "      <th>1999-01-25</th>\n",
       "      <td>1.770833</td>\n",
       "      <td>1.833333</td>\n",
       "      <td>1.640625</td>\n",
       "      <td>1.812500</td>\n",
       "      <td>1.683028</td>\n",
       "      <td>12762000</td>\n",
       "    </tr>\n",
       "    <tr>\n",
       "      <th>1999-01-26</th>\n",
       "      <td>1.833333</td>\n",
       "      <td>1.869792</td>\n",
       "      <td>1.645833</td>\n",
       "      <td>1.671875</td>\n",
       "      <td>1.552448</td>\n",
       "      <td>8580000</td>\n",
       "    </tr>\n",
       "    <tr>\n",
       "      <th>1999-01-27</th>\n",
       "      <td>1.677083</td>\n",
       "      <td>1.718750</td>\n",
       "      <td>1.583333</td>\n",
       "      <td>1.666667</td>\n",
       "      <td>1.547611</td>\n",
       "      <td>6109200</td>\n",
       "    </tr>\n",
       "    <tr>\n",
       "      <th>1999-01-28</th>\n",
       "      <td>1.666667</td>\n",
       "      <td>1.677083</td>\n",
       "      <td>1.651042</td>\n",
       "      <td>1.661458</td>\n",
       "      <td>1.542776</td>\n",
       "      <td>5688000</td>\n",
       "    </tr>\n",
       "  </tbody>\n",
       "</table>\n",
       "</div>"
      ],
      "text/plain": [
       "                Open      High       Low     Close  Adj Close    Volume\n",
       "Date                                                                   \n",
       "1999-01-22  1.750000  1.953125  1.552083  1.640625   1.523430  67867200\n",
       "1999-01-25  1.770833  1.833333  1.640625  1.812500   1.683028  12762000\n",
       "1999-01-26  1.833333  1.869792  1.645833  1.671875   1.552448   8580000\n",
       "1999-01-27  1.677083  1.718750  1.583333  1.666667   1.547611   6109200\n",
       "1999-01-28  1.666667  1.677083  1.651042  1.661458   1.542776   5688000"
      ]
     },
     "execution_count": 40,
     "metadata": {},
     "output_type": "execute_result"
    }
   ],
   "source": [
    "nvda = pd.read_csv(\"data/NVDA.csv\", index_col=0, parse_dates=[\"Date\"])\n",
    "nvda.head()"
   ]
  },
  {
   "cell_type": "code",
   "execution_count": 42,
   "metadata": {},
   "outputs": [],
   "source": [
    "key = lambda x: x.year"
   ]
  },
  {
   "cell_type": "code",
   "execution_count": 43,
   "metadata": {
    "scrolled": true
   },
   "outputs": [
    {
     "data": {
      "text/html": [
       "<div>\n",
       "<style>\n",
       "    .dataframe thead tr:only-child th {\n",
       "        text-align: right;\n",
       "    }\n",
       "\n",
       "    .dataframe thead th {\n",
       "        text-align: left;\n",
       "    }\n",
       "\n",
       "    .dataframe tbody tr th {\n",
       "        vertical-align: top;\n",
       "    }\n",
       "</style>\n",
       "<table border=\"1\" class=\"dataframe\">\n",
       "  <thead>\n",
       "    <tr>\n",
       "      <th></th>\n",
       "      <th colspan=\"2\" halign=\"left\">Open</th>\n",
       "      <th colspan=\"2\" halign=\"left\">High</th>\n",
       "      <th colspan=\"2\" halign=\"left\">Low</th>\n",
       "      <th colspan=\"2\" halign=\"left\">Close</th>\n",
       "      <th colspan=\"2\" halign=\"left\">Adj Close</th>\n",
       "      <th colspan=\"2\" halign=\"left\">Volume</th>\n",
       "    </tr>\n",
       "    <tr>\n",
       "      <th></th>\n",
       "      <th>mean</th>\n",
       "      <th>std</th>\n",
       "      <th>mean</th>\n",
       "      <th>std</th>\n",
       "      <th>mean</th>\n",
       "      <th>std</th>\n",
       "      <th>mean</th>\n",
       "      <th>std</th>\n",
       "      <th>mean</th>\n",
       "      <th>std</th>\n",
       "      <th>mean</th>\n",
       "      <th>std</th>\n",
       "    </tr>\n",
       "  </thead>\n",
       "  <tbody>\n",
       "    <tr>\n",
       "      <th>1999</th>\n",
       "      <td>1.950782</td>\n",
       "      <td>0.588882</td>\n",
       "      <td>2.007317</td>\n",
       "      <td>0.614302</td>\n",
       "      <td>1.883559</td>\n",
       "      <td>0.571658</td>\n",
       "      <td>1.947230</td>\n",
       "      <td>0.601041</td>\n",
       "      <td>1.808134</td>\n",
       "      <td>0.558107</td>\n",
       "      <td>6.433220e+06</td>\n",
       "      <td>8.142949e+06</td>\n",
       "    </tr>\n",
       "    <tr>\n",
       "      <th>2000</th>\n",
       "      <td>8.781084</td>\n",
       "      <td>2.999908</td>\n",
       "      <td>9.222697</td>\n",
       "      <td>3.114186</td>\n",
       "      <td>8.360522</td>\n",
       "      <td>2.904761</td>\n",
       "      <td>8.778826</td>\n",
       "      <td>3.013104</td>\n",
       "      <td>8.151729</td>\n",
       "      <td>2.797869</td>\n",
       "      <td>1.104182e+07</td>\n",
       "      <td>7.985374e+06</td>\n",
       "    </tr>\n",
       "    <tr>\n",
       "      <th>2001</th>\n",
       "      <td>13.091254</td>\n",
       "      <td>3.839777</td>\n",
       "      <td>13.600750</td>\n",
       "      <td>3.829838</td>\n",
       "      <td>12.680548</td>\n",
       "      <td>3.830944</td>\n",
       "      <td>13.181552</td>\n",
       "      <td>3.833637</td>\n",
       "      <td>12.239956</td>\n",
       "      <td>3.559789</td>\n",
       "      <td>2.782387e+07</td>\n",
       "      <td>1.384318e+07</td>\n",
       "    </tr>\n",
       "    <tr>\n",
       "      <th>2002</th>\n",
       "      <td>9.690344</td>\n",
       "      <td>6.561287</td>\n",
       "      <td>9.955093</td>\n",
       "      <td>6.664226</td>\n",
       "      <td>9.344391</td>\n",
       "      <td>6.375212</td>\n",
       "      <td>9.614749</td>\n",
       "      <td>6.519053</td>\n",
       "      <td>8.927940</td>\n",
       "      <td>6.053379</td>\n",
       "      <td>3.168655e+07</td>\n",
       "      <td>1.558742e+07</td>\n",
       "    </tr>\n",
       "    <tr>\n",
       "      <th>2003</th>\n",
       "      <td>5.902434</td>\n",
       "      <td>1.461862</td>\n",
       "      <td>6.042659</td>\n",
       "      <td>1.491260</td>\n",
       "      <td>5.764960</td>\n",
       "      <td>1.423422</td>\n",
       "      <td>5.900344</td>\n",
       "      <td>1.459852</td>\n",
       "      <td>5.478865</td>\n",
       "      <td>1.355570</td>\n",
       "      <td>2.430220e+07</td>\n",
       "      <td>1.899657e+07</td>\n",
       "    </tr>\n",
       "  </tbody>\n",
       "</table>\n",
       "</div>"
      ],
      "text/plain": [
       "           Open                 High                  Low            \\\n",
       "           mean       std       mean       std       mean       std   \n",
       "1999   1.950782  0.588882   2.007317  0.614302   1.883559  0.571658   \n",
       "2000   8.781084  2.999908   9.222697  3.114186   8.360522  2.904761   \n",
       "2001  13.091254  3.839777  13.600750  3.829838  12.680548  3.830944   \n",
       "2002   9.690344  6.561287   9.955093  6.664226   9.344391  6.375212   \n",
       "2003   5.902434  1.461862   6.042659  1.491260   5.764960  1.423422   \n",
       "\n",
       "          Close            Adj Close                  Volume                \n",
       "           mean       std       mean       std          mean           std  \n",
       "1999   1.947230  0.601041   1.808134  0.558107  6.433220e+06  8.142949e+06  \n",
       "2000   8.778826  3.013104   8.151729  2.797869  1.104182e+07  7.985374e+06  \n",
       "2001  13.181552  3.833637  12.239956  3.559789  2.782387e+07  1.384318e+07  \n",
       "2002   9.614749  6.519053   8.927940  6.053379  3.168655e+07  1.558742e+07  \n",
       "2003   5.900344  1.459852   5.478865  1.355570  2.430220e+07  1.899657e+07  "
      ]
     },
     "execution_count": 43,
     "metadata": {},
     "output_type": "execute_result"
    }
   ],
   "source": [
    "nvda.groupby(key).agg([np.mean, np.std]).head()"
   ]
  },
  {
   "cell_type": "code",
   "execution_count": 44,
   "metadata": {
    "collapsed": true
   },
   "outputs": [],
   "source": [
    "zscore = lambda x: (x - x.mean()) / x.std()"
   ]
  },
  {
   "cell_type": "code",
   "execution_count": 46,
   "metadata": {},
   "outputs": [
    {
     "data": {
      "text/html": [
       "<div>\n",
       "<style>\n",
       "    .dataframe thead tr:only-child th {\n",
       "        text-align: right;\n",
       "    }\n",
       "\n",
       "    .dataframe thead th {\n",
       "        text-align: left;\n",
       "    }\n",
       "\n",
       "    .dataframe tbody tr th {\n",
       "        vertical-align: top;\n",
       "    }\n",
       "</style>\n",
       "<table border=\"1\" class=\"dataframe\">\n",
       "  <thead>\n",
       "    <tr style=\"text-align: right;\">\n",
       "      <th></th>\n",
       "      <th>Open</th>\n",
       "      <th>High</th>\n",
       "      <th>Low</th>\n",
       "      <th>Close</th>\n",
       "      <th>Adj Close</th>\n",
       "      <th>Volume</th>\n",
       "    </tr>\n",
       "    <tr>\n",
       "      <th>Date</th>\n",
       "      <th></th>\n",
       "      <th></th>\n",
       "      <th></th>\n",
       "      <th></th>\n",
       "      <th></th>\n",
       "      <th></th>\n",
       "    </tr>\n",
       "  </thead>\n",
       "  <tbody>\n",
       "    <tr>\n",
       "      <th>1999-01-22</th>\n",
       "      <td>-0.340955</td>\n",
       "      <td>-0.088217</td>\n",
       "      <td>-0.579850</td>\n",
       "      <td>-0.510124</td>\n",
       "      <td>-0.510124</td>\n",
       "      <td>7.544438</td>\n",
       "    </tr>\n",
       "    <tr>\n",
       "      <th>1999-01-25</th>\n",
       "      <td>-0.305578</td>\n",
       "      <td>-0.283222</td>\n",
       "      <td>-0.424964</td>\n",
       "      <td>-0.224161</td>\n",
       "      <td>-0.224161</td>\n",
       "      <td>0.777210</td>\n",
       "    </tr>\n",
       "    <tr>\n",
       "      <th>1999-01-26</th>\n",
       "      <td>-0.199444</td>\n",
       "      <td>-0.223871</td>\n",
       "      <td>-0.415854</td>\n",
       "      <td>-0.458130</td>\n",
       "      <td>-0.458131</td>\n",
       "      <td>0.263637</td>\n",
       "    </tr>\n",
       "    <tr>\n",
       "      <th>1999-01-27</th>\n",
       "      <td>-0.464778</td>\n",
       "      <td>-0.469747</td>\n",
       "      <td>-0.525185</td>\n",
       "      <td>-0.466795</td>\n",
       "      <td>-0.466798</td>\n",
       "      <td>-0.039791</td>\n",
       "    </tr>\n",
       "    <tr>\n",
       "      <th>1999-01-28</th>\n",
       "      <td>-0.482465</td>\n",
       "      <td>-0.537575</td>\n",
       "      <td>-0.406741</td>\n",
       "      <td>-0.475462</td>\n",
       "      <td>-0.475461</td>\n",
       "      <td>-0.091517</td>\n",
       "    </tr>\n",
       "  </tbody>\n",
       "</table>\n",
       "</div>"
      ],
      "text/plain": [
       "                Open      High       Low     Close  Adj Close    Volume\n",
       "Date                                                                   \n",
       "1999-01-22 -0.340955 -0.088217 -0.579850 -0.510124  -0.510124  7.544438\n",
       "1999-01-25 -0.305578 -0.283222 -0.424964 -0.224161  -0.224161  0.777210\n",
       "1999-01-26 -0.199444 -0.223871 -0.415854 -0.458130  -0.458131  0.263637\n",
       "1999-01-27 -0.464778 -0.469747 -0.525185 -0.466795  -0.466798 -0.039791\n",
       "1999-01-28 -0.482465 -0.537575 -0.406741 -0.475462  -0.475461 -0.091517"
      ]
     },
     "execution_count": 46,
     "metadata": {},
     "output_type": "execute_result"
    }
   ],
   "source": [
    "transformed = nvda.groupby(key).transform(zscore)\n",
    "transformed.head()"
   ]
  },
  {
   "cell_type": "code",
   "execution_count": 47,
   "metadata": {
    "collapsed": true
   },
   "outputs": [],
   "source": [
    "%matplotlib inline"
   ]
  },
  {
   "cell_type": "code",
   "execution_count": 50,
   "metadata": {
    "scrolled": true
   },
   "outputs": [
    {
     "data": {
      "text/plain": [
       "<matplotlib.axes._subplots.AxesSubplot at 0x1eb6328bda0>"
      ]
     },
     "execution_count": 50,
     "metadata": {},
     "output_type": "execute_result"
    },
    {
     "data": {
      "image/png": "iVBORw0KGgoAAAANSUhEUgAAAXoAAAEACAYAAAC9Gb03AAAABHNCSVQICAgIfAhkiAAAAAlwSFlz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\nv8yWbeXgAAAAAElFTkSuQmCC\n",
      "text/plain": [
       "<matplotlib.figure.Figure at 0x1eb631cc5c0>"
      ]
     },
     "metadata": {},
     "output_type": "display_data"
    }
   ],
   "source": [
    "compare = pd.DataFrame({\"Original Adj Close\": nvda[\"Adj Close\"], \n",
    "                       \"Transformed Adj Close\": transformed[\"Adj Close\"]})\n",
    "\n",
    "compare.plot()"
   ]
  },
  {
   "cell_type": "code",
   "execution_count": 60,
   "metadata": {
    "scrolled": true
   },
   "outputs": [
    {
     "data": {
      "text/html": [
       "<div>\n",
       "<style>\n",
       "    .dataframe thead tr:only-child th {\n",
       "        text-align: right;\n",
       "    }\n",
       "\n",
       "    .dataframe thead th {\n",
       "        text-align: left;\n",
       "    }\n",
       "\n",
       "    .dataframe tbody tr th {\n",
       "        vertical-align: top;\n",
       "    }\n",
       "</style>\n",
       "<table border=\"1\" class=\"dataframe\">\n",
       "  <thead>\n",
       "    <tr style=\"text-align: right;\">\n",
       "      <th></th>\n",
       "      <th>Adj Close</th>\n",
       "      <th>Open</th>\n",
       "    </tr>\n",
       "    <tr>\n",
       "      <th>Date</th>\n",
       "      <th></th>\n",
       "      <th></th>\n",
       "    </tr>\n",
       "  </thead>\n",
       "  <tbody>\n",
       "    <tr>\n",
       "      <th>1999-01-22</th>\n",
       "      <td>2.364945</td>\n",
       "      <td>2.552084</td>\n",
       "    </tr>\n",
       "    <tr>\n",
       "      <th>1999-01-25</th>\n",
       "      <td>2.364945</td>\n",
       "      <td>2.552084</td>\n",
       "    </tr>\n",
       "    <tr>\n",
       "      <th>1999-01-26</th>\n",
       "      <td>2.364945</td>\n",
       "      <td>2.552084</td>\n",
       "    </tr>\n",
       "    <tr>\n",
       "      <th>1999-01-27</th>\n",
       "      <td>2.364945</td>\n",
       "      <td>2.552084</td>\n",
       "    </tr>\n",
       "    <tr>\n",
       "      <th>1999-01-28</th>\n",
       "      <td>2.364945</td>\n",
       "      <td>2.552084</td>\n",
       "    </tr>\n",
       "  </tbody>\n",
       "</table>\n",
       "</div>"
      ],
      "text/plain": [
       "            Adj Close      Open\n",
       "Date                           \n",
       "1999-01-22   2.364945  2.552084\n",
       "1999-01-25   2.364945  2.552084\n",
       "1999-01-26   2.364945  2.552084\n",
       "1999-01-27   2.364945  2.552084\n",
       "1999-01-28   2.364945  2.552084"
      ]
     },
     "execution_count": 60,
     "metadata": {},
     "output_type": "execute_result"
    }
   ],
   "source": [
    "#price_range = lambda x: x.max() - x.min()\n",
    "def price_range(x):\n",
    "    return x.max() - x.min()\n",
    "nvda[[\"Adj Close\", \"Open\"]].groupby(key).transform(price_range).head()"
   ]
  },
  {
   "cell_type": "code",
   "execution_count": 54,
   "metadata": {},
   "outputs": [
    {
     "data": {
      "text/html": [
       "<div>\n",
       "<style>\n",
       "    .dataframe thead tr:only-child th {\n",
       "        text-align: right;\n",
       "    }\n",
       "\n",
       "    .dataframe thead th {\n",
       "        text-align: left;\n",
       "    }\n",
       "\n",
       "    .dataframe tbody tr th {\n",
       "        vertical-align: top;\n",
       "    }\n",
       "</style>\n",
       "<table border=\"1\" class=\"dataframe\">\n",
       "  <thead>\n",
       "    <tr style=\"text-align: right;\">\n",
       "      <th></th>\n",
       "      <th>Open</th>\n",
       "      <th>High</th>\n",
       "      <th>Low</th>\n",
       "      <th>Close</th>\n",
       "      <th>Adj Close</th>\n",
       "      <th>Volume</th>\n",
       "    </tr>\n",
       "    <tr>\n",
       "      <th>Date</th>\n",
       "      <th></th>\n",
       "      <th></th>\n",
       "      <th></th>\n",
       "      <th></th>\n",
       "      <th></th>\n",
       "      <th></th>\n",
       "    </tr>\n",
       "  </thead>\n",
       "  <tbody>\n",
       "    <tr>\n",
       "      <th>1999-01-22</th>\n",
       "      <td>2.552084</td>\n",
       "      <td>2.53125</td>\n",
       "      <td>2.510417</td>\n",
       "      <td>2.546875</td>\n",
       "      <td>2.364945</td>\n",
       "      <td>67375200</td>\n",
       "    </tr>\n",
       "    <tr>\n",
       "      <th>1999-01-25</th>\n",
       "      <td>2.552084</td>\n",
       "      <td>2.53125</td>\n",
       "      <td>2.510417</td>\n",
       "      <td>2.546875</td>\n",
       "      <td>2.364945</td>\n",
       "      <td>67375200</td>\n",
       "    </tr>\n",
       "    <tr>\n",
       "      <th>1999-01-26</th>\n",
       "      <td>2.552084</td>\n",
       "      <td>2.53125</td>\n",
       "      <td>2.510417</td>\n",
       "      <td>2.546875</td>\n",
       "      <td>2.364945</td>\n",
       "      <td>67375200</td>\n",
       "    </tr>\n",
       "    <tr>\n",
       "      <th>1999-01-27</th>\n",
       "      <td>2.552084</td>\n",
       "      <td>2.53125</td>\n",
       "      <td>2.510417</td>\n",
       "      <td>2.546875</td>\n",
       "      <td>2.364945</td>\n",
       "      <td>67375200</td>\n",
       "    </tr>\n",
       "    <tr>\n",
       "      <th>1999-01-28</th>\n",
       "      <td>2.552084</td>\n",
       "      <td>2.53125</td>\n",
       "      <td>2.510417</td>\n",
       "      <td>2.546875</td>\n",
       "      <td>2.364945</td>\n",
       "      <td>67375200</td>\n",
       "    </tr>\n",
       "  </tbody>\n",
       "</table>\n",
       "</div>"
      ],
      "text/plain": [
       "                Open     High       Low     Close  Adj Close    Volume\n",
       "Date                                                                  \n",
       "1999-01-22  2.552084  2.53125  2.510417  2.546875   2.364945  67375200\n",
       "1999-01-25  2.552084  2.53125  2.510417  2.546875   2.364945  67375200\n",
       "1999-01-26  2.552084  2.53125  2.510417  2.546875   2.364945  67375200\n",
       "1999-01-27  2.552084  2.53125  2.510417  2.546875   2.364945  67375200\n",
       "1999-01-28  2.552084  2.53125  2.510417  2.546875   2.364945  67375200"
      ]
     },
     "execution_count": 54,
     "metadata": {},
     "output_type": "execute_result"
    }
   ],
   "source": [
    "(nvda.groupby(key).transform(\"max\") - nvda.groupby(key).transform(\"min\")).head()"
   ]
  },
  {
>>>>>>> ZeweiChu/master
   "cell_type": "markdown",
   "metadata": {},
   "source": [
    "### concat, merge, join\n",
    "### 2017七月在线 机器学习线上集训 julyedu.com\n",
    "by 褚则伟 "
   ]
  },
  {
<<<<<<< HEAD
=======
   "cell_type": "code",
   "execution_count": 55,
   "metadata": {},
   "outputs": [
    {
     "name": "stdout",
     "output_type": "stream",
     "text": [
      "           apts    cars\n",
      "Shanghai  55000  200000\n",
      "Beijing   60000  300000\n"
     ]
    }
   ],
   "source": [
    "df1 = pd.DataFrame({'apts': [55000, 60000],\n",
    "                   'cars': [200000, 300000],},\n",
    "                  index = ['Shanghai', 'Beijing'])\n",
    "print(df1)"
   ]
  },
  {
   "cell_type": "code",
   "execution_count": 57,
   "metadata": {},
   "outputs": [
    {
     "name": "stdout",
     "output_type": "stream",
     "text": [
      "           apts    cars\n",
      "Hangzhou  25000  150000\n",
      "Najing    20000  120000\n"
     ]
    }
   ],
   "source": [
    "df2 = pd.DataFrame({'apts': [25000, 20000],\n",
    "                   'cars': [150000, 120000],},\n",
    "                  index = ['Hangzhou', 'Najing'])\n",
    "print(df2)"
   ]
  },
  {
   "cell_type": "code",
   "execution_count": 62,
   "metadata": {},
   "outputs": [
    {
     "name": "stdout",
     "output_type": "stream",
     "text": [
      "            apts    cars\n",
      "Guangzhou  30000  180000\n",
      "Chongqing  10000  100000\n"
     ]
    }
   ],
   "source": [
    "df3 = pd.DataFrame({'apts': [30000, 10000],\n",
    "                   'cars': [180000, 100000],},\n",
    "                  index = ['Guangzhou', 'Chongqing'])\n",
    "print(df3)"
   ]
  },
  {
>>>>>>> ZeweiChu/master
   "cell_type": "markdown",
   "metadata": {},
   "source": [
    "### concatenate"
   ]
  },
  {
<<<<<<< HEAD
=======
   "cell_type": "code",
   "execution_count": 63,
   "metadata": {},
   "outputs": [
    {
     "data": {
      "text/html": [
       "<div>\n",
       "<style>\n",
       "    .dataframe thead tr:only-child th {\n",
       "        text-align: right;\n",
       "    }\n",
       "\n",
       "    .dataframe thead th {\n",
       "        text-align: left;\n",
       "    }\n",
       "\n",
       "    .dataframe tbody tr th {\n",
       "        vertical-align: top;\n",
       "    }\n",
       "</style>\n",
       "<table border=\"1\" class=\"dataframe\">\n",
       "  <thead>\n",
       "    <tr style=\"text-align: right;\">\n",
       "      <th></th>\n",
       "      <th>apts</th>\n",
       "      <th>cars</th>\n",
       "    </tr>\n",
       "  </thead>\n",
       "  <tbody>\n",
       "    <tr>\n",
       "      <th>Shanghai</th>\n",
       "      <td>55000</td>\n",
       "      <td>200000</td>\n",
       "    </tr>\n",
       "    <tr>\n",
       "      <th>Beijing</th>\n",
       "      <td>60000</td>\n",
       "      <td>300000</td>\n",
       "    </tr>\n",
       "    <tr>\n",
       "      <th>Hangzhou</th>\n",
       "      <td>25000</td>\n",
       "      <td>150000</td>\n",
       "    </tr>\n",
       "    <tr>\n",
       "      <th>Najing</th>\n",
       "      <td>20000</td>\n",
       "      <td>120000</td>\n",
       "    </tr>\n",
       "    <tr>\n",
       "      <th>Guangzhou</th>\n",
       "      <td>30000</td>\n",
       "      <td>180000</td>\n",
       "    </tr>\n",
       "    <tr>\n",
       "      <th>Chongqing</th>\n",
       "      <td>10000</td>\n",
       "      <td>100000</td>\n",
       "    </tr>\n",
       "  </tbody>\n",
       "</table>\n",
       "</div>"
      ],
      "text/plain": [
       "            apts    cars\n",
       "Shanghai   55000  200000\n",
       "Beijing    60000  300000\n",
       "Hangzhou   25000  150000\n",
       "Najing     20000  120000\n",
       "Guangzhou  30000  180000\n",
       "Chongqing  10000  100000"
      ]
     },
     "execution_count": 63,
     "metadata": {},
     "output_type": "execute_result"
    }
   ],
   "source": [
    "result = pd.concat([df1, df2, df3])\n",
    "result"
   ]
  },
  {
>>>>>>> ZeweiChu/master
   "cell_type": "markdown",
   "metadata": {},
   "source": [
    "在concatenate的时候可以指定keys，这样可以给每一个部分加上一个Key。\n",
    "\n",
    "以下的例子就构造了一个hierarchical index。"
   ]
  },
  {
<<<<<<< HEAD
=======
   "cell_type": "code",
   "execution_count": 64,
   "metadata": {},
   "outputs": [
    {
     "data": {
      "text/html": [
       "<div>\n",
       "<style>\n",
       "    .dataframe thead tr:only-child th {\n",
       "        text-align: right;\n",
       "    }\n",
       "\n",
       "    .dataframe thead th {\n",
       "        text-align: left;\n",
       "    }\n",
       "\n",
       "    .dataframe tbody tr th {\n",
       "        vertical-align: top;\n",
       "    }\n",
       "</style>\n",
       "<table border=\"1\" class=\"dataframe\">\n",
       "  <thead>\n",
       "    <tr style=\"text-align: right;\">\n",
       "      <th></th>\n",
       "      <th></th>\n",
       "      <th>apts</th>\n",
       "      <th>cars</th>\n",
       "    </tr>\n",
       "  </thead>\n",
       "  <tbody>\n",
       "    <tr>\n",
       "      <th rowspan=\"2\" valign=\"top\">x</th>\n",
       "      <th>Shanghai</th>\n",
       "      <td>55000</td>\n",
       "      <td>200000</td>\n",
       "    </tr>\n",
       "    <tr>\n",
       "      <th>Beijing</th>\n",
       "      <td>60000</td>\n",
       "      <td>300000</td>\n",
       "    </tr>\n",
       "    <tr>\n",
       "      <th rowspan=\"2\" valign=\"top\">y</th>\n",
       "      <th>Hangzhou</th>\n",
       "      <td>25000</td>\n",
       "      <td>150000</td>\n",
       "    </tr>\n",
       "    <tr>\n",
       "      <th>Najing</th>\n",
       "      <td>20000</td>\n",
       "      <td>120000</td>\n",
       "    </tr>\n",
       "    <tr>\n",
       "      <th rowspan=\"2\" valign=\"top\">z</th>\n",
       "      <th>Guangzhou</th>\n",
       "      <td>30000</td>\n",
       "      <td>180000</td>\n",
       "    </tr>\n",
       "    <tr>\n",
       "      <th>Chongqing</th>\n",
       "      <td>10000</td>\n",
       "      <td>100000</td>\n",
       "    </tr>\n",
       "  </tbody>\n",
       "</table>\n",
       "</div>"
      ],
      "text/plain": [
       "              apts    cars\n",
       "x Shanghai   55000  200000\n",
       "  Beijing    60000  300000\n",
       "y Hangzhou   25000  150000\n",
       "  Najing     20000  120000\n",
       "z Guangzhou  30000  180000\n",
       "  Chongqing  10000  100000"
      ]
     },
     "execution_count": 64,
     "metadata": {},
     "output_type": "execute_result"
    }
   ],
   "source": [
    "result2 = pd.concat([df1, df2, df3], keys=[\"x\", \"y\", \"z\"])\n",
    "result2"
   ]
  },
  {
   "cell_type": "code",
   "execution_count": 65,
   "metadata": {},
   "outputs": [
    {
     "data": {
      "text/html": [
       "<div>\n",
       "<style>\n",
       "    .dataframe thead tr:only-child th {\n",
       "        text-align: right;\n",
       "    }\n",
       "\n",
       "    .dataframe thead th {\n",
       "        text-align: left;\n",
       "    }\n",
       "\n",
       "    .dataframe tbody tr th {\n",
       "        vertical-align: top;\n",
       "    }\n",
       "</style>\n",
       "<table border=\"1\" class=\"dataframe\">\n",
       "  <thead>\n",
       "    <tr style=\"text-align: right;\">\n",
       "      <th></th>\n",
       "      <th>apts</th>\n",
       "      <th>cars</th>\n",
       "    </tr>\n",
       "  </thead>\n",
       "  <tbody>\n",
       "    <tr>\n",
       "      <th>Hangzhou</th>\n",
       "      <td>25000</td>\n",
       "      <td>150000</td>\n",
       "    </tr>\n",
       "    <tr>\n",
       "      <th>Najing</th>\n",
       "      <td>20000</td>\n",
       "      <td>120000</td>\n",
       "    </tr>\n",
       "  </tbody>\n",
       "</table>\n",
       "</div>"
      ],
      "text/plain": [
       "           apts    cars\n",
       "Hangzhou  25000  150000\n",
       "Najing    20000  120000"
      ]
     },
     "execution_count": 65,
     "metadata": {},
     "output_type": "execute_result"
    }
   ],
   "source": [
    "result2.loc[\"y\"]"
   ]
  },
  {
>>>>>>> ZeweiChu/master
   "cell_type": "markdown",
   "metadata": {
    "collapsed": true
   },
   "source": [
    "如果要换个方向concat，只要声明axis就可以了"
   ]
  },
  {
<<<<<<< HEAD
   "cell_type": "markdown",
   "metadata": {},
   "source": [
    "用inner可以去掉NaN,也就是说如果出现了不匹配的行就会被忽略"
   ]
  },
  {
   "cell_type": "markdown",
   "metadata": {},
   "source": [
    "如果我们只想保留左边部分的index呢"
   ]
  },
  {
   "cell_type": "markdown",
   "metadata": {},
   "source": [
    "右边部分"
=======
   "cell_type": "code",
   "execution_count": 66,
   "metadata": {},
   "outputs": [
    {
     "name": "stdout",
     "output_type": "stream",
     "text": [
      "           salaries\n",
      "Suzhou        10000\n",
      "Beijing       30000\n",
      "Shanghai      30000\n",
      "Guangzhou     20000\n",
      "Tianjin       15000\n"
     ]
    }
   ],
   "source": [
    "df4 = pd.DataFrame({'salaries': [10000, 30000, 30000, 20000, 15000]},\n",
    "                  index = ['Suzhou', 'Beijing', 'Shanghai', 'Guangzhou', 'Tianjin'])\n",
    "print(df4)"
   ]
  },
  {
   "cell_type": "code",
   "execution_count": 67,
   "metadata": {},
   "outputs": [
    {
     "data": {
      "text/html": [
       "<div>\n",
       "<style>\n",
       "    .dataframe thead tr:only-child th {\n",
       "        text-align: right;\n",
       "    }\n",
       "\n",
       "    .dataframe thead th {\n",
       "        text-align: left;\n",
       "    }\n",
       "\n",
       "    .dataframe tbody tr th {\n",
       "        vertical-align: top;\n",
       "    }\n",
       "</style>\n",
       "<table border=\"1\" class=\"dataframe\">\n",
       "  <thead>\n",
       "    <tr style=\"text-align: right;\">\n",
       "      <th></th>\n",
       "      <th>apts</th>\n",
       "      <th>cars</th>\n",
       "      <th>salaries</th>\n",
       "    </tr>\n",
       "  </thead>\n",
       "  <tbody>\n",
       "    <tr>\n",
       "      <th>Shanghai</th>\n",
       "      <td>55000.0</td>\n",
       "      <td>200000.0</td>\n",
       "      <td>NaN</td>\n",
       "    </tr>\n",
       "    <tr>\n",
       "      <th>Beijing</th>\n",
       "      <td>60000.0</td>\n",
       "      <td>300000.0</td>\n",
       "      <td>NaN</td>\n",
       "    </tr>\n",
       "    <tr>\n",
       "      <th>Suzhou</th>\n",
       "      <td>NaN</td>\n",
       "      <td>NaN</td>\n",
       "      <td>10000.0</td>\n",
       "    </tr>\n",
       "    <tr>\n",
       "      <th>Beijing</th>\n",
       "      <td>NaN</td>\n",
       "      <td>NaN</td>\n",
       "      <td>30000.0</td>\n",
       "    </tr>\n",
       "    <tr>\n",
       "      <th>Shanghai</th>\n",
       "      <td>NaN</td>\n",
       "      <td>NaN</td>\n",
       "      <td>30000.0</td>\n",
       "    </tr>\n",
       "    <tr>\n",
       "      <th>Guangzhou</th>\n",
       "      <td>NaN</td>\n",
       "      <td>NaN</td>\n",
       "      <td>20000.0</td>\n",
       "    </tr>\n",
       "    <tr>\n",
       "      <th>Tianjin</th>\n",
       "      <td>NaN</td>\n",
       "      <td>NaN</td>\n",
       "      <td>15000.0</td>\n",
       "    </tr>\n",
       "  </tbody>\n",
       "</table>\n",
       "</div>"
      ],
      "text/plain": [
       "              apts      cars  salaries\n",
       "Shanghai   55000.0  200000.0       NaN\n",
       "Beijing    60000.0  300000.0       NaN\n",
       "Suzhou         NaN       NaN   10000.0\n",
       "Beijing        NaN       NaN   30000.0\n",
       "Shanghai       NaN       NaN   30000.0\n",
       "Guangzhou      NaN       NaN   20000.0\n",
       "Tianjin        NaN       NaN   15000.0"
      ]
     },
     "execution_count": 67,
     "metadata": {},
     "output_type": "execute_result"
    }
   ],
   "source": [
    "pd.concat([df1, df4])"
   ]
  },
  {
   "cell_type": "code",
   "execution_count": 69,
   "metadata": {},
   "outputs": [
    {
     "data": {
      "text/html": [
       "<div>\n",
       "<style>\n",
       "    .dataframe thead tr:only-child th {\n",
       "        text-align: right;\n",
       "    }\n",
       "\n",
       "    .dataframe thead th {\n",
       "        text-align: left;\n",
       "    }\n",
       "\n",
       "    .dataframe tbody tr th {\n",
       "        vertical-align: top;\n",
       "    }\n",
       "</style>\n",
       "<table border=\"1\" class=\"dataframe\">\n",
       "  <thead>\n",
       "    <tr style=\"text-align: right;\">\n",
       "      <th></th>\n",
       "      <th>apts</th>\n",
       "      <th>cars</th>\n",
       "      <th>salaries</th>\n",
       "    </tr>\n",
       "  </thead>\n",
       "  <tbody>\n",
       "    <tr>\n",
       "      <th>Beijing</th>\n",
       "      <td>60000.0</td>\n",
       "      <td>300000.0</td>\n",
       "      <td>30000.0</td>\n",
       "    </tr>\n",
       "    <tr>\n",
       "      <th>Chongqing</th>\n",
       "      <td>10000.0</td>\n",
       "      <td>100000.0</td>\n",
       "      <td>NaN</td>\n",
       "    </tr>\n",
       "    <tr>\n",
       "      <th>Guangzhou</th>\n",
       "      <td>30000.0</td>\n",
       "      <td>180000.0</td>\n",
       "      <td>20000.0</td>\n",
       "    </tr>\n",
       "    <tr>\n",
       "      <th>Hangzhou</th>\n",
       "      <td>25000.0</td>\n",
       "      <td>150000.0</td>\n",
       "      <td>NaN</td>\n",
       "    </tr>\n",
       "    <tr>\n",
       "      <th>Najing</th>\n",
       "      <td>20000.0</td>\n",
       "      <td>120000.0</td>\n",
       "      <td>NaN</td>\n",
       "    </tr>\n",
       "    <tr>\n",
       "      <th>Shanghai</th>\n",
       "      <td>55000.0</td>\n",
       "      <td>200000.0</td>\n",
       "      <td>30000.0</td>\n",
       "    </tr>\n",
       "    <tr>\n",
       "      <th>Suzhou</th>\n",
       "      <td>NaN</td>\n",
       "      <td>NaN</td>\n",
       "      <td>10000.0</td>\n",
       "    </tr>\n",
       "    <tr>\n",
       "      <th>Tianjin</th>\n",
       "      <td>NaN</td>\n",
       "      <td>NaN</td>\n",
       "      <td>15000.0</td>\n",
       "    </tr>\n",
       "  </tbody>\n",
       "</table>\n",
       "</div>"
      ],
      "text/plain": [
       "              apts      cars  salaries\n",
       "Beijing    60000.0  300000.0   30000.0\n",
       "Chongqing  10000.0  100000.0       NaN\n",
       "Guangzhou  30000.0  180000.0   20000.0\n",
       "Hangzhou   25000.0  150000.0       NaN\n",
       "Najing     20000.0  120000.0       NaN\n",
       "Shanghai   55000.0  200000.0   30000.0\n",
       "Suzhou         NaN       NaN   10000.0\n",
       "Tianjin        NaN       NaN   15000.0"
      ]
     },
     "execution_count": 69,
     "metadata": {},
     "output_type": "execute_result"
    }
   ],
   "source": [
    "result3 = pd.concat([result, df4], axis=1)\n",
    "result3"
>>>>>>> ZeweiChu/master
   ]
  },
  {
   "cell_type": "markdown",
   "metadata": {},
   "source": [
<<<<<<< HEAD
    "#### 用[```append```](https://pandas.pydata.org/pandas-docs/stable/generated/pandas.DataFrame.append.html)来做concatenation "
   ]
  },
  {
   "cell_type": "markdown",
   "metadata": {},
   "source": [
    "Series和DataFrame还可以被一起concatenate，这时候Series会先被转成DataFrame然后做Join，因为Series本来就是一个只有一维的DataFrame对吧。"
=======
    "用inner可以去掉NaN,也就是说如果出现了不匹配的行就会被忽略"
   ]
  },
  {
   "cell_type": "code",
   "execution_count": 71,
   "metadata": {},
   "outputs": [
    {
     "data": {
      "text/html": [
       "<div>\n",
       "<style>\n",
       "    .dataframe thead tr:only-child th {\n",
       "        text-align: right;\n",
       "    }\n",
       "\n",
       "    .dataframe thead th {\n",
       "        text-align: left;\n",
       "    }\n",
       "\n",
       "    .dataframe tbody tr th {\n",
       "        vertical-align: top;\n",
       "    }\n",
       "</style>\n",
       "<table border=\"1\" class=\"dataframe\">\n",
       "  <thead>\n",
       "    <tr style=\"text-align: right;\">\n",
       "      <th></th>\n",
       "      <th>apts</th>\n",
       "      <th>cars</th>\n",
       "      <th>salaries</th>\n",
       "    </tr>\n",
       "  </thead>\n",
       "  <tbody>\n",
       "    <tr>\n",
       "      <th>Shanghai</th>\n",
       "      <td>55000</td>\n",
       "      <td>200000</td>\n",
       "      <td>30000</td>\n",
       "    </tr>\n",
       "    <tr>\n",
       "      <th>Beijing</th>\n",
       "      <td>60000</td>\n",
       "      <td>300000</td>\n",
       "      <td>30000</td>\n",
       "    </tr>\n",
       "    <tr>\n",
       "      <th>Guangzhou</th>\n",
       "      <td>30000</td>\n",
       "      <td>180000</td>\n",
       "      <td>20000</td>\n",
       "    </tr>\n",
       "  </tbody>\n",
       "</table>\n",
       "</div>"
      ],
      "text/plain": [
       "            apts    cars  salaries\n",
       "Shanghai   55000  200000     30000\n",
       "Beijing    60000  300000     30000\n",
       "Guangzhou  30000  180000     20000"
      ]
     },
     "execution_count": 71,
     "metadata": {},
     "output_type": "execute_result"
    }
   ],
   "source": [
    "result4 = pd.concat([result, df4], axis=1, join=\"inner\")\n",
    "result4"
>>>>>>> ZeweiChu/master
   ]
  },
  {
   "cell_type": "markdown",
   "metadata": {},
   "source": [
<<<<<<< HEAD
    "下面讲如何append一个row到DataFrame里。"
   ]
  },
  {
   "cell_type": "markdown",
   "metadata": {},
   "source": [
    "### Merge(Join)\n",
    "### 2017七月在线 机器学习线上集训 julyedu.com"
=======
    "如果我们只想保留左边部分的index呢"
   ]
  },
  {
   "cell_type": "code",
   "execution_count": 77,
   "metadata": {},
   "outputs": [
    {
     "data": {
      "text/html": [
       "<div>\n",
       "<style>\n",
       "    .dataframe thead tr:only-child th {\n",
       "        text-align: right;\n",
       "    }\n",
       "\n",
       "    .dataframe thead th {\n",
       "        text-align: left;\n",
       "    }\n",
       "\n",
       "    .dataframe tbody tr th {\n",
       "        vertical-align: top;\n",
       "    }\n",
       "</style>\n",
       "<table border=\"1\" class=\"dataframe\">\n",
       "  <thead>\n",
       "    <tr style=\"text-align: right;\">\n",
       "      <th></th>\n",
       "      <th>apts</th>\n",
       "      <th>cars</th>\n",
       "      <th>salaries</th>\n",
       "    </tr>\n",
       "  </thead>\n",
       "  <tbody>\n",
       "    <tr>\n",
       "      <th>Beijing</th>\n",
       "      <td>60000.0</td>\n",
       "      <td>300000.0</td>\n",
       "      <td>30000.0</td>\n",
       "    </tr>\n",
       "    <tr>\n",
       "      <th>Chongqing</th>\n",
       "      <td>10000.0</td>\n",
       "      <td>100000.0</td>\n",
       "      <td>NaN</td>\n",
       "    </tr>\n",
       "    <tr>\n",
       "      <th>Guangzhou</th>\n",
       "      <td>30000.0</td>\n",
       "      <td>180000.0</td>\n",
       "      <td>20000.0</td>\n",
       "    </tr>\n",
       "    <tr>\n",
       "      <th>Hangzhou</th>\n",
       "      <td>25000.0</td>\n",
       "      <td>150000.0</td>\n",
       "      <td>NaN</td>\n",
       "    </tr>\n",
       "    <tr>\n",
       "      <th>Najing</th>\n",
       "      <td>20000.0</td>\n",
       "      <td>120000.0</td>\n",
       "      <td>NaN</td>\n",
       "    </tr>\n",
       "    <tr>\n",
       "      <th>Shanghai</th>\n",
       "      <td>55000.0</td>\n",
       "      <td>200000.0</td>\n",
       "      <td>30000.0</td>\n",
       "    </tr>\n",
       "    <tr>\n",
       "      <th>Suzhou</th>\n",
       "      <td>NaN</td>\n",
       "      <td>NaN</td>\n",
       "      <td>10000.0</td>\n",
       "    </tr>\n",
       "    <tr>\n",
       "      <th>Tianjin</th>\n",
       "      <td>NaN</td>\n",
       "      <td>NaN</td>\n",
       "      <td>15000.0</td>\n",
       "    </tr>\n",
       "  </tbody>\n",
       "</table>\n",
       "</div>"
      ],
      "text/plain": [
       "              apts      cars  salaries\n",
       "Beijing    60000.0  300000.0   30000.0\n",
       "Chongqing  10000.0  100000.0       NaN\n",
       "Guangzhou  30000.0  180000.0   20000.0\n",
       "Hangzhou   25000.0  150000.0       NaN\n",
       "Najing     20000.0  120000.0       NaN\n",
       "Shanghai   55000.0  200000.0   30000.0\n",
       "Suzhou         NaN       NaN   10000.0\n",
       "Tianjin        NaN       NaN   15000.0"
      ]
     },
     "execution_count": 77,
     "metadata": {},
     "output_type": "execute_result"
    }
   ],
   "source": [
    "result5 = pd.concat([result, df4], axis=1)\n",
    "result5"
>>>>>>> ZeweiChu/master
   ]
  },
  {
   "cell_type": "markdown",
   "metadata": {},
   "source": [
<<<<<<< HEAD
    "#### join on index"
=======
    "右边部分"
>>>>>>> ZeweiChu/master
   ]
  },
  {
   "cell_type": "markdown",
   "metadata": {},
   "source": [
<<<<<<< HEAD
    "也可以用merge来写"
   ]
  },
  {
   "cell_type": "markdown",
   "metadata": {},
   "source": [
    "### bikes project"
   ]
  },
  {
   "cell_type": "markdown",
   "metadata": {},
   "source": [
    "我们先从CSV文件中读取一些数据。\n",
    "\n",
    "bike.csv记录了Montreal自行车路线的数据，具体有7条路线，数据记录了每条自行车路线每天分别有多少人。"
   ]
  },
  {
   "cell_type": "markdown",
   "metadata": {},
   "source": [
    "[```dropna```](https://pandas.pydata.org/pandas-docs/stable/generated/pandas.DataFrame.dropna.html)会删除所有带NA的行"
=======
    "#### 用[```append```](https://pandas.pydata.org/pandas-docs/stable/generated/pandas.DataFrame.append.html)来做concatenation "
   ]
  },
  {
   "cell_type": "code",
   "execution_count": 78,
   "metadata": {
    "scrolled": true
   },
   "outputs": [
    {
     "data": {
      "text/html": [
       "<div>\n",
       "<style>\n",
       "    .dataframe thead tr:only-child th {\n",
       "        text-align: right;\n",
       "    }\n",
       "\n",
       "    .dataframe thead th {\n",
       "        text-align: left;\n",
       "    }\n",
       "\n",
       "    .dataframe tbody tr th {\n",
       "        vertical-align: top;\n",
       "    }\n",
       "</style>\n",
       "<table border=\"1\" class=\"dataframe\">\n",
       "  <thead>\n",
       "    <tr style=\"text-align: right;\">\n",
       "      <th></th>\n",
       "      <th>apts</th>\n",
       "      <th>cars</th>\n",
       "    </tr>\n",
       "  </thead>\n",
       "  <tbody>\n",
       "    <tr>\n",
       "      <th>Shanghai</th>\n",
       "      <td>55000</td>\n",
       "      <td>200000</td>\n",
       "    </tr>\n",
       "    <tr>\n",
       "      <th>Beijing</th>\n",
       "      <td>60000</td>\n",
       "      <td>300000</td>\n",
       "    </tr>\n",
       "    <tr>\n",
       "      <th>Hangzhou</th>\n",
       "      <td>25000</td>\n",
       "      <td>150000</td>\n",
       "    </tr>\n",
       "    <tr>\n",
       "      <th>Najing</th>\n",
       "      <td>20000</td>\n",
       "      <td>120000</td>\n",
       "    </tr>\n",
       "  </tbody>\n",
       "</table>\n",
       "</div>"
      ],
      "text/plain": [
       "           apts    cars\n",
       "Shanghai  55000  200000\n",
       "Beijing   60000  300000\n",
       "Hangzhou  25000  150000\n",
       "Najing    20000  120000"
      ]
     },
     "execution_count": 78,
     "metadata": {},
     "output_type": "execute_result"
    }
   ],
   "source": [
    "df1.append(df2)"
   ]
  },
  {
   "cell_type": "code",
   "execution_count": 79,
   "metadata": {},
   "outputs": [
    {
     "data": {
      "text/html": [
       "<div>\n",
       "<style>\n",
       "    .dataframe thead tr:only-child th {\n",
       "        text-align: right;\n",
       "    }\n",
       "\n",
       "    .dataframe thead th {\n",
       "        text-align: left;\n",
       "    }\n",
       "\n",
       "    .dataframe tbody tr th {\n",
       "        vertical-align: top;\n",
       "    }\n",
       "</style>\n",
       "<table border=\"1\" class=\"dataframe\">\n",
       "  <thead>\n",
       "    <tr style=\"text-align: right;\">\n",
       "      <th></th>\n",
       "      <th>apts</th>\n",
       "      <th>cars</th>\n",
       "      <th>salaries</th>\n",
       "    </tr>\n",
       "  </thead>\n",
       "  <tbody>\n",
       "    <tr>\n",
       "      <th>Shanghai</th>\n",
       "      <td>55000.0</td>\n",
       "      <td>200000.0</td>\n",
       "      <td>NaN</td>\n",
       "    </tr>\n",
       "    <tr>\n",
       "      <th>Beijing</th>\n",
       "      <td>60000.0</td>\n",
       "      <td>300000.0</td>\n",
       "      <td>NaN</td>\n",
       "    </tr>\n",
       "    <tr>\n",
       "      <th>Suzhou</th>\n",
       "      <td>NaN</td>\n",
       "      <td>NaN</td>\n",
       "      <td>10000.0</td>\n",
       "    </tr>\n",
       "    <tr>\n",
       "      <th>Beijing</th>\n",
       "      <td>NaN</td>\n",
       "      <td>NaN</td>\n",
       "      <td>30000.0</td>\n",
       "    </tr>\n",
       "    <tr>\n",
       "      <th>Shanghai</th>\n",
       "      <td>NaN</td>\n",
       "      <td>NaN</td>\n",
       "      <td>30000.0</td>\n",
       "    </tr>\n",
       "    <tr>\n",
       "      <th>Guangzhou</th>\n",
       "      <td>NaN</td>\n",
       "      <td>NaN</td>\n",
       "      <td>20000.0</td>\n",
       "    </tr>\n",
       "    <tr>\n",
       "      <th>Tianjin</th>\n",
       "      <td>NaN</td>\n",
       "      <td>NaN</td>\n",
       "      <td>15000.0</td>\n",
       "    </tr>\n",
       "  </tbody>\n",
       "</table>\n",
       "</div>"
      ],
      "text/plain": [
       "              apts      cars  salaries\n",
       "Shanghai   55000.0  200000.0       NaN\n",
       "Beijing    60000.0  300000.0       NaN\n",
       "Suzhou         NaN       NaN   10000.0\n",
       "Beijing        NaN       NaN   30000.0\n",
       "Shanghai       NaN       NaN   30000.0\n",
       "Guangzhou      NaN       NaN   20000.0\n",
       "Tianjin        NaN       NaN   15000.0"
      ]
     },
     "execution_count": 79,
     "metadata": {},
     "output_type": "execute_result"
    }
   ],
   "source": [
    "df1.append(df4)"
   ]
  },
  {
   "cell_type": "code",
   "execution_count": 80,
   "metadata": {},
   "outputs": [
    {
     "data": {
      "text/html": [
       "<div>\n",
       "<style>\n",
       "    .dataframe thead tr:only-child th {\n",
       "        text-align: right;\n",
       "    }\n",
       "\n",
       "    .dataframe thead th {\n",
       "        text-align: left;\n",
       "    }\n",
       "\n",
       "    .dataframe tbody tr th {\n",
       "        vertical-align: top;\n",
       "    }\n",
       "</style>\n",
       "<table border=\"1\" class=\"dataframe\">\n",
       "  <thead>\n",
       "    <tr style=\"text-align: right;\">\n",
       "      <th></th>\n",
       "      <th>apts</th>\n",
       "      <th>cars</th>\n",
       "    </tr>\n",
       "  </thead>\n",
       "  <tbody>\n",
       "    <tr>\n",
       "      <th>Shanghai</th>\n",
       "      <td>55000</td>\n",
       "      <td>200000</td>\n",
       "    </tr>\n",
       "    <tr>\n",
       "      <th>Beijing</th>\n",
       "      <td>60000</td>\n",
       "      <td>300000</td>\n",
       "    </tr>\n",
       "    <tr>\n",
       "      <th>Hangzhou</th>\n",
       "      <td>25000</td>\n",
       "      <td>150000</td>\n",
       "    </tr>\n",
       "    <tr>\n",
       "      <th>Najing</th>\n",
       "      <td>20000</td>\n",
       "      <td>120000</td>\n",
       "    </tr>\n",
       "    <tr>\n",
       "      <th>Guangzhou</th>\n",
       "      <td>30000</td>\n",
       "      <td>180000</td>\n",
       "    </tr>\n",
       "    <tr>\n",
       "      <th>Chongqing</th>\n",
       "      <td>10000</td>\n",
       "      <td>100000</td>\n",
       "    </tr>\n",
       "  </tbody>\n",
       "</table>\n",
       "</div>"
      ],
      "text/plain": [
       "            apts    cars\n",
       "Shanghai   55000  200000\n",
       "Beijing    60000  300000\n",
       "Hangzhou   25000  150000\n",
       "Najing     20000  120000\n",
       "Guangzhou  30000  180000\n",
       "Chongqing  10000  100000"
      ]
     },
     "execution_count": 80,
     "metadata": {},
     "output_type": "execute_result"
    }
   ],
   "source": [
    "df1.append([df2, df3])"
>>>>>>> ZeweiChu/master
   ]
  },
  {
   "cell_type": "markdown",
   "metadata": {},
   "source": [
<<<<<<< HEAD
    "删太多了，我们只想删掉全部都是NA的行"
   ]
  },
  {
   "cell_type": "markdown",
   "metadata": {},
   "source": [
    "我们数一数每一列有多少数据缺失"
   ]
  },
  {
   "cell_type": "markdown",
   "metadata": {},
   "source": [
    "下面给大家介绍如何填充缺失的数据"
=======
    "Series和DataFrame还可以被一起concatenate，这时候Series会先被转成DataFrame然后做Join，因为Series本来就是一个只有一维的DataFrame对吧。"
   ]
  },
  {
   "cell_type": "code",
   "execution_count": 81,
   "metadata": {},
   "outputs": [
    {
     "name": "stdout",
     "output_type": "stream",
     "text": [
      "Shanghai    60\n",
      "Beijing     50\n",
      "Name: meal, dtype: int64\n"
     ]
    }
   ],
   "source": [
    "s1 = pd.Series([60, 50], index=[\"Shanghai\", \"Beijing\"], name=\"meal\")\n",
    "print(s1)"
   ]
  },
  {
   "cell_type": "code",
   "execution_count": 83,
   "metadata": {},
   "outputs": [
    {
     "data": {
      "text/html": [
       "<div>\n",
       "<style>\n",
       "    .dataframe thead tr:only-child th {\n",
       "        text-align: right;\n",
       "    }\n",
       "\n",
       "    .dataframe thead th {\n",
       "        text-align: left;\n",
       "    }\n",
       "\n",
       "    .dataframe tbody tr th {\n",
       "        vertical-align: top;\n",
       "    }\n",
       "</style>\n",
       "<table border=\"1\" class=\"dataframe\">\n",
       "  <thead>\n",
       "    <tr style=\"text-align: right;\">\n",
       "      <th></th>\n",
       "      <th>apts</th>\n",
       "      <th>cars</th>\n",
       "      <th>meal</th>\n",
       "    </tr>\n",
       "  </thead>\n",
       "  <tbody>\n",
       "    <tr>\n",
       "      <th>Shanghai</th>\n",
       "      <td>55000</td>\n",
       "      <td>200000</td>\n",
       "      <td>60</td>\n",
       "    </tr>\n",
       "    <tr>\n",
       "      <th>Beijing</th>\n",
       "      <td>60000</td>\n",
       "      <td>300000</td>\n",
       "      <td>50</td>\n",
       "    </tr>\n",
       "  </tbody>\n",
       "</table>\n",
       "</div>"
      ],
      "text/plain": [
       "           apts    cars  meal\n",
       "Shanghai  55000  200000    60\n",
       "Beijing   60000  300000    50"
      ]
     },
     "execution_count": 83,
     "metadata": {},
     "output_type": "execute_result"
    }
   ],
   "source": [
    "pd.concat([df1, s1], axis=1)"
>>>>>>> ZeweiChu/master
   ]
  },
  {
   "cell_type": "markdown",
<<<<<<< HEAD
   "metadata": {
    "collapsed": true
   },
   "source": [
    "有了weekday信息之后，我们就可以用上我们前面学过的.groupyby把骑车人数按照weekday分类，然后用aggregate算出每个工作日的骑车人数之和。"
   ]
  },
  {
   "cell_type": "markdown",
   "metadata": {},
   "source": [
    "接下来我们试试能不能把每条路线都加起来，然后算出一天骑自行车出门的人数之和。\n",
    "to_frame可以把一个Series转换成一个DataFrame"
   ]
  },
  {
   "cell_type": "markdown",
   "metadata": {},
   "source": [
    "作个简单的图看一看\n",
    "[plot](https://pandas.pydata.org/pandas-docs/stable/generated/pandas.DataFrame.plot.html)"
   ]
  },
  {
   "cell_type": "markdown",
   "metadata": {
    "collapsed": true
   },
   "source": [
    "### 2017七月在线 机器学习线上集训 julyedu.com\n",
    "\n",
    "### stock project"
=======
   "metadata": {},
   "source": [
    "下面讲如何append一个row到DataFrame里。"
   ]
  },
  {
   "cell_type": "code",
   "execution_count": 84,
   "metadata": {},
   "outputs": [
    {
     "data": {
      "text/plain": [
       "apts    18000\n",
       "cars    12000\n",
       "Name: Xiamen, dtype: int64"
      ]
     },
     "execution_count": 84,
     "metadata": {},
     "output_type": "execute_result"
    }
   ],
   "source": [
    "s2 = pd.Series([18000, 12000], index=[\"apts\", \"cars\"], name=\"Xiamen\")\n",
    "s2"
   ]
  },
  {
   "cell_type": "code",
   "execution_count": 85,
   "metadata": {},
   "outputs": [
    {
     "data": {
      "text/html": [
       "<div>\n",
       "<style>\n",
       "    .dataframe thead tr:only-child th {\n",
       "        text-align: right;\n",
       "    }\n",
       "\n",
       "    .dataframe thead th {\n",
       "        text-align: left;\n",
       "    }\n",
       "\n",
       "    .dataframe tbody tr th {\n",
       "        vertical-align: top;\n",
       "    }\n",
       "</style>\n",
       "<table border=\"1\" class=\"dataframe\">\n",
       "  <thead>\n",
       "    <tr style=\"text-align: right;\">\n",
       "      <th></th>\n",
       "      <th>apts</th>\n",
       "      <th>cars</th>\n",
       "    </tr>\n",
       "  </thead>\n",
       "  <tbody>\n",
       "    <tr>\n",
       "      <th>Shanghai</th>\n",
       "      <td>55000</td>\n",
       "      <td>200000</td>\n",
       "    </tr>\n",
       "    <tr>\n",
       "      <th>Beijing</th>\n",
       "      <td>60000</td>\n",
       "      <td>300000</td>\n",
       "    </tr>\n",
       "    <tr>\n",
       "      <th>Xiamen</th>\n",
       "      <td>18000</td>\n",
       "      <td>12000</td>\n",
       "    </tr>\n",
       "  </tbody>\n",
       "</table>\n",
       "</div>"
      ],
      "text/plain": [
       "           apts    cars\n",
       "Shanghai  55000  200000\n",
       "Beijing   60000  300000\n",
       "Xiamen    18000   12000"
      ]
     },
     "execution_count": 85,
     "metadata": {},
     "output_type": "execute_result"
    }
   ],
   "source": [
    "df1.append(s2)"
   ]
  },
  {
   "cell_type": "code",
   "execution_count": 87,
   "metadata": {},
   "outputs": [
    {
     "data": {
      "text/plain": [
       "pandas.core.frame.DataFrame"
      ]
     },
     "execution_count": 87,
     "metadata": {},
     "output_type": "execute_result"
    }
   ],
   "source": [
    "type(s2.to_frame())"
>>>>>>> ZeweiChu/master
   ]
  },
  {
   "cell_type": "markdown",
   "metadata": {},
   "source": [
<<<<<<< HEAD
    "[stock analysis](https://ntguardian.wordpress.com/2016/09/19/introduction-stock-market-data-python-1/)"
   ]
  },
  {
   "cell_type": "markdown",
   "metadata": {},
   "source": [
    "```shift```这个function可以帮我们移动时间"
   ]
  },
  {
   "cell_type": "markdown",
   "metadata": {},
   "source": [
    "datetime indexing"
   ]
  },
  {
   "cell_type": "markdown",
   "metadata": {},
   "source": [
    "### 下面我们试试能不能把日K图变成月K图"
=======
    "### Merge(Join)\n",
    "### 2017七月在线 机器学习线上集训 julyedu.com"
   ]
  },
  {
   "cell_type": "code",
   "execution_count": 91,
   "metadata": {},
   "outputs": [
    {
     "data": {
      "text/html": [
       "<div>\n",
       "<style>\n",
       "    .dataframe thead tr:only-child th {\n",
       "        text-align: right;\n",
       "    }\n",
       "\n",
       "    .dataframe thead th {\n",
       "        text-align: left;\n",
       "    }\n",
       "\n",
       "    .dataframe tbody tr th {\n",
       "        vertical-align: top;\n",
       "    }\n",
       "</style>\n",
       "<table border=\"1\" class=\"dataframe\">\n",
       "  <thead>\n",
       "    <tr style=\"text-align: right;\">\n",
       "      <th></th>\n",
       "      <th>city</th>\n",
       "      <th>apts</th>\n",
       "      <th>cars</th>\n",
       "    </tr>\n",
       "  </thead>\n",
       "  <tbody>\n",
       "    <tr>\n",
       "      <th>0</th>\n",
       "      <td>Shanghai</td>\n",
       "      <td>55000</td>\n",
       "      <td>200000</td>\n",
       "    </tr>\n",
       "    <tr>\n",
       "      <th>1</th>\n",
       "      <td>Beijing</td>\n",
       "      <td>60000</td>\n",
       "      <td>300000</td>\n",
       "    </tr>\n",
       "    <tr>\n",
       "      <th>2</th>\n",
       "      <td>Hangzhou</td>\n",
       "      <td>25000</td>\n",
       "      <td>150000</td>\n",
       "    </tr>\n",
       "    <tr>\n",
       "      <th>3</th>\n",
       "      <td>Najing</td>\n",
       "      <td>20000</td>\n",
       "      <td>120000</td>\n",
       "    </tr>\n",
       "    <tr>\n",
       "      <th>4</th>\n",
       "      <td>Guangzhou</td>\n",
       "      <td>30000</td>\n",
       "      <td>180000</td>\n",
       "    </tr>\n",
       "    <tr>\n",
       "      <th>5</th>\n",
       "      <td>Chongqing</td>\n",
       "      <td>10000</td>\n",
       "      <td>100000</td>\n",
       "    </tr>\n",
       "  </tbody>\n",
       "</table>\n",
       "</div>"
      ],
      "text/plain": [
       "        city   apts    cars\n",
       "0   Shanghai  55000  200000\n",
       "1    Beijing  60000  300000\n",
       "2   Hangzhou  25000  150000\n",
       "3     Najing  20000  120000\n",
       "4  Guangzhou  30000  180000\n",
       "5  Chongqing  10000  100000"
      ]
     },
     "execution_count": 91,
     "metadata": {},
     "output_type": "execute_result"
    }
   ],
   "source": [
    "result = result.reset_index().rename(columns={\"index\": \"city\"})\n",
    "result"
   ]
  },
  {
   "cell_type": "code",
   "execution_count": 94,
   "metadata": {},
   "outputs": [
    {
     "data": {
      "text/html": [
       "<div>\n",
       "<style>\n",
       "    .dataframe thead tr:only-child th {\n",
       "        text-align: right;\n",
       "    }\n",
       "\n",
       "    .dataframe thead th {\n",
       "        text-align: left;\n",
       "    }\n",
       "\n",
       "    .dataframe tbody tr th {\n",
       "        vertical-align: top;\n",
       "    }\n",
       "</style>\n",
       "<table border=\"1\" class=\"dataframe\">\n",
       "  <thead>\n",
       "    <tr style=\"text-align: right;\">\n",
       "      <th></th>\n",
       "      <th>city</th>\n",
       "      <th>salaries</th>\n",
       "    </tr>\n",
       "  </thead>\n",
       "  <tbody>\n",
       "    <tr>\n",
       "      <th>0</th>\n",
       "      <td>Suzhou</td>\n",
       "      <td>10000</td>\n",
       "    </tr>\n",
       "    <tr>\n",
       "      <th>1</th>\n",
       "      <td>Beijing</td>\n",
       "      <td>30000</td>\n",
       "    </tr>\n",
       "    <tr>\n",
       "      <th>2</th>\n",
       "      <td>Shanghai</td>\n",
       "      <td>30000</td>\n",
       "    </tr>\n",
       "    <tr>\n",
       "      <th>3</th>\n",
       "      <td>Guangzhou</td>\n",
       "      <td>20000</td>\n",
       "    </tr>\n",
       "    <tr>\n",
       "      <th>4</th>\n",
       "      <td>Tianjin</td>\n",
       "      <td>15000</td>\n",
       "    </tr>\n",
       "  </tbody>\n",
       "</table>\n",
       "</div>"
      ],
      "text/plain": [
       "        city  salaries\n",
       "0     Suzhou     10000\n",
       "1    Beijing     30000\n",
       "2   Shanghai     30000\n",
       "3  Guangzhou     20000\n",
       "4    Tianjin     15000"
      ]
     },
     "execution_count": 94,
     "metadata": {},
     "output_type": "execute_result"
    }
   ],
   "source": [
    "df4 = df4.reset_index().rename(columns={\"index\":\"city\"})\n",
    "df4"
   ]
  },
  {
   "cell_type": "code",
   "execution_count": 96,
   "metadata": {
    "scrolled": true
   },
   "outputs": [
    {
     "data": {
      "text/html": [
       "<div>\n",
       "<style>\n",
       "    .dataframe thead tr:only-child th {\n",
       "        text-align: right;\n",
       "    }\n",
       "\n",
       "    .dataframe thead th {\n",
       "        text-align: left;\n",
       "    }\n",
       "\n",
       "    .dataframe tbody tr th {\n",
       "        vertical-align: top;\n",
       "    }\n",
       "</style>\n",
       "<table border=\"1\" class=\"dataframe\">\n",
       "  <thead>\n",
       "    <tr style=\"text-align: right;\">\n",
       "      <th></th>\n",
       "      <th>city</th>\n",
       "      <th>apts</th>\n",
       "      <th>cars</th>\n",
       "      <th>salaries</th>\n",
       "    </tr>\n",
       "  </thead>\n",
       "  <tbody>\n",
       "    <tr>\n",
       "      <th>0</th>\n",
       "      <td>Shanghai</td>\n",
       "      <td>55000</td>\n",
       "      <td>200000</td>\n",
       "      <td>30000</td>\n",
       "    </tr>\n",
       "    <tr>\n",
       "      <th>1</th>\n",
       "      <td>Beijing</td>\n",
       "      <td>60000</td>\n",
       "      <td>300000</td>\n",
       "      <td>30000</td>\n",
       "    </tr>\n",
       "    <tr>\n",
       "      <th>2</th>\n",
       "      <td>Guangzhou</td>\n",
       "      <td>30000</td>\n",
       "      <td>180000</td>\n",
       "      <td>20000</td>\n",
       "    </tr>\n",
       "  </tbody>\n",
       "</table>\n",
       "</div>"
      ],
      "text/plain": [
       "        city   apts    cars  salaries\n",
       "0   Shanghai  55000  200000     30000\n",
       "1    Beijing  60000  300000     30000\n",
       "2  Guangzhou  30000  180000     20000"
      ]
     },
     "execution_count": 96,
     "metadata": {},
     "output_type": "execute_result"
    }
   ],
   "source": [
    "pd.merge(result, df4, on=\"city\")"
   ]
  },
  {
   "cell_type": "code",
   "execution_count": 99,
   "metadata": {},
   "outputs": [
    {
     "data": {
      "text/html": [
       "<div>\n",
       "<style>\n",
       "    .dataframe thead tr:only-child th {\n",
       "        text-align: right;\n",
       "    }\n",
       "\n",
       "    .dataframe thead th {\n",
       "        text-align: left;\n",
       "    }\n",
       "\n",
       "    .dataframe tbody tr th {\n",
       "        vertical-align: top;\n",
       "    }\n",
       "</style>\n",
       "<table border=\"1\" class=\"dataframe\">\n",
       "  <thead>\n",
       "    <tr style=\"text-align: right;\">\n",
       "      <th></th>\n",
       "      <th>city</th>\n",
       "      <th>apts</th>\n",
       "      <th>cars</th>\n",
       "      <th>salaries</th>\n",
       "    </tr>\n",
       "  </thead>\n",
       "  <tbody>\n",
       "    <tr>\n",
       "      <th>0</th>\n",
       "      <td>Shanghai</td>\n",
       "      <td>55000.0</td>\n",
       "      <td>200000.0</td>\n",
       "      <td>30000</td>\n",
       "    </tr>\n",
       "    <tr>\n",
       "      <th>1</th>\n",
       "      <td>Beijing</td>\n",
       "      <td>60000.0</td>\n",
       "      <td>300000.0</td>\n",
       "      <td>30000</td>\n",
       "    </tr>\n",
       "    <tr>\n",
       "      <th>2</th>\n",
       "      <td>Guangzhou</td>\n",
       "      <td>30000.0</td>\n",
       "      <td>180000.0</td>\n",
       "      <td>20000</td>\n",
       "    </tr>\n",
       "    <tr>\n",
       "      <th>3</th>\n",
       "      <td>Suzhou</td>\n",
       "      <td>NaN</td>\n",
       "      <td>NaN</td>\n",
       "      <td>10000</td>\n",
       "    </tr>\n",
       "    <tr>\n",
       "      <th>4</th>\n",
       "      <td>Tianjin</td>\n",
       "      <td>NaN</td>\n",
       "      <td>NaN</td>\n",
       "      <td>15000</td>\n",
       "    </tr>\n",
       "  </tbody>\n",
       "</table>\n",
       "</div>"
      ],
      "text/plain": [
       "        city     apts      cars  salaries\n",
       "0   Shanghai  55000.0  200000.0     30000\n",
       "1    Beijing  60000.0  300000.0     30000\n",
       "2  Guangzhou  30000.0  180000.0     20000\n",
       "3     Suzhou      NaN       NaN     10000\n",
       "4    Tianjin      NaN       NaN     15000"
      ]
     },
     "execution_count": 99,
     "metadata": {},
     "output_type": "execute_result"
    }
   ],
   "source": [
    "pd.merge(result, df4, on=\"city\", how=\"right\")"
>>>>>>> ZeweiChu/master
   ]
  },
  {
   "cell_type": "markdown",
   "metadata": {},
   "source": [
<<<<<<< HEAD
    "## 特征处理\n"
   ]
  },
  {
   "cell_type": "markdown",
   "metadata": {},
   "source": [
    "更多资料参考寒小阳的教程[link](https://github.com/HanXiaoyang/Feature_Engineering_and_XGBoost_Parameter_Tuning/blob/master/Feature%20Engineering.ipynb)"
=======
    "#### join on index"
   ]
  },
  {
   "cell_type": "code",
   "execution_count": 100,
   "metadata": {},
   "outputs": [
    {
     "data": {
      "text/html": [
       "<div>\n",
       "<style>\n",
       "    .dataframe thead tr:only-child th {\n",
       "        text-align: right;\n",
       "    }\n",
       "\n",
       "    .dataframe thead th {\n",
       "        text-align: left;\n",
       "    }\n",
       "\n",
       "    .dataframe tbody tr th {\n",
       "        vertical-align: top;\n",
       "    }\n",
       "</style>\n",
       "<table border=\"1\" class=\"dataframe\">\n",
       "  <thead>\n",
       "    <tr style=\"text-align: right;\">\n",
       "      <th></th>\n",
       "      <th>apts</th>\n",
       "      <th>cars</th>\n",
       "    </tr>\n",
       "  </thead>\n",
       "  <tbody>\n",
       "    <tr>\n",
       "      <th>Shanghai</th>\n",
       "      <td>55000</td>\n",
       "      <td>200000</td>\n",
       "    </tr>\n",
       "    <tr>\n",
       "      <th>Beijing</th>\n",
       "      <td>60000</td>\n",
       "      <td>300000</td>\n",
       "    </tr>\n",
       "  </tbody>\n",
       "</table>\n",
       "</div>"
      ],
      "text/plain": [
       "           apts    cars\n",
       "Shanghai  55000  200000\n",
       "Beijing   60000  300000"
      ]
     },
     "execution_count": 100,
     "metadata": {},
     "output_type": "execute_result"
    }
   ],
   "source": [
    "df1"
   ]
  },
  {
   "cell_type": "code",
   "execution_count": 102,
   "metadata": {},
   "outputs": [
    {
     "data": {
      "text/html": [
       "<div>\n",
       "<style>\n",
       "    .dataframe thead tr:only-child th {\n",
       "        text-align: right;\n",
       "    }\n",
       "\n",
       "    .dataframe thead th {\n",
       "        text-align: left;\n",
       "    }\n",
       "\n",
       "    .dataframe tbody tr th {\n",
       "        vertical-align: top;\n",
       "    }\n",
       "</style>\n",
       "<table border=\"1\" class=\"dataframe\">\n",
       "  <thead>\n",
       "    <tr style=\"text-align: right;\">\n",
       "      <th></th>\n",
       "      <th>salaries</th>\n",
       "    </tr>\n",
       "    <tr>\n",
       "      <th>city</th>\n",
       "      <th></th>\n",
       "    </tr>\n",
       "  </thead>\n",
       "  <tbody>\n",
       "    <tr>\n",
       "      <th>Suzhou</th>\n",
       "      <td>10000</td>\n",
       "    </tr>\n",
       "    <tr>\n",
       "      <th>Beijing</th>\n",
       "      <td>30000</td>\n",
       "    </tr>\n",
       "    <tr>\n",
       "      <th>Shanghai</th>\n",
       "      <td>30000</td>\n",
       "    </tr>\n",
       "    <tr>\n",
       "      <th>Guangzhou</th>\n",
       "      <td>20000</td>\n",
       "    </tr>\n",
       "    <tr>\n",
       "      <th>Tianjin</th>\n",
       "      <td>15000</td>\n",
       "    </tr>\n",
       "  </tbody>\n",
       "</table>\n",
       "</div>"
      ],
      "text/plain": [
       "           salaries\n",
       "city               \n",
       "Suzhou        10000\n",
       "Beijing       30000\n",
       "Shanghai      30000\n",
       "Guangzhou     20000\n",
       "Tianjin       15000"
      ]
     },
     "execution_count": 102,
     "metadata": {},
     "output_type": "execute_result"
    }
   ],
   "source": [
    "df4 = df4.set_index(\"city\")\n",
    "df4"
   ]
  },
  {
   "cell_type": "code",
   "execution_count": 103,
   "metadata": {
    "scrolled": true
   },
   "outputs": [
    {
     "data": {
      "text/html": [
       "<div>\n",
       "<style>\n",
       "    .dataframe thead tr:only-child th {\n",
       "        text-align: right;\n",
       "    }\n",
       "\n",
       "    .dataframe thead th {\n",
       "        text-align: left;\n",
       "    }\n",
       "\n",
       "    .dataframe tbody tr th {\n",
       "        vertical-align: top;\n",
       "    }\n",
       "</style>\n",
       "<table border=\"1\" class=\"dataframe\">\n",
       "  <thead>\n",
       "    <tr style=\"text-align: right;\">\n",
       "      <th></th>\n",
       "      <th>apts</th>\n",
       "      <th>cars</th>\n",
       "      <th>salaries</th>\n",
       "    </tr>\n",
       "  </thead>\n",
       "  <tbody>\n",
       "    <tr>\n",
       "      <th>Shanghai</th>\n",
       "      <td>55000</td>\n",
       "      <td>200000</td>\n",
       "      <td>30000</td>\n",
       "    </tr>\n",
       "    <tr>\n",
       "      <th>Beijing</th>\n",
       "      <td>60000</td>\n",
       "      <td>300000</td>\n",
       "      <td>30000</td>\n",
       "    </tr>\n",
       "  </tbody>\n",
       "</table>\n",
       "</div>"
      ],
      "text/plain": [
       "           apts    cars  salaries\n",
       "Shanghai  55000  200000     30000\n",
       "Beijing   60000  300000     30000"
      ]
     },
     "execution_count": 103,
     "metadata": {},
     "output_type": "execute_result"
    }
   ],
   "source": [
    "df1.join(df4)"
   ]
  },
  {
   "cell_type": "code",
   "execution_count": 107,
   "metadata": {},
   "outputs": [
    {
     "data": {
      "text/html": [
       "<div>\n",
       "<style>\n",
       "    .dataframe thead tr:only-child th {\n",
       "        text-align: right;\n",
       "    }\n",
       "\n",
       "    .dataframe thead th {\n",
       "        text-align: left;\n",
       "    }\n",
       "\n",
       "    .dataframe tbody tr th {\n",
       "        vertical-align: top;\n",
       "    }\n",
       "</style>\n",
       "<table border=\"1\" class=\"dataframe\">\n",
       "  <thead>\n",
       "    <tr style=\"text-align: right;\">\n",
       "      <th></th>\n",
       "      <th>apts</th>\n",
       "      <th>cars</th>\n",
       "      <th>salaries</th>\n",
       "    </tr>\n",
       "    <tr>\n",
       "      <th>city</th>\n",
       "      <th></th>\n",
       "      <th></th>\n",
       "      <th></th>\n",
       "    </tr>\n",
       "  </thead>\n",
       "  <tbody>\n",
       "    <tr>\n",
       "      <th>Suzhou</th>\n",
       "      <td>NaN</td>\n",
       "      <td>NaN</td>\n",
       "      <td>10000</td>\n",
       "    </tr>\n",
       "    <tr>\n",
       "      <th>Beijing</th>\n",
       "      <td>60000.0</td>\n",
       "      <td>300000.0</td>\n",
       "      <td>30000</td>\n",
       "    </tr>\n",
       "    <tr>\n",
       "      <th>Shanghai</th>\n",
       "      <td>55000.0</td>\n",
       "      <td>200000.0</td>\n",
       "      <td>30000</td>\n",
       "    </tr>\n",
       "    <tr>\n",
       "      <th>Guangzhou</th>\n",
       "      <td>NaN</td>\n",
       "      <td>NaN</td>\n",
       "      <td>20000</td>\n",
       "    </tr>\n",
       "    <tr>\n",
       "      <th>Tianjin</th>\n",
       "      <td>NaN</td>\n",
       "      <td>NaN</td>\n",
       "      <td>15000</td>\n",
       "    </tr>\n",
       "  </tbody>\n",
       "</table>\n",
       "</div>"
      ],
      "text/plain": [
       "              apts      cars  salaries\n",
       "city                                  \n",
       "Suzhou         NaN       NaN     10000\n",
       "Beijing    60000.0  300000.0     30000\n",
       "Shanghai   55000.0  200000.0     30000\n",
       "Guangzhou      NaN       NaN     20000\n",
       "Tianjin        NaN       NaN     15000"
      ]
     },
     "execution_count": 107,
     "metadata": {},
     "output_type": "execute_result"
    }
   ],
   "source": [
    "df1.join(df4, how=\"right\")"
   ]
  },
  {
   "cell_type": "markdown",
   "metadata": {},
   "source": [
    "也可以用merge来写"
   ]
  },
  {
   "cell_type": "code",
   "execution_count": 110,
   "metadata": {},
   "outputs": [
    {
     "data": {
      "text/html": [
       "<div>\n",
       "<style>\n",
       "    .dataframe thead tr:only-child th {\n",
       "        text-align: right;\n",
       "    }\n",
       "\n",
       "    .dataframe thead th {\n",
       "        text-align: left;\n",
       "    }\n",
       "\n",
       "    .dataframe tbody tr th {\n",
       "        vertical-align: top;\n",
       "    }\n",
       "</style>\n",
       "<table border=\"1\" class=\"dataframe\">\n",
       "  <thead>\n",
       "    <tr style=\"text-align: right;\">\n",
       "      <th></th>\n",
       "      <th>apts</th>\n",
       "      <th>cars</th>\n",
       "      <th>salaries</th>\n",
       "    </tr>\n",
       "  </thead>\n",
       "  <tbody>\n",
       "    <tr>\n",
       "      <th>Beijing</th>\n",
       "      <td>60000.0</td>\n",
       "      <td>300000.0</td>\n",
       "      <td>30000</td>\n",
       "    </tr>\n",
       "    <tr>\n",
       "      <th>Guangzhou</th>\n",
       "      <td>NaN</td>\n",
       "      <td>NaN</td>\n",
       "      <td>20000</td>\n",
       "    </tr>\n",
       "    <tr>\n",
       "      <th>Shanghai</th>\n",
       "      <td>55000.0</td>\n",
       "      <td>200000.0</td>\n",
       "      <td>30000</td>\n",
       "    </tr>\n",
       "    <tr>\n",
       "      <th>Suzhou</th>\n",
       "      <td>NaN</td>\n",
       "      <td>NaN</td>\n",
       "      <td>10000</td>\n",
       "    </tr>\n",
       "    <tr>\n",
       "      <th>Tianjin</th>\n",
       "      <td>NaN</td>\n",
       "      <td>NaN</td>\n",
       "      <td>15000</td>\n",
       "    </tr>\n",
       "  </tbody>\n",
       "</table>\n",
       "</div>"
      ],
      "text/plain": [
       "              apts      cars  salaries\n",
       "Beijing    60000.0  300000.0     30000\n",
       "Guangzhou      NaN       NaN     20000\n",
       "Shanghai   55000.0  200000.0     30000\n",
       "Suzhou         NaN       NaN     10000\n",
       "Tianjin        NaN       NaN     15000"
      ]
     },
     "execution_count": 110,
     "metadata": {},
     "output_type": "execute_result"
    }
   ],
   "source": [
    "pd.merge(df1, df4, left_index=True, right_index=True, how=\"outer\")"
   ]
  },
  {
   "cell_type": "markdown",
   "metadata": {},
   "source": [
    "### bikes project"
   ]
  },
  {
   "cell_type": "markdown",
   "metadata": {},
   "source": [
    "我们先从CSV文件中读取一些数据。\n",
    "\n",
    "bike.csv记录了Montreal自行车路线的数据，具体有7条路线，数据记录了每条自行车路线每天分别有多少人。"
   ]
  },
  {
   "cell_type": "code",
   "execution_count": 117,
   "metadata": {},
   "outputs": [
    {
     "data": {
      "text/html": [
       "<div>\n",
       "<style>\n",
       "    .dataframe thead tr:only-child th {\n",
       "        text-align: right;\n",
       "    }\n",
       "\n",
       "    .dataframe thead th {\n",
       "        text-align: left;\n",
       "    }\n",
       "\n",
       "    .dataframe tbody tr th {\n",
       "        vertical-align: top;\n",
       "    }\n",
       "</style>\n",
       "<table border=\"1\" class=\"dataframe\">\n",
       "  <thead>\n",
       "    <tr style=\"text-align: right;\">\n",
       "      <th></th>\n",
       "      <th>Berri 1</th>\n",
       "      <th>Brébeuf (données non disponibles)</th>\n",
       "      <th>Côte-Sainte-Catherine</th>\n",
       "      <th>Maisonneuve 1</th>\n",
       "      <th>Maisonneuve 2</th>\n",
       "      <th>du Parc</th>\n",
       "      <th>Pierre-Dupuy</th>\n",
       "      <th>Rachel1</th>\n",
       "      <th>St-Urbain (données non disponibles)</th>\n",
       "    </tr>\n",
       "    <tr>\n",
       "      <th>Date</th>\n",
       "      <th></th>\n",
       "      <th></th>\n",
       "      <th></th>\n",
       "      <th></th>\n",
       "      <th></th>\n",
       "      <th></th>\n",
       "      <th></th>\n",
       "      <th></th>\n",
       "      <th></th>\n",
       "    </tr>\n",
       "  </thead>\n",
       "  <tbody>\n",
       "    <tr>\n",
       "      <th>2012-01-01</th>\n",
       "      <td>35</td>\n",
       "      <td>NaN</td>\n",
       "      <td>0</td>\n",
       "      <td>38</td>\n",
       "      <td>51</td>\n",
       "      <td>26</td>\n",
       "      <td>10</td>\n",
       "      <td>16</td>\n",
       "      <td>NaN</td>\n",
       "    </tr>\n",
       "    <tr>\n",
       "      <th>2012-01-02</th>\n",
       "      <td>83</td>\n",
       "      <td>NaN</td>\n",
       "      <td>1</td>\n",
       "      <td>68</td>\n",
       "      <td>153</td>\n",
       "      <td>53</td>\n",
       "      <td>6</td>\n",
       "      <td>43</td>\n",
       "      <td>NaN</td>\n",
       "    </tr>\n",
       "    <tr>\n",
       "      <th>2012-01-03</th>\n",
       "      <td>135</td>\n",
       "      <td>NaN</td>\n",
       "      <td>2</td>\n",
       "      <td>104</td>\n",
       "      <td>248</td>\n",
       "      <td>89</td>\n",
       "      <td>3</td>\n",
       "      <td>58</td>\n",
       "      <td>NaN</td>\n",
       "    </tr>\n",
       "    <tr>\n",
       "      <th>2012-01-04</th>\n",
       "      <td>144</td>\n",
       "      <td>NaN</td>\n",
       "      <td>1</td>\n",
       "      <td>116</td>\n",
       "      <td>318</td>\n",
       "      <td>111</td>\n",
       "      <td>8</td>\n",
       "      <td>61</td>\n",
       "      <td>NaN</td>\n",
       "    </tr>\n",
       "    <tr>\n",
       "      <th>2012-01-05</th>\n",
       "      <td>197</td>\n",
       "      <td>NaN</td>\n",
       "      <td>2</td>\n",
       "      <td>124</td>\n",
       "      <td>330</td>\n",
       "      <td>97</td>\n",
       "      <td>13</td>\n",
       "      <td>95</td>\n",
       "      <td>NaN</td>\n",
       "    </tr>\n",
       "  </tbody>\n",
       "</table>\n",
       "</div>"
      ],
      "text/plain": [
       "            Berri 1  Brébeuf (données non disponibles)  Côte-Sainte-Catherine  \\\n",
       "Date                                                                            \n",
       "2012-01-01       35                                NaN                      0   \n",
       "2012-01-02       83                                NaN                      1   \n",
       "2012-01-03      135                                NaN                      2   \n",
       "2012-01-04      144                                NaN                      1   \n",
       "2012-01-05      197                                NaN                      2   \n",
       "\n",
       "            Maisonneuve 1  Maisonneuve 2  du Parc  Pierre-Dupuy  Rachel1  \\\n",
       "Date                                                                       \n",
       "2012-01-01             38             51       26            10       16   \n",
       "2012-01-02             68            153       53             6       43   \n",
       "2012-01-03            104            248       89             3       58   \n",
       "2012-01-04            116            318      111             8       61   \n",
       "2012-01-05            124            330       97            13       95   \n",
       "\n",
       "            St-Urbain (données non disponibles)  \n",
       "Date                                             \n",
       "2012-01-01                                  NaN  \n",
       "2012-01-02                                  NaN  \n",
       "2012-01-03                                  NaN  \n",
       "2012-01-04                                  NaN  \n",
       "2012-01-05                                  NaN  "
      ]
     },
     "execution_count": 117,
     "metadata": {},
     "output_type": "execute_result"
    }
   ],
   "source": [
    "bikes = pd.read_csv(\"data/bikes.csv\", encoding=\"latin-1\", sep=\";\", \\\n",
    "                    parse_dates=['Date'], dayfirst=True, index_col='Date')\n",
    "bikes.head()"
   ]
  },
  {
   "cell_type": "markdown",
   "metadata": {},
   "source": [
    "[```dropna```](https://pandas.pydata.org/pandas-docs/stable/generated/pandas.DataFrame.dropna.html)会删除所有带NA的行"
   ]
  },
  {
   "cell_type": "code",
   "execution_count": 118,
   "metadata": {},
   "outputs": [
    {
     "data": {
      "text/html": [
       "<div>\n",
       "<style>\n",
       "    .dataframe thead tr:only-child th {\n",
       "        text-align: right;\n",
       "    }\n",
       "\n",
       "    .dataframe thead th {\n",
       "        text-align: left;\n",
       "    }\n",
       "\n",
       "    .dataframe tbody tr th {\n",
       "        vertical-align: top;\n",
       "    }\n",
       "</style>\n",
       "<table border=\"1\" class=\"dataframe\">\n",
       "  <thead>\n",
       "    <tr style=\"text-align: right;\">\n",
       "      <th></th>\n",
       "      <th>Berri 1</th>\n",
       "      <th>Brébeuf (données non disponibles)</th>\n",
       "      <th>Côte-Sainte-Catherine</th>\n",
       "      <th>Maisonneuve 1</th>\n",
       "      <th>Maisonneuve 2</th>\n",
       "      <th>du Parc</th>\n",
       "      <th>Pierre-Dupuy</th>\n",
       "      <th>Rachel1</th>\n",
       "      <th>St-Urbain (données non disponibles)</th>\n",
       "    </tr>\n",
       "    <tr>\n",
       "      <th>Date</th>\n",
       "      <th></th>\n",
       "      <th></th>\n",
       "      <th></th>\n",
       "      <th></th>\n",
       "      <th></th>\n",
       "      <th></th>\n",
       "      <th></th>\n",
       "      <th></th>\n",
       "      <th></th>\n",
       "    </tr>\n",
       "  </thead>\n",
       "  <tbody>\n",
       "  </tbody>\n",
       "</table>\n",
       "</div>"
      ],
      "text/plain": [
       "Empty DataFrame\n",
       "Columns: [Berri 1, Brébeuf (données non disponibles), Côte-Sainte-Catherine, Maisonneuve 1, Maisonneuve 2, du Parc, Pierre-Dupuy, Rachel1, St-Urbain (données non disponibles)]\n",
       "Index: []"
      ]
     },
     "execution_count": 118,
     "metadata": {},
     "output_type": "execute_result"
    }
   ],
   "source": [
    "bikes.dropna()"
   ]
  },
  {
   "cell_type": "markdown",
   "metadata": {},
   "source": [
    "删太多了，我们只想删掉全部都是NA的行"
   ]
  },
  {
   "cell_type": "code",
   "execution_count": 121,
   "metadata": {
    "scrolled": true
   },
   "outputs": [
    {
     "data": {
      "text/html": [
       "<div>\n",
       "<style>\n",
       "    .dataframe thead tr:only-child th {\n",
       "        text-align: right;\n",
       "    }\n",
       "\n",
       "    .dataframe thead th {\n",
       "        text-align: left;\n",
       "    }\n",
       "\n",
       "    .dataframe tbody tr th {\n",
       "        vertical-align: top;\n",
       "    }\n",
       "</style>\n",
       "<table border=\"1\" class=\"dataframe\">\n",
       "  <thead>\n",
       "    <tr style=\"text-align: right;\">\n",
       "      <th></th>\n",
       "      <th>Berri 1</th>\n",
       "      <th>Côte-Sainte-Catherine</th>\n",
       "      <th>Maisonneuve 1</th>\n",
       "      <th>Maisonneuve 2</th>\n",
       "      <th>du Parc</th>\n",
       "      <th>Pierre-Dupuy</th>\n",
       "      <th>Rachel1</th>\n",
       "    </tr>\n",
       "    <tr>\n",
       "      <th>Date</th>\n",
       "      <th></th>\n",
       "      <th></th>\n",
       "      <th></th>\n",
       "      <th></th>\n",
       "      <th></th>\n",
       "      <th></th>\n",
       "      <th></th>\n",
       "    </tr>\n",
       "  </thead>\n",
       "  <tbody>\n",
       "    <tr>\n",
       "      <th>2012-01-01</th>\n",
       "      <td>35</td>\n",
       "      <td>0</td>\n",
       "      <td>38</td>\n",
       "      <td>51</td>\n",
       "      <td>26</td>\n",
       "      <td>10</td>\n",
       "      <td>16</td>\n",
       "    </tr>\n",
       "    <tr>\n",
       "      <th>2012-01-02</th>\n",
       "      <td>83</td>\n",
       "      <td>1</td>\n",
       "      <td>68</td>\n",
       "      <td>153</td>\n",
       "      <td>53</td>\n",
       "      <td>6</td>\n",
       "      <td>43</td>\n",
       "    </tr>\n",
       "    <tr>\n",
       "      <th>2012-01-03</th>\n",
       "      <td>135</td>\n",
       "      <td>2</td>\n",
       "      <td>104</td>\n",
       "      <td>248</td>\n",
       "      <td>89</td>\n",
       "      <td>3</td>\n",
       "      <td>58</td>\n",
       "    </tr>\n",
       "    <tr>\n",
       "      <th>2012-01-04</th>\n",
       "      <td>144</td>\n",
       "      <td>1</td>\n",
       "      <td>116</td>\n",
       "      <td>318</td>\n",
       "      <td>111</td>\n",
       "      <td>8</td>\n",
       "      <td>61</td>\n",
       "    </tr>\n",
       "    <tr>\n",
       "      <th>2012-01-05</th>\n",
       "      <td>197</td>\n",
       "      <td>2</td>\n",
       "      <td>124</td>\n",
       "      <td>330</td>\n",
       "      <td>97</td>\n",
       "      <td>13</td>\n",
       "      <td>95</td>\n",
       "    </tr>\n",
       "  </tbody>\n",
       "</table>\n",
       "</div>"
      ],
      "text/plain": [
       "            Berri 1  Côte-Sainte-Catherine  Maisonneuve 1  Maisonneuve 2  \\\n",
       "Date                                                                       \n",
       "2012-01-01       35                      0             38             51   \n",
       "2012-01-02       83                      1             68            153   \n",
       "2012-01-03      135                      2            104            248   \n",
       "2012-01-04      144                      1            116            318   \n",
       "2012-01-05      197                      2            124            330   \n",
       "\n",
       "            du Parc  Pierre-Dupuy  Rachel1  \n",
       "Date                                        \n",
       "2012-01-01       26            10       16  \n",
       "2012-01-02       53             6       43  \n",
       "2012-01-03       89             3       58  \n",
       "2012-01-04      111             8       61  \n",
       "2012-01-05       97            13       95  "
      ]
     },
     "execution_count": 121,
     "metadata": {},
     "output_type": "execute_result"
    }
   ],
   "source": [
    "bikes.dropna(axis=1, how=\"all\").head()"
   ]
  },
  {
   "cell_type": "code",
   "execution_count": 122,
   "metadata": {},
   "outputs": [
    {
     "data": {
      "text/plain": [
       "(310, 9)"
      ]
     },
     "execution_count": 122,
     "metadata": {},
     "output_type": "execute_result"
    }
   ],
   "source": [
    "bikes.shape"
   ]
  },
  {
   "cell_type": "markdown",
   "metadata": {},
   "source": [
    "我们数一数每一列有多少数据缺失"
   ]
  },
  {
   "cell_type": "code",
   "execution_count": 123,
   "metadata": {
    "scrolled": true
   },
   "outputs": [
    {
     "data": {
      "text/plain": [
       "Berri 1                                  0\n",
       "Brébeuf (données non disponibles)      310\n",
       "Côte-Sainte-Catherine                    0\n",
       "Maisonneuve 1                            0\n",
       "Maisonneuve 2                            0\n",
       "du Parc                                  0\n",
       "Pierre-Dupuy                             0\n",
       "Rachel1                                  0\n",
       "St-Urbain (données non disponibles)    310\n",
       "dtype: int64"
      ]
     },
     "execution_count": 123,
     "metadata": {},
     "output_type": "execute_result"
    }
   ],
   "source": [
    "bikes.apply(lambda x: sum(x.isnull()))"
   ]
  },
  {
   "cell_type": "code",
   "execution_count": 125,
   "metadata": {},
   "outputs": [
    {
     "data": {
      "text/plain": [
       "Berri 1                                  0\n",
       "Brébeuf (données non disponibles)      310\n",
       "Côte-Sainte-Catherine                    0\n",
       "Maisonneuve 1                            0\n",
       "Maisonneuve 2                            0\n",
       "du Parc                                  0\n",
       "Pierre-Dupuy                             0\n",
       "Rachel1                                  0\n",
       "St-Urbain (données non disponibles)    310\n",
       "dtype: int64"
      ]
     },
     "execution_count": 125,
     "metadata": {},
     "output_type": "execute_result"
    }
   ],
   "source": [
    "bikes.isnull().sum()"
   ]
  },
  {
   "cell_type": "markdown",
   "metadata": {},
   "source": [
    "下面给大家介绍如何填充缺失的数据"
   ]
  },
  {
   "cell_type": "code",
   "execution_count": 129,
   "metadata": {},
   "outputs": [
    {
     "data": {
      "text/plain": [
       "Berri 1                                35.000000\n",
       "Brébeuf (données non disponibles)      25.142857\n",
       "Côte-Sainte-Catherine                   0.000000\n",
       "Maisonneuve 1                          38.000000\n",
       "Maisonneuve 2                          51.000000\n",
       "du Parc                                26.000000\n",
       "Pierre-Dupuy                           10.000000\n",
       "Rachel1                                16.000000\n",
       "St-Urbain (données non disponibles)    25.142857\n",
       "Name: 2012-01-01 00:00:00, dtype: float64"
      ]
     },
     "execution_count": 129,
     "metadata": {},
     "output_type": "execute_result"
    }
   ],
   "source": [
    "row = bikes.iloc[0].copy()\n",
    "row.fillna(row.mean())"
   ]
  },
  {
   "cell_type": "code",
   "execution_count": 131,
   "metadata": {
    "scrolled": true
   },
   "outputs": [
    {
     "data": {
      "text/html": [
       "<div>\n",
       "<style>\n",
       "    .dataframe thead tr:only-child th {\n",
       "        text-align: right;\n",
       "    }\n",
       "\n",
       "    .dataframe thead th {\n",
       "        text-align: left;\n",
       "    }\n",
       "\n",
       "    .dataframe tbody tr th {\n",
       "        vertical-align: top;\n",
       "    }\n",
       "</style>\n",
       "<table border=\"1\" class=\"dataframe\">\n",
       "  <thead>\n",
       "    <tr style=\"text-align: right;\">\n",
       "      <th></th>\n",
       "      <th>Berri 1</th>\n",
       "      <th>Brébeuf (données non disponibles)</th>\n",
       "      <th>Côte-Sainte-Catherine</th>\n",
       "      <th>Maisonneuve 1</th>\n",
       "      <th>Maisonneuve 2</th>\n",
       "      <th>du Parc</th>\n",
       "      <th>Pierre-Dupuy</th>\n",
       "      <th>Rachel1</th>\n",
       "      <th>St-Urbain (données non disponibles)</th>\n",
       "    </tr>\n",
       "    <tr>\n",
       "      <th>Date</th>\n",
       "      <th></th>\n",
       "      <th></th>\n",
       "      <th></th>\n",
       "      <th></th>\n",
       "      <th></th>\n",
       "      <th></th>\n",
       "      <th></th>\n",
       "      <th></th>\n",
       "      <th></th>\n",
       "    </tr>\n",
       "  </thead>\n",
       "  <tbody>\n",
       "    <tr>\n",
       "      <th>2012-01-01</th>\n",
       "      <td>35</td>\n",
       "      <td>25.142857</td>\n",
       "      <td>0</td>\n",
       "      <td>38</td>\n",
       "      <td>51</td>\n",
       "      <td>26</td>\n",
       "      <td>10</td>\n",
       "      <td>16</td>\n",
       "      <td>25.142857</td>\n",
       "    </tr>\n",
       "    <tr>\n",
       "      <th>2012-01-02</th>\n",
       "      <td>83</td>\n",
       "      <td>58.142857</td>\n",
       "      <td>1</td>\n",
       "      <td>68</td>\n",
       "      <td>153</td>\n",
       "      <td>53</td>\n",
       "      <td>6</td>\n",
       "      <td>43</td>\n",
       "      <td>58.142857</td>\n",
       "    </tr>\n",
       "    <tr>\n",
       "      <th>2012-01-03</th>\n",
       "      <td>135</td>\n",
       "      <td>91.285714</td>\n",
       "      <td>2</td>\n",
       "      <td>104</td>\n",
       "      <td>248</td>\n",
       "      <td>89</td>\n",
       "      <td>3</td>\n",
       "      <td>58</td>\n",
       "      <td>91.285714</td>\n",
       "    </tr>\n",
       "    <tr>\n",
       "      <th>2012-01-04</th>\n",
       "      <td>144</td>\n",
       "      <td>108.428571</td>\n",
       "      <td>1</td>\n",
       "      <td>116</td>\n",
       "      <td>318</td>\n",
       "      <td>111</td>\n",
       "      <td>8</td>\n",
       "      <td>61</td>\n",
       "      <td>108.428571</td>\n",
       "    </tr>\n",
       "    <tr>\n",
       "      <th>2012-01-05</th>\n",
       "      <td>197</td>\n",
       "      <td>122.571429</td>\n",
       "      <td>2</td>\n",
       "      <td>124</td>\n",
       "      <td>330</td>\n",
       "      <td>97</td>\n",
       "      <td>13</td>\n",
       "      <td>95</td>\n",
       "      <td>122.571429</td>\n",
       "    </tr>\n",
       "  </tbody>\n",
       "</table>\n",
       "</div>"
      ],
      "text/plain": [
       "            Berri 1  Brébeuf (données non disponibles)  Côte-Sainte-Catherine  \\\n",
       "Date                                                                            \n",
       "2012-01-01       35                          25.142857                      0   \n",
       "2012-01-02       83                          58.142857                      1   \n",
       "2012-01-03      135                          91.285714                      2   \n",
       "2012-01-04      144                         108.428571                      1   \n",
       "2012-01-05      197                         122.571429                      2   \n",
       "\n",
       "            Maisonneuve 1  Maisonneuve 2  du Parc  Pierre-Dupuy  Rachel1  \\\n",
       "Date                                                                       \n",
       "2012-01-01             38             51       26            10       16   \n",
       "2012-01-02             68            153       53             6       43   \n",
       "2012-01-03            104            248       89             3       58   \n",
       "2012-01-04            116            318      111             8       61   \n",
       "2012-01-05            124            330       97            13       95   \n",
       "\n",
       "            St-Urbain (données non disponibles)  \n",
       "Date                                             \n",
       "2012-01-01                            25.142857  \n",
       "2012-01-02                            58.142857  \n",
       "2012-01-03                            91.285714  \n",
       "2012-01-04                           108.428571  \n",
       "2012-01-05                           122.571429  "
      ]
     },
     "execution_count": 131,
     "metadata": {},
     "output_type": "execute_result"
    }
   ],
   "source": [
    "m = bikes.mean(axis=1)\n",
    "for i, col in enumerate(bikes):\n",
    "    bikes.iloc[:, i] = bikes.iloc[:, i].fillna(m)\n",
    "    \n",
    "bikes.head()"
   ]
  },
  {
   "cell_type": "code",
   "execution_count": 132,
   "metadata": {
    "scrolled": true
   },
   "outputs": [
    {
     "data": {
      "text/html": [
       "<div>\n",
       "<style>\n",
       "    .dataframe thead tr:only-child th {\n",
       "        text-align: right;\n",
       "    }\n",
       "\n",
       "    .dataframe thead th {\n",
       "        text-align: left;\n",
       "    }\n",
       "\n",
       "    .dataframe tbody tr th {\n",
       "        vertical-align: top;\n",
       "    }\n",
       "</style>\n",
       "<table border=\"1\" class=\"dataframe\">\n",
       "  <thead>\n",
       "    <tr style=\"text-align: right;\">\n",
       "      <th></th>\n",
       "      <th>Berri 1</th>\n",
       "      <th>Brébeuf (données non disponibles)</th>\n",
       "      <th>Côte-Sainte-Catherine</th>\n",
       "      <th>Maisonneuve 1</th>\n",
       "      <th>Maisonneuve 2</th>\n",
       "      <th>du Parc</th>\n",
       "      <th>Pierre-Dupuy</th>\n",
       "      <th>Rachel1</th>\n",
       "      <th>St-Urbain (données non disponibles)</th>\n",
       "    </tr>\n",
       "    <tr>\n",
       "      <th>Date</th>\n",
       "      <th></th>\n",
       "      <th></th>\n",
       "      <th></th>\n",
       "      <th></th>\n",
       "      <th></th>\n",
       "      <th></th>\n",
       "      <th></th>\n",
       "      <th></th>\n",
       "      <th></th>\n",
       "    </tr>\n",
       "  </thead>\n",
       "  <tbody>\n",
       "    <tr>\n",
       "      <th>2012-01-01</th>\n",
       "      <td>35</td>\n",
       "      <td>25.142857</td>\n",
       "      <td>0</td>\n",
       "      <td>38</td>\n",
       "      <td>51</td>\n",
       "      <td>26</td>\n",
       "      <td>10</td>\n",
       "      <td>16</td>\n",
       "      <td>25.142857</td>\n",
       "    </tr>\n",
       "    <tr>\n",
       "      <th>2012-01-02</th>\n",
       "      <td>83</td>\n",
       "      <td>58.142857</td>\n",
       "      <td>1</td>\n",
       "      <td>68</td>\n",
       "      <td>153</td>\n",
       "      <td>53</td>\n",
       "      <td>6</td>\n",
       "      <td>43</td>\n",
       "      <td>58.142857</td>\n",
       "    </tr>\n",
       "    <tr>\n",
       "      <th>2012-01-03</th>\n",
       "      <td>135</td>\n",
       "      <td>91.285714</td>\n",
       "      <td>2</td>\n",
       "      <td>104</td>\n",
       "      <td>248</td>\n",
       "      <td>89</td>\n",
       "      <td>3</td>\n",
       "      <td>58</td>\n",
       "      <td>91.285714</td>\n",
       "    </tr>\n",
       "    <tr>\n",
       "      <th>2012-01-04</th>\n",
       "      <td>144</td>\n",
       "      <td>108.428571</td>\n",
       "      <td>1</td>\n",
       "      <td>116</td>\n",
       "      <td>318</td>\n",
       "      <td>111</td>\n",
       "      <td>8</td>\n",
       "      <td>61</td>\n",
       "      <td>108.428571</td>\n",
       "    </tr>\n",
       "    <tr>\n",
       "      <th>2012-01-05</th>\n",
       "      <td>197</td>\n",
       "      <td>122.571429</td>\n",
       "      <td>2</td>\n",
       "      <td>124</td>\n",
       "      <td>330</td>\n",
       "      <td>97</td>\n",
       "      <td>13</td>\n",
       "      <td>95</td>\n",
       "      <td>122.571429</td>\n",
       "    </tr>\n",
       "  </tbody>\n",
       "</table>\n",
       "</div>"
      ],
      "text/plain": [
       "            Berri 1  Brébeuf (données non disponibles)  Côte-Sainte-Catherine  \\\n",
       "Date                                                                            \n",
       "2012-01-01       35                          25.142857                      0   \n",
       "2012-01-02       83                          58.142857                      1   \n",
       "2012-01-03      135                          91.285714                      2   \n",
       "2012-01-04      144                         108.428571                      1   \n",
       "2012-01-05      197                         122.571429                      2   \n",
       "\n",
       "            Maisonneuve 1  Maisonneuve 2  du Parc  Pierre-Dupuy  Rachel1  \\\n",
       "Date                                                                       \n",
       "2012-01-01             38             51       26            10       16   \n",
       "2012-01-02             68            153       53             6       43   \n",
       "2012-01-03            104            248       89             3       58   \n",
       "2012-01-04            116            318      111             8       61   \n",
       "2012-01-05            124            330       97            13       95   \n",
       "\n",
       "            St-Urbain (données non disponibles)  \n",
       "Date                                             \n",
       "2012-01-01                            25.142857  \n",
       "2012-01-02                            58.142857  \n",
       "2012-01-03                            91.285714  \n",
       "2012-01-04                           108.428571  \n",
       "2012-01-05                           122.571429  "
      ]
     },
     "execution_count": 132,
     "metadata": {},
     "output_type": "execute_result"
    }
   ],
   "source": [
    "bikes[:5]"
   ]
  },
  {
   "cell_type": "code",
   "execution_count": 134,
   "metadata": {},
   "outputs": [
    {
     "data": {
      "text/html": [
       "<div>\n",
       "<style>\n",
       "    .dataframe thead tr:only-child th {\n",
       "        text-align: right;\n",
       "    }\n",
       "\n",
       "    .dataframe thead th {\n",
       "        text-align: left;\n",
       "    }\n",
       "\n",
       "    .dataframe tbody tr th {\n",
       "        vertical-align: top;\n",
       "    }\n",
       "</style>\n",
       "<table border=\"1\" class=\"dataframe\">\n",
       "  <thead>\n",
       "    <tr style=\"text-align: right;\">\n",
       "      <th></th>\n",
       "      <th>Berri 1</th>\n",
       "    </tr>\n",
       "    <tr>\n",
       "      <th>Date</th>\n",
       "      <th></th>\n",
       "    </tr>\n",
       "  </thead>\n",
       "  <tbody>\n",
       "    <tr>\n",
       "      <th>2012-01-01</th>\n",
       "      <td>35</td>\n",
       "    </tr>\n",
       "    <tr>\n",
       "      <th>2012-01-02</th>\n",
       "      <td>83</td>\n",
       "    </tr>\n",
       "    <tr>\n",
       "      <th>2012-01-03</th>\n",
       "      <td>135</td>\n",
       "    </tr>\n",
       "    <tr>\n",
       "      <th>2012-01-04</th>\n",
       "      <td>144</td>\n",
       "    </tr>\n",
       "    <tr>\n",
       "      <th>2012-01-05</th>\n",
       "      <td>197</td>\n",
       "    </tr>\n",
       "  </tbody>\n",
       "</table>\n",
       "</div>"
      ],
      "text/plain": [
       "            Berri 1\n",
       "Date               \n",
       "2012-01-01       35\n",
       "2012-01-02       83\n",
       "2012-01-03      135\n",
       "2012-01-04      144\n",
       "2012-01-05      197"
      ]
     },
     "execution_count": 134,
     "metadata": {},
     "output_type": "execute_result"
    }
   ],
   "source": [
    "berri_bikes = bikes[[\"Berri 1\"]].copy()\n",
    "berri_bikes.head()"
   ]
  },
  {
   "cell_type": "code",
   "execution_count": 138,
   "metadata": {},
   "outputs": [
    {
     "data": {
      "text/html": [
       "<div>\n",
       "<style>\n",
       "    .dataframe thead tr:only-child th {\n",
       "        text-align: right;\n",
       "    }\n",
       "\n",
       "    .dataframe thead th {\n",
       "        text-align: left;\n",
       "    }\n",
       "\n",
       "    .dataframe tbody tr th {\n",
       "        vertical-align: top;\n",
       "    }\n",
       "</style>\n",
       "<table border=\"1\" class=\"dataframe\">\n",
       "  <thead>\n",
       "    <tr style=\"text-align: right;\">\n",
       "      <th></th>\n",
       "      <th>Berri 1</th>\n",
       "      <th>weekday</th>\n",
       "    </tr>\n",
       "    <tr>\n",
       "      <th>Date</th>\n",
       "      <th></th>\n",
       "      <th></th>\n",
       "    </tr>\n",
       "  </thead>\n",
       "  <tbody>\n",
       "    <tr>\n",
       "      <th>2012-01-01</th>\n",
       "      <td>35</td>\n",
       "      <td>6</td>\n",
       "    </tr>\n",
       "    <tr>\n",
       "      <th>2012-01-02</th>\n",
       "      <td>83</td>\n",
       "      <td>0</td>\n",
       "    </tr>\n",
       "    <tr>\n",
       "      <th>2012-01-03</th>\n",
       "      <td>135</td>\n",
       "      <td>1</td>\n",
       "    </tr>\n",
       "    <tr>\n",
       "      <th>2012-01-04</th>\n",
       "      <td>144</td>\n",
       "      <td>2</td>\n",
       "    </tr>\n",
       "    <tr>\n",
       "      <th>2012-01-05</th>\n",
       "      <td>197</td>\n",
       "      <td>3</td>\n",
       "    </tr>\n",
       "  </tbody>\n",
       "</table>\n",
       "</div>"
      ],
      "text/plain": [
       "            Berri 1  weekday\n",
       "Date                        \n",
       "2012-01-01       35        6\n",
       "2012-01-02       83        0\n",
       "2012-01-03      135        1\n",
       "2012-01-04      144        2\n",
       "2012-01-05      197        3"
      ]
     },
     "execution_count": 138,
     "metadata": {},
     "output_type": "execute_result"
    }
   ],
   "source": [
    "berri_bikes[\"weekday\"] = berri_bikes.index.weekday\n",
    "berri_bikes.head()"
   ]
  },
  {
   "cell_type": "code",
   "execution_count": 141,
   "metadata": {},
   "outputs": [
    {
     "data": {
      "text/html": [
       "<div>\n",
       "<style>\n",
       "    .dataframe thead tr:only-child th {\n",
       "        text-align: right;\n",
       "    }\n",
       "\n",
       "    .dataframe thead th {\n",
       "        text-align: left;\n",
       "    }\n",
       "\n",
       "    .dataframe tbody tr th {\n",
       "        vertical-align: top;\n",
       "    }\n",
       "</style>\n",
       "<table border=\"1\" class=\"dataframe\">\n",
       "  <thead>\n",
       "    <tr style=\"text-align: right;\">\n",
       "      <th></th>\n",
       "      <th>Berri 1</th>\n",
       "    </tr>\n",
       "    <tr>\n",
       "      <th>weekday</th>\n",
       "      <th></th>\n",
       "    </tr>\n",
       "  </thead>\n",
       "  <tbody>\n",
       "    <tr>\n",
       "      <th>0</th>\n",
       "      <td>134298</td>\n",
       "    </tr>\n",
       "    <tr>\n",
       "      <th>1</th>\n",
       "      <td>135305</td>\n",
       "    </tr>\n",
       "    <tr>\n",
       "      <th>2</th>\n",
       "      <td>152972</td>\n",
       "    </tr>\n",
       "    <tr>\n",
       "      <th>3</th>\n",
       "      <td>160131</td>\n",
       "    </tr>\n",
       "    <tr>\n",
       "      <th>4</th>\n",
       "      <td>141771</td>\n",
       "    </tr>\n",
       "    <tr>\n",
       "      <th>5</th>\n",
       "      <td>101578</td>\n",
       "    </tr>\n",
       "    <tr>\n",
       "      <th>6</th>\n",
       "      <td>99310</td>\n",
       "    </tr>\n",
       "  </tbody>\n",
       "</table>\n",
       "</div>"
      ],
      "text/plain": [
       "         Berri 1\n",
       "weekday         \n",
       "0         134298\n",
       "1         135305\n",
       "2         152972\n",
       "3         160131\n",
       "4         141771\n",
       "5         101578\n",
       "6          99310"
      ]
     },
     "execution_count": 141,
     "metadata": {},
     "output_type": "execute_result"
    }
   ],
   "source": [
    "weekday_counts = berri_bikes.groupby(\"weekday\").sum()\n",
    "weekday_counts"
   ]
  },
  {
   "cell_type": "code",
   "execution_count": 142,
   "metadata": {},
   "outputs": [
    {
     "data": {
      "text/html": [
       "<div>\n",
       "<style>\n",
       "    .dataframe thead tr:only-child th {\n",
       "        text-align: right;\n",
       "    }\n",
       "\n",
       "    .dataframe thead th {\n",
       "        text-align: left;\n",
       "    }\n",
       "\n",
       "    .dataframe tbody tr th {\n",
       "        vertical-align: top;\n",
       "    }\n",
       "</style>\n",
       "<table border=\"1\" class=\"dataframe\">\n",
       "  <thead>\n",
       "    <tr style=\"text-align: right;\">\n",
       "      <th></th>\n",
       "      <th>Berri 1</th>\n",
       "    </tr>\n",
       "  </thead>\n",
       "  <tbody>\n",
       "    <tr>\n",
       "      <th>Mon</th>\n",
       "      <td>134298</td>\n",
       "    </tr>\n",
       "    <tr>\n",
       "      <th>Tue</th>\n",
       "      <td>135305</td>\n",
       "    </tr>\n",
       "    <tr>\n",
       "      <th>Wed</th>\n",
       "      <td>152972</td>\n",
       "    </tr>\n",
       "    <tr>\n",
       "      <th>Thu</th>\n",
       "      <td>160131</td>\n",
       "    </tr>\n",
       "    <tr>\n",
       "      <th>Fri</th>\n",
       "      <td>141771</td>\n",
       "    </tr>\n",
       "    <tr>\n",
       "      <th>Sat</th>\n",
       "      <td>101578</td>\n",
       "    </tr>\n",
       "    <tr>\n",
       "      <th>Sun</th>\n",
       "      <td>99310</td>\n",
       "    </tr>\n",
       "  </tbody>\n",
       "</table>\n",
       "</div>"
      ],
      "text/plain": [
       "     Berri 1\n",
       "Mon   134298\n",
       "Tue   135305\n",
       "Wed   152972\n",
       "Thu   160131\n",
       "Fri   141771\n",
       "Sat   101578\n",
       "Sun    99310"
      ]
     },
     "execution_count": 142,
     "metadata": {},
     "output_type": "execute_result"
    }
   ],
   "source": [
    "weekday_counts.index = [\"Mon\", \"Tue\", \"Wed\", \"Thu\", \"Fri\", \"Sat\", \"Sun\"]\n",
    "weekday_counts"
   ]
  },
  {
   "cell_type": "code",
   "execution_count": 144,
   "metadata": {},
   "outputs": [
    {
     "data": {
      "text/plain": [
       "<matplotlib.axes._subplots.AxesSubplot at 0x1eb63586a58>"
      ]
     },
     "execution_count": 144,
     "metadata": {},
     "output_type": "execute_result"
    },
    {
     "data": {
      "image/png": "iVBORw0KGgoAAAANSUhEUgAAAY0AAAEICAYAAACj2qi6AAAABHNCSVQICAgIfAhkiAAAAAlwSFlz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\n",
      "text/plain": [
       "<matplotlib.figure.Figure at 0x1eb632e0780>"
      ]
     },
     "metadata": {},
     "output_type": "display_data"
    }
   ],
   "source": [
    "weekday_counts.plot(kind=\"bar\")"
   ]
  },
  {
   "cell_type": "markdown",
   "metadata": {
    "collapsed": true
   },
   "source": [
    "有了weekday信息之后，我们就可以用上我们前面学过的.groupyby把骑车人数按照weekday分类，然后用aggregate算出每个工作日的骑车人数之和。"
   ]
  },
  {
   "cell_type": "markdown",
   "metadata": {},
   "source": [
    "接下来我们试试能不能把每条路线都加起来，然后算出一天骑自行车出门的人数之和。\n",
    "to_frame可以把一个Series转换成一个DataFrame"
   ]
  },
  {
   "cell_type": "code",
   "execution_count": 148,
   "metadata": {},
   "outputs": [
    {
     "data": {
      "text/html": [
       "<div>\n",
       "<style>\n",
       "    .dataframe thead tr:only-child th {\n",
       "        text-align: right;\n",
       "    }\n",
       "\n",
       "    .dataframe thead th {\n",
       "        text-align: left;\n",
       "    }\n",
       "\n",
       "    .dataframe tbody tr th {\n",
       "        vertical-align: top;\n",
       "    }\n",
       "</style>\n",
       "<table border=\"1\" class=\"dataframe\">\n",
       "  <thead>\n",
       "    <tr style=\"text-align: right;\">\n",
       "      <th></th>\n",
       "      <th>0</th>\n",
       "    </tr>\n",
       "    <tr>\n",
       "      <th>Date</th>\n",
       "      <th></th>\n",
       "    </tr>\n",
       "  </thead>\n",
       "  <tbody>\n",
       "    <tr>\n",
       "      <th>2012-01-01</th>\n",
       "      <td>226.285714</td>\n",
       "    </tr>\n",
       "    <tr>\n",
       "      <th>2012-01-02</th>\n",
       "      <td>523.285714</td>\n",
       "    </tr>\n",
       "    <tr>\n",
       "      <th>2012-01-03</th>\n",
       "      <td>821.571429</td>\n",
       "    </tr>\n",
       "    <tr>\n",
       "      <th>2012-01-04</th>\n",
       "      <td>975.857143</td>\n",
       "    </tr>\n",
       "    <tr>\n",
       "      <th>2012-01-05</th>\n",
       "      <td>1103.142857</td>\n",
       "    </tr>\n",
       "  </tbody>\n",
       "</table>\n",
       "</div>"
      ],
      "text/plain": [
       "                      0\n",
       "Date                   \n",
       "2012-01-01   226.285714\n",
       "2012-01-02   523.285714\n",
       "2012-01-03   821.571429\n",
       "2012-01-04   975.857143\n",
       "2012-01-05  1103.142857"
      ]
     },
     "execution_count": 148,
     "metadata": {},
     "output_type": "execute_result"
    }
   ],
   "source": [
    "bikes_sum = bikes.sum(axis=1).to_frame()\n",
    "bikes_sum.head()"
   ]
  },
  {
   "cell_type": "code",
   "execution_count": 149,
   "metadata": {},
   "outputs": [
    {
     "data": {
      "text/html": [
       "<div>\n",
       "<style>\n",
       "    .dataframe thead tr:only-child th {\n",
       "        text-align: right;\n",
       "    }\n",
       "\n",
       "    .dataframe thead th {\n",
       "        text-align: left;\n",
       "    }\n",
       "\n",
       "    .dataframe tbody tr th {\n",
       "        vertical-align: top;\n",
       "    }\n",
       "</style>\n",
       "<table border=\"1\" class=\"dataframe\">\n",
       "  <thead>\n",
       "    <tr style=\"text-align: right;\">\n",
       "      <th></th>\n",
       "      <th>0</th>\n",
       "      <th>weekday</th>\n",
       "    </tr>\n",
       "    <tr>\n",
       "      <th>Date</th>\n",
       "      <th></th>\n",
       "      <th></th>\n",
       "    </tr>\n",
       "  </thead>\n",
       "  <tbody>\n",
       "    <tr>\n",
       "      <th>2012-01-01</th>\n",
       "      <td>226.285714</td>\n",
       "      <td>6</td>\n",
       "    </tr>\n",
       "    <tr>\n",
       "      <th>2012-01-02</th>\n",
       "      <td>523.285714</td>\n",
       "      <td>0</td>\n",
       "    </tr>\n",
       "    <tr>\n",
       "      <th>2012-01-03</th>\n",
       "      <td>821.571429</td>\n",
       "      <td>1</td>\n",
       "    </tr>\n",
       "    <tr>\n",
       "      <th>2012-01-04</th>\n",
       "      <td>975.857143</td>\n",
       "      <td>2</td>\n",
       "    </tr>\n",
       "    <tr>\n",
       "      <th>2012-01-05</th>\n",
       "      <td>1103.142857</td>\n",
       "      <td>3</td>\n",
       "    </tr>\n",
       "  </tbody>\n",
       "</table>\n",
       "</div>"
      ],
      "text/plain": [
       "                      0  weekday\n",
       "Date                            \n",
       "2012-01-01   226.285714        6\n",
       "2012-01-02   523.285714        0\n",
       "2012-01-03   821.571429        1\n",
       "2012-01-04   975.857143        2\n",
       "2012-01-05  1103.142857        3"
      ]
     },
     "execution_count": 149,
     "metadata": {},
     "output_type": "execute_result"
    }
   ],
   "source": [
    "bikes_sum[\"weekday\"] = bikes_sum.index.weekday\n",
    "bikes_sum.head()"
   ]
  },
  {
   "cell_type": "code",
   "execution_count": 150,
   "metadata": {},
   "outputs": [
    {
     "data": {
      "text/html": [
       "<div>\n",
       "<style>\n",
       "    .dataframe thead tr:only-child th {\n",
       "        text-align: right;\n",
       "    }\n",
       "\n",
       "    .dataframe thead th {\n",
       "        text-align: left;\n",
       "    }\n",
       "\n",
       "    .dataframe tbody tr th {\n",
       "        vertical-align: top;\n",
       "    }\n",
       "</style>\n",
       "<table border=\"1\" class=\"dataframe\">\n",
       "  <thead>\n",
       "    <tr style=\"text-align: right;\">\n",
       "      <th></th>\n",
       "      <th>0</th>\n",
       "    </tr>\n",
       "  </thead>\n",
       "  <tbody>\n",
       "    <tr>\n",
       "      <th>Mon</th>\n",
       "      <td>9.192381e+05</td>\n",
       "    </tr>\n",
       "    <tr>\n",
       "      <th>Tue</th>\n",
       "      <td>8.981769e+05</td>\n",
       "    </tr>\n",
       "    <tr>\n",
       "      <th>Wed</th>\n",
       "      <td>1.015357e+06</td>\n",
       "    </tr>\n",
       "    <tr>\n",
       "      <th>Thu</th>\n",
       "      <td>1.065946e+06</td>\n",
       "    </tr>\n",
       "    <tr>\n",
       "      <th>Fri</th>\n",
       "      <td>9.498497e+05</td>\n",
       "    </tr>\n",
       "    <tr>\n",
       "      <th>Sat</th>\n",
       "      <td>6.643299e+05</td>\n",
       "    </tr>\n",
       "    <tr>\n",
       "      <th>Sun</th>\n",
       "      <td>6.660604e+05</td>\n",
       "    </tr>\n",
       "  </tbody>\n",
       "</table>\n",
       "</div>"
      ],
      "text/plain": [
       "                0\n",
       "Mon  9.192381e+05\n",
       "Tue  8.981769e+05\n",
       "Wed  1.015357e+06\n",
       "Thu  1.065946e+06\n",
       "Fri  9.498497e+05\n",
       "Sat  6.643299e+05\n",
       "Sun  6.660604e+05"
      ]
     },
     "execution_count": 150,
     "metadata": {},
     "output_type": "execute_result"
    }
   ],
   "source": [
    "weekday_counts = bikes_sum.groupby(\"weekday\").sum()\n",
    "weekday_counts.index = [\"Mon\", \"Tue\", \"Wed\", \"Thu\", \"Fri\", \"Sat\", \"Sun\"]\n",
    "weekday_counts"
   ]
  },
  {
   "cell_type": "code",
   "execution_count": 153,
   "metadata": {},
   "outputs": [
    {
     "data": {
      "text/plain": [
       "<matplotlib.axes._subplots.AxesSubplot at 0x1eb6482f630>"
      ]
     },
     "execution_count": 153,
     "metadata": {},
     "output_type": "execute_result"
    },
    {
     "data": {
      "image/png": "iVBORw0KGgoAAAANSUhEUgAAAZMAAAEICAYAAACavRnhAAAABHNCSVQICAgIfAhkiAAAAAlwSFlz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\n",
      "text/plain": [
       "<matplotlib.figure.Figure at 0x1eb63675278>"
      ]
     },
     "metadata": {},
     "output_type": "display_data"
    }
   ],
   "source": [
    "weekday_counts.plot(kind=\"bar\", grid=True)"
   ]
  },
  {
   "cell_type": "markdown",
   "metadata": {},
   "source": [
    "作个简单的图看一看\n",
    "[plot](https://pandas.pydata.org/pandas-docs/stable/generated/pandas.DataFrame.plot.html)"
   ]
  },
  {
   "cell_type": "markdown",
   "metadata": {
    "collapsed": true
   },
   "source": [
    "### 2017七月在线 机器学习线上集训 julyedu.com\n",
    "\n",
    "### stock project"
   ]
  },
  {
   "cell_type": "markdown",
   "metadata": {},
   "source": [
    "[stock analysis](https://ntguardian.wordpress.com/2016/09/19/introduction-stock-market-data-python-1/)"
   ]
  },
  {
   "cell_type": "code",
   "execution_count": 156,
   "metadata": {
    "scrolled": true
   },
   "outputs": [
    {
     "data": {
      "text/html": [
       "<div>\n",
       "<style>\n",
       "    .dataframe thead tr:only-child th {\n",
       "        text-align: right;\n",
       "    }\n",
       "\n",
       "    .dataframe thead th {\n",
       "        text-align: left;\n",
       "    }\n",
       "\n",
       "    .dataframe tbody tr th {\n",
       "        vertical-align: top;\n",
       "    }\n",
       "</style>\n",
       "<table border=\"1\" class=\"dataframe\">\n",
       "  <thead>\n",
       "    <tr style=\"text-align: right;\">\n",
       "      <th></th>\n",
       "      <th>Open</th>\n",
       "      <th>High</th>\n",
       "      <th>Low</th>\n",
       "      <th>Close</th>\n",
       "      <th>Adj Close</th>\n",
       "      <th>Volume</th>\n",
       "    </tr>\n",
       "    <tr>\n",
       "      <th>Date</th>\n",
       "      <th></th>\n",
       "      <th></th>\n",
       "      <th></th>\n",
       "      <th></th>\n",
       "      <th></th>\n",
       "      <th></th>\n",
       "    </tr>\n",
       "  </thead>\n",
       "  <tbody>\n",
       "    <tr>\n",
       "      <th>2004-08-19</th>\n",
       "      <td>49.813286</td>\n",
       "      <td>51.835709</td>\n",
       "      <td>47.800831</td>\n",
       "      <td>49.982655</td>\n",
       "      <td>49.982655</td>\n",
       "      <td>44871300</td>\n",
       "    </tr>\n",
       "    <tr>\n",
       "      <th>2004-08-20</th>\n",
       "      <td>50.316402</td>\n",
       "      <td>54.336334</td>\n",
       "      <td>50.062355</td>\n",
       "      <td>53.952770</td>\n",
       "      <td>53.952770</td>\n",
       "      <td>22942800</td>\n",
       "    </tr>\n",
       "    <tr>\n",
       "      <th>2004-08-23</th>\n",
       "      <td>55.168217</td>\n",
       "      <td>56.528118</td>\n",
       "      <td>54.321388</td>\n",
       "      <td>54.495735</td>\n",
       "      <td>54.495735</td>\n",
       "      <td>18342800</td>\n",
       "    </tr>\n",
       "    <tr>\n",
       "      <th>2004-08-24</th>\n",
       "      <td>55.412300</td>\n",
       "      <td>55.591629</td>\n",
       "      <td>51.591621</td>\n",
       "      <td>52.239193</td>\n",
       "      <td>52.239193</td>\n",
       "      <td>15319700</td>\n",
       "    </tr>\n",
       "    <tr>\n",
       "      <th>2004-08-25</th>\n",
       "      <td>52.284027</td>\n",
       "      <td>53.798351</td>\n",
       "      <td>51.746044</td>\n",
       "      <td>52.802086</td>\n",
       "      <td>52.802086</td>\n",
       "      <td>9232100</td>\n",
       "    </tr>\n",
       "  </tbody>\n",
       "</table>\n",
       "</div>"
      ],
      "text/plain": [
       "                 Open       High        Low      Close  Adj Close    Volume\n",
       "Date                                                                       \n",
       "2004-08-19  49.813286  51.835709  47.800831  49.982655  49.982655  44871300\n",
       "2004-08-20  50.316402  54.336334  50.062355  53.952770  53.952770  22942800\n",
       "2004-08-23  55.168217  56.528118  54.321388  54.495735  54.495735  18342800\n",
       "2004-08-24  55.412300  55.591629  51.591621  52.239193  52.239193  15319700\n",
       "2004-08-25  52.284027  53.798351  51.746044  52.802086  52.802086   9232100"
      ]
     },
     "execution_count": 156,
     "metadata": {},
     "output_type": "execute_result"
    }
   ],
   "source": [
    "goog = pd.read_csv(\"data/GOOG.csv\", index_col=0, parse_dates=[\"Date\"])\n",
    "goog.head()"
   ]
  },
  {
   "cell_type": "code",
   "execution_count": 158,
   "metadata": {
    "scrolled": true
   },
   "outputs": [
    {
     "data": {
      "text/plain": [
       "<matplotlib.axes._subplots.AxesSubplot at 0x1eb64a300f0>"
      ]
     },
     "execution_count": 158,
     "metadata": {},
     "output_type": "execute_result"
    },
    {
     "data": {
      "image/png": "iVBORw0KGgoAAAANSUhEUgAAAYAAAAEACAYAAAC6d6FnAAAABHNCSVQICAgIfAhkiAAAAAlwSFlz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\nVIgLt3lmducAAAAASUVORK5CYII=\n",
      "text/plain": [
       "<matplotlib.figure.Figure at 0x1eb64a5b358>"
      ]
     },
     "metadata": {},
     "output_type": "display_data"
    }
   ],
   "source": [
    "goog[\"Adj Close\"].plot()"
   ]
  },
  {
   "cell_type": "code",
   "execution_count": null,
   "metadata": {
    "collapsed": true
   },
   "outputs": [],
   "source": [
    "# log return = log(today's price / yesterday's price)"
   ]
  },
  {
   "cell_type": "markdown",
   "metadata": {},
   "source": [
    "```shift```这个function可以帮我们移动时间"
   ]
  },
  {
   "cell_type": "code",
   "execution_count": 159,
   "metadata": {
    "scrolled": true
   },
   "outputs": [
    {
     "data": {
      "text/html": [
       "<div>\n",
       "<style>\n",
       "    .dataframe thead tr:only-child th {\n",
       "        text-align: right;\n",
       "    }\n",
       "\n",
       "    .dataframe thead th {\n",
       "        text-align: left;\n",
       "    }\n",
       "\n",
       "    .dataframe tbody tr th {\n",
       "        vertical-align: top;\n",
       "    }\n",
       "</style>\n",
       "<table border=\"1\" class=\"dataframe\">\n",
       "  <thead>\n",
       "    <tr style=\"text-align: right;\">\n",
       "      <th></th>\n",
       "      <th>Open</th>\n",
       "      <th>High</th>\n",
       "      <th>Low</th>\n",
       "      <th>Close</th>\n",
       "      <th>Adj Close</th>\n",
       "      <th>Volume</th>\n",
       "    </tr>\n",
       "    <tr>\n",
       "      <th>Date</th>\n",
       "      <th></th>\n",
       "      <th></th>\n",
       "      <th></th>\n",
       "      <th></th>\n",
       "      <th></th>\n",
       "      <th></th>\n",
       "    </tr>\n",
       "  </thead>\n",
       "  <tbody>\n",
       "    <tr>\n",
       "      <th>2004-08-19</th>\n",
       "      <td>NaN</td>\n",
       "      <td>NaN</td>\n",
       "      <td>NaN</td>\n",
       "      <td>NaN</td>\n",
       "      <td>NaN</td>\n",
       "      <td>NaN</td>\n",
       "    </tr>\n",
       "    <tr>\n",
       "      <th>2004-08-20</th>\n",
       "      <td>49.813286</td>\n",
       "      <td>51.835709</td>\n",
       "      <td>47.800831</td>\n",
       "      <td>49.982655</td>\n",
       "      <td>49.982655</td>\n",
       "      <td>44871300.0</td>\n",
       "    </tr>\n",
       "    <tr>\n",
       "      <th>2004-08-23</th>\n",
       "      <td>50.316402</td>\n",
       "      <td>54.336334</td>\n",
       "      <td>50.062355</td>\n",
       "      <td>53.952770</td>\n",
       "      <td>53.952770</td>\n",
       "      <td>22942800.0</td>\n",
       "    </tr>\n",
       "    <tr>\n",
       "      <th>2004-08-24</th>\n",
       "      <td>55.168217</td>\n",
       "      <td>56.528118</td>\n",
       "      <td>54.321388</td>\n",
       "      <td>54.495735</td>\n",
       "      <td>54.495735</td>\n",
       "      <td>18342800.0</td>\n",
       "    </tr>\n",
       "    <tr>\n",
       "      <th>2004-08-25</th>\n",
       "      <td>55.412300</td>\n",
       "      <td>55.591629</td>\n",
       "      <td>51.591621</td>\n",
       "      <td>52.239193</td>\n",
       "      <td>52.239193</td>\n",
       "      <td>15319700.0</td>\n",
       "    </tr>\n",
       "  </tbody>\n",
       "</table>\n",
       "</div>"
      ],
      "text/plain": [
       "                 Open       High        Low      Close  Adj Close      Volume\n",
       "Date                                                                         \n",
       "2004-08-19        NaN        NaN        NaN        NaN        NaN         NaN\n",
       "2004-08-20  49.813286  51.835709  47.800831  49.982655  49.982655  44871300.0\n",
       "2004-08-23  50.316402  54.336334  50.062355  53.952770  53.952770  22942800.0\n",
       "2004-08-24  55.168217  56.528118  54.321388  54.495735  54.495735  18342800.0\n",
       "2004-08-25  55.412300  55.591629  51.591621  52.239193  52.239193  15319700.0"
      ]
     },
     "execution_count": 159,
     "metadata": {},
     "output_type": "execute_result"
    }
   ],
   "source": [
    "goog.shift(1).head()"
   ]
  },
  {
   "cell_type": "code",
   "execution_count": 160,
   "metadata": {},
   "outputs": [
    {
     "data": {
      "text/plain": [
       "Date\n",
       "2004-08-19         NaN\n",
       "2004-08-20    0.076433\n",
       "2004-08-23    0.010013\n",
       "2004-08-24   -0.042289\n",
       "2004-08-25    0.010718\n",
       "Name: log-return, dtype: float64"
      ]
     },
     "execution_count": 160,
     "metadata": {},
     "output_type": "execute_result"
    }
   ],
   "source": [
    "goog[\"log-return\"] = np.log(goog[\"Adj Close\"] / goog[\"Adj Close\"].shift(1))\n",
    "goog[\"log-return\"].head()"
   ]
  },
  {
   "cell_type": "code",
   "execution_count": 162,
   "metadata": {
    "scrolled": true
   },
   "outputs": [
    {
     "data": {
      "text/plain": [
       "<matplotlib.axes._subplots.AxesSubplot at 0x1eb64ba30f0>"
      ]
     },
     "execution_count": 162,
     "metadata": {},
     "output_type": "execute_result"
    },
    {
     "data": {
      "image/png": "iVBORw0KGgoAAAANSUhEUgAAAZIAAAEQCAYAAACa+vIpAAAABHNCSVQICAgIfAhkiAAAAAlwSFlz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\nFNmRZDKZTKYpsiPJZDKZTFP8P73F4c/YEzxPAAAAAElFTkSuQmCC\n",
      "text/plain": [
       "<matplotlib.figure.Figure at 0x1eb64a2b0b8>"
      ]
     },
     "metadata": {},
     "output_type": "display_data"
    }
   ],
   "source": [
    "goog[\"log-return\"].iloc[-100:].plot()"
   ]
  },
  {
   "cell_type": "code",
   "execution_count": 164,
   "metadata": {
    "scrolled": true
   },
   "outputs": [
    {
     "data": {
      "text/html": [
       "<div>\n",
       "<style>\n",
       "    .dataframe thead tr:only-child th {\n",
       "        text-align: right;\n",
       "    }\n",
       "\n",
       "    .dataframe thead th {\n",
       "        text-align: left;\n",
       "    }\n",
       "\n",
       "    .dataframe tbody tr th {\n",
       "        vertical-align: top;\n",
       "    }\n",
       "</style>\n",
       "<table border=\"1\" class=\"dataframe\">\n",
       "  <thead>\n",
       "    <tr style=\"text-align: right;\">\n",
       "      <th></th>\n",
       "      <th>Open</th>\n",
       "      <th>High</th>\n",
       "      <th>Low</th>\n",
       "      <th>Close</th>\n",
       "      <th>Adj Close</th>\n",
       "      <th>Volume</th>\n",
       "    </tr>\n",
       "    <tr>\n",
       "      <th>Date</th>\n",
       "      <th></th>\n",
       "      <th></th>\n",
       "      <th></th>\n",
       "      <th></th>\n",
       "      <th></th>\n",
       "      <th></th>\n",
       "    </tr>\n",
       "  </thead>\n",
       "  <tbody>\n",
       "    <tr>\n",
       "      <th>1980-12-12</th>\n",
       "      <td>0.513393</td>\n",
       "      <td>0.515625</td>\n",
       "      <td>0.513393</td>\n",
       "      <td>0.513393</td>\n",
       "      <td>0.423252</td>\n",
       "      <td>117258400</td>\n",
       "    </tr>\n",
       "    <tr>\n",
       "      <th>1980-12-15</th>\n",
       "      <td>0.488839</td>\n",
       "      <td>0.488839</td>\n",
       "      <td>0.486607</td>\n",
       "      <td>0.486607</td>\n",
       "      <td>0.401170</td>\n",
       "      <td>43971200</td>\n",
       "    </tr>\n",
       "    <tr>\n",
       "      <th>1980-12-16</th>\n",
       "      <td>0.453125</td>\n",
       "      <td>0.453125</td>\n",
       "      <td>0.450893</td>\n",
       "      <td>0.450893</td>\n",
       "      <td>0.371726</td>\n",
       "      <td>26432000</td>\n",
       "    </tr>\n",
       "    <tr>\n",
       "      <th>1980-12-17</th>\n",
       "      <td>0.462054</td>\n",
       "      <td>0.464286</td>\n",
       "      <td>0.462054</td>\n",
       "      <td>0.462054</td>\n",
       "      <td>0.380927</td>\n",
       "      <td>21610400</td>\n",
       "    </tr>\n",
       "    <tr>\n",
       "      <th>1980-12-18</th>\n",
       "      <td>0.475446</td>\n",
       "      <td>0.477679</td>\n",
       "      <td>0.475446</td>\n",
       "      <td>0.475446</td>\n",
       "      <td>0.391969</td>\n",
       "      <td>18362400</td>\n",
       "    </tr>\n",
       "  </tbody>\n",
       "</table>\n",
       "</div>"
      ],
      "text/plain": [
       "                Open      High       Low     Close Adj Close     Volume\n",
       "Date                                                                   \n",
       "1980-12-12  0.513393  0.515625  0.513393  0.513393  0.423252  117258400\n",
       "1980-12-15  0.488839  0.488839  0.486607  0.486607  0.401170   43971200\n",
       "1980-12-16  0.453125  0.453125  0.450893  0.450893  0.371726   26432000\n",
       "1980-12-17  0.462054  0.464286  0.462054  0.462054  0.380927   21610400\n",
       "1980-12-18  0.475446  0.477679  0.475446  0.475446  0.391969   18362400"
      ]
     },
     "execution_count": 164,
     "metadata": {},
     "output_type": "execute_result"
    }
   ],
   "source": [
    "aapl = pd.read_csv(\"data/AAPL.csv\", index_col=0, parse_dates=[\"Date\"])\n",
    "aapl.head()"
   ]
  },
  {
   "cell_type": "code",
   "execution_count": 174,
   "metadata": {
    "scrolled": true
   },
   "outputs": [
    {
     "data": {
      "text/html": [
       "<div>\n",
       "<style>\n",
       "    .dataframe thead tr:only-child th {\n",
       "        text-align: right;\n",
       "    }\n",
       "\n",
       "    .dataframe thead th {\n",
       "        text-align: left;\n",
       "    }\n",
       "\n",
       "    .dataframe tbody tr th {\n",
       "        vertical-align: top;\n",
       "    }\n",
       "</style>\n",
       "<table border=\"1\" class=\"dataframe\">\n",
       "  <thead>\n",
       "    <tr style=\"text-align: right;\">\n",
       "      <th></th>\n",
       "      <th>Open</th>\n",
       "      <th>High</th>\n",
       "      <th>Low</th>\n",
       "      <th>Close</th>\n",
       "      <th>Adj Close</th>\n",
       "      <th>Volume</th>\n",
       "    </tr>\n",
       "    <tr>\n",
       "      <th>Date</th>\n",
       "      <th></th>\n",
       "      <th></th>\n",
       "      <th></th>\n",
       "      <th></th>\n",
       "      <th></th>\n",
       "      <th></th>\n",
       "    </tr>\n",
       "  </thead>\n",
       "  <tbody>\n",
       "    <tr>\n",
       "      <th>1981-08-03</th>\n",
       "      <td>0.446429</td>\n",
       "      <td>0.446429</td>\n",
       "      <td>0.441964</td>\n",
       "      <td>0.441964</td>\n",
       "      <td>0.364365</td>\n",
       "      <td>3108000</td>\n",
       "    </tr>\n",
       "    <tr>\n",
       "      <th>1981-08-04</th>\n",
       "      <td>0.448661</td>\n",
       "      <td>0.450893</td>\n",
       "      <td>0.448661</td>\n",
       "      <td>0.448661</td>\n",
       "      <td>0.369886</td>\n",
       "      <td>7918400</td>\n",
       "    </tr>\n",
       "    <tr>\n",
       "      <th>1981-08-05</th>\n",
       "      <td>0.462054</td>\n",
       "      <td>0.464286</td>\n",
       "      <td>0.462054</td>\n",
       "      <td>0.462054</td>\n",
       "      <td>0.380927</td>\n",
       "      <td>4373600</td>\n",
       "    </tr>\n",
       "    <tr>\n",
       "      <th>1981-08-06</th>\n",
       "      <td>0.453125</td>\n",
       "      <td>0.453125</td>\n",
       "      <td>0.450893</td>\n",
       "      <td>0.450893</td>\n",
       "      <td>0.371726</td>\n",
       "      <td>2632000</td>\n",
       "    </tr>\n",
       "    <tr>\n",
       "      <th>1981-08-07</th>\n",
       "      <td>0.450893</td>\n",
       "      <td>0.453125</td>\n",
       "      <td>0.450893</td>\n",
       "      <td>0.450893</td>\n",
       "      <td>0.371726</td>\n",
       "      <td>2301600</td>\n",
       "    </tr>\n",
       "    <tr>\n",
       "      <th>1981-08-10</th>\n",
       "      <td>NaN</td>\n",
       "      <td>NaN</td>\n",
       "      <td>NaN</td>\n",
       "      <td>NaN</td>\n",
       "      <td>NaN</td>\n",
       "      <td>NaN</td>\n",
       "    </tr>\n",
       "    <tr>\n",
       "      <th>1981-08-11</th>\n",
       "      <td>0.441964</td>\n",
       "      <td>0.441964</td>\n",
       "      <td>0.437500</td>\n",
       "      <td>0.437500</td>\n",
       "      <td>0.360685</td>\n",
       "      <td>17864000</td>\n",
       "    </tr>\n",
       "    <tr>\n",
       "      <th>1981-08-12</th>\n",
       "      <td>0.430804</td>\n",
       "      <td>0.430804</td>\n",
       "      <td>0.428571</td>\n",
       "      <td>0.428571</td>\n",
       "      <td>0.353324</td>\n",
       "      <td>6568800</td>\n",
       "    </tr>\n",
       "    <tr>\n",
       "      <th>1981-08-13</th>\n",
       "      <td>0.417411</td>\n",
       "      <td>0.417411</td>\n",
       "      <td>0.415179</td>\n",
       "      <td>0.415179</td>\n",
       "      <td>0.342283</td>\n",
       "      <td>6871200</td>\n",
       "    </tr>\n",
       "    <tr>\n",
       "      <th>1981-08-14</th>\n",
       "      <td>0.412946</td>\n",
       "      <td>0.412946</td>\n",
       "      <td>0.408482</td>\n",
       "      <td>0.408482</td>\n",
       "      <td>0.336762</td>\n",
       "      <td>6048000</td>\n",
       "    </tr>\n",
       "  </tbody>\n",
       "</table>\n",
       "</div>"
      ],
      "text/plain": [
       "                Open      High       Low     Close Adj Close    Volume\n",
       "Date                                                                  \n",
       "1981-08-03  0.446429  0.446429  0.441964  0.441964  0.364365   3108000\n",
       "1981-08-04  0.448661  0.450893  0.448661  0.448661  0.369886   7918400\n",
       "1981-08-05  0.462054  0.464286  0.462054  0.462054  0.380927   4373600\n",
       "1981-08-06  0.453125  0.453125  0.450893  0.450893  0.371726   2632000\n",
       "1981-08-07  0.450893  0.453125  0.450893  0.450893  0.371726   2301600\n",
       "1981-08-10       NaN       NaN       NaN       NaN       NaN       NaN\n",
       "1981-08-11  0.441964  0.441964  0.437500  0.437500  0.360685  17864000\n",
       "1981-08-12  0.430804  0.430804  0.428571  0.428571  0.353324   6568800\n",
       "1981-08-13  0.417411  0.417411  0.415179  0.415179  0.342283   6871200\n",
       "1981-08-14  0.412946  0.412946  0.408482  0.408482  0.336762   6048000"
      ]
     },
     "execution_count": 174,
     "metadata": {},
     "output_type": "execute_result"
    }
   ],
   "source": [
    "aapl[aapl == \"null\"] = np.NaN\n",
    "aapl.iloc[160:170]"
   ]
  },
  {
   "cell_type": "code",
   "execution_count": 175,
   "metadata": {},
   "outputs": [
    {
     "data": {
      "text/html": [
       "<div>\n",
       "<style>\n",
       "    .dataframe thead tr:only-child th {\n",
       "        text-align: right;\n",
       "    }\n",
       "\n",
       "    .dataframe thead th {\n",
       "        text-align: left;\n",
       "    }\n",
       "\n",
       "    .dataframe tbody tr th {\n",
       "        vertical-align: top;\n",
       "    }\n",
       "</style>\n",
       "<table border=\"1\" class=\"dataframe\">\n",
       "  <thead>\n",
       "    <tr style=\"text-align: right;\">\n",
       "      <th></th>\n",
       "      <th>Open</th>\n",
       "      <th>High</th>\n",
       "      <th>Low</th>\n",
       "      <th>Close</th>\n",
       "      <th>Adj Close</th>\n",
       "      <th>Volume</th>\n",
       "    </tr>\n",
       "    <tr>\n",
       "      <th>Date</th>\n",
       "      <th></th>\n",
       "      <th></th>\n",
       "      <th></th>\n",
       "      <th></th>\n",
       "      <th></th>\n",
       "      <th></th>\n",
       "    </tr>\n",
       "  </thead>\n",
       "  <tbody>\n",
       "    <tr>\n",
       "      <th>1981-08-03</th>\n",
       "      <td>0.446429</td>\n",
       "      <td>0.446429</td>\n",
       "      <td>0.441964</td>\n",
       "      <td>0.441964</td>\n",
       "      <td>0.364365</td>\n",
       "      <td>3108000</td>\n",
       "    </tr>\n",
       "    <tr>\n",
       "      <th>1981-08-04</th>\n",
       "      <td>0.448661</td>\n",
       "      <td>0.450893</td>\n",
       "      <td>0.448661</td>\n",
       "      <td>0.448661</td>\n",
       "      <td>0.369886</td>\n",
       "      <td>7918400</td>\n",
       "    </tr>\n",
       "    <tr>\n",
       "      <th>1981-08-05</th>\n",
       "      <td>0.462054</td>\n",
       "      <td>0.464286</td>\n",
       "      <td>0.462054</td>\n",
       "      <td>0.462054</td>\n",
       "      <td>0.380927</td>\n",
       "      <td>4373600</td>\n",
       "    </tr>\n",
       "    <tr>\n",
       "      <th>1981-08-06</th>\n",
       "      <td>0.453125</td>\n",
       "      <td>0.453125</td>\n",
       "      <td>0.450893</td>\n",
       "      <td>0.450893</td>\n",
       "      <td>0.371726</td>\n",
       "      <td>2632000</td>\n",
       "    </tr>\n",
       "    <tr>\n",
       "      <th>1981-08-07</th>\n",
       "      <td>0.450893</td>\n",
       "      <td>0.453125</td>\n",
       "      <td>0.450893</td>\n",
       "      <td>0.450893</td>\n",
       "      <td>0.371726</td>\n",
       "      <td>2301600</td>\n",
       "    </tr>\n",
       "    <tr>\n",
       "      <th>1981-08-10</th>\n",
       "      <td>0.450893</td>\n",
       "      <td>0.453125</td>\n",
       "      <td>0.450893</td>\n",
       "      <td>0.450893</td>\n",
       "      <td>0.371726</td>\n",
       "      <td>2301600</td>\n",
       "    </tr>\n",
       "    <tr>\n",
       "      <th>1981-08-11</th>\n",
       "      <td>0.441964</td>\n",
       "      <td>0.441964</td>\n",
       "      <td>0.437500</td>\n",
       "      <td>0.437500</td>\n",
       "      <td>0.360685</td>\n",
       "      <td>17864000</td>\n",
       "    </tr>\n",
       "    <tr>\n",
       "      <th>1981-08-12</th>\n",
       "      <td>0.430804</td>\n",
       "      <td>0.430804</td>\n",
       "      <td>0.428571</td>\n",
       "      <td>0.428571</td>\n",
       "      <td>0.353324</td>\n",
       "      <td>6568800</td>\n",
       "    </tr>\n",
       "    <tr>\n",
       "      <th>1981-08-13</th>\n",
       "      <td>0.417411</td>\n",
       "      <td>0.417411</td>\n",
       "      <td>0.415179</td>\n",
       "      <td>0.415179</td>\n",
       "      <td>0.342283</td>\n",
       "      <td>6871200</td>\n",
       "    </tr>\n",
       "    <tr>\n",
       "      <th>1981-08-14</th>\n",
       "      <td>0.412946</td>\n",
       "      <td>0.412946</td>\n",
       "      <td>0.408482</td>\n",
       "      <td>0.408482</td>\n",
       "      <td>0.336762</td>\n",
       "      <td>6048000</td>\n",
       "    </tr>\n",
       "  </tbody>\n",
       "</table>\n",
       "</div>"
      ],
      "text/plain": [
       "                Open      High       Low     Close Adj Close    Volume\n",
       "Date                                                                  \n",
       "1981-08-03  0.446429  0.446429  0.441964  0.441964  0.364365   3108000\n",
       "1981-08-04  0.448661  0.450893  0.448661  0.448661  0.369886   7918400\n",
       "1981-08-05  0.462054  0.464286  0.462054  0.462054  0.380927   4373600\n",
       "1981-08-06  0.453125  0.453125  0.450893  0.450893  0.371726   2632000\n",
       "1981-08-07  0.450893  0.453125  0.450893  0.450893  0.371726   2301600\n",
       "1981-08-10  0.450893  0.453125  0.450893  0.450893  0.371726   2301600\n",
       "1981-08-11  0.441964  0.441964  0.437500  0.437500  0.360685  17864000\n",
       "1981-08-12  0.430804  0.430804  0.428571  0.428571  0.353324   6568800\n",
       "1981-08-13  0.417411  0.417411  0.415179  0.415179  0.342283   6871200\n",
       "1981-08-14  0.412946  0.412946  0.408482  0.408482  0.336762   6048000"
      ]
     },
     "execution_count": 175,
     "metadata": {},
     "output_type": "execute_result"
    }
   ],
   "source": [
    "aapl = aapl.ffill()\n",
    "aapl.iloc[160:170]"
   ]
  },
  {
   "cell_type": "code",
   "execution_count": 181,
   "metadata": {},
   "outputs": [],
   "source": [
    "for i, val in enumerate(aapl):\n",
    "    aapl[val] = pd.to_numeric(aapl[val])"
   ]
  },
  {
   "cell_type": "code",
   "execution_count": 183,
   "metadata": {},
   "outputs": [
    {
     "data": {
      "text/plain": [
       "<matplotlib.axes._subplots.AxesSubplot at 0x1eb64ed6240>"
      ]
     },
     "execution_count": 183,
     "metadata": {},
     "output_type": "execute_result"
    },
    {
     "data": {
      "image/png": "iVBORw0KGgoAAAANSUhEUgAAAXoAAAEACAYAAAC9Gb03AAAABHNCSVQICAgIfAhkiAAAAAlwSFlz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\nIoOcEr2IyCCnRC8iMsgp0YuIDHL/H1UdF0z1NzGmAAAAAElFTkSuQmCC\n",
      "text/plain": [
       "<matplotlib.figure.Figure at 0x1eb64edee48>"
      ]
     },
     "metadata": {},
     "output_type": "display_data"
    }
   ],
   "source": [
    "aapl[\"Adj Close\"].plot()"
   ]
  },
  {
   "cell_type": "code",
   "execution_count": 184,
   "metadata": {
    "scrolled": false
   },
   "outputs": [
    {
     "data": {
      "text/html": [
       "<div>\n",
       "<style>\n",
       "    .dataframe thead tr:only-child th {\n",
       "        text-align: right;\n",
       "    }\n",
       "\n",
       "    .dataframe thead th {\n",
       "        text-align: left;\n",
       "    }\n",
       "\n",
       "    .dataframe tbody tr th {\n",
       "        vertical-align: top;\n",
       "    }\n",
       "</style>\n",
       "<table border=\"1\" class=\"dataframe\">\n",
       "  <thead>\n",
       "    <tr style=\"text-align: right;\">\n",
       "      <th></th>\n",
       "      <th>Open</th>\n",
       "      <th>High</th>\n",
       "      <th>Low</th>\n",
       "      <th>Close</th>\n",
       "      <th>Adj Close</th>\n",
       "      <th>Volume</th>\n",
       "    </tr>\n",
       "    <tr>\n",
       "      <th>Date</th>\n",
       "      <th></th>\n",
       "      <th></th>\n",
       "      <th></th>\n",
       "      <th></th>\n",
       "      <th></th>\n",
       "      <th></th>\n",
       "    </tr>\n",
       "  </thead>\n",
       "  <tbody>\n",
       "    <tr>\n",
       "      <th>1986-03-13</th>\n",
       "      <td>0.088542</td>\n",
       "      <td>0.101563</td>\n",
       "      <td>0.088542</td>\n",
       "      <td>0.097222</td>\n",
       "      <td>0.065242</td>\n",
       "      <td>1031788800</td>\n",
       "    </tr>\n",
       "    <tr>\n",
       "      <th>1986-03-14</th>\n",
       "      <td>0.097222</td>\n",
       "      <td>0.102431</td>\n",
       "      <td>0.097222</td>\n",
       "      <td>0.100694</td>\n",
       "      <td>0.067572</td>\n",
       "      <td>308160000</td>\n",
       "    </tr>\n",
       "    <tr>\n",
       "      <th>1986-03-17</th>\n",
       "      <td>0.100694</td>\n",
       "      <td>0.103299</td>\n",
       "      <td>0.100694</td>\n",
       "      <td>0.102431</td>\n",
       "      <td>0.068737</td>\n",
       "      <td>133171200</td>\n",
       "    </tr>\n",
       "    <tr>\n",
       "      <th>1986-03-18</th>\n",
       "      <td>0.102431</td>\n",
       "      <td>0.103299</td>\n",
       "      <td>0.098958</td>\n",
       "      <td>0.099826</td>\n",
       "      <td>0.066990</td>\n",
       "      <td>67766400</td>\n",
       "    </tr>\n",
       "    <tr>\n",
       "      <th>1986-03-19</th>\n",
       "      <td>0.099826</td>\n",
       "      <td>0.100694</td>\n",
       "      <td>0.097222</td>\n",
       "      <td>0.098090</td>\n",
       "      <td>0.065825</td>\n",
       "      <td>47894400</td>\n",
       "    </tr>\n",
       "  </tbody>\n",
       "</table>\n",
       "</div>"
      ],
      "text/plain": [
       "                Open      High       Low     Close  Adj Close      Volume\n",
       "Date                                                                     \n",
       "1986-03-13  0.088542  0.101563  0.088542  0.097222   0.065242  1031788800\n",
       "1986-03-14  0.097222  0.102431  0.097222  0.100694   0.067572   308160000\n",
       "1986-03-17  0.100694  0.103299  0.100694  0.102431   0.068737   133171200\n",
       "1986-03-18  0.102431  0.103299  0.098958  0.099826   0.066990    67766400\n",
       "1986-03-19  0.099826  0.100694  0.097222  0.098090   0.065825    47894400"
      ]
     },
     "execution_count": 184,
     "metadata": {},
     "output_type": "execute_result"
    }
   ],
   "source": [
    "msft = pd.read_csv(\"data/MSFT.csv\", index_col=0, parse_dates=[\"Date\"])\n",
    "msft.head()"
   ]
  },
  {
   "cell_type": "code",
   "execution_count": 185,
   "metadata": {
    "scrolled": true
   },
   "outputs": [
    {
     "data": {
      "text/plain": [
       "<matplotlib.axes._subplots.AxesSubplot at 0x1eb64f00390>"
      ]
     },
     "execution_count": 185,
     "metadata": {},
     "output_type": "execute_result"
    },
    {
     "data": {
      "image/png": "iVBORw0KGgoAAAANSUhEUgAAAYAAAAEACAYAAAC6d6FnAAAABHNCSVQICAgIfAhkiAAAAAlwSFlz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\n0gSglFKNlCYApZRqpDQBKKVUI/X/AaNzvjg+9XYoAAAAAElFTkSuQmCC\n",
      "text/plain": [
       "<matplotlib.figure.Figure at 0x1eb64e0e160>"
      ]
     },
     "metadata": {},
     "output_type": "display_data"
    }
   ],
   "source": [
    "stocks = pd.DataFrame({\"AAPL\": aapl[\"Adj Close\"],\n",
    "                      \"MSFT\": msft[\"Adj Close\"],\n",
    "                      \"GOOG\": goog[\"Adj Close\"]})\n",
    "stocks.plot()"
   ]
  },
  {
   "cell_type": "code",
   "execution_count": 189,
   "metadata": {},
   "outputs": [],
   "source": [
    "valid_stocks = stocks[stocks.index >= stocks[\"GOOG\"].first_valid_index()]"
   ]
  },
  {
   "cell_type": "code",
   "execution_count": 190,
   "metadata": {
    "scrolled": true
   },
   "outputs": [
    {
     "data": {
      "text/plain": [
       "<matplotlib.axes._subplots.AxesSubplot at 0x1eb64e31a90>"
      ]
     },
     "execution_count": 190,
     "metadata": {},
     "output_type": "execute_result"
    },
    {
     "data": {
      "image/png": "iVBORw0KGgoAAAANSUhEUgAAAYAAAAEACAYAAAC6d6FnAAAABHNCSVQICAgIfAhkiAAAAAlwSFlz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\nBw3OcFwAAAAASUVORK5CYII=\n",
      "text/plain": [
       "<matplotlib.figure.Figure at 0x1eb64d9a518>"
      ]
     },
     "metadata": {},
     "output_type": "display_data"
    }
   ],
   "source": [
    "valid_stocks.plot()"
   ]
  },
  {
   "cell_type": "code",
   "execution_count": 193,
   "metadata": {},
   "outputs": [
    {
     "data": {
      "text/plain": [
       "<matplotlib.axes._subplots.AxesSubplot at 0x1eb64ff3ac8>"
      ]
     },
     "execution_count": 193,
     "metadata": {},
     "output_type": "execute_result"
    },
    {
     "data": {
      "image/png": "iVBORw0KGgoAAAANSUhEUgAABJMAAAQfCAYAAACnAagnAAAABHNCSVQICAgIfAhkiAAAAAlwSFlz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\n",
      "text/plain": [
       "<matplotlib.figure.Figure at 0x1eb65243d30>"
      ]
     },
     "metadata": {},
     "output_type": "display_data"
    }
   ],
   "source": [
    "valid_stocks_lr = np.log(valid_stocks / valid_stocks.shift(1))\n",
    "valid_stocks_lr.loc[\"2017-01-01\":\"2017-02-01\"].plot(grid=True, figsize=(20, 20))"
   ]
  },
  {
   "cell_type": "markdown",
   "metadata": {},
   "source": [
    "datetime indexing"
   ]
  },
  {
   "cell_type": "markdown",
   "metadata": {},
   "source": [
    "### 下面我们试试能不能把日K图变成月K图"
   ]
  },
  {
   "cell_type": "code",
   "execution_count": 196,
   "metadata": {},
   "outputs": [
    {
     "data": {
      "text/html": [
       "<div>\n",
       "<style>\n",
       "    .dataframe thead tr:only-child th {\n",
       "        text-align: right;\n",
       "    }\n",
       "\n",
       "    .dataframe thead th {\n",
       "        text-align: left;\n",
       "    }\n",
       "\n",
       "    .dataframe tbody tr th {\n",
       "        vertical-align: top;\n",
       "    }\n",
       "</style>\n",
       "<table border=\"1\" class=\"dataframe\">\n",
       "  <thead>\n",
       "    <tr style=\"text-align: right;\">\n",
       "      <th></th>\n",
       "      <th></th>\n",
       "      <th>AAPL</th>\n",
       "      <th>GOOG</th>\n",
       "      <th>MSFT</th>\n",
       "    </tr>\n",
       "    <tr>\n",
       "      <th>Date</th>\n",
       "      <th>Date</th>\n",
       "      <th></th>\n",
       "      <th></th>\n",
       "      <th></th>\n",
       "    </tr>\n",
       "  </thead>\n",
       "  <tbody>\n",
       "    <tr>\n",
       "      <th rowspan=\"5\" valign=\"top\">2004</th>\n",
       "      <th>8</th>\n",
       "      <td>2.225070</td>\n",
       "      <td>50.993862</td>\n",
       "      <td>18.536587</td>\n",
       "    </tr>\n",
       "    <tr>\n",
       "      <th>9</th>\n",
       "      <td>2.499898</td>\n",
       "      <td>64.558022</td>\n",
       "      <td>18.774242</td>\n",
       "    </tr>\n",
       "    <tr>\n",
       "      <th>10</th>\n",
       "      <td>3.380507</td>\n",
       "      <td>94.964050</td>\n",
       "      <td>18.991516</td>\n",
       "    </tr>\n",
       "    <tr>\n",
       "      <th>11</th>\n",
       "      <td>4.325631</td>\n",
       "      <td>90.650223</td>\n",
       "      <td>20.288960</td>\n",
       "    </tr>\n",
       "    <tr>\n",
       "      <th>12</th>\n",
       "      <td>4.154669</td>\n",
       "      <td>96.035034</td>\n",
       "      <td>20.220860</td>\n",
       "    </tr>\n",
       "  </tbody>\n",
       "</table>\n",
       "</div>"
      ],
      "text/plain": [
       "               AAPL       GOOG       MSFT\n",
       "Date Date                                \n",
       "2004 8     2.225070  50.993862  18.536587\n",
       "     9     2.499898  64.558022  18.774242\n",
       "     10    3.380507  94.964050  18.991516\n",
       "     11    4.325631  90.650223  20.288960\n",
       "     12    4.154669  96.035034  20.220860"
      ]
     },
     "execution_count": 196,
     "metadata": {},
     "output_type": "execute_result"
    }
   ],
   "source": [
    "monthly_stocks = valid_stocks.groupby([valid_stocks.index.year, valid_stocks.index.month]).last()\n",
    "monthly_stocks.head()"
   ]
  },
  {
   "cell_type": "code",
   "execution_count": 202,
   "metadata": {},
   "outputs": [
    {
     "data": {
      "text/html": [
       "<div>\n",
       "<style>\n",
       "    .dataframe thead tr:only-child th {\n",
       "        text-align: right;\n",
       "    }\n",
       "\n",
       "    .dataframe thead th {\n",
       "        text-align: left;\n",
       "    }\n",
       "\n",
       "    .dataframe tbody tr th {\n",
       "        vertical-align: top;\n",
       "    }\n",
       "</style>\n",
       "<table border=\"1\" class=\"dataframe\">\n",
       "  <thead>\n",
       "    <tr style=\"text-align: right;\">\n",
       "      <th></th>\n",
       "      <th>AAPL</th>\n",
       "      <th>GOOG</th>\n",
       "      <th>MSFT</th>\n",
       "    </tr>\n",
       "  </thead>\n",
       "  <tbody>\n",
       "    <tr>\n",
       "      <th>2004-08</th>\n",
       "      <td>2.225070</td>\n",
       "      <td>50.993862</td>\n",
       "      <td>18.536587</td>\n",
       "    </tr>\n",
       "    <tr>\n",
       "      <th>2004-09</th>\n",
       "      <td>2.499898</td>\n",
       "      <td>64.558022</td>\n",
       "      <td>18.774242</td>\n",
       "    </tr>\n",
       "    <tr>\n",
       "      <th>2004-10</th>\n",
       "      <td>3.380507</td>\n",
       "      <td>94.964050</td>\n",
       "      <td>18.991516</td>\n",
       "    </tr>\n",
       "    <tr>\n",
       "      <th>2004-11</th>\n",
       "      <td>4.325631</td>\n",
       "      <td>90.650223</td>\n",
       "      <td>20.288960</td>\n",
       "    </tr>\n",
       "    <tr>\n",
       "      <th>2004-12</th>\n",
       "      <td>4.154669</td>\n",
       "      <td>96.035034</td>\n",
       "      <td>20.220860</td>\n",
       "    </tr>\n",
       "  </tbody>\n",
       "</table>\n",
       "</div>"
      ],
      "text/plain": [
       "             AAPL       GOOG       MSFT\n",
       "2004-08  2.225070  50.993862  18.536587\n",
       "2004-09  2.499898  64.558022  18.774242\n",
       "2004-10  3.380507  94.964050  18.991516\n",
       "2004-11  4.325631  90.650223  20.288960\n",
       "2004-12  4.154669  96.035034  20.220860"
      ]
     },
     "execution_count": 202,
     "metadata": {},
     "output_type": "execute_result"
    }
   ],
   "source": [
    "index = pd.PeriodIndex([ str(year) + \"-\" + str(month) \\\n",
    "                for year, month in monthly_stocks.index.values], freq=\"M\")\n",
    "monthly_stocks.index = index\n",
    "monthly_stocks.head()"
   ]
  },
  {
   "cell_type": "code",
   "execution_count": 203,
   "metadata": {},
   "outputs": [
    {
     "data": {
      "text/plain": [
       "<matplotlib.axes._subplots.AxesSubplot at 0x1eb653e7d30>"
      ]
     },
     "execution_count": 203,
     "metadata": {},
     "output_type": "execute_result"
    },
    {
     "data": {
      "image/png": "iVBORw0KGgoAAAANSUhEUgAAAYAAAAD8CAYAAAB+UHOxAAAABHNCSVQICAgIfAhkiAAAAAlwSFlz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\nOACDwWBYpfwfJ1RPHpCChhIAAAAASUVORK5CYII=\n",
      "text/plain": [
       "<matplotlib.figure.Figure at 0x1eb65338908>"
      ]
     },
     "metadata": {},
     "output_type": "display_data"
    }
   ],
   "source": [
    "monthly_stocks.plot(grid=True)"
   ]
  },
  {
   "cell_type": "markdown",
   "metadata": {},
   "source": [
    "## 特征处理\n"
   ]
  },
  {
   "cell_type": "markdown",
   "metadata": {},
   "source": [
    "更多资料参考寒小阳的教程[link](https://github.com/HanXiaoyang/Feature_Engineering_and_XGBoost_Parameter_Tuning/blob/master/Feature%20Engineering.ipynb)"
   ]
  },
  {
   "cell_type": "code",
   "execution_count": 204,
   "metadata": {
    "scrolled": true
   },
   "outputs": [
    {
     "data": {
      "text/html": [
       "<div>\n",
       "<style>\n",
       "    .dataframe thead tr:only-child th {\n",
       "        text-align: right;\n",
       "    }\n",
       "\n",
       "    .dataframe thead th {\n",
       "        text-align: left;\n",
       "    }\n",
       "\n",
       "    .dataframe tbody tr th {\n",
       "        vertical-align: top;\n",
       "    }\n",
       "</style>\n",
       "<table border=\"1\" class=\"dataframe\">\n",
       "  <thead>\n",
       "    <tr style=\"text-align: right;\">\n",
       "      <th></th>\n",
       "      <th>serious_dlqin2yrs</th>\n",
       "      <th>revolving_utilization_of_unsecured_lines</th>\n",
       "      <th>age</th>\n",
       "      <th>number_of_time30-59_days_past_due_not_worse</th>\n",
       "      <th>debt_ratio</th>\n",
       "      <th>monthly_income</th>\n",
       "      <th>number_of_open_credit_lines_and_loans</th>\n",
       "      <th>number_of_times90_days_late</th>\n",
       "      <th>number_real_estate_loans_or_lines</th>\n",
       "      <th>number_of_time60-89_days_past_due_not_worse</th>\n",
       "      <th>number_of_dependents</th>\n",
       "    </tr>\n",
       "  </thead>\n",
       "  <tbody>\n",
       "    <tr>\n",
       "      <th>0</th>\n",
       "      <td>1</td>\n",
       "      <td>0.766127</td>\n",
       "      <td>45</td>\n",
       "      <td>2</td>\n",
       "      <td>0.802982</td>\n",
       "      <td>9120.0</td>\n",
       "      <td>13</td>\n",
       "      <td>0</td>\n",
       "      <td>6</td>\n",
       "      <td>0</td>\n",
       "      <td>2.0</td>\n",
       "    </tr>\n",
       "    <tr>\n",
       "      <th>1</th>\n",
       "      <td>0</td>\n",
       "      <td>0.957151</td>\n",
       "      <td>40</td>\n",
       "      <td>0</td>\n",
       "      <td>0.121876</td>\n",
       "      <td>2600.0</td>\n",
       "      <td>4</td>\n",
       "      <td>0</td>\n",
       "      <td>0</td>\n",
       "      <td>0</td>\n",
       "      <td>1.0</td>\n",
       "    </tr>\n",
       "    <tr>\n",
       "      <th>2</th>\n",
       "      <td>0</td>\n",
       "      <td>0.658180</td>\n",
       "      <td>38</td>\n",
       "      <td>1</td>\n",
       "      <td>0.085113</td>\n",
       "      <td>3042.0</td>\n",
       "      <td>2</td>\n",
       "      <td>1</td>\n",
       "      <td>0</td>\n",
       "      <td>0</td>\n",
       "      <td>0.0</td>\n",
       "    </tr>\n",
       "    <tr>\n",
       "      <th>3</th>\n",
       "      <td>0</td>\n",
       "      <td>0.907239</td>\n",
       "      <td>49</td>\n",
       "      <td>1</td>\n",
       "      <td>0.024926</td>\n",
       "      <td>63588.0</td>\n",
       "      <td>7</td>\n",
       "      <td>0</td>\n",
       "      <td>1</td>\n",
       "      <td>0</td>\n",
       "      <td>0.0</td>\n",
       "    </tr>\n",
       "    <tr>\n",
       "      <th>4</th>\n",
       "      <td>0</td>\n",
       "      <td>0.213179</td>\n",
       "      <td>74</td>\n",
       "      <td>0</td>\n",
       "      <td>0.375607</td>\n",
       "      <td>3500.0</td>\n",
       "      <td>3</td>\n",
       "      <td>0</td>\n",
       "      <td>1</td>\n",
       "      <td>0</td>\n",
       "      <td>1.0</td>\n",
       "    </tr>\n",
       "  </tbody>\n",
       "</table>\n",
       "</div>"
      ],
      "text/plain": [
       "   serious_dlqin2yrs  revolving_utilization_of_unsecured_lines  age  \\\n",
       "0                  1                                  0.766127   45   \n",
       "1                  0                                  0.957151   40   \n",
       "2                  0                                  0.658180   38   \n",
       "3                  0                                  0.907239   49   \n",
       "4                  0                                  0.213179   74   \n",
       "\n",
       "   number_of_time30-59_days_past_due_not_worse  debt_ratio  monthly_income  \\\n",
       "0                                            2    0.802982          9120.0   \n",
       "1                                            0    0.121876          2600.0   \n",
       "2                                            1    0.085113          3042.0   \n",
       "3                                            1    0.024926         63588.0   \n",
       "4                                            0    0.375607          3500.0   \n",
       "\n",
       "   number_of_open_credit_lines_and_loans  number_of_times90_days_late  \\\n",
       "0                                     13                            0   \n",
       "1                                      4                            0   \n",
       "2                                      2                            1   \n",
       "3                                      7                            0   \n",
       "4                                      3                            0   \n",
       "\n",
       "   number_real_estate_loans_or_lines  \\\n",
       "0                                  6   \n",
       "1                                  0   \n",
       "2                                  0   \n",
       "3                                  1   \n",
       "4                                  1   \n",
       "\n",
       "   number_of_time60-89_days_past_due_not_worse  number_of_dependents  \n",
       "0                                            0                   2.0  \n",
       "1                                            0                   1.0  \n",
       "2                                            0                   0.0  \n",
       "3                                            0                   0.0  \n",
       "4                                            0                   1.0  "
      ]
     },
     "execution_count": 204,
     "metadata": {},
     "output_type": "execute_result"
    }
   ],
   "source": [
    "df = pd.read_csv(\"data/credit-data.csv\")\n",
    "df.head()"
   ]
  },
  {
   "cell_type": "code",
   "execution_count": 205,
   "metadata": {},
   "outputs": [
    {
     "name": "stdout",
     "output_type": "stream",
     "text": [
      "serious_dlqin2yrs\n",
      "0    104905\n",
      "1      7510\n",
      "Name: serious_dlqin2yrs, dtype: int64\n",
      "revolving_utilization_of_unsecured_lines\n",
      "0.000000    8154\n",
      "1.000000    7651\n",
      "1.000000      13\n",
      "0.950100       6\n",
      "0.982004       4\n",
      "0.717131       4\n",
      "0.004999       4\n",
      "0.120879       4\n",
      "0.988024       4\n",
      "0.921079       4\n",
      "0.990033       4\n",
      "0.003650       4\n",
      "0.857143       4\n",
      "0.076923       4\n",
      "0.017849       4\n",
      "0.002500       4\n",
      "0.017749       4\n",
      "0.912176       4\n",
      "0.161677       4\n",
      "0.000800       4\n",
      "0.035964       4\n",
      "0.538922       4\n",
      "0.058941       4\n",
      "0.007984       4\n",
      "0.713147       4\n",
      "0.018798       4\n",
      "0.999001       4\n",
      "0.992016       4\n",
      "1.105788       4\n",
      "0.147705       3\n",
      "            ... \n",
      "0.129278       1\n",
      "0.929222       1\n",
      "0.043920       1\n",
      "0.691795       1\n",
      "0.067803       1\n",
      "0.079228       1\n",
      "0.081027       1\n",
      "0.606954       1\n",
      "0.016722       1\n",
      "0.121215       1\n",
      "0.006934       1\n",
      "0.091811       1\n",
      "0.329528       1\n",
      "0.070119       1\n",
      "0.440980       1\n",
      "0.011720       1\n",
      "0.410886       1\n",
      "0.024189       1\n",
      "0.995846       1\n",
      "0.200634       1\n",
      "0.046474       1\n",
      "0.042231       1\n",
      "0.732798       1\n",
      "0.728896       1\n",
      "0.908993       1\n",
      "0.096150       1\n",
      "1.013588       1\n",
      "0.055367       1\n",
      "0.935638       1\n",
      "0.244689       1\n",
      "Name: revolving_utilization_of_unsecured_lines, Length: 94799, dtype: int64\n",
      "age\n",
      "48     2867\n",
      "49     2857\n",
      "50     2841\n",
      "47     2802\n",
      "63     2751\n",
      "46     2745\n",
      "51     2731\n",
      "54     2716\n",
      "53     2715\n",
      "62     2695\n",
      "52     2693\n",
      "56     2684\n",
      "61     2665\n",
      "45     2590\n",
      "55     2535\n",
      "58     2534\n",
      "57     2526\n",
      "44     2468\n",
      "59     2454\n",
      "60     2431\n",
      "43     2371\n",
      "41     2359\n",
      "40     2321\n",
      "42     2265\n",
      "64     2263\n",
      "39     2241\n",
      "38     1986\n",
      "65     1943\n",
      "37     1916\n",
      "66     1898\n",
      "       ... \n",
      "24      611\n",
      "81      600\n",
      "82      483\n",
      "23      466\n",
      "83      371\n",
      "85      358\n",
      "84      354\n",
      "22      327\n",
      "86      293\n",
      "87      263\n",
      "88      240\n",
      "89      198\n",
      "90      137\n",
      "21      134\n",
      "91      117\n",
      "92       69\n",
      "93       65\n",
      "95       33\n",
      "94       32\n",
      "96       15\n",
      "97       12\n",
      "99        7\n",
      "98        5\n",
      "103       3\n",
      "101       2\n",
      "109       2\n",
      "102       1\n",
      "105       1\n",
      "107       1\n",
      "0         1\n",
      "Name: age, Length: 86, dtype: int64\n",
      "number_of_time30-59_days_past_due_not_worse\n",
      "0     94359\n",
      "1     12097\n",
      "2      3459\n",
      "3      1317\n",
      "4       547\n",
      "5       242\n",
      "98      204\n",
      "6       106\n",
      "7        45\n",
      "8        19\n",
      "9         8\n",
      "96        5\n",
      "10        3\n",
      "12        2\n",
      "13        1\n",
      "11        1\n",
      "Name: number_of_time30-59_days_past_due_not_worse, dtype: int64\n",
      "debt_ratio\n",
      "0.000000     3060\n",
      "1.000000      178\n",
      "2.000000      139\n",
      "4.000000      126\n",
      "3.000000      119\n",
      "5.000000      101\n",
      "9.000000       95\n",
      "7.000000       91\n",
      "10.000000      87\n",
      "6.000000       86\n",
      "13.000000      84\n",
      "11.000000      82\n",
      "14.000000      82\n",
      "8.000000       80\n",
      "12.000000      78\n",
      "21.000000      78\n",
      "19.000000      72\n",
      "15.000000      71\n",
      "16.000000      65\n",
      "24.000000      64\n",
      "27.000000      63\n",
      "28.000000      60\n",
      "30.000000      59\n",
      "25.000000      59\n",
      "20.000000      59\n",
      "18.000000      58\n",
      "29.000000      56\n",
      "23.000000      55\n",
      "37.000000      55\n",
      "26.000000      54\n",
      "             ... \n",
      "0.183504        1\n",
      "0.333730        1\n",
      "5.496834        1\n",
      "0.040600        1\n",
      "0.544018        1\n",
      "1.144132        1\n",
      "0.415017        1\n",
      "0.640048        1\n",
      "0.253556        1\n",
      "1.512488        1\n",
      "2.567388        1\n",
      "0.338518        1\n",
      "0.135821        1\n",
      "0.162562        1\n",
      "0.838101        1\n",
      "0.013540        1\n",
      "0.328478        1\n",
      "1.759393        1\n",
      "0.123074        1\n",
      "0.050650        1\n",
      "0.422001        1\n",
      "0.243132        1\n",
      "0.354303        1\n",
      "0.107120        1\n",
      "0.892576        1\n",
      "0.269128        1\n",
      "15.258278       1\n",
      "0.287966        1\n",
      "0.144124        1\n",
      "2.762470        1\n",
      "Name: debt_ratio, Length: 87816, dtype: int64\n",
      "monthly_income\n",
      "5000.0     2376\n",
      "4000.0     1828\n",
      "6000.0     1738\n",
      "7000.0     1538\n",
      "2500.0     1479\n",
      "3000.0     1315\n",
      "8000.0     1266\n",
      "0.0        1227\n",
      "2155.0     1221\n",
      "3235.0     1214\n",
      "1406.0     1208\n",
      "1300.0     1202\n",
      "4166.0     1190\n",
      "10000.0    1179\n",
      "7500.0     1152\n",
      "3333.0     1142\n",
      "4100.0     1061\n",
      "3500.0     1030\n",
      "6017.0      960\n",
      "2400.0      934\n",
      "4500.0      927\n",
      "9666.0      902\n",
      "924.0       897\n",
      "2000.0      833\n",
      "10500.0     828\n",
      "2200.0      824\n",
      "10833.0     819\n",
      "4145.0      811\n",
      "5500.0      660\n",
      "2850.0      640\n",
      "           ... \n",
      "8765.0        1\n",
      "19550.0       1\n",
      "15341.0       1\n",
      "7671.0        1\n",
      "10205.0       1\n",
      "987.0         1\n",
      "23846.0       1\n",
      "6076.0        1\n",
      "18358.0       1\n",
      "89786.0       1\n",
      "13802.0       1\n",
      "6631.0        1\n",
      "9177.0        1\n",
      "8724.0        1\n",
      "5679.0        1\n",
      "11336.0       1\n",
      "8763.0        1\n",
      "26700.0       1\n",
      "8368.0        1\n",
      "15152.0       1\n",
      "15325.0       1\n",
      "5823.0        1\n",
      "15202.0       1\n",
      "27600.0       1\n",
      "1015.0        1\n",
      "9686.0        1\n",
      "1411.0        1\n",
      "10135.0       1\n",
      "13282.0       1\n",
      "33740.0       1\n",
      "Name: monthly_income, Length: 12391, dtype: int64\n",
      "number_of_open_credit_lines_and_loans\n",
      "6     10228\n",
      "7      9883\n",
      "5      9698\n",
      "8      9498\n",
      "4      8709\n",
      "9      8492\n",
      "10     7160\n",
      "3      6797\n",
      "11     6247\n",
      "12     5259\n",
      "2      4987\n",
      "13     4263\n",
      "14     3378\n",
      "1      3325\n",
      "15     2703\n",
      "16     2227\n",
      "17     1784\n",
      "0      1410\n",
      "18     1393\n",
      "19     1089\n",
      "20      900\n",
      "21      645\n",
      "22      519\n",
      "23      409\n",
      "24      303\n",
      "25      262\n",
      "26      184\n",
      "27      135\n",
      "28      111\n",
      "29       80\n",
      "30       68\n",
      "31       53\n",
      "32       40\n",
      "33       38\n",
      "34       25\n",
      "35       20\n",
      "36       15\n",
      "38        9\n",
      "40        8\n",
      "42        8\n",
      "39        7\n",
      "37        7\n",
      "43        7\n",
      "45        6\n",
      "54        4\n",
      "48        4\n",
      "41        3\n",
      "46        3\n",
      "49        2\n",
      "50        2\n",
      "56        2\n",
      "47        1\n",
      "51        1\n",
      "52        1\n",
      "53        1\n",
      "44        1\n",
      "57        1\n",
      "Name: number_of_open_credit_lines_and_loans, dtype: int64\n",
      "number_of_times90_days_late\n",
      "0     106157\n",
      "1       3961\n",
      "2       1138\n",
      "3        486\n",
      "4        229\n",
      "98       204\n",
      "5         96\n",
      "6         63\n",
      "7         30\n",
      "8         16\n",
      "9         13\n",
      "10         5\n",
      "96         5\n",
      "11         4\n",
      "13         2\n",
      "14         2\n",
      "15         2\n",
      "12         1\n",
      "17         1\n",
      "Name: number_of_times90_days_late, dtype: int64\n",
      "number_real_estate_loans_or_lines\n",
      "0     42195\n",
      "1     39226\n",
      "2     23540\n",
      "3      4734\n",
      "4      1616\n",
      "5       514\n",
      "6       236\n",
      "7       132\n",
      "8        67\n",
      "9        59\n",
      "10       23\n",
      "11       20\n",
      "12       13\n",
      "13        9\n",
      "15        6\n",
      "14        5\n",
      "16        4\n",
      "17        3\n",
      "25        3\n",
      "18        2\n",
      "19        2\n",
      "23        2\n",
      "26        1\n",
      "20        1\n",
      "21        1\n",
      "29        1\n",
      "Name: number_real_estate_loans_or_lines, dtype: int64\n",
      "number_of_time60-89_days_past_due_not_worse\n",
      "0     106738\n",
      "1       4286\n",
      "2        820\n",
      "3        233\n",
      "98       204\n",
      "4         79\n",
      "5         27\n",
      "6         14\n",
      "7          6\n",
      "96         5\n",
      "8          2\n",
      "11         1\n",
      "Name: number_of_time60-89_days_past_due_not_worse, dtype: int64\n",
      "number_of_dependents\n",
      "0.0     67999\n",
      "1.0     19812\n",
      "2.0     14659\n",
      "3.0      7068\n",
      "4.0      2128\n",
      "5.0       568\n",
      "6.0       112\n",
      "7.0        38\n",
      "8.0        19\n",
      "9.0         5\n",
      "10.0        5\n",
      "13.0        1\n",
      "20.0        1\n",
      "Name: number_of_dependents, dtype: int64\n"
     ]
    }
   ],
   "source": [
    "for i, val in enumerate(df):\n",
    "    print(val)\n",
    "    print(df[val].value_counts())"
   ]
  },
  {
   "cell_type": "code",
   "execution_count": 206,
   "metadata": {},
   "outputs": [
    {
     "data": {
      "text/plain": [
       "0          9120.0\n",
       "1          2600.0\n",
       "2          3042.0\n",
       "3         63588.0\n",
       "4          3500.0\n",
       "5          3500.0\n",
       "6         23684.0\n",
       "7          2500.0\n",
       "8          6501.0\n",
       "9         12454.0\n",
       "10            0.0\n",
       "11        11362.0\n",
       "12         8800.0\n",
       "13         3280.0\n",
       "14          333.0\n",
       "15        12300.0\n",
       "16         3000.0\n",
       "17         2500.0\n",
       "18         4676.0\n",
       "19         8333.0\n",
       "20         2500.0\n",
       "21         3400.0\n",
       "22         4200.0\n",
       "23          750.0\n",
       "24        11000.0\n",
       "25         4000.0\n",
       "26         3400.0\n",
       "27         1000.0\n",
       "28         5700.0\n",
       "29            1.0\n",
       "           ...   \n",
       "112385    18733.0\n",
       "112386     1406.0\n",
       "112387     2155.0\n",
       "112388     7000.0\n",
       "112389     5300.0\n",
       "112390     3333.0\n",
       "112391    11279.0\n",
       "112392     4166.0\n",
       "112393     3333.0\n",
       "112394     2400.0\n",
       "112395     2500.0\n",
       "112396      924.0\n",
       "112397    12000.0\n",
       "112398     8800.0\n",
       "112399     5666.0\n",
       "112400    17200.0\n",
       "112401     4145.0\n",
       "112402     1300.0\n",
       "112403     9666.0\n",
       "112404     6853.0\n",
       "112405     2850.0\n",
       "112406     3235.0\n",
       "112407     2697.0\n",
       "112408     3235.0\n",
       "112409     6017.0\n",
       "112410    13750.0\n",
       "112411     6017.0\n",
       "112412     2155.0\n",
       "112413     3771.0\n",
       "112414    10000.0\n",
       "Name: monthly_income, Length: 112415, dtype: float64"
      ]
     },
     "execution_count": 206,
     "metadata": {},
     "output_type": "execute_result"
    }
   ],
   "source": [
    "df.monthly_income"
   ]
  },
  {
   "cell_type": "code",
   "execution_count": 207,
   "metadata": {
    "collapsed": true
   },
   "outputs": [],
   "source": [
    "df.monthly_income = df.monthly_income.fillna(df.monthly_income.mean())"
   ]
  },
  {
   "cell_type": "code",
   "execution_count": 209,
   "metadata": {},
   "outputs": [],
   "source": [
    "df[\"income_bins\"] = np.log(df.monthly_income + 1e-9)"
   ]
  },
  {
   "cell_type": "code",
   "execution_count": 211,
   "metadata": {},
   "outputs": [
    {
     "data": {
      "text/plain": [
       "0     9\n",
       "1     7\n",
       "2     8\n",
       "3    11\n",
       "4     8\n",
       "Name: income_bins, dtype: int32"
      ]
     },
     "execution_count": 211,
     "metadata": {},
     "output_type": "execute_result"
    }
   ],
   "source": [
    "df[\"income_bins\"] = df[\"income_bins\"].astype(\"int\")\n",
    "df[\"income_bins\"].head()"
   ]
  },
  {
   "cell_type": "code",
   "execution_count": 213,
   "metadata": {},
   "outputs": [
    {
     "data": {
      "text/plain": [
       "<matplotlib.axes._subplots.AxesSubplot at 0x1eb654d9128>"
      ]
     },
     "execution_count": 213,
     "metadata": {},
     "output_type": "execute_result"
    },
    {
     "data": {
      "image/png": "iVBORw0KGgoAAAANSUhEUgAAAYQAAAERCAYAAAB7FtAjAAAABHNCSVQICAgIfAhkiAAAAAlwSFlz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\ncUIwMzPACcHMzJL/DzyFhoxgKVrUAAAAAElFTkSuQmCC\n",
      "text/plain": [
       "<matplotlib.figure.Figure at 0x1eb654cfe80>"
      ]
     },
     "metadata": {},
     "output_type": "display_data"
    }
   ],
   "source": [
    "income_means = df[[\"income_bins\", \"serious_dlqin2yrs\"]].groupby(\"income_bins\").mean()\n",
    "income_means.plot(kind=\"bar\")"
>>>>>>> ZeweiChu/master
   ]
  },
  {
   "cell_type": "markdown",
   "metadata": {},
   "source": [
    "### [cut](https://pandas.pydata.org/pandas-docs/stable/generated/pandas.cut.html)"
   ]
  },
  {
   "cell_type": "markdown",
   "metadata": {},
   "source": [
    "把categorize的类型转换成数值类型"
   ]
  }
 ],
 "metadata": {
  "kernelspec": {
   "display_name": "Python 3",
   "language": "python",
   "name": "python3"
  },
  "language_info": {
   "codemirror_mode": {
    "name": "ipython",
    "version": 3
   },
   "file_extension": ".py",
   "mimetype": "text/x-python",
   "name": "python",
   "nbconvert_exporter": "python",
   "pygments_lexer": "ipython3",
   "version": "3.6.1"
  }
 },
 "nbformat": 4,
 "nbformat_minor": 2
}
