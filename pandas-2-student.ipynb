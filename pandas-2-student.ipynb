{
 "cells": [
  {
   "cell_type": "markdown",
   "metadata": {},
   "source": [
    "# Pandas教程\n",
    "\n",
    "\n",
    "### 2017七月在线 机器学习线上集训 julyedu.com\n",
    "by 褚则伟 "
   ]
  },
  {
   "cell_type": "markdown",
   "metadata": {},
   "source": [
    "## 目录\n",
    "- Group by\n",
    "- Aggregate\n",
    "- concat\n",
    "- merge\n",
    "- join\n",
    "- bike project\n",
    "- stocks project\n",
    "- credit project"
   ]
  },
  {
   "cell_type": "markdown",
   "metadata": {},
   "source": [
    "## Group By\n",
    "\n",
    "### 2017七月在线 机器学习线上集训 julyedu.com"
   ]
  },
  {
   "cell_type": "markdown",
   "metadata": {},
   "source": [
    "举个栗子，假设我们现在有一张公司每个员工的收入流水。"
   ]
  },
  {
   "cell_type": "markdown",
   "metadata": {},
   "source": [
    "接下来我给大家演示一下什么叫做Group By"
   ]
  },
  {
   "cell_type": "markdown",
   "metadata": {},
   "source": [
    "groupby构造了一个GroupBy object，我们可以对这个object做各种操作"
   ]
  },
  {
   "cell_type": "markdown",
   "metadata": {},
   "source": [
    "### groupby之后一般要做一些aggregate操作"
   ]
  },
  {
   "cell_type": "markdown",
   "metadata": {},
   "source": [
    "默认会排序，也可以选择不排序"
   ]
  },
  {
   "cell_type": "markdown",
   "metadata": {},
   "source": [
    "也可以这么写"
   ]
  },
  {
   "cell_type": "markdown",
   "metadata": {},
   "source": [
    "group by的attributes"
   ]
  },
  {
   "cell_type": "markdown",
   "metadata": {},
   "source": [
    "用多个列groupby"
   ]
  },
  {
   "cell_type": "markdown",
   "metadata": {},
   "source": [
    "除了sum之外，我们再来尝试一下size,mean,median "
   ]
  },
  {
   "cell_type": "markdown",
   "metadata": {},
   "source": [
    "### iterate GroupBy object"
   ]
  },
  {
   "cell_type": "markdown",
   "metadata": {},
   "source": [
    "选择一个group"
   ]
  },
  {
   "cell_type": "markdown",
   "metadata": {},
   "source": [
    "### transform"
   ]
  },
  {
   "cell_type": "markdown",
   "metadata": {},
   "source": [
    "### concat, merge, join\n",
    "### 2017七月在线 机器学习线上集训 julyedu.com\n",
    "by 褚则伟 "
   ]
  },
  {
   "cell_type": "markdown",
   "metadata": {},
   "source": [
    "### concatenate"
   ]
  },
  {
   "cell_type": "markdown",
   "metadata": {},
   "source": [
    "在concatenate的时候可以指定keys，这样可以给每一个部分加上一个Key。\n",
    "\n",
    "以下的例子就构造了一个hierarchical index。"
   ]
  },
  {
   "cell_type": "markdown",
   "metadata": {
    "collapsed": true
   },
   "source": [
    "如果要换个方向concat，只要声明axis就可以了"
   ]
  },
  {
   "cell_type": "markdown",
   "metadata": {},
   "source": [
    "用inner可以去掉NaN,也就是说如果出现了不匹配的行就会被忽略"
   ]
  },
  {
   "cell_type": "markdown",
   "metadata": {},
   "source": [
    "如果我们只想保留左边部分的index呢"
   ]
  },
  {
   "cell_type": "markdown",
   "metadata": {},
   "source": [
    "右边部分"
   ]
  },
  {
   "cell_type": "markdown",
   "metadata": {},
   "source": [
    "#### 用[```append```](https://pandas.pydata.org/pandas-docs/stable/generated/pandas.DataFrame.append.html)来做concatenation "
   ]
  },
  {
   "cell_type": "markdown",
   "metadata": {},
   "source": [
    "Series和DataFrame还可以被一起concatenate，这时候Series会先被转成DataFrame然后做Join，因为Series本来就是一个只有一维的DataFrame对吧。"
   ]
  },
  {
   "cell_type": "markdown",
   "metadata": {},
   "source": [
    "下面讲如何append一个row到DataFrame里。"
   ]
  },
  {
   "cell_type": "markdown",
   "metadata": {},
   "source": [
    "### Merge(Join)\n",
    "### 2017七月在线 机器学习线上集训 julyedu.com"
   ]
  },
  {
   "cell_type": "markdown",
   "metadata": {},
   "source": [
    "#### join on index"
   ]
  },
  {
   "cell_type": "markdown",
   "metadata": {},
   "source": [
    "也可以用merge来写"
   ]
  },
  {
   "cell_type": "markdown",
   "metadata": {},
   "source": [
    "### bikes project"
   ]
  },
  {
   "cell_type": "markdown",
   "metadata": {},
   "source": [
    "我们先从CSV文件中读取一些数据。\n",
    "\n",
    "bike.csv记录了Montreal自行车路线的数据，具体有7条路线，数据记录了每条自行车路线每天分别有多少人。"
   ]
  },
  {
   "cell_type": "markdown",
   "metadata": {},
   "source": [
    "[```dropna```](https://pandas.pydata.org/pandas-docs/stable/generated/pandas.DataFrame.dropna.html)会删除所有带NA的行"
   ]
  },
  {
   "cell_type": "markdown",
   "metadata": {},
   "source": [
    "删太多了，我们只想删掉全部都是NA的行"
   ]
  },
  {
   "cell_type": "markdown",
   "metadata": {},
   "source": [
    "我们数一数每一列有多少数据缺失"
   ]
  },
  {
   "cell_type": "markdown",
   "metadata": {},
   "source": [
    "下面给大家介绍如何填充缺失的数据"
   ]
  },
  {
   "cell_type": "markdown",
   "metadata": {
    "collapsed": true
   },
   "source": [
    "有了weekday信息之后，我们就可以用上我们前面学过的.groupyby把骑车人数按照weekday分类，然后用aggregate算出每个工作日的骑车人数之和。"
   ]
  },
  {
   "cell_type": "markdown",
   "metadata": {},
   "source": [
    "接下来我们试试能不能把每条路线都加起来，然后算出一天骑自行车出门的人数之和。\n",
    "to_frame可以把一个Series转换成一个DataFrame"
   ]
  },
  {
   "cell_type": "markdown",
   "metadata": {},
   "source": [
    "作个简单的图看一看\n",
    "[plot](https://pandas.pydata.org/pandas-docs/stable/generated/pandas.DataFrame.plot.html)"
   ]
  },
  {
   "cell_type": "markdown",
   "metadata": {
    "collapsed": true
   },
   "source": [
    "### 2017七月在线 机器学习线上集训 julyedu.com\n",
    "\n",
    "### stock project"
   ]
  },
  {
   "cell_type": "markdown",
   "metadata": {},
   "source": [
    "[stock analysis](https://ntguardian.wordpress.com/2016/09/19/introduction-stock-market-data-python-1/)"
   ]
  },
  {
   "cell_type": "markdown",
   "metadata": {},
   "source": [
    "```shift```这个function可以帮我们移动时间"
   ]
  },
  {
   "cell_type": "markdown",
   "metadata": {},
   "source": [
    "datetime indexing"
   ]
  },
  {
   "cell_type": "markdown",
   "metadata": {},
   "source": [
    "### 下面我们试试能不能把日K图变成月K图"
   ]
  },
  {
   "cell_type": "markdown",
   "metadata": {},
   "source": [
    "## 特征处理\n"
   ]
  },
  {
   "cell_type": "markdown",
   "metadata": {},
   "source": [
    "更多资料参考寒小阳的教程[link](https://github.com/HanXiaoyang/Feature_Engineering_and_XGBoost_Parameter_Tuning/blob/master/Feature%20Engineering.ipynb)"
   ]
  },
  {
   "cell_type": "markdown",
   "metadata": {},
   "source": [
    "### [cut](https://pandas.pydata.org/pandas-docs/stable/generated/pandas.cut.html)"
   ]
  },
  {
   "cell_type": "markdown",
   "metadata": {},
   "source": [
    "把categorize的类型转换成数值类型"
   ]
  }
 ],
 "metadata": {
  "kernelspec": {
   "display_name": "Python 3",
   "language": "python",
   "name": "python3"
  },
  "language_info": {
   "codemirror_mode": {
    "name": "ipython",
    "version": 3
   },
   "file_extension": ".py",
   "mimetype": "text/x-python",
   "name": "python",
   "nbconvert_exporter": "python",
   "pygments_lexer": "ipython3",
   "version": "3.6.1"
  }
 },
 "nbformat": 4,
 "nbformat_minor": 2
}
